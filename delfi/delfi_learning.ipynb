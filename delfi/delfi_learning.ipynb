{
  "cells": [
    {
      "cell_type": "markdown",
      "metadata": {
        "colab_type": "text",
        "id": "view-in-github"
      },
      "source": [
        "<a href=\"https://colab.research.google.com/github/alan-w25/Cancer-Capstone/blob/main/delfi/delfi_learning.ipynb\" target=\"_parent\"><img src=\"https://colab.research.google.com/assets/colab-badge.svg\" alt=\"Open In Colab\"/></a>"
      ]
    },
    {
      "cell_type": "markdown",
      "metadata": {
        "id": "Tx9r1Wql4cBE"
      },
      "source": [
        "# Introduction"
      ]
    },
    {
      "cell_type": "markdown",
      "metadata": {
        "id": "A1gzD7yS4fWl"
      },
      "source": [
        "We will begin to test many models to predict the days alive variable. Procedure we will follow:\n",
        "1. Choose a model\n",
        "1. Choose Objective function\n",
        "1. Choose learning algorithm\n",
        "1. Add in regularization, adjust hyperparameters, etc\n",
        "\n",
        "First we will just test the models with all the features, and do some feature selection if need be for statistical methods. It seems that for clinical relevance, we should indeed keep all the samples and should not drop any features of interest"
      ]
    },
    {
      "cell_type": "markdown",
      "metadata": {
        "id": "8OECXyPmvTzw"
      },
      "source": [
        "This document will comprise of all the testing of learning models for the delfi_score data. We are aiming to predict the days_alive variable with the survival_status as our event occured indicator. There are several ML methods in literature that have good results and we will use those and other methods to obtain the best results with our data. <br>\n",
        "\n",
        "Before applying any models, there are two considerations that we can make to transform our data. First, we can uncensor the data, if the number of censored samples is not too great. This method could cause bias in terms of traditional methods <br>\n",
        "\n",
        "The models that we will be testing have several categories:\n",
        "1. Linear Models\n",
        "1. Tree Ensemble Methods\n",
        "1. Neural Networks\n",
        "1. Deep Methods\n",
        "\n"
      ]
    },
    {
      "cell_type": "markdown",
      "metadata": {
        "id": "8jDT0CTXeyAt"
      },
      "source": [
        "The following procedure will be what we will follow to determine the 'time to death', or the 'days_alive' variable. We will use the models to model the ISDs (individual survival distribution) of the samples and then from there we will use the median time as the survival time. K-fold cross validation will be used to validate the models"
      ]
    },
    {
      "cell_type": "markdown",
      "metadata": {},
      "source": [
        "Want to use the kaplan-meier curve and the evaluation of those metrics to act as our baseline"
      ]
    },
    {
      "cell_type": "code",
      "execution_count": 16,
      "metadata": {
        "colab": {
          "base_uri": "https://localhost:8080/"
        },
        "id": "eUzlsWHOt2eY",
        "outputId": "d84520f7-18e2-4f71-abe9-b1302c0f4445"
      },
      "outputs": [
        {
          "name": "stdout",
          "output_type": "stream",
          "text": [
            "Collecting scikit-survival\n",
            "  Using cached scikit_survival-0.22.2-cp310-cp310-macosx_11_0_arm64.whl.metadata (49 kB)\n",
            "Collecting ecos (from scikit-survival)\n",
            "  Using cached ecos-2.0.13.tar.gz (142 kB)\n",
            "  Installing build dependencies ... \u001b[?25ldone\n",
            "\u001b[?25h  Getting requirements to build wheel ... \u001b[?25ldone\n",
            "\u001b[?25h  Preparing metadata (pyproject.toml) ... \u001b[?25ldone\n",
            "\u001b[?25hRequirement already satisfied: joblib in /Library/Frameworks/Python.framework/Versions/3.10/lib/python3.10/site-packages (from scikit-survival) (1.1.0)\n",
            "Collecting numexpr (from scikit-survival)\n",
            "  Using cached numexpr-2.9.0-cp310-cp310-macosx_11_0_arm64.whl.metadata (7.9 kB)\n",
            "Requirement already satisfied: numpy in /Library/Frameworks/Python.framework/Versions/3.10/lib/python3.10/site-packages (from scikit-survival) (1.22.3)\n",
            "Collecting osqp!=0.6.0,!=0.6.1 (from scikit-survival)\n",
            "  Using cached osqp-0.6.5.tar.gz (228 kB)\n",
            "  Installing build dependencies ... \u001b[?25lerror\n",
            "  \u001b[1;31merror\u001b[0m: \u001b[1msubprocess-exited-with-error\u001b[0m\n",
            "  \n",
            "  \u001b[31m×\u001b[0m \u001b[32mpip subprocess to install build dependencies\u001b[0m did not run successfully.\n",
            "  \u001b[31m│\u001b[0m exit code: \u001b[1;36m1\u001b[0m\n",
            "  \u001b[31m╰─>\u001b[0m \u001b[31m[121 lines of output]\u001b[0m\n",
            "  \u001b[31m   \u001b[0m Collecting oldest-supported-numpy\n",
            "  \u001b[31m   \u001b[0m   Using cached oldest_supported_numpy-2023.12.21-py3-none-any.whl.metadata (9.8 kB)\n",
            "  \u001b[31m   \u001b[0m Collecting setuptools>=40.8.0\n",
            "  \u001b[31m   \u001b[0m   Using cached setuptools-69.2.0-py3-none-any.whl.metadata (6.3 kB)\n",
            "  \u001b[31m   \u001b[0m Collecting wheel\n",
            "  \u001b[31m   \u001b[0m   Using cached wheel-0.43.0-py3-none-any.whl.metadata (2.2 kB)\n",
            "  \u001b[31m   \u001b[0m Collecting setuptools_scm>=6.2\n",
            "  \u001b[31m   \u001b[0m   Using cached setuptools_scm-8.0.4-py3-none-any.whl.metadata (6.4 kB)\n",
            "  \u001b[31m   \u001b[0m Collecting qdldl\n",
            "  \u001b[31m   \u001b[0m   Using cached qdldl-0.1.7.post0.tar.gz (70 kB)\n",
            "  \u001b[31m   \u001b[0m   Installing build dependencies: started\n",
            "  \u001b[31m   \u001b[0m   Installing build dependencies: finished with status 'done'\n",
            "  \u001b[31m   \u001b[0m   Getting requirements to build wheel: started\n",
            "  \u001b[31m   \u001b[0m   Getting requirements to build wheel: finished with status 'done'\n",
            "  \u001b[31m   \u001b[0m   Installing backend dependencies: started\n",
            "  \u001b[31m   \u001b[0m   Installing backend dependencies: finished with status 'done'\n",
            "  \u001b[31m   \u001b[0m   Preparing metadata (pyproject.toml): started\n",
            "  \u001b[31m   \u001b[0m   Preparing metadata (pyproject.toml): finished with status 'done'\n",
            "  \u001b[31m   \u001b[0m Collecting numpy==1.21.6 (from oldest-supported-numpy)\n",
            "  \u001b[31m   \u001b[0m   Using cached numpy-1.21.6-cp310-cp310-macosx_11_0_arm64.whl.metadata (2.1 kB)\n",
            "  \u001b[31m   \u001b[0m Collecting packaging>=20 (from setuptools_scm>=6.2)\n",
            "  \u001b[31m   \u001b[0m   Using cached packaging-24.0-py3-none-any.whl.metadata (3.2 kB)\n",
            "  \u001b[31m   \u001b[0m Collecting typing-extensions (from setuptools_scm>=6.2)\n",
            "  \u001b[31m   \u001b[0m   Using cached typing_extensions-4.10.0-py3-none-any.whl.metadata (3.0 kB)\n",
            "  \u001b[31m   \u001b[0m Collecting tomli>=1 (from setuptools_scm>=6.2)\n",
            "  \u001b[31m   \u001b[0m   Using cached tomli-2.0.1-py3-none-any.whl.metadata (8.9 kB)\n",
            "  \u001b[31m   \u001b[0m Collecting scipy>=0.13.2 (from qdldl)\n",
            "  \u001b[31m   \u001b[0m   Using cached scipy-1.12.0-cp310-cp310-macosx_12_0_arm64.whl.metadata (112 kB)\n",
            "  \u001b[31m   \u001b[0m INFO: pip is looking at multiple versions of scipy to determine which version is compatible with other requirements. This could take a while.\n",
            "  \u001b[31m   \u001b[0m   Using cached scipy-1.11.4-cp310-cp310-macosx_12_0_arm64.whl.metadata (112 kB)\n",
            "  \u001b[31m   \u001b[0m Using cached oldest_supported_numpy-2023.12.21-py3-none-any.whl (4.9 kB)\n",
            "  \u001b[31m   \u001b[0m Using cached numpy-1.21.6-cp310-cp310-macosx_11_0_arm64.whl (12.4 MB)\n",
            "  \u001b[31m   \u001b[0m Using cached setuptools-69.2.0-py3-none-any.whl (821 kB)\n",
            "  \u001b[31m   \u001b[0m Using cached wheel-0.43.0-py3-none-any.whl (65 kB)\n",
            "  \u001b[31m   \u001b[0m Using cached setuptools_scm-8.0.4-py3-none-any.whl (42 kB)\n",
            "  \u001b[31m   \u001b[0m Using cached packaging-24.0-py3-none-any.whl (53 kB)\n",
            "  \u001b[31m   \u001b[0m Using cached scipy-1.11.4-cp310-cp310-macosx_12_0_arm64.whl (29.8 MB)\n",
            "  \u001b[31m   \u001b[0m Using cached tomli-2.0.1-py3-none-any.whl (12 kB)\n",
            "  \u001b[31m   \u001b[0m Using cached typing_extensions-4.10.0-py3-none-any.whl (33 kB)\n",
            "  \u001b[31m   \u001b[0m Building wheels for collected packages: qdldl\n",
            "  \u001b[31m   \u001b[0m   Building wheel for qdldl (pyproject.toml): started\n",
            "  \u001b[31m   \u001b[0m   Building wheel for qdldl (pyproject.toml): finished with status 'error'\n",
            "  \u001b[31m   \u001b[0m   error: subprocess-exited-with-error\n",
            "  \u001b[31m   \u001b[0m \n",
            "  \u001b[31m   \u001b[0m   × Building wheel for qdldl (pyproject.toml) did not run successfully.\n",
            "  \u001b[31m   \u001b[0m   │ exit code: 1\n",
            "  \u001b[31m   \u001b[0m   ╰─> [65 lines of output]\n",
            "  \u001b[31m   \u001b[0m       running bdist_wheel\n",
            "  \u001b[31m   \u001b[0m       running build\n",
            "  \u001b[31m   \u001b[0m       running build_ext\n",
            "  \u001b[31m   \u001b[0m       Traceback (most recent call last):\n",
            "  \u001b[31m   \u001b[0m         File \"<string>\", line 81, in build_extensions\n",
            "  \u001b[31m   \u001b[0m         File \"/Library/Frameworks/Python.framework/Versions/3.10/lib/python3.10/subprocess.py\", line 420, in check_output\n",
            "  \u001b[31m   \u001b[0m           return run(*popenargs, stdout=PIPE, timeout=timeout, check=True,\n",
            "  \u001b[31m   \u001b[0m         File \"/Library/Frameworks/Python.framework/Versions/3.10/lib/python3.10/subprocess.py\", line 501, in run\n",
            "  \u001b[31m   \u001b[0m           with Popen(*popenargs, **kwargs) as process:\n",
            "  \u001b[31m   \u001b[0m         File \"/Library/Frameworks/Python.framework/Versions/3.10/lib/python3.10/subprocess.py\", line 966, in __init__\n",
            "  \u001b[31m   \u001b[0m           self._execute_child(args, executable, preexec_fn, close_fds,\n",
            "  \u001b[31m   \u001b[0m         File \"/Library/Frameworks/Python.framework/Versions/3.10/lib/python3.10/subprocess.py\", line 1842, in _execute_child\n",
            "  \u001b[31m   \u001b[0m           raise child_exception_type(errno_num, err_msg, err_filename)\n",
            "  \u001b[31m   \u001b[0m       FileNotFoundError: [Errno 2] No such file or directory: 'cmake'\n",
            "  \u001b[31m   \u001b[0m \n",
            "  \u001b[31m   \u001b[0m       During handling of the above exception, another exception occurred:\n",
            "  \u001b[31m   \u001b[0m \n",
            "  \u001b[31m   \u001b[0m       Traceback (most recent call last):\n",
            "  \u001b[31m   \u001b[0m         File \"/Library/Frameworks/Python.framework/Versions/3.10/lib/python3.10/site-packages/pip/_vendor/pyproject_hooks/_in_process/_in_process.py\", line 353, in <module>\n",
            "  \u001b[31m   \u001b[0m           main()\n",
            "  \u001b[31m   \u001b[0m         File \"/Library/Frameworks/Python.framework/Versions/3.10/lib/python3.10/site-packages/pip/_vendor/pyproject_hooks/_in_process/_in_process.py\", line 335, in main\n",
            "  \u001b[31m   \u001b[0m           json_out['return_val'] = hook(**hook_input['kwargs'])\n",
            "  \u001b[31m   \u001b[0m         File \"/Library/Frameworks/Python.framework/Versions/3.10/lib/python3.10/site-packages/pip/_vendor/pyproject_hooks/_in_process/_in_process.py\", line 251, in build_wheel\n",
            "  \u001b[31m   \u001b[0m           return _build_backend().build_wheel(wheel_directory, config_settings,\n",
            "  \u001b[31m   \u001b[0m         File \"/private/var/folders/d0/4qvvbdzj6lg3k7zh204kqmk80000gn/T/pip-build-env-uily8zi7/overlay/lib/python3.10/site-packages/setuptools/build_meta.py\", line 410, in build_wheel\n",
            "  \u001b[31m   \u001b[0m           return self._build_with_temp_dir(\n",
            "  \u001b[31m   \u001b[0m         File \"/private/var/folders/d0/4qvvbdzj6lg3k7zh204kqmk80000gn/T/pip-build-env-uily8zi7/overlay/lib/python3.10/site-packages/setuptools/build_meta.py\", line 395, in _build_with_temp_dir\n",
            "  \u001b[31m   \u001b[0m           self.run_setup()\n",
            "  \u001b[31m   \u001b[0m         File \"/private/var/folders/d0/4qvvbdzj6lg3k7zh204kqmk80000gn/T/pip-build-env-uily8zi7/overlay/lib/python3.10/site-packages/setuptools/build_meta.py\", line 311, in run_setup\n",
            "  \u001b[31m   \u001b[0m           exec(code, locals())\n",
            "  \u001b[31m   \u001b[0m         File \"<string>\", line 113, in <module>\n",
            "  \u001b[31m   \u001b[0m         File \"/private/var/folders/d0/4qvvbdzj6lg3k7zh204kqmk80000gn/T/pip-build-env-uily8zi7/overlay/lib/python3.10/site-packages/setuptools/__init__.py\", line 104, in setup\n",
            "  \u001b[31m   \u001b[0m           return distutils.core.setup(**attrs)\n",
            "  \u001b[31m   \u001b[0m         File \"/private/var/folders/d0/4qvvbdzj6lg3k7zh204kqmk80000gn/T/pip-build-env-uily8zi7/overlay/lib/python3.10/site-packages/setuptools/_distutils/core.py\", line 185, in setup\n",
            "  \u001b[31m   \u001b[0m           return run_commands(dist)\n",
            "  \u001b[31m   \u001b[0m         File \"/private/var/folders/d0/4qvvbdzj6lg3k7zh204kqmk80000gn/T/pip-build-env-uily8zi7/overlay/lib/python3.10/site-packages/setuptools/_distutils/core.py\", line 201, in run_commands\n",
            "  \u001b[31m   \u001b[0m           dist.run_commands()\n",
            "  \u001b[31m   \u001b[0m         File \"/private/var/folders/d0/4qvvbdzj6lg3k7zh204kqmk80000gn/T/pip-build-env-uily8zi7/overlay/lib/python3.10/site-packages/setuptools/_distutils/dist.py\", line 969, in run_commands\n",
            "  \u001b[31m   \u001b[0m           self.run_command(cmd)\n",
            "  \u001b[31m   \u001b[0m         File \"/private/var/folders/d0/4qvvbdzj6lg3k7zh204kqmk80000gn/T/pip-build-env-uily8zi7/overlay/lib/python3.10/site-packages/setuptools/dist.py\", line 967, in run_command\n",
            "  \u001b[31m   \u001b[0m           super().run_command(command)\n",
            "  \u001b[31m   \u001b[0m         File \"/private/var/folders/d0/4qvvbdzj6lg3k7zh204kqmk80000gn/T/pip-build-env-uily8zi7/overlay/lib/python3.10/site-packages/setuptools/_distutils/dist.py\", line 988, in run_command\n",
            "  \u001b[31m   \u001b[0m           cmd_obj.run()\n",
            "  \u001b[31m   \u001b[0m         File \"/private/var/folders/d0/4qvvbdzj6lg3k7zh204kqmk80000gn/T/pip-build-env-uily8zi7/normal/lib/python3.10/site-packages/wheel/bdist_wheel.py\", line 368, in run\n",
            "  \u001b[31m   \u001b[0m           self.run_command(\"build\")\n",
            "  \u001b[31m   \u001b[0m         File \"/private/var/folders/d0/4qvvbdzj6lg3k7zh204kqmk80000gn/T/pip-build-env-uily8zi7/overlay/lib/python3.10/site-packages/setuptools/_distutils/cmd.py\", line 318, in run_command\n",
            "  \u001b[31m   \u001b[0m           self.distribution.run_command(command)\n",
            "  \u001b[31m   \u001b[0m         File \"/private/var/folders/d0/4qvvbdzj6lg3k7zh204kqmk80000gn/T/pip-build-env-uily8zi7/overlay/lib/python3.10/site-packages/setuptools/dist.py\", line 967, in run_command\n",
            "  \u001b[31m   \u001b[0m           super().run_command(command)\n",
            "  \u001b[31m   \u001b[0m         File \"/private/var/folders/d0/4qvvbdzj6lg3k7zh204kqmk80000gn/T/pip-build-env-uily8zi7/overlay/lib/python3.10/site-packages/setuptools/_distutils/dist.py\", line 988, in run_command\n",
            "  \u001b[31m   \u001b[0m           cmd_obj.run()\n",
            "  \u001b[31m   \u001b[0m         File \"/private/var/folders/d0/4qvvbdzj6lg3k7zh204kqmk80000gn/T/pip-build-env-uily8zi7/overlay/lib/python3.10/site-packages/setuptools/_distutils/command/build.py\", line 131, in run\n",
            "  \u001b[31m   \u001b[0m           self.run_command(cmd_name)\n",
            "  \u001b[31m   \u001b[0m         File \"/private/var/folders/d0/4qvvbdzj6lg3k7zh204kqmk80000gn/T/pip-build-env-uily8zi7/overlay/lib/python3.10/site-packages/setuptools/_distutils/cmd.py\", line 318, in run_command\n",
            "  \u001b[31m   \u001b[0m           self.distribution.run_command(command)\n",
            "  \u001b[31m   \u001b[0m         File \"/private/var/folders/d0/4qvvbdzj6lg3k7zh204kqmk80000gn/T/pip-build-env-uily8zi7/overlay/lib/python3.10/site-packages/setuptools/dist.py\", line 967, in run_command\n",
            "  \u001b[31m   \u001b[0m           super().run_command(command)\n",
            "  \u001b[31m   \u001b[0m         File \"/private/var/folders/d0/4qvvbdzj6lg3k7zh204kqmk80000gn/T/pip-build-env-uily8zi7/overlay/lib/python3.10/site-packages/setuptools/_distutils/dist.py\", line 988, in run_command\n",
            "  \u001b[31m   \u001b[0m           cmd_obj.run()\n",
            "  \u001b[31m   \u001b[0m         File \"/private/var/folders/d0/4qvvbdzj6lg3k7zh204kqmk80000gn/T/pip-build-env-uily8zi7/overlay/lib/python3.10/site-packages/setuptools/command/build_ext.py\", line 91, in run\n",
            "  \u001b[31m   \u001b[0m           _build_ext.run(self)\n",
            "  \u001b[31m   \u001b[0m         File \"/private/var/folders/d0/4qvvbdzj6lg3k7zh204kqmk80000gn/T/pip-build-env-uily8zi7/overlay/lib/python3.10/site-packages/setuptools/_distutils/command/build_ext.py\", line 345, in run\n",
            "  \u001b[31m   \u001b[0m           self.build_extensions()\n",
            "  \u001b[31m   \u001b[0m         File \"<string>\", line 83, in build_extensions\n",
            "  \u001b[31m   \u001b[0m       RuntimeError: CMake must be installed to build qdldl\n",
            "  \u001b[31m   \u001b[0m       [end of output]\n",
            "  \u001b[31m   \u001b[0m \n",
            "  \u001b[31m   \u001b[0m   note: This error originates from a subprocess, and is likely not a problem with pip.\n",
            "  \u001b[31m   \u001b[0m   ERROR: Failed building wheel for qdldl\n",
            "  \u001b[31m   \u001b[0m Failed to build qdldl\n",
            "  \u001b[31m   \u001b[0m ERROR: Could not build wheels for qdldl, which is required to install pyproject.toml-based projects\n",
            "  \u001b[31m   \u001b[0m \n",
            "  \u001b[31m   \u001b[0m [notice] A new release of pip is available: 23.3.2 -> 24.0\n",
            "  \u001b[31m   \u001b[0m [notice] To update, run: pip3 install --upgrade pip\n",
            "  \u001b[31m   \u001b[0m \u001b[31m[end of output]\u001b[0m\n",
            "  \n",
            "  \u001b[1;35mnote\u001b[0m: This error originates from a subprocess, and is likely not a problem with pip.\n",
            "\u001b[?25h\u001b[1;31merror\u001b[0m: \u001b[1msubprocess-exited-with-error\u001b[0m\n",
            "\n",
            "\u001b[31m×\u001b[0m \u001b[32mpip subprocess to install build dependencies\u001b[0m did not run successfully.\n",
            "\u001b[31m│\u001b[0m exit code: \u001b[1;36m1\u001b[0m\n",
            "\u001b[31m╰─>\u001b[0m See above for output.\n",
            "\n",
            "\u001b[1;35mnote\u001b[0m: This error originates from a subprocess, and is likely not a problem with pip.\n",
            "\n",
            "\u001b[1m[\u001b[0m\u001b[34;49mnotice\u001b[0m\u001b[1;39;49m]\u001b[0m\u001b[39;49m A new release of pip is available: \u001b[0m\u001b[31;49m23.3.2\u001b[0m\u001b[39;49m -> \u001b[0m\u001b[32;49m24.0\u001b[0m\n",
            "\u001b[1m[\u001b[0m\u001b[34;49mnotice\u001b[0m\u001b[1;39;49m]\u001b[0m\u001b[39;49m To update, run: \u001b[0m\u001b[32;49mpip3 install --upgrade pip\u001b[0m\n"
          ]
        }
      ],
      "source": [
        "!pip3 install scikit-survival"
      ]
    },
    {
      "cell_type": "markdown",
      "metadata": {
        "id": "PRKPNccF9Wcd"
      },
      "source": [
        "# Setting up the data"
      ]
    },
    {
      "cell_type": "code",
      "execution_count": 1,
      "metadata": {
        "id": "g12yX5Tx9cyZ"
      },
      "outputs": [
        {
          "ename": "ModuleNotFoundError",
          "evalue": "No module named 'sksurv'",
          "output_type": "error",
          "traceback": [
            "\u001b[0;31m---------------------------------------------------------------------------\u001b[0m",
            "\u001b[0;31mModuleNotFoundError\u001b[0m                       Traceback (most recent call last)",
            "Input \u001b[0;32mIn [1]\u001b[0m, in \u001b[0;36m<cell line: 5>\u001b[0;34m()\u001b[0m\n\u001b[1;32m      3\u001b[0m \u001b[38;5;28;01mimport\u001b[39;00m \u001b[38;5;21;01msklearn\u001b[39;00m \u001b[38;5;28;01mas\u001b[39;00m \u001b[38;5;21;01mskl\u001b[39;00m\n\u001b[1;32m      4\u001b[0m \u001b[38;5;28;01mimport\u001b[39;00m \u001b[38;5;21;01mmatplotlib\u001b[39;00m\u001b[38;5;21;01m.\u001b[39;00m\u001b[38;5;21;01mpyplot\u001b[39;00m \u001b[38;5;28;01mas\u001b[39;00m \u001b[38;5;21;01mplt\u001b[39;00m\n\u001b[0;32m----> 5\u001b[0m \u001b[38;5;28;01mimport\u001b[39;00m \u001b[38;5;21;01msksurv\u001b[39;00m\n",
            "\u001b[0;31mModuleNotFoundError\u001b[0m: No module named 'sksurv'"
          ]
        }
      ],
      "source": [
        "import pandas as pd\n",
        "import numpy as np\n",
        "import sklearn as skl\n",
        "import matplotlib.pyplot as plt\n",
        "import sksurv"
      ]
    },
    {
      "cell_type": "code",
      "execution_count": 5,
      "metadata": {
        "colab": {
          "base_uri": "https://localhost:8080/",
          "height": 244
        },
        "id": "J6SjesTR9YtL",
        "outputId": "cdebe23c-2162-4589-f223-3109c960473f"
      },
      "outputs": [
        {
          "data": {
            "text/html": [
              "<div>\n",
              "<style scoped>\n",
              "    .dataframe tbody tr th:only-of-type {\n",
              "        vertical-align: middle;\n",
              "    }\n",
              "\n",
              "    .dataframe tbody tr th {\n",
              "        vertical-align: top;\n",
              "    }\n",
              "\n",
              "    .dataframe thead th {\n",
              "        text-align: right;\n",
              "    }\n",
              "</style>\n",
              "<table border=\"1\" class=\"dataframe\">\n",
              "  <thead>\n",
              "    <tr style=\"text-align: right;\">\n",
              "      <th></th>\n",
              "      <th>survival_status</th>\n",
              "      <th>days_alive</th>\n",
              "      <th>delfi_score</th>\n",
              "      <th>stage_I</th>\n",
              "      <th>stage_II</th>\n",
              "      <th>stage_III</th>\n",
              "      <th>stage_IV</th>\n",
              "      <th>treatment_Chemotherapy/Radiation with curative intent</th>\n",
              "      <th>treatment_No treatment</th>\n",
              "      <th>treatment_Palliative Chemotherapy/Radiation</th>\n",
              "      <th>treatment_Surgery</th>\n",
              "      <th>treatment_Surgery+adjuvant treatment</th>\n",
              "    </tr>\n",
              "  </thead>\n",
              "  <tbody>\n",
              "    <tr>\n",
              "      <th>0</th>\n",
              "      <td>1</td>\n",
              "      <td>1059</td>\n",
              "      <td>0.099037</td>\n",
              "      <td>1</td>\n",
              "      <td>0</td>\n",
              "      <td>0</td>\n",
              "      <td>0</td>\n",
              "      <td>0</td>\n",
              "      <td>0</td>\n",
              "      <td>0</td>\n",
              "      <td>1</td>\n",
              "      <td>0</td>\n",
              "    </tr>\n",
              "    <tr>\n",
              "      <th>1</th>\n",
              "      <td>1</td>\n",
              "      <td>1640</td>\n",
              "      <td>0.533453</td>\n",
              "      <td>1</td>\n",
              "      <td>0</td>\n",
              "      <td>0</td>\n",
              "      <td>0</td>\n",
              "      <td>0</td>\n",
              "      <td>0</td>\n",
              "      <td>0</td>\n",
              "      <td>1</td>\n",
              "      <td>0</td>\n",
              "    </tr>\n",
              "    <tr>\n",
              "      <th>2</th>\n",
              "      <td>1</td>\n",
              "      <td>101</td>\n",
              "      <td>0.822662</td>\n",
              "      <td>0</td>\n",
              "      <td>0</td>\n",
              "      <td>0</td>\n",
              "      <td>1</td>\n",
              "      <td>0</td>\n",
              "      <td>0</td>\n",
              "      <td>1</td>\n",
              "      <td>0</td>\n",
              "      <td>0</td>\n",
              "    </tr>\n",
              "    <tr>\n",
              "      <th>3</th>\n",
              "      <td>1</td>\n",
              "      <td>1228</td>\n",
              "      <td>0.238950</td>\n",
              "      <td>0</td>\n",
              "      <td>0</td>\n",
              "      <td>0</td>\n",
              "      <td>1</td>\n",
              "      <td>0</td>\n",
              "      <td>0</td>\n",
              "      <td>1</td>\n",
              "      <td>0</td>\n",
              "      <td>0</td>\n",
              "    </tr>\n",
              "    <tr>\n",
              "      <th>4</th>\n",
              "      <td>1</td>\n",
              "      <td>754</td>\n",
              "      <td>0.199820</td>\n",
              "      <td>0</td>\n",
              "      <td>0</td>\n",
              "      <td>1</td>\n",
              "      <td>0</td>\n",
              "      <td>1</td>\n",
              "      <td>0</td>\n",
              "      <td>0</td>\n",
              "      <td>0</td>\n",
              "      <td>0</td>\n",
              "    </tr>\n",
              "  </tbody>\n",
              "</table>\n",
              "</div>"
            ],
            "text/plain": [
              "   survival_status  days_alive  delfi_score  stage_I  stage_II  stage_III  \\\n",
              "0                1        1059     0.099037        1         0          0   \n",
              "1                1        1640     0.533453        1         0          0   \n",
              "2                1         101     0.822662        0         0          0   \n",
              "3                1        1228     0.238950        0         0          0   \n",
              "4                1         754     0.199820        0         0          1   \n",
              "\n",
              "   stage_IV  treatment_Chemotherapy/Radiation with curative intent  \\\n",
              "0         0                                                  0       \n",
              "1         0                                                  0       \n",
              "2         1                                                  0       \n",
              "3         1                                                  0       \n",
              "4         0                                                  1       \n",
              "\n",
              "   treatment_No treatment  treatment_Palliative Chemotherapy/Radiation  \\\n",
              "0                       0                                            0   \n",
              "1                       0                                            0   \n",
              "2                       0                                            1   \n",
              "3                       0                                            1   \n",
              "4                       0                                            0   \n",
              "\n",
              "   treatment_Surgery  treatment_Surgery+adjuvant treatment  \n",
              "0                  1                                     0  \n",
              "1                  1                                     0  \n",
              "2                  0                                     0  \n",
              "3                  0                                     0  \n",
              "4                  0                                     0  "
            ]
          },
          "execution_count": 5,
          "metadata": {},
          "output_type": "execute_result"
        }
      ],
      "source": [
        "data = pd.read_csv('data_Lucas_encoded.csv', index_col=[0])\n",
        "data.head()"
      ]
    },
    {
      "cell_type": "code",
      "execution_count": 6,
      "metadata": {
        "colab": {
          "base_uri": "https://localhost:8080/",
          "height": 244
        },
        "id": "B-uokWN87zpj",
        "outputId": "356a1a18-3620-4e12-c5dd-56b3977ba904"
      },
      "outputs": [
        {
          "data": {
            "text/html": [
              "<div>\n",
              "<style scoped>\n",
              "    .dataframe tbody tr th:only-of-type {\n",
              "        vertical-align: middle;\n",
              "    }\n",
              "\n",
              "    .dataframe tbody tr th {\n",
              "        vertical-align: top;\n",
              "    }\n",
              "\n",
              "    .dataframe thead th {\n",
              "        text-align: right;\n",
              "    }\n",
              "</style>\n",
              "<table border=\"1\" class=\"dataframe\">\n",
              "  <thead>\n",
              "    <tr style=\"text-align: right;\">\n",
              "      <th></th>\n",
              "      <th>survival_status</th>\n",
              "      <th>days_alive</th>\n",
              "      <th>delfi_score</th>\n",
              "      <th>stage_I</th>\n",
              "      <th>stage_II</th>\n",
              "      <th>stage_III</th>\n",
              "      <th>stage_IV</th>\n",
              "      <th>treatment_Chemotherapy/Radiation with curative intent</th>\n",
              "      <th>treatment_No treatment</th>\n",
              "      <th>treatment_Palliative Chemotherapy/Radiation</th>\n",
              "      <th>treatment_Surgery</th>\n",
              "      <th>treatment_Surgery+adjuvant treatment</th>\n",
              "    </tr>\n",
              "  </thead>\n",
              "  <tbody>\n",
              "    <tr>\n",
              "      <th>0</th>\n",
              "      <td>True</td>\n",
              "      <td>1059</td>\n",
              "      <td>0.099037</td>\n",
              "      <td>1</td>\n",
              "      <td>0</td>\n",
              "      <td>0</td>\n",
              "      <td>0</td>\n",
              "      <td>0</td>\n",
              "      <td>0</td>\n",
              "      <td>0</td>\n",
              "      <td>1</td>\n",
              "      <td>0</td>\n",
              "    </tr>\n",
              "    <tr>\n",
              "      <th>1</th>\n",
              "      <td>True</td>\n",
              "      <td>1640</td>\n",
              "      <td>0.533453</td>\n",
              "      <td>1</td>\n",
              "      <td>0</td>\n",
              "      <td>0</td>\n",
              "      <td>0</td>\n",
              "      <td>0</td>\n",
              "      <td>0</td>\n",
              "      <td>0</td>\n",
              "      <td>1</td>\n",
              "      <td>0</td>\n",
              "    </tr>\n",
              "    <tr>\n",
              "      <th>2</th>\n",
              "      <td>True</td>\n",
              "      <td>101</td>\n",
              "      <td>0.822662</td>\n",
              "      <td>0</td>\n",
              "      <td>0</td>\n",
              "      <td>0</td>\n",
              "      <td>1</td>\n",
              "      <td>0</td>\n",
              "      <td>0</td>\n",
              "      <td>1</td>\n",
              "      <td>0</td>\n",
              "      <td>0</td>\n",
              "    </tr>\n",
              "    <tr>\n",
              "      <th>3</th>\n",
              "      <td>True</td>\n",
              "      <td>1228</td>\n",
              "      <td>0.238950</td>\n",
              "      <td>0</td>\n",
              "      <td>0</td>\n",
              "      <td>0</td>\n",
              "      <td>1</td>\n",
              "      <td>0</td>\n",
              "      <td>0</td>\n",
              "      <td>1</td>\n",
              "      <td>0</td>\n",
              "      <td>0</td>\n",
              "    </tr>\n",
              "    <tr>\n",
              "      <th>4</th>\n",
              "      <td>True</td>\n",
              "      <td>754</td>\n",
              "      <td>0.199820</td>\n",
              "      <td>0</td>\n",
              "      <td>0</td>\n",
              "      <td>1</td>\n",
              "      <td>0</td>\n",
              "      <td>1</td>\n",
              "      <td>0</td>\n",
              "      <td>0</td>\n",
              "      <td>0</td>\n",
              "      <td>0</td>\n",
              "    </tr>\n",
              "  </tbody>\n",
              "</table>\n",
              "</div>"
            ],
            "text/plain": [
              "   survival_status  days_alive  delfi_score  stage_I  stage_II  stage_III  \\\n",
              "0             True        1059     0.099037        1         0          0   \n",
              "1             True        1640     0.533453        1         0          0   \n",
              "2             True         101     0.822662        0         0          0   \n",
              "3             True        1228     0.238950        0         0          0   \n",
              "4             True         754     0.199820        0         0          1   \n",
              "\n",
              "   stage_IV  treatment_Chemotherapy/Radiation with curative intent  \\\n",
              "0         0                                                  0       \n",
              "1         0                                                  0       \n",
              "2         1                                                  0       \n",
              "3         1                                                  0       \n",
              "4         0                                                  1       \n",
              "\n",
              "   treatment_No treatment  treatment_Palliative Chemotherapy/Radiation  \\\n",
              "0                       0                                            0   \n",
              "1                       0                                            0   \n",
              "2                       0                                            1   \n",
              "3                       0                                            1   \n",
              "4                       0                                            0   \n",
              "\n",
              "   treatment_Surgery  treatment_Surgery+adjuvant treatment  \n",
              "0                  1                                     0  \n",
              "1                  1                                     0  \n",
              "2                  0                                     0  \n",
              "3                  0                                     0  \n",
              "4                  0                                     0  "
            ]
          },
          "execution_count": 6,
          "metadata": {},
          "output_type": "execute_result"
        }
      ],
      "source": [
        "data['survival_status'] = data['survival_status'].astype('bool')\n",
        "data.head()"
      ]
    },
    {
      "cell_type": "code",
      "execution_count": 7,
      "metadata": {
        "colab": {
          "base_uri": "https://localhost:8080/"
        },
        "id": "q0rRpJLu4ZSr",
        "outputId": "137f5ce5-c33d-4938-eba0-c908327a2dbb"
      },
      "outputs": [
        {
          "name": "stdout",
          "output_type": "stream",
          "text": [
            "X Matrix: \n",
            "   delfi_score  stage_I  stage_II  stage_III  stage_IV  \\\n",
            "0     0.099037        1         0          0         0   \n",
            "1     0.533453        1         0          0         0   \n",
            "2     0.822662        0         0          0         1   \n",
            "3     0.238950        0         0          0         1   \n",
            "4     0.199820        0         0          1         0   \n",
            "\n",
            "   treatment_Chemotherapy/Radiation with curative intent  \\\n",
            "0                                                  0       \n",
            "1                                                  0       \n",
            "2                                                  0       \n",
            "3                                                  0       \n",
            "4                                                  1       \n",
            "\n",
            "   treatment_No treatment  treatment_Palliative Chemotherapy/Radiation  \\\n",
            "0                       0                                            0   \n",
            "1                       0                                            0   \n",
            "2                       0                                            1   \n",
            "3                       0                                            1   \n",
            "4                       0                                            0   \n",
            "\n",
            "   treatment_Surgery  treatment_Surgery+adjuvant treatment  \n",
            "0                  1                                     0  \n",
            "1                  1                                     0  \n",
            "2                  0                                     0  \n",
            "3                  0                                     0  \n",
            "4                  0                                     0  \n",
            "\n",
            "Y Matrix: \n",
            "[( True, 1640.) ( True,  101.) ( True, 1228.) ( True,  754.)]\n"
          ]
        }
      ],
      "source": [
        "Y = data[['survival_status', 'days_alive']]\n",
        "Y = np.array(list(zip(data['survival_status'], data['days_alive'])),\n",
        "             dtype = [('survival_status', 'bool'), ('days_alive', 'float')])\n",
        "X = data.drop(['survival_status', 'days_alive', ], axis = 1)\n",
        "print(\"X Matrix: \")\n",
        "print(X.head())\n",
        "print()\n",
        "\n",
        "print(\"Y Matrix: \")\n",
        "print(Y[1:5])\n"
      ]
    },
    {
      "cell_type": "code",
      "execution_count": 8,
      "metadata": {
        "id": "fDfUnSaCuyfG"
      },
      "outputs": [],
      "source": [
        "from sklearn.model_selection import train_test_split\n",
        "X_train, X_test, y_train, y_test = train_test_split(X, Y, test_size = 0.25, random_state = 42)"
      ]
    },
    {
      "cell_type": "code",
      "execution_count": 9,
      "metadata": {
        "colab": {
          "base_uri": "https://localhost:8080/",
          "height": 224
        },
        "id": "rg-fs_AMvFSZ",
        "outputId": "9cc8ec6b-5611-46f3-c1a2-534fe0c70102"
      },
      "outputs": [
        {
          "data": {
            "text/html": [
              "<div>\n",
              "<style scoped>\n",
              "    .dataframe tbody tr th:only-of-type {\n",
              "        vertical-align: middle;\n",
              "    }\n",
              "\n",
              "    .dataframe tbody tr th {\n",
              "        vertical-align: top;\n",
              "    }\n",
              "\n",
              "    .dataframe thead th {\n",
              "        text-align: right;\n",
              "    }\n",
              "</style>\n",
              "<table border=\"1\" class=\"dataframe\">\n",
              "  <thead>\n",
              "    <tr style=\"text-align: right;\">\n",
              "      <th></th>\n",
              "      <th>delfi_score</th>\n",
              "      <th>stage_I</th>\n",
              "      <th>stage_II</th>\n",
              "      <th>stage_III</th>\n",
              "      <th>stage_IV</th>\n",
              "      <th>treatment_Chemotherapy/Radiation with curative intent</th>\n",
              "      <th>treatment_No treatment</th>\n",
              "      <th>treatment_Palliative Chemotherapy/Radiation</th>\n",
              "      <th>treatment_Surgery</th>\n",
              "      <th>treatment_Surgery+adjuvant treatment</th>\n",
              "    </tr>\n",
              "  </thead>\n",
              "  <tbody>\n",
              "    <tr>\n",
              "      <th>33</th>\n",
              "      <td>0.189878</td>\n",
              "      <td>0</td>\n",
              "      <td>1</td>\n",
              "      <td>0</td>\n",
              "      <td>0</td>\n",
              "      <td>0</td>\n",
              "      <td>0</td>\n",
              "      <td>0</td>\n",
              "      <td>1</td>\n",
              "      <td>0</td>\n",
              "    </tr>\n",
              "    <tr>\n",
              "      <th>11</th>\n",
              "      <td>0.158892</td>\n",
              "      <td>0</td>\n",
              "      <td>0</td>\n",
              "      <td>0</td>\n",
              "      <td>1</td>\n",
              "      <td>0</td>\n",
              "      <td>0</td>\n",
              "      <td>0</td>\n",
              "      <td>1</td>\n",
              "      <td>0</td>\n",
              "    </tr>\n",
              "    <tr>\n",
              "      <th>44</th>\n",
              "      <td>0.953926</td>\n",
              "      <td>0</td>\n",
              "      <td>0</td>\n",
              "      <td>0</td>\n",
              "      <td>1</td>\n",
              "      <td>0</td>\n",
              "      <td>1</td>\n",
              "      <td>0</td>\n",
              "      <td>0</td>\n",
              "      <td>0</td>\n",
              "    </tr>\n",
              "    <tr>\n",
              "      <th>49</th>\n",
              "      <td>0.965122</td>\n",
              "      <td>0</td>\n",
              "      <td>0</td>\n",
              "      <td>1</td>\n",
              "      <td>0</td>\n",
              "      <td>1</td>\n",
              "      <td>0</td>\n",
              "      <td>0</td>\n",
              "      <td>0</td>\n",
              "      <td>0</td>\n",
              "    </tr>\n",
              "    <tr>\n",
              "      <th>31</th>\n",
              "      <td>0.678103</td>\n",
              "      <td>0</td>\n",
              "      <td>0</td>\n",
              "      <td>1</td>\n",
              "      <td>0</td>\n",
              "      <td>1</td>\n",
              "      <td>0</td>\n",
              "      <td>0</td>\n",
              "      <td>0</td>\n",
              "      <td>0</td>\n",
              "    </tr>\n",
              "  </tbody>\n",
              "</table>\n",
              "</div>"
            ],
            "text/plain": [
              "    delfi_score  stage_I  stage_II  stage_III  stage_IV  \\\n",
              "33     0.189878        0         1          0         0   \n",
              "11     0.158892        0         0          0         1   \n",
              "44     0.953926        0         0          0         1   \n",
              "49     0.965122        0         0          1         0   \n",
              "31     0.678103        0         0          1         0   \n",
              "\n",
              "    treatment_Chemotherapy/Radiation with curative intent  \\\n",
              "33                                                  0       \n",
              "11                                                  0       \n",
              "44                                                  0       \n",
              "49                                                  1       \n",
              "31                                                  1       \n",
              "\n",
              "    treatment_No treatment  treatment_Palliative Chemotherapy/Radiation  \\\n",
              "33                       0                                            0   \n",
              "11                       0                                            0   \n",
              "44                       1                                            0   \n",
              "49                       0                                            0   \n",
              "31                       0                                            0   \n",
              "\n",
              "    treatment_Surgery  treatment_Surgery+adjuvant treatment  \n",
              "33                  1                                     0  \n",
              "11                  1                                     0  \n",
              "44                  0                                     0  \n",
              "49                  0                                     0  \n",
              "31                  0                                     0  "
            ]
          },
          "execution_count": 9,
          "metadata": {},
          "output_type": "execute_result"
        }
      ],
      "source": [
        "X_train.head()"
      ]
    },
    {
      "cell_type": "code",
      "execution_count": 10,
      "metadata": {
        "colab": {
          "base_uri": "https://localhost:8080/",
          "height": 224
        },
        "id": "B8Ux1QgLvHVS",
        "outputId": "7dc9c02a-87a1-4c51-b9f2-ea0fab59815d"
      },
      "outputs": [
        {
          "data": {
            "text/html": [
              "<div>\n",
              "<style scoped>\n",
              "    .dataframe tbody tr th:only-of-type {\n",
              "        vertical-align: middle;\n",
              "    }\n",
              "\n",
              "    .dataframe tbody tr th {\n",
              "        vertical-align: top;\n",
              "    }\n",
              "\n",
              "    .dataframe thead th {\n",
              "        text-align: right;\n",
              "    }\n",
              "</style>\n",
              "<table border=\"1\" class=\"dataframe\">\n",
              "  <thead>\n",
              "    <tr style=\"text-align: right;\">\n",
              "      <th></th>\n",
              "      <th>delfi_score</th>\n",
              "      <th>stage_I</th>\n",
              "      <th>stage_II</th>\n",
              "      <th>stage_III</th>\n",
              "      <th>stage_IV</th>\n",
              "      <th>treatment_Chemotherapy/Radiation with curative intent</th>\n",
              "      <th>treatment_No treatment</th>\n",
              "      <th>treatment_Palliative Chemotherapy/Radiation</th>\n",
              "      <th>treatment_Surgery</th>\n",
              "      <th>treatment_Surgery+adjuvant treatment</th>\n",
              "    </tr>\n",
              "  </thead>\n",
              "  <tbody>\n",
              "    <tr>\n",
              "      <th>68</th>\n",
              "      <td>0.999358</td>\n",
              "      <td>0</td>\n",
              "      <td>1</td>\n",
              "      <td>0</td>\n",
              "      <td>0</td>\n",
              "      <td>0</td>\n",
              "      <td>0</td>\n",
              "      <td>0</td>\n",
              "      <td>1</td>\n",
              "      <td>0</td>\n",
              "    </tr>\n",
              "    <tr>\n",
              "      <th>22</th>\n",
              "      <td>0.204565</td>\n",
              "      <td>0</td>\n",
              "      <td>0</td>\n",
              "      <td>0</td>\n",
              "      <td>1</td>\n",
              "      <td>0</td>\n",
              "      <td>0</td>\n",
              "      <td>1</td>\n",
              "      <td>0</td>\n",
              "      <td>0</td>\n",
              "    </tr>\n",
              "    <tr>\n",
              "      <th>72</th>\n",
              "      <td>1.000000</td>\n",
              "      <td>0</td>\n",
              "      <td>0</td>\n",
              "      <td>1</td>\n",
              "      <td>0</td>\n",
              "      <td>0</td>\n",
              "      <td>0</td>\n",
              "      <td>1</td>\n",
              "      <td>0</td>\n",
              "      <td>0</td>\n",
              "    </tr>\n",
              "    <tr>\n",
              "      <th>73</th>\n",
              "      <td>0.992746</td>\n",
              "      <td>0</td>\n",
              "      <td>0</td>\n",
              "      <td>1</td>\n",
              "      <td>0</td>\n",
              "      <td>1</td>\n",
              "      <td>0</td>\n",
              "      <td>0</td>\n",
              "      <td>0</td>\n",
              "      <td>0</td>\n",
              "    </tr>\n",
              "    <tr>\n",
              "      <th>0</th>\n",
              "      <td>0.099037</td>\n",
              "      <td>1</td>\n",
              "      <td>0</td>\n",
              "      <td>0</td>\n",
              "      <td>0</td>\n",
              "      <td>0</td>\n",
              "      <td>0</td>\n",
              "      <td>0</td>\n",
              "      <td>1</td>\n",
              "      <td>0</td>\n",
              "    </tr>\n",
              "  </tbody>\n",
              "</table>\n",
              "</div>"
            ],
            "text/plain": [
              "    delfi_score  stage_I  stage_II  stage_III  stage_IV  \\\n",
              "68     0.999358        0         1          0         0   \n",
              "22     0.204565        0         0          0         1   \n",
              "72     1.000000        0         0          1         0   \n",
              "73     0.992746        0         0          1         0   \n",
              "0      0.099037        1         0          0         0   \n",
              "\n",
              "    treatment_Chemotherapy/Radiation with curative intent  \\\n",
              "68                                                  0       \n",
              "22                                                  0       \n",
              "72                                                  0       \n",
              "73                                                  1       \n",
              "0                                                   0       \n",
              "\n",
              "    treatment_No treatment  treatment_Palliative Chemotherapy/Radiation  \\\n",
              "68                       0                                            0   \n",
              "22                       0                                            1   \n",
              "72                       0                                            1   \n",
              "73                       0                                            0   \n",
              "0                        0                                            0   \n",
              "\n",
              "    treatment_Surgery  treatment_Surgery+adjuvant treatment  \n",
              "68                  1                                     0  \n",
              "22                  0                                     0  \n",
              "72                  0                                     0  \n",
              "73                  0                                     0  \n",
              "0                   1                                     0  "
            ]
          },
          "execution_count": 10,
          "metadata": {},
          "output_type": "execute_result"
        }
      ],
      "source": [
        "X_test.head()"
      ]
    },
    {
      "cell_type": "code",
      "execution_count": 11,
      "metadata": {
        "colab": {
          "base_uri": "https://localhost:8080/"
        },
        "id": "6brFSD3nvJ87",
        "outputId": "502b212e-e920-43ee-cd1c-173da1b11176"
      },
      "outputs": [
        {
          "data": {
            "text/plain": [
              "array([( True, 2254.), ( True,  245.), ( True,   50.), ( True,  364.),\n",
              "       ( True,  868.)],\n",
              "      dtype=[('survival_status', '?'), ('days_alive', '<f8')])"
            ]
          },
          "execution_count": 11,
          "metadata": {},
          "output_type": "execute_result"
        }
      ],
      "source": [
        "y_train[0:5]"
      ]
    },
    {
      "cell_type": "code",
      "execution_count": 12,
      "metadata": {
        "colab": {
          "base_uri": "https://localhost:8080/"
        },
        "id": "EzDBtc98vLTE",
        "outputId": "5dab5184-47b0-4c98-d52a-e21031e2e5e1"
      },
      "outputs": [
        {
          "data": {
            "text/plain": [
              "array([(False, 2575.), ( True,  575.), ( True,  550.), (False, 2758.),\n",
              "       ( True, 1059.)],\n",
              "      dtype=[('survival_status', '?'), ('days_alive', '<f8')])"
            ]
          },
          "execution_count": 12,
          "metadata": {},
          "output_type": "execute_result"
        }
      ],
      "source": [
        "y_test[0:5]"
      ]
    },
    {
      "cell_type": "code",
      "execution_count": 13,
      "metadata": {
        "id": "kMs_yCM9121-"
      },
      "outputs": [
        {
          "ename": "ModuleNotFoundError",
          "evalue": "No module named 'sksurv'",
          "output_type": "error",
          "traceback": [
            "\u001b[0;31m---------------------------------------------------------------------------\u001b[0m",
            "\u001b[0;31mModuleNotFoundError\u001b[0m                       Traceback (most recent call last)",
            "Input \u001b[0;32mIn [13]\u001b[0m, in \u001b[0;36m<cell line: 1>\u001b[0;34m()\u001b[0m\n\u001b[0;32m----> 1\u001b[0m \u001b[38;5;28;01mfrom\u001b[39;00m \u001b[38;5;21;01msksurv\u001b[39;00m\u001b[38;5;21;01m.\u001b[39;00m\u001b[38;5;21;01mmetrics\u001b[39;00m \u001b[38;5;28;01mimport\u001b[39;00m concordance_index_censored\n\u001b[1;32m      2\u001b[0m \u001b[38;5;28;01mdef\u001b[39;00m \u001b[38;5;21mscore_survival_model\u001b[39m(model, X, y):\n\u001b[1;32m      3\u001b[0m     prediction \u001b[38;5;241m=\u001b[39m model\u001b[38;5;241m.\u001b[39mpredict(X)\n",
            "\u001b[0;31mModuleNotFoundError\u001b[0m: No module named 'sksurv'"
          ]
        }
      ],
      "source": [
        "from sksurv.metrics import concordance_index_censored\n",
        "def score_survival_model(model, X, y):\n",
        "    prediction = model.predict(X)\n",
        "    result = concordance_index_censored(y[\"Status\"], y[\"Survival_in_days\"], prediction)\n",
        "    return result\n",
        "\n"
      ]
    },
    {
      "cell_type": "markdown",
      "metadata": {},
      "source": [
        "### Model Training Functions"
      ]
    },
    {
      "cell_type": "code",
      "execution_count": null,
      "metadata": {
        "id": "XaPLwBj_vkOF"
      },
      "outputs": [],
      "source": [
        "# train model function\n",
        "from sklearn.model_selection import KFold\n",
        "from Evaluator import ScikitSurvivalEvaluator\n",
        "def cv_cox_models(model, k_folds, X, y, rs = 0):\n",
        "    mae_scores = []\n",
        "    kf = KFold(n_splits = k_folds, shuffle = True, random_state = rs)\n",
        "    for train_index, test_index in kf.split(X):\n",
        "        X_train, X_test = X.iloc[train_index], X.iloc[test_index]\n",
        "        y_train, y_test = y[train_index], y[test_index]\n",
        "        \n",
        "        model.fit(X_train, y_train)\n",
        "        \n",
        "        survival_curves = model.predict_survival_function(X_test)\n",
        "        \n",
        "        eval = ScikitSurvivalEvaluator(survival_curves, y_test['days_alive'], \n",
        "                                   y_test['survival_status'], \n",
        "                                   y_train['days_alive'], \n",
        "                                   y_train['survival_status'], \n",
        "                                   predict_time_method=\"Median\")\n",
        "        mae = eval.mae(method = \"Pseudo_obs\", weighted = False, log_scale = False)\n",
        "        mae_scores.append(mae)\n",
        "        \n",
        "    return mae_scores\n",
        "        \n",
        "    \n"
      ]
    },
    {
      "cell_type": "code",
      "execution_count": null,
      "metadata": {},
      "outputs": [],
      "source": [
        "def train_full_cox(model, X_tr, y_tr, X_t, y_t, rs = 0): \n",
        "    model.fit(X_tr, y_tr)\n",
        "    surv_c = model.predict_survival_function(X_t)\n",
        "    eval = ScikitSurvivalEvaluator(surv_c, y_t['days_alive'], \n",
        "                                   y_t['survival_status'], \n",
        "                                   y_tr['days_alive'], \n",
        "                                   y_tr['survival_status'], \n",
        "                                   predict_time_method=\"Median\")\n",
        "    mae = eval.mae(method = \"Pseudo_obs\", weighted = False, log_scale = False)\n",
        "    return mae"
      ]
    },
    {
      "cell_type": "code",
      "execution_count": null,
      "metadata": {},
      "outputs": [],
      "source": [
        "def train_model_sksurv(model, X_tr, y_tr, X_t, y_t, criterion, setting = \"cox\", rs = 0): \n",
        "    #want to write a function to train all the possible models that we will have to train\n",
        "    '''\n",
        "    Will have to train the following: \n",
        "    1. Cox PH Model (sksurv)\n",
        "    2. Survival SVM (sksurv)\n",
        "    3. Random Survival Forest (sksurv)\n",
        "    '''\n",
        "    \n",
        "    model.fit(X_tr, y_tr) \n",
        "    surv_c = model.predict_survival_function(X_t)\n",
        "    eval = ScikitSurvivalEvaluator(surv_c, y_t['days_alive'], \n",
        "                                   y_t['survival_status'], \n",
        "                                   y_tr['days_alive'], \n",
        "                                   y_tr['survival_status'], \n",
        "                                   predict_time_method=\"Median\")\n",
        "    mae = eval.mae(method = \"Pseudo_obs\", weighted = False, log_scale = False)\n",
        "    return mae"
      ]
    },
    {
      "cell_type": "code",
      "execution_count": null,
      "metadata": {},
      "outputs": [],
      "source": [
        "def cv_model_sksurv(model, X, y, criterion, rs = 0): \n",
        "    mae_scores = []\n",
        "    kf = KFold(n_splits = k_folds, shuffle = True, random_state = rs)\n",
        "    for train_index, test_index in kf.split(X):\n",
        "        X_train, X_test = X.iloc[train_index], X.iloc[test_index]\n",
        "        y_train, y_test = y[train_index], y[test_index]\n",
        "        \n",
        "        model.fit(X_train, y_train)\n",
        "        \n",
        "        survival_curves = model.predict_survival_function(X_test)\n",
        "        \n",
        "        eval = ScikitSurvivalEvaluator(survival_curves, y_test['days_alive'], \n",
        "                                   y_test['survival_status'], \n",
        "                                   y_train['days_alive'], \n",
        "                                   y_train['survival_status'], \n",
        "                                   predict_time_method=\"Median\")\n",
        "        mae = eval.mae(method = \"Pseudo_obs\", weighted = False, log_scale = False)\n",
        "        mae_scores.append(mae)\n",
        "        \n",
        "    return mae_scores"
      ]
    },
    {
      "cell_type": "markdown",
      "metadata": {
        "id": "2WFN5f1-fORm"
      },
      "source": [
        "Before we train any models, a major question in survival analysis is what metric can we use to evaluate our models. The most popular models include:\n",
        "1. C-Index (Harrell's Concordance Index ) -> Ratio of correctly ordered concordant pairs to comparable pairs. C-Index close to 1 represents perfect prediction\n",
        "1. MAE (Mean Absolute Error) -> literature has introduced many adaptations of the MAE estimator to handle survival data. This means estimating the true survival time of the censored samples or other methods. This reduces the survival problem down to a typical regression/classification problem."
      ]
    },
    {
      "cell_type": "markdown",
      "metadata": {
        "id": "LjhKUcf6vPdu"
      },
      "source": [
        "# Models\n"
      ]
    },
    {
      "cell_type": "markdown",
      "metadata": {},
      "source": [
        "## Baseline Kaplan-Meier"
      ]
    },
    {
      "cell_type": "code",
      "execution_count": null,
      "metadata": {},
      "outputs": [
        {
          "name": "stdout",
          "output_type": "stream",
          "text": [
            "Average MAE: 653.1088155262078\n",
            "95% CI for the MAE: (412.4537589296385, 893.763872122777)\n"
          ]
        }
      ],
      "source": [
        "from lifelines import KaplanMeierFitter\n",
        "from sklearn.model_selection import KFold\n",
        "import scipy.stats as stats\n",
        "from Evaluator import LifelinesEvaluator\n",
        "\n",
        "\n",
        "mae_baseline_scores = []\n",
        "\n",
        "kf = KFold(n_splits = 5, shuffle = True, random_state = None)\n",
        "\n",
        "for train_index, test_index in kf.split(y_train):\n",
        "    y_train_cv, y_test_cv = y_train[train_index], y_train[test_index]\n",
        "    kmf = KaplanMeierFitter()\n",
        "    survival_curve = kmf.fit(y_train['days_alive'], event_observed=y_train['survival_status']).survival_function_\n",
        "    \n",
        "    survival_curve_df = pd.concat([survival_curve] * y_test_cv.shape[0], axis=1)\n",
        "\n",
        "\n",
        "    eval = LifelinesEvaluator(survival_curve_df, y_test_cv['days_alive'], y_test_cv['survival_status'], y_train_cv['days_alive'], y_train_cv['survival_status'], predict_time_method=\"Median\")\n",
        "    \n",
        "    mae = eval.mae(method = \"Pseudo_obs\", weighted = False, log_scale = False)\n",
        "    \n",
        "    mae_baseline_scores.append(mae)\n",
        "    \n",
        "average_mae_baseline = np.mean(mae_baseline_scores)\n",
        "\n",
        "# Calculate the 95% confidence interval\n",
        "ci_baseline_mae = stats.t.interval(0.95, len(mae_baseline_scores) - 1, loc=average_mae_baseline, scale=stats.sem(mae_baseline_scores))\n",
        "\n",
        "print(f\"Average MAE: {average_mae_baseline}\")\n",
        "print(f\"95% CI for the MAE: {ci_baseline_mae}\")\n"
      ]
    },
    {
      "cell_type": "markdown",
      "metadata": {},
      "source": [
        "Now test on the test set of the data:"
      ]
    },
    {
      "cell_type": "code",
      "execution_count": null,
      "metadata": {},
      "outputs": [
        {
          "name": "stdout",
          "output_type": "stream",
          "text": [
            "MAE for Test Set: 1216.8482142856744\n"
          ]
        }
      ],
      "source": [
        "kmf = KaplanMeierFitter()\n",
        "survival_curve_baseline = kmf.fit(y_train['days_alive'], event_observed=y_train['survival_status']).survival_function_\n",
        "survival_curve_base = pd.concat([survival_curve] * y_test.shape[0], axis=1)\n",
        "eval = LifelinesEvaluator(survival_curve_base, y_test['days_alive'], y_test['survival_status'], y_train['days_alive'], y_train['survival_status'])\n",
        "mae = eval.mae(method = \"Pseudo_obs\", weighted = False, log_scale = False)\n",
        "print(f\"MAE for Test Set: {mae}\")\n"
      ]
    },
    {
      "cell_type": "markdown",
      "metadata": {
        "id": "YLj3kZWFvf-s"
      },
      "source": [
        "## Linear Models"
      ]
    },
    {
      "cell_type": "markdown",
      "metadata": {},
      "source": [
        "There is one main linear models that we can use for survival analysis that applies to our distribution of the time to event variable: \n",
        "- Cox PH Model \n",
        "\n",
        "Cox PH is semi-parametric and outputs the hazard function <br>\n"
      ]
    },
    {
      "cell_type": "markdown",
      "metadata": {},
      "source": [
        "### Baseline Cox PH- No Regularization"
      ]
    },
    {
      "cell_type": "markdown",
      "metadata": {},
      "source": [
        "Let's start with the most basic Cox PH Model"
      ]
    },
    {
      "cell_type": "code",
      "execution_count": null,
      "metadata": {},
      "outputs": [
        {
          "name": "stdout",
          "output_type": "stream",
          "text": [
            "Average MAE: 568.5971469509853\n",
            "Confidence Interval: (374.2865865408963, 762.9077073610745)\n",
            "\n",
            "Average C-Index: 0.8148359601103504\n"
          ]
        },
        {
          "name": "stderr",
          "output_type": "stream",
          "text": [
            "/common/home/alw228/.local/lib/python3.10/site-packages/sksurv/linear_model/coxph.py:449: LinAlgWarning: Ill-conditioned matrix (rcond=2.14169e-18): result may not be accurate.\n",
            "  delta = solve(\n",
            "/common/home/alw228/.local/lib/python3.10/site-packages/sksurv/linear_model/coxph.py:449: LinAlgWarning: Ill-conditioned matrix (rcond=8.37875e-18): result may not be accurate.\n",
            "  delta = solve(\n",
            "/common/home/alw228/.local/lib/python3.10/site-packages/sksurv/linear_model/coxph.py:449: LinAlgWarning: Ill-conditioned matrix (rcond=7.67985e-17): result may not be accurate.\n",
            "  delta = solve(\n",
            "/common/home/alw228/.local/lib/python3.10/site-packages/sksurv/linear_model/coxph.py:449: LinAlgWarning: Ill-conditioned matrix (rcond=9.63106e-18): result may not be accurate.\n",
            "  delta = solve(\n",
            "/common/home/alw228/.local/lib/python3.10/site-packages/sksurv/linear_model/coxph.py:449: LinAlgWarning: Ill-conditioned matrix (rcond=3.04079e-17): result may not be accurate.\n",
            "  delta = solve(\n",
            "/common/home/alw228/.local/lib/python3.10/site-packages/sksurv/linear_model/coxph.py:449: LinAlgWarning: Ill-conditioned matrix (rcond=1.80253e-17): result may not be accurate.\n",
            "  delta = solve(\n",
            "/common/home/alw228/.local/lib/python3.10/site-packages/sksurv/linear_model/coxph.py:449: LinAlgWarning: Ill-conditioned matrix (rcond=3.27819e-19): result may not be accurate.\n",
            "  delta = solve(\n",
            "/common/home/alw228/.local/lib/python3.10/site-packages/sksurv/linear_model/coxph.py:449: LinAlgWarning: Ill-conditioned matrix (rcond=3.20998e-17): result may not be accurate.\n",
            "  delta = solve(\n",
            "/common/home/alw228/.local/lib/python3.10/site-packages/sksurv/linear_model/coxph.py:449: LinAlgWarning: Ill-conditioned matrix (rcond=1.09104e-17): result may not be accurate.\n",
            "  delta = solve(\n",
            "/common/home/alw228/.local/lib/python3.10/site-packages/sksurv/linear_model/coxph.py:449: LinAlgWarning: Ill-conditioned matrix (rcond=5.04337e-19): result may not be accurate.\n",
            "  delta = solve(\n",
            "/common/home/alw228/.local/lib/python3.10/site-packages/sksurv/linear_model/coxph.py:449: LinAlgWarning: Ill-conditioned matrix (rcond=3.08864e-17): result may not be accurate.\n",
            "  delta = solve(\n",
            "/common/home/alw228/.local/lib/python3.10/site-packages/sksurv/linear_model/coxph.py:449: LinAlgWarning: Ill-conditioned matrix (rcond=7.35979e-18): result may not be accurate.\n",
            "  delta = solve(\n",
            "/common/home/alw228/.local/lib/python3.10/site-packages/sksurv/linear_model/coxph.py:449: LinAlgWarning: Ill-conditioned matrix (rcond=1.4518e-17): result may not be accurate.\n",
            "  delta = solve(\n",
            "/common/home/alw228/.local/lib/python3.10/site-packages/sksurv/linear_model/coxph.py:449: LinAlgWarning: Ill-conditioned matrix (rcond=3.25912e-17): result may not be accurate.\n",
            "  delta = solve(\n",
            "/common/home/alw228/.local/lib/python3.10/site-packages/sksurv/linear_model/coxph.py:449: LinAlgWarning: Ill-conditioned matrix (rcond=1.0551e-17): result may not be accurate.\n",
            "  delta = solve(\n",
            "/common/home/alw228/.local/lib/python3.10/site-packages/sksurv/linear_model/coxph.py:449: LinAlgWarning: Ill-conditioned matrix (rcond=2.69941e-17): result may not be accurate.\n",
            "  delta = solve(\n",
            "/common/home/alw228/.local/lib/python3.10/site-packages/sksurv/linear_model/coxph.py:449: LinAlgWarning: Ill-conditioned matrix (rcond=2.59341e-17): result may not be accurate.\n",
            "  delta = solve(\n",
            "/common/home/alw228/.local/lib/python3.10/site-packages/sksurv/linear_model/coxph.py:449: LinAlgWarning: Ill-conditioned matrix (rcond=3.52617e-18): result may not be accurate.\n",
            "  delta = solve(\n",
            "/common/home/alw228/.local/lib/python3.10/site-packages/sksurv/linear_model/coxph.py:449: LinAlgWarning: Ill-conditioned matrix (rcond=6.39288e-18): result may not be accurate.\n",
            "  delta = solve(\n",
            "/common/home/alw228/.local/lib/python3.10/site-packages/sksurv/linear_model/coxph.py:449: LinAlgWarning: Ill-conditioned matrix (rcond=1.06013e-17): result may not be accurate.\n",
            "  delta = solve(\n",
            "/common/home/alw228/.local/lib/python3.10/site-packages/sksurv/linear_model/coxph.py:449: LinAlgWarning: Ill-conditioned matrix (rcond=9.29933e-18): result may not be accurate.\n",
            "  delta = solve(\n",
            "/common/home/alw228/.local/lib/python3.10/site-packages/sksurv/linear_model/coxph.py:449: LinAlgWarning: Ill-conditioned matrix (rcond=2.59792e-18): result may not be accurate.\n",
            "  delta = solve(\n",
            "/common/home/alw228/.local/lib/python3.10/site-packages/sksurv/linear_model/coxph.py:449: LinAlgWarning: Ill-conditioned matrix (rcond=3.13583e-17): result may not be accurate.\n",
            "  delta = solve(\n",
            "/common/home/alw228/.local/lib/python3.10/site-packages/sksurv/linear_model/coxph.py:449: LinAlgWarning: Ill-conditioned matrix (rcond=4.55204e-17): result may not be accurate.\n",
            "  delta = solve(\n",
            "/common/home/alw228/.local/lib/python3.10/site-packages/sksurv/linear_model/coxph.py:449: LinAlgWarning: Ill-conditioned matrix (rcond=4.49414e-18): result may not be accurate.\n",
            "  delta = solve(\n",
            "/common/home/alw228/.local/lib/python3.10/site-packages/sksurv/linear_model/coxph.py:449: LinAlgWarning: Ill-conditioned matrix (rcond=1.95332e-17): result may not be accurate.\n",
            "  delta = solve(\n",
            "/common/home/alw228/.local/lib/python3.10/site-packages/sksurv/linear_model/coxph.py:449: LinAlgWarning: Ill-conditioned matrix (rcond=1.29904e-17): result may not be accurate.\n",
            "  delta = solve(\n",
            "/common/home/alw228/.local/lib/python3.10/site-packages/sksurv/linear_model/coxph.py:449: LinAlgWarning: Ill-conditioned matrix (rcond=6.69256e-18): result may not be accurate.\n",
            "  delta = solve(\n",
            "/common/home/alw228/.local/lib/python3.10/site-packages/sksurv/linear_model/coxph.py:449: LinAlgWarning: Ill-conditioned matrix (rcond=1.85545e-17): result may not be accurate.\n",
            "  delta = solve(\n",
            "/common/home/alw228/.local/lib/python3.10/site-packages/sksurv/linear_model/coxph.py:449: LinAlgWarning: Ill-conditioned matrix (rcond=1.99439e-17): result may not be accurate.\n",
            "  delta = solve(\n",
            "/common/home/alw228/.local/lib/python3.10/site-packages/sksurv/linear_model/coxph.py:449: LinAlgWarning: Ill-conditioned matrix (rcond=8.03804e-18): result may not be accurate.\n",
            "  delta = solve(\n",
            "/common/home/alw228/.local/lib/python3.10/site-packages/sksurv/linear_model/coxph.py:449: LinAlgWarning: Ill-conditioned matrix (rcond=5.69939e-18): result may not be accurate.\n",
            "  delta = solve(\n",
            "/common/home/alw228/.local/lib/python3.10/site-packages/sksurv/linear_model/coxph.py:449: LinAlgWarning: Ill-conditioned matrix (rcond=1.12785e-17): result may not be accurate.\n",
            "  delta = solve(\n",
            "/common/home/alw228/.local/lib/python3.10/site-packages/sksurv/linear_model/coxph.py:449: LinAlgWarning: Ill-conditioned matrix (rcond=9.40097e-18): result may not be accurate.\n",
            "  delta = solve(\n",
            "/common/home/alw228/.local/lib/python3.10/site-packages/sksurv/linear_model/coxph.py:449: LinAlgWarning: Ill-conditioned matrix (rcond=9.98583e-18): result may not be accurate.\n",
            "  delta = solve(\n",
            "/common/home/alw228/.local/lib/python3.10/site-packages/sksurv/linear_model/coxph.py:449: LinAlgWarning: Ill-conditioned matrix (rcond=1.05617e-18): result may not be accurate.\n",
            "  delta = solve(\n",
            "/common/home/alw228/.local/lib/python3.10/site-packages/sksurv/linear_model/coxph.py:449: LinAlgWarning: Ill-conditioned matrix (rcond=2.34133e-18): result may not be accurate.\n",
            "  delta = solve(\n",
            "/common/home/alw228/.local/lib/python3.10/site-packages/sksurv/linear_model/coxph.py:449: LinAlgWarning: Ill-conditioned matrix (rcond=1.37639e-17): result may not be accurate.\n",
            "  delta = solve(\n",
            "/common/home/alw228/.local/lib/python3.10/site-packages/sksurv/linear_model/coxph.py:449: LinAlgWarning: Ill-conditioned matrix (rcond=2.51258e-18): result may not be accurate.\n",
            "  delta = solve(\n",
            "/common/home/alw228/.local/lib/python3.10/site-packages/sksurv/linear_model/coxph.py:449: LinAlgWarning: Ill-conditioned matrix (rcond=4.66984e-18): result may not be accurate.\n",
            "  delta = solve(\n",
            "/common/home/alw228/.local/lib/python3.10/site-packages/sksurv/linear_model/coxph.py:449: LinAlgWarning: Ill-conditioned matrix (rcond=1.73954e-17): result may not be accurate.\n",
            "  delta = solve(\n",
            "/common/home/alw228/.local/lib/python3.10/site-packages/sksurv/linear_model/coxph.py:449: LinAlgWarning: Ill-conditioned matrix (rcond=3.2492e-18): result may not be accurate.\n",
            "  delta = solve(\n",
            "/common/home/alw228/.local/lib/python3.10/site-packages/sksurv/linear_model/coxph.py:449: LinAlgWarning: Ill-conditioned matrix (rcond=3.63311e-17): result may not be accurate.\n",
            "  delta = solve(\n",
            "/common/home/alw228/.local/lib/python3.10/site-packages/sksurv/linear_model/coxph.py:449: LinAlgWarning: Ill-conditioned matrix (rcond=9.80477e-18): result may not be accurate.\n",
            "  delta = solve(\n",
            "/common/home/alw228/.local/lib/python3.10/site-packages/sksurv/linear_model/coxph.py:449: LinAlgWarning: Ill-conditioned matrix (rcond=6.1211e-18): result may not be accurate.\n",
            "  delta = solve(\n",
            "/common/home/alw228/.local/lib/python3.10/site-packages/sksurv/linear_model/coxph.py:449: LinAlgWarning: Ill-conditioned matrix (rcond=2.0569e-17): result may not be accurate.\n",
            "  delta = solve(\n",
            "/common/home/alw228/.local/lib/python3.10/site-packages/sksurv/linear_model/coxph.py:449: LinAlgWarning: Ill-conditioned matrix (rcond=3.61946e-18): result may not be accurate.\n",
            "  delta = solve(\n",
            "/common/home/alw228/.local/lib/python3.10/site-packages/sksurv/linear_model/coxph.py:449: LinAlgWarning: Ill-conditioned matrix (rcond=2.29739e-17): result may not be accurate.\n",
            "  delta = solve(\n",
            "/common/home/alw228/.local/lib/python3.10/site-packages/sksurv/linear_model/coxph.py:449: LinAlgWarning: Ill-conditioned matrix (rcond=3.80676e-18): result may not be accurate.\n",
            "  delta = solve(\n",
            "/common/home/alw228/.local/lib/python3.10/site-packages/sksurv/linear_model/coxph.py:449: LinAlgWarning: Ill-conditioned matrix (rcond=2.32858e-17): result may not be accurate.\n",
            "  delta = solve(\n",
            "/common/home/alw228/.local/lib/python3.10/site-packages/sksurv/linear_model/coxph.py:449: LinAlgWarning: Ill-conditioned matrix (rcond=7.53083e-18): result may not be accurate.\n",
            "  delta = solve(\n",
            "/common/home/alw228/.local/lib/python3.10/site-packages/sksurv/linear_model/coxph.py:449: LinAlgWarning: Ill-conditioned matrix (rcond=4.99997e-17): result may not be accurate.\n",
            "  delta = solve(\n",
            "/common/home/alw228/.local/lib/python3.10/site-packages/sksurv/linear_model/coxph.py:449: LinAlgWarning: Ill-conditioned matrix (rcond=2.80576e-17): result may not be accurate.\n",
            "  delta = solve(\n",
            "/common/home/alw228/.local/lib/python3.10/site-packages/sksurv/linear_model/coxph.py:449: LinAlgWarning: Ill-conditioned matrix (rcond=1.27666e-17): result may not be accurate.\n",
            "  delta = solve(\n",
            "/common/home/alw228/.local/lib/python3.10/site-packages/sksurv/linear_model/coxph.py:449: LinAlgWarning: Ill-conditioned matrix (rcond=1.93659e-17): result may not be accurate.\n",
            "  delta = solve(\n",
            "/common/home/alw228/.local/lib/python3.10/site-packages/sksurv/linear_model/coxph.py:449: LinAlgWarning: Ill-conditioned matrix (rcond=7.24481e-18): result may not be accurate.\n",
            "  delta = solve(\n",
            "/common/home/alw228/.local/lib/python3.10/site-packages/sksurv/linear_model/coxph.py:449: LinAlgWarning: Ill-conditioned matrix (rcond=1.55613e-17): result may not be accurate.\n",
            "  delta = solve(\n",
            "/common/home/alw228/.local/lib/python3.10/site-packages/sksurv/linear_model/coxph.py:449: LinAlgWarning: Ill-conditioned matrix (rcond=2.379e-17): result may not be accurate.\n",
            "  delta = solve(\n",
            "/common/home/alw228/.local/lib/python3.10/site-packages/sksurv/linear_model/coxph.py:449: LinAlgWarning: Ill-conditioned matrix (rcond=2.32668e-17): result may not be accurate.\n",
            "  delta = solve(\n",
            "/common/home/alw228/.local/lib/python3.10/site-packages/sksurv/linear_model/coxph.py:449: LinAlgWarning: Ill-conditioned matrix (rcond=2.05737e-18): result may not be accurate.\n",
            "  delta = solve(\n",
            "/common/home/alw228/.local/lib/python3.10/site-packages/sksurv/linear_model/coxph.py:449: LinAlgWarning: Ill-conditioned matrix (rcond=2.62008e-17): result may not be accurate.\n",
            "  delta = solve(\n"
          ]
        }
      ],
      "source": [
        "from sksurv.linear_model import CoxPHSurvivalAnalysis\n",
        "from sklearn.model_selection import KFold\n",
        "import scipy.stats as stats\n",
        "from Evaluator import ScikitSurvivalEvaluator\n",
        "import math\n",
        "\n",
        "\n",
        "kf = KFold(n_splits = 5, shuffle = True, random_state = 42)\n",
        "mae_losses_baseline_cph = []\n",
        "c_baseline_cph = []\n",
        "\n",
        "for train_index, test_index in kf.split(X_train):\n",
        "    X_train_cv, X_test_cv = X_train.iloc[train_index], X_train.iloc[test_index]\n",
        "    y_train_cv, y_test_cv = y_train[train_index], y_train[test_index]\n",
        "    \n",
        "    cph = CoxPHSurvivalAnalysis()\n",
        "    cph.fit(X_train_cv, y_train_cv)\n",
        "    \n",
        "    pred_surv = cph.predict_survival_function(X_test_cv)\n",
        "    \n",
        "    eval = ScikitSurvivalEvaluator(pred_surv, y_test_cv['days_alive'], \n",
        "                                   y_test_cv['survival_status'], \n",
        "                                   y_train_cv['days_alive'], \n",
        "                                   y_train_cv['survival_status'], \n",
        "                                   predict_time_method=\"Median\")\n",
        "    mae_score = eval.mae(method='Pseudo_obs', weighted=False, log_scale = False)\n",
        "    c_ind, _, _ = eval.concordance()\n",
        "    \n",
        "    if not math.isnan(c_ind):\n",
        "        c_baseline_cph.append(c_ind) \n",
        "    \n",
        "    mae_losses_baseline_cph.append(mae_score)\n",
        "    \n",
        "avg_mae_cph_basic = np.mean(mae_losses_baseline_cph)\n",
        "avg_c_cph_basic = np.mean(c_baseline_cph)\n",
        "ci_cph_basic = stats.t.interval(0.95, len(mae_losses_baseline_cph) - 1, loc=avg_mae_cph_basic, scale=stats.sem(mae_losses_baseline_cph))\n",
        "ci_c_cph_basic = stats.t.interval(0.95, len(c_baseline_cph) - 1, loc=avg_mae_cph_basic, scale=stats.sem(c_baseline_cph))\n",
        "\n",
        "\n",
        "\n",
        "print(f\"Average MAE: {avg_mae_cph_basic}\")    \n",
        "print(f\"Confidence Interval: {ci_cph_basic}\")\n",
        "print() \n",
        "print(f\"Average C-Index: {avg_c_cph_basic}\")"
      ]
    },
    {
      "cell_type": "code",
      "execution_count": null,
      "metadata": {},
      "outputs": [
        {
          "name": "stdout",
          "output_type": "stream",
          "text": [
            "MAE for Test Set: 1169.2380445542888\n"
          ]
        },
        {
          "name": "stderr",
          "output_type": "stream",
          "text": [
            "/common/home/alw228/.local/lib/python3.10/site-packages/sksurv/linear_model/coxph.py:449: LinAlgWarning: Ill-conditioned matrix (rcond=2.71099e-17): result may not be accurate.\n",
            "  delta = solve(\n",
            "/common/home/alw228/.local/lib/python3.10/site-packages/sksurv/linear_model/coxph.py:449: LinAlgWarning: Ill-conditioned matrix (rcond=1.81677e-17): result may not be accurate.\n",
            "  delta = solve(\n",
            "/common/home/alw228/.local/lib/python3.10/site-packages/sksurv/linear_model/coxph.py:449: LinAlgWarning: Ill-conditioned matrix (rcond=2.22822e-17): result may not be accurate.\n",
            "  delta = solve(\n",
            "/common/home/alw228/.local/lib/python3.10/site-packages/sksurv/linear_model/coxph.py:449: LinAlgWarning: Ill-conditioned matrix (rcond=1.13809e-17): result may not be accurate.\n",
            "  delta = solve(\n",
            "/common/home/alw228/.local/lib/python3.10/site-packages/sksurv/linear_model/coxph.py:449: LinAlgWarning: Ill-conditioned matrix (rcond=3.66053e-17): result may not be accurate.\n",
            "  delta = solve(\n",
            "/common/home/alw228/.local/lib/python3.10/site-packages/sksurv/linear_model/coxph.py:449: LinAlgWarning: Ill-conditioned matrix (rcond=8.61688e-18): result may not be accurate.\n",
            "  delta = solve(\n",
            "/common/home/alw228/.local/lib/python3.10/site-packages/sksurv/linear_model/coxph.py:449: LinAlgWarning: Ill-conditioned matrix (rcond=1.39497e-17): result may not be accurate.\n",
            "  delta = solve(\n"
          ]
        }
      ],
      "source": [
        "cph = CoxPHSurvivalAnalysis(n_iter = 10000)\n",
        "cph.fit(X_train, y_train)\n",
        "    \n",
        "pred_surv = cph.predict_survival_function(X_test)\n",
        "eval = ScikitSurvivalEvaluator(pred_surv, y_test['days_alive'], \n",
        "                                y_test['survival_status'], \n",
        "                                y_train['days_alive'], \n",
        "                                y_train['survival_status'], \n",
        "                                predict_time_method=\"Median\")\n",
        "mae_score = eval.mae(method='Pseudo_obs', weighted=False, log_scale = False)\n",
        "print(f\"MAE for Test Set: {mae_score}\")"
      ]
    },
    {
      "cell_type": "markdown",
      "metadata": {},
      "source": [
        "Our baseline cox ph model seems to fit the data worse than the baseline Kaplan meier model. However, it seems to generalize much better than the baseline model. Furthermore, while in this random state = 42, the model ran, there are other random_states in which there is too much multicollinearity between covariates, indicating we definitely need regularization"
      ]
    },
    {
      "cell_type": "markdown",
      "metadata": {},
      "source": [
        "### Ridge Cox PH - Finding the Best Regularization Penalty"
      ]
    },
    {
      "cell_type": "markdown",
      "metadata": {},
      "source": [
        "Let's test better versions of the Cox model: perhaps a regularized model to regularize the features that we determined were not valuable in the exploration process. Use cv to search for the best alpha value for regularization"
      ]
    },
    {
      "cell_type": "code",
      "execution_count": null,
      "metadata": {},
      "outputs": [],
      "source": [
        "def find_best_alpha_cph(alpha_vals, k_folds, X, y, rs): \n",
        "    \n",
        "    kf = KFold(n_splits = k_folds, shuffle = True, random_state = rs)\n",
        "    avg_maes = []\n",
        "    best_alpha = None\n",
        "    min_avg_mae = float('inf')\n",
        "    \n",
        "    for a in alpha_vals:\n",
        "        mae_scores = []\n",
        "        model = None\n",
        "        model = CoxPHSurvivalAnalysis(alpha = a, n_iter = 10000)\n",
        "        for train_index, test_index in kf.split(X):\n",
        "            X_train, X_test = X.iloc[train_index], X.iloc[test_index]\n",
        "            y_train, y_test = y[train_index], y[test_index]\n",
        "            \n",
        "            model.fit(X_train, y_train)\n",
        "            \n",
        "            survival_curves = model.predict_survival_function(X_test)\n",
        "            \n",
        "            eval = ScikitSurvivalEvaluator(survival_curves, y_test['days_alive'], \n",
        "                                    y_test['survival_status'], \n",
        "                                    y_train['days_alive'], \n",
        "                                    y_train['survival_status'], \n",
        "                                    predict_time_method=\"Median\")\n",
        "            mae = eval.mae(method = \"Pseudo_obs\", weighted = False, log_scale = False)\n",
        "            mae_scores.append(mae)\n",
        "            \n",
        "        avg_mae = np.mean(mae_scores)\n",
        "        avg_maes.append(avg_mae)\n",
        "\n",
        "        if avg_mae < min_avg_mae:\n",
        "            min_avg_mae = avg_mae\n",
        "            best_alpha = a\n",
        "\n",
        "    return best_alpha, min_avg_mae, avg_maes\n"
      ]
    },
    {
      "cell_type": "code",
      "execution_count": null,
      "metadata": {},
      "outputs": [
        {
          "name": "stdout",
          "output_type": "stream",
          "text": [
            "Best Alpha Value: 1.2648552168552958\n",
            "Minimum average mae of best alpha: 370.88333296661676\n"
          ]
        }
      ],
      "source": [
        "alpha_vals = 10**np.linspace(-5, 5, 50)\n",
        "best_initial_alpha, min_avg_mae_init, avg_maes_init = find_best_alpha_cph(alpha_vals, 5, X_train, y_train, 0)\n",
        "print(f\"Best Alpha Value: {best_initial_alpha}\")\n",
        "print(f\"Minimum average mae of best alpha: {min_avg_mae_init}\")"
      ]
    },
    {
      "cell_type": "code",
      "execution_count": null,
      "metadata": {},
      "outputs": [],
      "source": [
        "cph_ridge_init = CoxPHSurvivalAnalysis(alpha = best_initial_alpha, n_iter = 10000)\n",
        "mae_cph_ridge= cv_cox_models(cph_ridge_init, 5, X_train, y_train)\n"
      ]
    },
    {
      "cell_type": "code",
      "execution_count": null,
      "metadata": {},
      "outputs": [
        {
          "name": "stdout",
          "output_type": "stream",
          "text": [
            "Final Test MAE for Ridge Cox: 1040.200173723492\n"
          ]
        }
      ],
      "source": [
        "mae_init_cph_ridge = train_full_cox(cph_ridge_init, X_train, y_train, X_test, y_test)\n",
        "print(f\"Final Test MAE for Ridge Cox: {mae_init_cph_ridge}\")"
      ]
    },
    {
      "cell_type": "code",
      "execution_count": null,
      "metadata": {},
      "outputs": [
        {
          "data": {
            "image/png": "[encoded data removed]",
            "text/plain": [
              "<Figure size 720x432 with 1 Axes>"
            ]
          },
          "metadata": {
            "needs_background": "light"
          },
          "output_type": "display_data"
        }
      ],
      "source": [
        "plt.figure(figsize = (10,6))\n",
        "plt.title(\"Alpha Values vs. Average Mean Absolute Loss\")\n",
        "plt.plot(alpha_vals, avg_maes_init)\n",
        "plt.xlabel(\"Alpha value\")\n",
        "plt.xscale(\"log\")\n",
        "plt.ylabel(\"Loss\")\n",
        "plt.grid()\n",
        "plt.show()"
      ]
    },
    {
      "cell_type": "code",
      "execution_count": null,
      "metadata": {},
      "outputs": [
        {
          "name": "stdout",
          "output_type": "stream",
          "text": [
            "[1.00000000e-05 1.59985872e-05 2.55954792e-05 4.09491506e-05\n",
            " 6.55128557e-05 1.04811313e-04 1.67683294e-04 2.68269580e-04\n",
            " 4.29193426e-04 6.86648845e-04 1.09854114e-03 1.75751062e-03\n",
            " 2.81176870e-03 4.49843267e-03 7.19685673e-03 1.15139540e-02\n",
            " 1.84206997e-02 2.94705170e-02 4.71486636e-02 7.54312006e-02\n",
            " 1.20679264e-01 1.93069773e-01 3.08884360e-01 4.94171336e-01\n",
            " 7.90604321e-01 1.26485522e+00 2.02358965e+00 3.23745754e+00\n",
            " 5.17947468e+00 8.28642773e+00 1.32571137e+01 2.12095089e+01\n",
            " 3.39322177e+01 5.42867544e+01 8.68511374e+01 1.38949549e+02\n",
            " 2.22299648e+02 3.55648031e+02 5.68986603e+02 9.10298178e+02\n",
            " 1.45634848e+03 2.32995181e+03 3.72759372e+03 5.96362332e+03\n",
            " 9.54095476e+03 1.52641797e+04 2.44205309e+04 3.90693994e+04\n",
            " 6.25055193e+04 1.00000000e+05]\n"
          ]
        }
      ],
      "source": [
        "print(alpha_vals)"
      ]
    },
    {
      "cell_type": "markdown",
      "metadata": {},
      "source": [
        "The range for alphas is still very large so we want to narrow that down and pick a potential even better penalty"
      ]
    },
    {
      "cell_type": "code",
      "execution_count": null,
      "metadata": {},
      "outputs": [],
      "source": [
        "num_values = 50  # Number of values to test around the best alpha\n",
        "\n",
        "# Create an array of values centered around the best alpha\n",
        "alpha_range = np.linspace(0.01, best_initial_alpha + 2, num_values)"
      ]
    },
    {
      "cell_type": "code",
      "execution_count": null,
      "metadata": {},
      "outputs": [
        {
          "name": "stdout",
          "output_type": "stream",
          "text": [
            "Best alpha after narrowing range: 1.338512333410325\n"
          ]
        }
      ],
      "source": [
        "best_alpha_, min_avg_mae_final, avg_maes_final = find_best_alpha_cph(alpha_range, 5, X_train, y_train, 0)\n",
        "print(f\"Best alpha after narrowing range: {best_alpha_}\")\n"
      ]
    },
    {
      "cell_type": "code",
      "execution_count": null,
      "metadata": {},
      "outputs": [
        {
          "data": {
            "image/png": "[encoded data removed]",
            "text/plain": [
              "<Figure size 720x432 with 1 Axes>"
            ]
          },
          "metadata": {
            "needs_background": "light"
          },
          "output_type": "display_data"
        }
      ],
      "source": [
        "plt.figure(figsize = (10,6))\n",
        "plt.title(\"Alpha Values vs. Average Mean Absolute Loss\")\n",
        "plt.plot(alpha_range, avg_maes_final)\n",
        "plt.xlabel(\"Alpha value\")\n",
        "plt.ylabel(\"Loss\")\n",
        "plt.grid()\n",
        "plt.show()"
      ]
    },
    {
      "cell_type": "code",
      "execution_count": null,
      "metadata": {},
      "outputs": [
        {
          "name": "stdout",
          "output_type": "stream",
          "text": [
            "Average MAE For CPH with Ridge Penalty: 369.4460323035417\n"
          ]
        }
      ],
      "source": [
        "cph_ridge_final = CoxPHSurvivalAnalysis(alpha = best_alpha_, n_iter = 10000)\n",
        "mae_cph_ridge= cv_cox_models(cph_ridge_final, 5, X_train, y_train)\n",
        "\n",
        "print(f\"Average MAE For CPH with Ridge Penalty: {np.mean(mae_cph_ridge)}\")"
      ]
    },
    {
      "cell_type": "code",
      "execution_count": null,
      "metadata": {},
      "outputs": [
        {
          "name": "stdout",
          "output_type": "stream",
          "text": [
            "Final Test MAE for Ridge Cox: 1033.9524618896446\n"
          ]
        }
      ],
      "source": [
        "mae_final_cph_ridge = train_full_cox(cph_ridge_final, X_train, y_train, X_test, y_test)\n",
        "print(f\"Final Test MAE for Ridge Cox: {mae_final_cph_ridge}\")"
      ]
    },
    {
      "cell_type": "markdown",
      "metadata": {},
      "source": [
        "Performance seems to be the same as the previous model. Maybe the regularization is not strong enough? Or the regularization does not generalize very well. We can instead apply 100% LASSO Regularization to see if that does any better than our previous model."
      ]
    },
    {
      "cell_type": "markdown",
      "metadata": {},
      "source": [
        "### LASSO Cox"
      ]
    },
    {
      "cell_type": "markdown",
      "metadata": {},
      "source": [
        "In sksurv, the LASSO penalty can be applied through the Cox Elastic Net model, which leverages elastic net penalization. Our goal is to see if pure LASSO regularization can perform better than the ridge regularization that we tested above. Eventually, we want to choose a good ratio between the L1:L2 regularization terms to hopefully get a more accurate model."
      ]
    },
    {
      "cell_type": "code",
      "execution_count": null,
      "metadata": {},
      "outputs": [
        {
          "name": "stdout",
          "output_type": "stream",
          "text": [
            "Average LASSO MAE: 813.0682131488227\n"
          ]
        }
      ],
      "source": [
        "#use cv to find average loss values\n",
        "from sksurv.linear_model import CoxnetSurvivalAnalysis\n",
        "cox_lasso_init = CoxnetSurvivalAnalysis(l1_ratio=1.0, alpha_min_ratio = 0.01, fit_baseline_model= True)\n",
        "avg_lasso_mae = cv_cox_models(cox_lasso_init, 5, X_train, y_train)\n",
        "print(f\"Average LASSO MAE: {np.mean(avg_lasso_mae)}\")"
      ]
    },
    {
      "cell_type": "code",
      "execution_count": null,
      "metadata": {},
      "outputs": [
        {
          "name": "stdout",
          "output_type": "stream",
          "text": [
            "Initial LASSO Model MAE: 1075.445329343369\n"
          ]
        }
      ],
      "source": [
        "mae_final_init_lasso = train_full_cox(cox_lasso_init, X_train, y_train, X_test, y_test)\n",
        "print(f\"Initial LASSO Model MAE: {mae_final_init_lasso}\")\n"
      ]
    },
    {
      "cell_type": "code",
      "execution_count": null,
      "metadata": {},
      "outputs": [],
      "source": [
        "alpha_scores = cox_lasso_init.alphas_"
      ]
    },
    {
      "cell_type": "markdown",
      "metadata": {},
      "source": [
        "Want to use GridSearchCV to find a better L1 L2 ratio since we are seeing that the Lasso model performs worse than the Ridge model. We also need to write a custom scorer to test this grid search method."
      ]
    },
    {
      "cell_type": "code",
      "execution_count": null,
      "metadata": {},
      "outputs": [],
      "source": [
        "from sklearn.metrics import make_scorer\n",
        "def custom_scorer_cox(model, X, y):\n",
        "    print(f\"X shape: {X.shape}\")\n",
        "    print(f\"y shape: {y.shape}\")\n",
        "    survival_function = model.predict_survival_function(X)\n",
        "    print(\"Inputs: \")\n",
        "    print(X[:3])\n",
        "    print(\"ys: \")\n",
        "    print(y[:3])\n",
        "    eval = ScikitSurvivalEvaluator(survival_function, test_event_times=y['days_alive'], test_event_indicators=y['survival_status'], predict_time_method = \"Median\")\n",
        "    mae = eval.mae(method = \"Pseudo_obs\", weighted = False, log_scale = False)\n",
        "    return mae\n",
        "custom_scorer = make_scorer(custom_scorer_cox, greater_is_better=False)    "
      ]
    },
    {
      "cell_type": "code",
      "execution_count": null,
      "metadata": {},
      "outputs": [
        {
          "name": "stdout",
          "output_type": "stream",
          "text": [
            "Possible alpha values: \n",
            "[0.2923434  0.27905594 0.26637242 0.25426538 0.24270863 0.23167715\n",
            " 0.22114706 0.21109559 0.20150097 0.19234244 0.18360018 0.17525526\n",
            " 0.16728964 0.15968607 0.15242809 0.1455     0.1388868  0.13257418\n",
            " 0.12654848 0.12079666 0.11530626 0.11006541 0.10506277 0.10028751\n",
            " 0.09572928 0.09137824 0.08722496 0.08326045 0.07947613 0.07586382\n",
            " 0.07241569 0.06912429 0.06598248 0.06298348 0.06012078 0.0573882\n",
            " 0.05477982 0.05228999 0.04991333 0.04764469 0.04547917 0.04341207\n",
            " 0.04143892 0.03955546 0.0377576  0.03604146 0.03440332 0.03283964\n",
            " 0.03134702 0.02992225 0.02856224 0.02726404 0.02602485 0.02484198\n",
            " 0.02371287 0.02263509 0.02160629 0.02062425 0.01968685 0.01879205\n",
            " 0.01793792 0.01712261 0.01634436 0.01560149 0.01489238 0.01421549\n",
            " 0.01356938 0.01295263 0.01236391 0.01180195 0.01126554 0.0107535\n",
            " 0.01026474 0.00979819 0.00935285 0.00892775 0.00852197 0.00813463\n",
            " 0.0077649  0.00741197 0.00707509 0.00675351 0.00644655 0.00615355\n",
            " 0.00587386 0.00560688 0.00535204 0.00510878 0.00487658 0.00465493\n",
            " 0.00444336 0.0042414  0.00404862 0.00386461 0.00368896 0.00352129\n",
            " 0.00336124 0.00320847 0.00306264 0.00292343]\n"
          ]
        }
      ],
      "source": [
        "print(\"Possible alpha values: \")\n",
        "print(alpha_scores)"
      ]
    },
    {
      "cell_type": "code",
      "execution_count": 44,
      "metadata": {},
      "outputs": [
        {
          "ename": "KeyboardInterrupt",
          "evalue": "",
          "output_type": "error",
          "traceback": [
            "\u001b[0;31m---------------------------------------------------------------------------\u001b[0m",
            "\u001b[0;31mKeyboardInterrupt\u001b[0m                         Traceback (most recent call last)",
            "\u001b[0;32m/tmp/ipykernel_3879672/1309225054.py\u001b[0m in \u001b[0;36m<module>\u001b[0;34m\u001b[0m\n\u001b[1;32m      5\u001b[0m \u001b[0mcv\u001b[0m \u001b[0;34m=\u001b[0m \u001b[0mKFold\u001b[0m\u001b[0;34m(\u001b[0m\u001b[0mn_splits\u001b[0m\u001b[0;34m=\u001b[0m\u001b[0;36m5\u001b[0m\u001b[0;34m,\u001b[0m \u001b[0mshuffle\u001b[0m\u001b[0;34m=\u001b[0m\u001b[0;32mTrue\u001b[0m\u001b[0;34m,\u001b[0m \u001b[0mrandom_state\u001b[0m\u001b[0;34m=\u001b[0m\u001b[0;36m0\u001b[0m\u001b[0;34m)\u001b[0m\u001b[0;34m\u001b[0m\u001b[0;34m\u001b[0m\u001b[0m\n\u001b[1;32m      6\u001b[0m \u001b[0mparam_grid\u001b[0m \u001b[0;34m=\u001b[0m \u001b[0;34m[\u001b[0m\u001b[0;34m[\u001b[0m\u001b[0mv\u001b[0m\u001b[0;34m]\u001b[0m \u001b[0;32mfor\u001b[0m \u001b[0mv\u001b[0m \u001b[0;32min\u001b[0m \u001b[0malpha_scores\u001b[0m\u001b[0;34m]\u001b[0m\u001b[0;34m\u001b[0m\u001b[0;34m\u001b[0m\u001b[0m\n\u001b[0;32m----> 7\u001b[0;31m grid_search = GridSearchCV(\n\u001b[0m\u001b[1;32m      8\u001b[0m     \u001b[0mestimator\u001b[0m \u001b[0;34m=\u001b[0m \u001b[0mcoxlasso\u001b[0m\u001b[0;34m,\u001b[0m\u001b[0;34m\u001b[0m\u001b[0;34m\u001b[0m\u001b[0m\n\u001b[1;32m      9\u001b[0m     \u001b[0mparam_grid\u001b[0m \u001b[0;34m=\u001b[0m \u001b[0;34m{\u001b[0m\u001b[0;34m\"alphas\"\u001b[0m\u001b[0;34m:\u001b[0m\u001b[0mparam_grid\u001b[0m\u001b[0;34m}\u001b[0m\u001b[0;34m,\u001b[0m\u001b[0;34m\u001b[0m\u001b[0;34m\u001b[0m\u001b[0m\n",
            "\u001b[0;32m/tmp/ipykernel_3879672/1309225054.py\u001b[0m in \u001b[0;36m<module>\u001b[0;34m\u001b[0m\n\u001b[1;32m      5\u001b[0m \u001b[0mcv\u001b[0m \u001b[0;34m=\u001b[0m \u001b[0mKFold\u001b[0m\u001b[0;34m(\u001b[0m\u001b[0mn_splits\u001b[0m\u001b[0;34m=\u001b[0m\u001b[0;36m5\u001b[0m\u001b[0;34m,\u001b[0m \u001b[0mshuffle\u001b[0m\u001b[0;34m=\u001b[0m\u001b[0;32mTrue\u001b[0m\u001b[0;34m,\u001b[0m \u001b[0mrandom_state\u001b[0m\u001b[0;34m=\u001b[0m\u001b[0;36m0\u001b[0m\u001b[0;34m)\u001b[0m\u001b[0;34m\u001b[0m\u001b[0;34m\u001b[0m\u001b[0m\n\u001b[1;32m      6\u001b[0m \u001b[0mparam_grid\u001b[0m \u001b[0;34m=\u001b[0m \u001b[0;34m[\u001b[0m\u001b[0;34m[\u001b[0m\u001b[0mv\u001b[0m\u001b[0;34m]\u001b[0m \u001b[0;32mfor\u001b[0m \u001b[0mv\u001b[0m \u001b[0;32min\u001b[0m \u001b[0malpha_scores\u001b[0m\u001b[0;34m]\u001b[0m\u001b[0;34m\u001b[0m\u001b[0;34m\u001b[0m\u001b[0m\n\u001b[0;32m----> 7\u001b[0;31m grid_search = GridSearchCV(\n\u001b[0m\u001b[1;32m      8\u001b[0m     \u001b[0mestimator\u001b[0m \u001b[0;34m=\u001b[0m \u001b[0mcoxlasso\u001b[0m\u001b[0;34m,\u001b[0m\u001b[0;34m\u001b[0m\u001b[0;34m\u001b[0m\u001b[0m\n\u001b[1;32m      9\u001b[0m     \u001b[0mparam_grid\u001b[0m \u001b[0;34m=\u001b[0m \u001b[0;34m{\u001b[0m\u001b[0;34m\"alphas\"\u001b[0m\u001b[0;34m:\u001b[0m\u001b[0mparam_grid\u001b[0m\u001b[0;34m}\u001b[0m\u001b[0;34m,\u001b[0m\u001b[0;34m\u001b[0m\u001b[0;34m\u001b[0m\u001b[0m\n",
            "\u001b[0;32m_pydevd_bundle/pydevd_cython.pyx\u001b[0m in \u001b[0;36m_pydevd_bundle.pydevd_cython.SafeCallWrapper.__call__\u001b[0;34m()\u001b[0m\n",
            "\u001b[0;32m_pydevd_bundle/pydevd_cython.pyx\u001b[0m in \u001b[0;36m_pydevd_bundle.pydevd_cython.PyDBFrame.trace_dispatch\u001b[0;34m()\u001b[0m\n",
            "\u001b[0;32m_pydevd_bundle/pydevd_cython.pyx\u001b[0m in \u001b[0;36m_pydevd_bundle.pydevd_cython.PyDBFrame.trace_dispatch\u001b[0;34m()\u001b[0m\n",
            "\u001b[0;32m_pydevd_bundle/pydevd_cython.pyx\u001b[0m in \u001b[0;36m_pydevd_bundle.pydevd_cython.PyDBFrame.trace_dispatch\u001b[0;34m()\u001b[0m\n",
            "\u001b[0;32m_pydevd_bundle/pydevd_cython.pyx\u001b[0m in \u001b[0;36m_pydevd_bundle.pydevd_cython.PyDBFrame.do_wait_suspend\u001b[0;34m()\u001b[0m\n",
            "\u001b[0;32m~/.local/lib/python3.10/site-packages/debugpy/_vendored/pydevd/pydevd.py\u001b[0m in \u001b[0;36mdo_wait_suspend\u001b[0;34m(self, thread, frame, event, arg, exception_type)\u001b[0m\n\u001b[1;32m   2068\u001b[0m \u001b[0;34m\u001b[0m\u001b[0m\n\u001b[1;32m   2069\u001b[0m             \u001b[0;32mwith\u001b[0m \u001b[0mself\u001b[0m\u001b[0;34m.\u001b[0m\u001b[0m_threads_suspended_single_notification\u001b[0m\u001b[0;34m.\u001b[0m\u001b[0mnotify_thread_suspended\u001b[0m\u001b[0;34m(\u001b[0m\u001b[0mthread_id\u001b[0m\u001b[0;34m,\u001b[0m \u001b[0mthread\u001b[0m\u001b[0;34m,\u001b[0m \u001b[0mstop_reason\u001b[0m\u001b[0;34m)\u001b[0m\u001b[0;34m:\u001b[0m\u001b[0;34m\u001b[0m\u001b[0;34m\u001b[0m\u001b[0m\n\u001b[0;32m-> 2070\u001b[0;31m                 \u001b[0mkeep_suspended\u001b[0m \u001b[0;34m=\u001b[0m \u001b[0mself\u001b[0m\u001b[0;34m.\u001b[0m\u001b[0m_do_wait_suspend\u001b[0m\u001b[0;34m(\u001b[0m\u001b[0mthread\u001b[0m\u001b[0;34m,\u001b[0m \u001b[0mframe\u001b[0m\u001b[0;34m,\u001b[0m \u001b[0mevent\u001b[0m\u001b[0;34m,\u001b[0m \u001b[0marg\u001b[0m\u001b[0;34m,\u001b[0m \u001b[0msuspend_type\u001b[0m\u001b[0;34m,\u001b[0m \u001b[0mfrom_this_thread\u001b[0m\u001b[0;34m,\u001b[0m \u001b[0mframes_tracker\u001b[0m\u001b[0;34m)\u001b[0m\u001b[0;34m\u001b[0m\u001b[0;34m\u001b[0m\u001b[0m\n\u001b[0m\u001b[1;32m   2071\u001b[0m \u001b[0;34m\u001b[0m\u001b[0m\n\u001b[1;32m   2072\u001b[0m         \u001b[0mframes_list\u001b[0m \u001b[0;34m=\u001b[0m \u001b[0;32mNone\u001b[0m\u001b[0;34m\u001b[0m\u001b[0;34m\u001b[0m\u001b[0m\n",
            "\u001b[0;32m~/.local/lib/python3.10/site-packages/debugpy/_vendored/pydevd/pydevd.py\u001b[0m in \u001b[0;36m_do_wait_suspend\u001b[0;34m(self, thread, frame, event, arg, suspend_type, from_this_thread, frames_tracker)\u001b[0m\n\u001b[1;32m   2104\u001b[0m \u001b[0;34m\u001b[0m\u001b[0m\n\u001b[1;32m   2105\u001b[0m             \u001b[0mself\u001b[0m\u001b[0;34m.\u001b[0m\u001b[0mprocess_internal_commands\u001b[0m\u001b[0;34m(\u001b[0m\u001b[0;34m)\u001b[0m\u001b[0;34m\u001b[0m\u001b[0;34m\u001b[0m\u001b[0m\n\u001b[0;32m-> 2106\u001b[0;31m             \u001b[0mtime\u001b[0m\u001b[0;34m.\u001b[0m\u001b[0msleep\u001b[0m\u001b[0;34m(\u001b[0m\u001b[0;36m0.01\u001b[0m\u001b[0;34m)\u001b[0m\u001b[0;34m\u001b[0m\u001b[0;34m\u001b[0m\u001b[0m\n\u001b[0m\u001b[1;32m   2107\u001b[0m \u001b[0;34m\u001b[0m\u001b[0m\n\u001b[1;32m   2108\u001b[0m         \u001b[0mself\u001b[0m\u001b[0;34m.\u001b[0m\u001b[0mcancel_async_evaluation\u001b[0m\u001b[0;34m(\u001b[0m\u001b[0mget_current_thread_id\u001b[0m\u001b[0;34m(\u001b[0m\u001b[0mthread\u001b[0m\u001b[0;34m)\u001b[0m\u001b[0;34m,\u001b[0m \u001b[0mstr\u001b[0m\u001b[0;34m(\u001b[0m\u001b[0mid\u001b[0m\u001b[0;34m(\u001b[0m\u001b[0mframe\u001b[0m\u001b[0;34m)\u001b[0m\u001b[0;34m)\u001b[0m\u001b[0;34m)\u001b[0m\u001b[0;34m\u001b[0m\u001b[0;34m\u001b[0m\u001b[0m\n",
            "\u001b[0;31mKeyboardInterrupt\u001b[0m: "
          ]
        }
      ],
      "source": [
        "from sklearn.model_selection import GridSearchCV\n",
        "from sklearn.pipeline import make_pipeline\n",
        "pipeline = make_pipeline(CoxnetSurvivalAnalysis(l1_ratio=1.0, fit_baseline_model= True))\n",
        "coxlasso = CoxnetSurvivalAnalysis(l1_ratio=1.0, fit_baseline_model= True)\n",
        "cv = KFold(n_splits=5, shuffle=True, random_state=0)\n",
        "param_grid = [[v] for v in alpha_scores]\n",
        "grid_search = GridSearchCV(\n",
        "    estimator = coxlasso,\n",
        "    param_grid = {\"alphas\":param_grid}, \n",
        "    cv = 5,\n",
        "    scoring = custom_scorer)\n",
        "\n",
        "\n",
        "grid_search.fit(X_train,y_train)\n"
      ]
    },
    {
      "cell_type": "code",
      "execution_count": 89,
      "metadata": {},
      "outputs": [
        {
          "name": "stdout",
          "output_type": "stream",
          "text": [
            "Final LASSO MAE on Full Train and Test Set: 1216.4844884388524\n"
          ]
        },
        {
          "name": "stderr",
          "output_type": "stream",
          "text": [
            "/tmp/ipykernel_2933064/292684294.py:2: UserWarning: all coefficients are zero, consider decreasing alpha.\n",
            "  model.fit(X_tr, y_tr)\n"
          ]
        }
      ],
      "source": [
        "full_mae_lasso = train_full_cox(best_cox_lasso, X_train, y_train, X_test, y_test)\n",
        "print(f\"Final LASSO MAE on Full Train and Test Set: {full_mae_lasso}\")\n"
      ]
    },
    {
      "cell_type": "markdown",
      "metadata": {},
      "source": [
        "This value with just Lasso regression seems to be much lower than that of just ridge regression. However, the validation MAE is higher. This model generalizes better. Next, we will use cv to test the ElasticNet and find the optimal balance between L1 and L2 regularization."
      ]
    },
    {
      "cell_type": "markdown",
      "metadata": {},
      "source": [
        "### ElasticNet Cox Ph - Finding the best L1:L2 Ratio"
      ]
    },
    {
      "cell_type": "code",
      "execution_count": 63,
      "metadata": {},
      "outputs": [],
      "source": [
        "#k-fold cv to find the best l1:l2 ratio\n",
        "def find_best_l1r(ratio_vals, k_folds, X, y, rs = 0): \n",
        "    avg_maes = []\n",
        "    best_r = None\n",
        "    min_avg_mae = float('inf')\n",
        "    kf = KFold(n_splits = k_folds, shuffle = True, random_state = rs)\n",
        "\n",
        "    \n",
        "    for r in ratio_vals: \n",
        "        mae_scores = [] \n",
        "        model = CoxnetSurvivalAnalysis(l1_ratio= r, alpha_min_ratio = 0.01, fit_baseline_model= True)\n",
        "        for train_index, test_index in kf.split(X):\n",
        "            X_train, X_test = X.iloc[train_index], X.iloc[test_index]\n",
        "            y_train, y_test = y[train_index], y[test_index]\n",
        "            \n",
        "            model.fit(X_train, y_train)\n",
        "            \n",
        "            survival_curves = model.predict_survival_function(X_test)\n",
        "            \n",
        "            eval = ScikitSurvivalEvaluator(survival_curves, y_test['days_alive'], \n",
        "                                    y_test['survival_status'], \n",
        "                                    y_train['days_alive'], \n",
        "                                    y_train['survival_status'], \n",
        "                                    predict_time_method=\"Median\")\n",
        "            mae = eval.mae(method = \"Pseudo_obs\", weighted = False, log_scale = False)\n",
        "            mae_scores.append(mae)\n",
        "            \n",
        "        avg_mae = np.mean(mae_scores)\n",
        "        avg_maes.append(avg_mae)\n",
        "\n",
        "        if avg_mae < min_avg_mae:\n",
        "            min_avg_mae = avg_mae\n",
        "            best_r = r\n",
        "\n",
        "    return best_r, min_avg_mae, avg_maes"
      ]
    },
    {
      "cell_type": "code",
      "execution_count": 64,
      "metadata": {},
      "outputs": [
        {
          "name": "stdout",
          "output_type": "stream",
          "text": [
            "Best L1 Ratio: 0.1716326530612245\n",
            "Validation MAE of Best r: 382.2513423441968\n"
          ]
        }
      ],
      "source": [
        "l1_ratios = np.linspace(0.01,1,50)\n",
        "best_r, min_avg_mae_r, avg_r_mae = find_best_l1r(l1_ratios, 5, X_train, y_train)\n",
        "\n",
        "print(f\"Best L1 Ratio: {best_r}\")\n",
        "print(f\"Validation MAE of Best r: {min_avg_mae_r}\")"
      ]
    },
    {
      "cell_type": "code",
      "execution_count": 65,
      "metadata": {},
      "outputs": [
        {
          "data": {
            "image/png": "[encoded data removed]",
            "text/plain": [
              "<Figure size 720x432 with 1 Axes>"
            ]
          },
          "metadata": {
            "needs_background": "light"
          },
          "output_type": "display_data"
        }
      ],
      "source": [
        "plt.figure(figsize=(10,6))\n",
        "plt.plot(l1_ratios, avg_r_mae)\n",
        "plt.xlabel(\"L1 Ratio Values\")\n",
        "plt.ylabel(\"Mean Absolute Error (Log)\")\n",
        "plt.title(\"Cross Validated L1 Ratio Values vs. Log Scale Mean Absolute Error\")\n",
        "plt.grid()\n",
        "plt.show()"
      ]
    },
    {
      "cell_type": "code",
      "execution_count": 66,
      "metadata": {},
      "outputs": [
        {
          "name": "stdout",
          "output_type": "stream",
          "text": [
            "Final MAE of ElasticNet Regularized Cox PH Model: 1043.9722393162447\n"
          ]
        }
      ],
      "source": [
        "best_elastinet_cox = CoxnetSurvivalAnalysis(l1_ratio=best_r, alpha_min_ratio = 0.01, fit_baseline_model = True)\n",
        "final_elasti_mae = train_full_cox(best_elastinet_cox, X_train, y_train, X_test, y_test)\n",
        "print(f\"Final MAE of ElasticNet Regularized Cox PH Model: {final_elasti_mae}\")"
      ]
    },
    {
      "cell_type": "markdown",
      "metadata": {},
      "source": [
        "Overall, the different cox models yielded ok results, with the test log MAE landing around 1.05 - 1.08, which performed better than the original model with no regularization"
      ]
    },
    {
      "cell_type": "markdown",
      "metadata": {},
      "source": [
        "## Accelerated Failure Time Model"
      ]
    },
    {
      "cell_type": "code",
      "execution_count": null,
      "metadata": {},
      "outputs": [],
      "source": []
    },
    {
      "cell_type": "markdown",
      "metadata": {},
      "source": [
        "## SVM"
      ]
    },
    {
      "cell_type": "markdown",
      "metadata": {},
      "source": [
        "The procedure for SVM will be the same as for the Cox Proportional Hazards Model. We will train a model then utilize GridSearchCV with MAE scoring to evaluate the models found. Let's use the regression setting on sksurv's SVM model (which predicts the event time of the input) and then calculate our own log mae from the predictions. We will take log(predictions) - log(ground truth)"
      ]
    },
    {
      "cell_type": "code",
      "execution_count": 31,
      "metadata": {},
      "outputs": [],
      "source": [
        "def calculate_mae(y_true, y_pred, log_transform=False):\n",
        "    if log_transform:\n",
        "        y_true = np.log(y_true)\n",
        "        y_pred = np.log(y_pred)\n",
        "\n",
        "    absolute_errors = np.abs(y_true - y_pred)\n",
        "    mae = np.mean(absolute_errors)\n",
        "    return mae"
      ]
    },
    {
      "cell_type": "code",
      "execution_count": null,
      "metadata": {},
      "outputs": [],
      "source": [
        "from sksurv.svm import FastSurvivalSVM\n",
        "def train_svm(X_tr, X_t, y_tr, y_t, alpha, rs = 0): \n",
        "    model = FastSurvivalSVM(max_iter = 10000, tol = 1e-6, random_State = rs, rank_ratio = 0.0, alpha = alpha)"
      ]
    },
    {
      "cell_type": "code",
      "execution_count": null,
      "metadata": {},
      "outputs": [],
      "source": [
        "def find_best_alpha(): \n",
        "    "
      ]
    },
    {
      "cell_type": "code",
      "execution_count": 38,
      "metadata": {},
      "outputs": [
        {
          "name": "stdout",
          "output_type": "stream",
          "text": [
            "[1424.1526646   203.27066452  339.17025622  617.68009813 2198.92892772]\n",
            "[(False, 2575.) ( True,  575.) ( True,  550.) (False, 2758.)\n",
            " ( True, 1059.)]\n",
            "853.815713528997\n"
          ]
        }
      ],
      "source": [
        "from sksurv.svm import FastSurvivalSVM\n",
        "\n",
        "svm_model = FastSurvivalSVM(max_iter = 10000, tol = 1e-5, random_state = 0, rank_ratio = 0.0, fit_intercept = True)\n",
        "\n",
        "svm_model.fit(X_train, y_train)\n",
        "predictions = svm_model.predict(X_test)\n",
        "print(predictions[0:5])\n",
        "print(y_test[0:5])\n",
        "\n",
        "\n",
        "print(calculate_mae(predictions, y_test['days_alive'], log_transform = False))\n"
      ]
    },
    {
      "cell_type": "markdown",
      "metadata": {},
      "source": [
        "## Random Survival Forest"
      ]
    },
    {
      "cell_type": "markdown",
      "metadata": {},
      "source": [
        "## MTLR"
      ]
    },
    {
      "cell_type": "markdown",
      "metadata": {},
      "source": []
    }
  ],
  "metadata": {
    "colab": {
      "authorship_tag": "ABX9TyNsrYBOz+A6GqrpYgD5znnn",
      "include_colab_link": true,
      "provenance": []
    },
    "kernelspec": {
      "display_name": "Python 3",
      "name": "python3"
    },
    "language_info": {
      "codemirror_mode": {
        "name": "ipython",
        "version": 3
      },
      "file_extension": ".py",
      "mimetype": "text/x-python",
      "name": "python",
      "nbconvert_exporter": "python",
      "pygments_lexer": "ipython3",
      "version": "3.10.4"
    }
  },
  "nbformat": 4,
  "nbformat_minor": 0
}
