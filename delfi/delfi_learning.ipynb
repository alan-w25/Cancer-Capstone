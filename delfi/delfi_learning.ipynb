{
  "cells": [
    {
      "cell_type": "markdown",
      "metadata": {
        "colab_type": "text",
        "id": "view-in-github"
      },
      "source": [
        "<a href=\"https://colab.research.google.com/github/alan-w25/Cancer-Capstone/blob/main/delfi/delfi_learning.ipynb\" target=\"_parent\"><img src=\"https://colab.research.google.com/assets/colab-badge.svg\" alt=\"Open In Colab\"/></a>"
      ]
    },
    {
      "cell_type": "markdown",
      "metadata": {
        "id": "Tx9r1Wql4cBE"
      },
      "source": [
        "# Introduction"
      ]
    },
    {
      "cell_type": "markdown",
      "metadata": {
        "id": "A1gzD7yS4fWl"
      },
      "source": [
        "We will begin to test many models to predict the days alive variable. Procedure we will follow:\n",
        "1. Choose a model\n",
        "1. Choose Objective function\n",
        "1. Choose learning algorithm\n",
        "1. Add in regularization, adjust hyperparameters, etc\n",
        "\n",
        "First we will just test the models with all the features, and do some feature selection if need be for statistical methods. It seems that for clinical relevance, we should indeed keep all the samples and should not drop any features of interest"
      ]
    },
    {
      "cell_type": "markdown",
      "metadata": {
        "id": "8OECXyPmvTzw"
      },
      "source": [
        "This document will comprise of all the testing of learning models for the delfi_score data. We are aiming to predict the days_alive variable with the survival_status as our event occured indicator. There are several ML methods in literature that have good results and we will use those and other methods to obtain the best results with our data. <br>\n",
        "\n",
        "Before applying any models, there are two considerations that we can make to transform our data. First, we can uncensor the data, if the number of censored samples is not too great. This method could cause bias in terms of traditional methods <br>\n",
        "\n",
        "The models that we will be testing have several categories:\n",
        "1. Linear Models\n",
        "1. Tree Ensemble Methods\n",
        "1. Neural Networks\n",
        "1. Deep Methods\n",
        "\n"
      ]
    },
    {
      "cell_type": "markdown",
      "metadata": {
        "id": "8jDT0CTXeyAt"
      },
      "source": [
        "The following procedure will be what we will follow to determine the 'time to death', or the 'days_alive' variable. We will use the models to model the ISDs (individual survival distribution) of the samples and then from there we will use the median time as the survival time. K-fold cross validation will be used to validate the models"
      ]
    },
    {
      "cell_type": "markdown",
      "metadata": {},
      "source": [
        "We will also use two types of metrics to evaluate the models that we develop: the C-index (concordance index) of the predictions on the test set and also the MAE (Mean Absolute Error on the test set)"
      ]
    },
    {
      "cell_type": "markdown",
      "metadata": {},
      "source": [
        "Want to use the kaplan-meier curve and the evaluation of those metrics to act as our baseline"
      ]
    },
    {
      "cell_type": "code",
      "execution_count": 273,
      "metadata": {
        "colab": {
          "base_uri": "https://localhost:8080/"
        },
        "id": "eUzlsWHOt2eY",
        "outputId": "d84520f7-18e2-4f71-abe9-b1302c0f4445"
      },
      "outputs": [
        {
          "name": "stdout",
          "output_type": "stream",
          "text": [
            "Defaulting to user installation because normal site-packages is not writeable\n",
            "Requirement already satisfied: scikit-survival in /common/home/alw228/.local/lib/python3.10/site-packages (0.22.2)\n",
            "Requirement already satisfied: osqp!=0.6.0,!=0.6.1 in /common/home/alw228/.local/lib/python3.10/site-packages (from scikit-survival) (0.6.5)\n",
            "Requirement already satisfied: ecos in /common/home/alw228/.local/lib/python3.10/site-packages (from scikit-survival) (2.0.13)\n",
            "Requirement already satisfied: numexpr in /common/home/alw228/.local/lib/python3.10/site-packages (from scikit-survival) (2.9.0)\n",
            "Requirement already satisfied: scipy>=1.3.2 in /common/home/alw228/.local/lib/python3.10/site-packages (from scikit-survival) (1.11.4)\n",
            "Requirement already satisfied: joblib in /common/home/alw228/.local/lib/python3.10/site-packages (from scikit-survival) (1.3.2)\n",
            "Requirement already satisfied: numpy in /common/home/alw228/.local/lib/python3.10/site-packages (from scikit-survival) (1.26.4)\n",
            "Requirement already satisfied: scikit-learn<1.4,>=1.3.0 in /common/home/alw228/.local/lib/python3.10/site-packages (from scikit-survival) (1.3.2)\n",
            "Requirement already satisfied: pandas>=1.0.5 in /common/home/alw228/.local/lib/python3.10/site-packages (from scikit-survival) (2.2.1)\n",
            "Requirement already satisfied: qdldl in /common/home/alw228/.local/lib/python3.10/site-packages (from osqp!=0.6.0,!=0.6.1->scikit-survival) (0.1.7.post0)\n",
            "Requirement already satisfied: python-dateutil>=2.8.2 in /common/home/alw228/.local/lib/python3.10/site-packages (from pandas>=1.0.5->scikit-survival) (2.9.0.post0)\n",
            "Requirement already satisfied: pytz>=2020.1 in /usr/lib/python3/dist-packages (from pandas>=1.0.5->scikit-survival) (2022.1)\n",
            "Requirement already satisfied: tzdata>=2022.7 in /common/home/alw228/.local/lib/python3.10/site-packages (from pandas>=1.0.5->scikit-survival) (2024.1)\n",
            "Requirement already satisfied: threadpoolctl>=2.0.0 in /common/home/alw228/.local/lib/python3.10/site-packages (from scikit-learn<1.4,>=1.3.0->scikit-survival) (3.4.0)\n",
            "Requirement already satisfied: six>=1.5 in /usr/lib/python3/dist-packages (from python-dateutil>=2.8.2->pandas>=1.0.5->scikit-survival) (1.16.0)\n"
          ]
        }
      ],
      "source": [
        "!pip install scikit-survival"
      ]
    },
    {
      "cell_type": "markdown",
      "metadata": {
        "id": "PRKPNccF9Wcd"
      },
      "source": [
        "# Setting up the data"
      ]
    },
    {
      "cell_type": "code",
      "execution_count": 274,
      "metadata": {
        "id": "g12yX5Tx9cyZ"
      },
      "outputs": [],
      "source": [
        "import pandas as pd\n",
        "import numpy as np\n",
        "import sklearn as skl\n",
        "import matplotlib.pyplot as plt\n"
      ]
    },
    {
      "cell_type": "code",
      "execution_count": 275,
      "metadata": {
        "colab": {
          "base_uri": "https://localhost:8080/",
          "height": 244
        },
        "id": "J6SjesTR9YtL",
        "outputId": "cdebe23c-2162-4589-f223-3109c960473f"
      },
      "outputs": [
        {
          "data": {
            "text/html": [
              "<div>\n",
              "<style scoped>\n",
              "    .dataframe tbody tr th:only-of-type {\n",
              "        vertical-align: middle;\n",
              "    }\n",
              "\n",
              "    .dataframe tbody tr th {\n",
              "        vertical-align: top;\n",
              "    }\n",
              "\n",
              "    .dataframe thead th {\n",
              "        text-align: right;\n",
              "    }\n",
              "</style>\n",
              "<table border=\"1\" class=\"dataframe\">\n",
              "  <thead>\n",
              "    <tr style=\"text-align: right;\">\n",
              "      <th></th>\n",
              "      <th>survival_status</th>\n",
              "      <th>days_alive</th>\n",
              "      <th>delfi_score</th>\n",
              "      <th>stage_I</th>\n",
              "      <th>stage_II</th>\n",
              "      <th>stage_III</th>\n",
              "      <th>stage_IV</th>\n",
              "      <th>treatment_Chemotherapy/Radiation with curative intent</th>\n",
              "      <th>treatment_No treatment</th>\n",
              "      <th>treatment_Palliative Chemotherapy/Radiation</th>\n",
              "      <th>treatment_Surgery</th>\n",
              "      <th>treatment_Surgery+adjuvant treatment</th>\n",
              "    </tr>\n",
              "  </thead>\n",
              "  <tbody>\n",
              "    <tr>\n",
              "      <th>0</th>\n",
              "      <td>1</td>\n",
              "      <td>1059</td>\n",
              "      <td>0.099037</td>\n",
              "      <td>1</td>\n",
              "      <td>0</td>\n",
              "      <td>0</td>\n",
              "      <td>0</td>\n",
              "      <td>0</td>\n",
              "      <td>0</td>\n",
              "      <td>0</td>\n",
              "      <td>1</td>\n",
              "      <td>0</td>\n",
              "    </tr>\n",
              "    <tr>\n",
              "      <th>1</th>\n",
              "      <td>1</td>\n",
              "      <td>1640</td>\n",
              "      <td>0.533453</td>\n",
              "      <td>1</td>\n",
              "      <td>0</td>\n",
              "      <td>0</td>\n",
              "      <td>0</td>\n",
              "      <td>0</td>\n",
              "      <td>0</td>\n",
              "      <td>0</td>\n",
              "      <td>1</td>\n",
              "      <td>0</td>\n",
              "    </tr>\n",
              "    <tr>\n",
              "      <th>2</th>\n",
              "      <td>1</td>\n",
              "      <td>101</td>\n",
              "      <td>0.822662</td>\n",
              "      <td>0</td>\n",
              "      <td>0</td>\n",
              "      <td>0</td>\n",
              "      <td>1</td>\n",
              "      <td>0</td>\n",
              "      <td>0</td>\n",
              "      <td>1</td>\n",
              "      <td>0</td>\n",
              "      <td>0</td>\n",
              "    </tr>\n",
              "    <tr>\n",
              "      <th>3</th>\n",
              "      <td>1</td>\n",
              "      <td>1228</td>\n",
              "      <td>0.238950</td>\n",
              "      <td>0</td>\n",
              "      <td>0</td>\n",
              "      <td>0</td>\n",
              "      <td>1</td>\n",
              "      <td>0</td>\n",
              "      <td>0</td>\n",
              "      <td>1</td>\n",
              "      <td>0</td>\n",
              "      <td>0</td>\n",
              "    </tr>\n",
              "    <tr>\n",
              "      <th>4</th>\n",
              "      <td>1</td>\n",
              "      <td>754</td>\n",
              "      <td>0.199820</td>\n",
              "      <td>0</td>\n",
              "      <td>0</td>\n",
              "      <td>1</td>\n",
              "      <td>0</td>\n",
              "      <td>1</td>\n",
              "      <td>0</td>\n",
              "      <td>0</td>\n",
              "      <td>0</td>\n",
              "      <td>0</td>\n",
              "    </tr>\n",
              "  </tbody>\n",
              "</table>\n",
              "</div>"
            ],
            "text/plain": [
              "   survival_status  days_alive  delfi_score  stage_I  stage_II  stage_III  \\\n",
              "0                1        1059     0.099037        1         0          0   \n",
              "1                1        1640     0.533453        1         0          0   \n",
              "2                1         101     0.822662        0         0          0   \n",
              "3                1        1228     0.238950        0         0          0   \n",
              "4                1         754     0.199820        0         0          1   \n",
              "\n",
              "   stage_IV  treatment_Chemotherapy/Radiation with curative intent  \\\n",
              "0         0                                                  0       \n",
              "1         0                                                  0       \n",
              "2         1                                                  0       \n",
              "3         1                                                  0       \n",
              "4         0                                                  1       \n",
              "\n",
              "   treatment_No treatment  treatment_Palliative Chemotherapy/Radiation  \\\n",
              "0                       0                                            0   \n",
              "1                       0                                            0   \n",
              "2                       0                                            1   \n",
              "3                       0                                            1   \n",
              "4                       0                                            0   \n",
              "\n",
              "   treatment_Surgery  treatment_Surgery+adjuvant treatment  \n",
              "0                  1                                     0  \n",
              "1                  1                                     0  \n",
              "2                  0                                     0  \n",
              "3                  0                                     0  \n",
              "4                  0                                     0  "
            ]
          },
          "execution_count": 275,
          "metadata": {},
          "output_type": "execute_result"
        }
      ],
      "source": [
        "data = pd.read_csv('data_Lucas_encoded.csv', index_col=[0])\n",
        "data.head()"
      ]
    },
    {
      "cell_type": "code",
      "execution_count": 276,
      "metadata": {
        "colab": {
          "base_uri": "https://localhost:8080/",
          "height": 244
        },
        "id": "B-uokWN87zpj",
        "outputId": "356a1a18-3620-4e12-c5dd-56b3977ba904"
      },
      "outputs": [
        {
          "data": {
            "text/html": [
              "<div>\n",
              "<style scoped>\n",
              "    .dataframe tbody tr th:only-of-type {\n",
              "        vertical-align: middle;\n",
              "    }\n",
              "\n",
              "    .dataframe tbody tr th {\n",
              "        vertical-align: top;\n",
              "    }\n",
              "\n",
              "    .dataframe thead th {\n",
              "        text-align: right;\n",
              "    }\n",
              "</style>\n",
              "<table border=\"1\" class=\"dataframe\">\n",
              "  <thead>\n",
              "    <tr style=\"text-align: right;\">\n",
              "      <th></th>\n",
              "      <th>survival_status</th>\n",
              "      <th>days_alive</th>\n",
              "      <th>delfi_score</th>\n",
              "      <th>stage_I</th>\n",
              "      <th>stage_II</th>\n",
              "      <th>stage_III</th>\n",
              "      <th>stage_IV</th>\n",
              "      <th>treatment_Chemotherapy/Radiation with curative intent</th>\n",
              "      <th>treatment_No treatment</th>\n",
              "      <th>treatment_Palliative Chemotherapy/Radiation</th>\n",
              "      <th>treatment_Surgery</th>\n",
              "      <th>treatment_Surgery+adjuvant treatment</th>\n",
              "    </tr>\n",
              "  </thead>\n",
              "  <tbody>\n",
              "    <tr>\n",
              "      <th>0</th>\n",
              "      <td>True</td>\n",
              "      <td>1059</td>\n",
              "      <td>0.099037</td>\n",
              "      <td>1</td>\n",
              "      <td>0</td>\n",
              "      <td>0</td>\n",
              "      <td>0</td>\n",
              "      <td>0</td>\n",
              "      <td>0</td>\n",
              "      <td>0</td>\n",
              "      <td>1</td>\n",
              "      <td>0</td>\n",
              "    </tr>\n",
              "    <tr>\n",
              "      <th>1</th>\n",
              "      <td>True</td>\n",
              "      <td>1640</td>\n",
              "      <td>0.533453</td>\n",
              "      <td>1</td>\n",
              "      <td>0</td>\n",
              "      <td>0</td>\n",
              "      <td>0</td>\n",
              "      <td>0</td>\n",
              "      <td>0</td>\n",
              "      <td>0</td>\n",
              "      <td>1</td>\n",
              "      <td>0</td>\n",
              "    </tr>\n",
              "    <tr>\n",
              "      <th>2</th>\n",
              "      <td>True</td>\n",
              "      <td>101</td>\n",
              "      <td>0.822662</td>\n",
              "      <td>0</td>\n",
              "      <td>0</td>\n",
              "      <td>0</td>\n",
              "      <td>1</td>\n",
              "      <td>0</td>\n",
              "      <td>0</td>\n",
              "      <td>1</td>\n",
              "      <td>0</td>\n",
              "      <td>0</td>\n",
              "    </tr>\n",
              "    <tr>\n",
              "      <th>3</th>\n",
              "      <td>True</td>\n",
              "      <td>1228</td>\n",
              "      <td>0.238950</td>\n",
              "      <td>0</td>\n",
              "      <td>0</td>\n",
              "      <td>0</td>\n",
              "      <td>1</td>\n",
              "      <td>0</td>\n",
              "      <td>0</td>\n",
              "      <td>1</td>\n",
              "      <td>0</td>\n",
              "      <td>0</td>\n",
              "    </tr>\n",
              "    <tr>\n",
              "      <th>4</th>\n",
              "      <td>True</td>\n",
              "      <td>754</td>\n",
              "      <td>0.199820</td>\n",
              "      <td>0</td>\n",
              "      <td>0</td>\n",
              "      <td>1</td>\n",
              "      <td>0</td>\n",
              "      <td>1</td>\n",
              "      <td>0</td>\n",
              "      <td>0</td>\n",
              "      <td>0</td>\n",
              "      <td>0</td>\n",
              "    </tr>\n",
              "  </tbody>\n",
              "</table>\n",
              "</div>"
            ],
            "text/plain": [
              "   survival_status  days_alive  delfi_score  stage_I  stage_II  stage_III  \\\n",
              "0             True        1059     0.099037        1         0          0   \n",
              "1             True        1640     0.533453        1         0          0   \n",
              "2             True         101     0.822662        0         0          0   \n",
              "3             True        1228     0.238950        0         0          0   \n",
              "4             True         754     0.199820        0         0          1   \n",
              "\n",
              "   stage_IV  treatment_Chemotherapy/Radiation with curative intent  \\\n",
              "0         0                                                  0       \n",
              "1         0                                                  0       \n",
              "2         1                                                  0       \n",
              "3         1                                                  0       \n",
              "4         0                                                  1       \n",
              "\n",
              "   treatment_No treatment  treatment_Palliative Chemotherapy/Radiation  \\\n",
              "0                       0                                            0   \n",
              "1                       0                                            0   \n",
              "2                       0                                            1   \n",
              "3                       0                                            1   \n",
              "4                       0                                            0   \n",
              "\n",
              "   treatment_Surgery  treatment_Surgery+adjuvant treatment  \n",
              "0                  1                                     0  \n",
              "1                  1                                     0  \n",
              "2                  0                                     0  \n",
              "3                  0                                     0  \n",
              "4                  0                                     0  "
            ]
          },
          "execution_count": 276,
          "metadata": {},
          "output_type": "execute_result"
        }
      ],
      "source": [
        "data['survival_status'] = data['survival_status'].astype('bool')\n",
        "data.head()"
      ]
    },
    {
      "cell_type": "code",
      "execution_count": 277,
      "metadata": {},
      "outputs": [
        {
          "data": {
            "text/plain": [
              "survival_status\n",
              "True     78\n",
              "False    17\n",
              "Name: count, dtype: int64"
            ]
          },
          "execution_count": 277,
          "metadata": {},
          "output_type": "execute_result"
        }
      ],
      "source": [
        "data['survival_status'].value_counts()"
      ]
    },
    {
      "cell_type": "markdown",
      "metadata": {},
      "source": [
        "We have 17 alive and 78 dead."
      ]
    },
    {
      "cell_type": "code",
      "execution_count": 278,
      "metadata": {
        "colab": {
          "base_uri": "https://localhost:8080/"
        },
        "id": "q0rRpJLu4ZSr",
        "outputId": "137f5ce5-c33d-4938-eba0-c908327a2dbb"
      },
      "outputs": [
        {
          "name": "stdout",
          "output_type": "stream",
          "text": [
            "X Matrix: \n",
            "   delfi_score  stage_I  stage_II  stage_III  stage_IV  \\\n",
            "0     0.099037        1         0          0         0   \n",
            "1     0.533453        1         0          0         0   \n",
            "2     0.822662        0         0          0         1   \n",
            "3     0.238950        0         0          0         1   \n",
            "4     0.199820        0         0          1         0   \n",
            "\n",
            "   treatment_Chemotherapy/Radiation with curative intent  \\\n",
            "0                                                  0       \n",
            "1                                                  0       \n",
            "2                                                  0       \n",
            "3                                                  0       \n",
            "4                                                  1       \n",
            "\n",
            "   treatment_No treatment  treatment_Palliative Chemotherapy/Radiation  \\\n",
            "0                       0                                            0   \n",
            "1                       0                                            0   \n",
            "2                       0                                            1   \n",
            "3                       0                                            1   \n",
            "4                       0                                            0   \n",
            "\n",
            "   treatment_Surgery  treatment_Surgery+adjuvant treatment  \n",
            "0                  1                                     0  \n",
            "1                  1                                     0  \n",
            "2                  0                                     0  \n",
            "3                  0                                     0  \n",
            "4                  0                                     0  \n",
            "\n",
            "Y Matrix: \n",
            "[( True, 1640.) ( True,  101.) ( True, 1228.) ( True,  754.)]\n"
          ]
        }
      ],
      "source": [
        "Y = data[['survival_status', 'days_alive']]\n",
        "Y = np.array(list(zip(data['survival_status'], data['days_alive'])),\n",
        "             dtype = [('survival_status', 'bool'), ('days_alive', 'float')])\n",
        "X = data.drop(['survival_status', 'days_alive', ], axis = 1)\n",
        "print(\"X Matrix: \")\n",
        "print(X.head())\n",
        "print()\n",
        "\n",
        "print(\"Y Matrix: \")\n",
        "print(Y[1:5])\n"
      ]
    },
    {
      "cell_type": "markdown",
      "metadata": {},
      "source": [
        "Want to split with equal distributions of censored and uncensored individuals"
      ]
    },
    {
      "cell_type": "code",
      "execution_count": 279,
      "metadata": {
        "id": "fDfUnSaCuyfG"
      },
      "outputs": [],
      "source": [
        "from sklearn.model_selection import train_test_split\n",
        "\n",
        "censored_x = X[Y['survival_status'] == 0]\n",
        "uncensored_x = X[Y['survival_status'] == 1]\n",
        "\n",
        "censored_y = Y[Y['survival_status'] == 0] \n",
        "uncensored_y = Y[Y['survival_status'] == 1] \n",
        "\n",
        "c_train, c_test, c_y_train, c_y_test = train_test_split(censored_x, censored_y, test_size = 0.2, random_state = 42)\n",
        "uc_train, uc_test, uc_y_train, uc_y_test = train_test_split(uncensored_x, uncensored_y, test_size = 0.2, random_state = 42)\n",
        "\n",
        "X_train = pd.concat([c_train, uc_train])\n",
        "X_test = pd.concat([c_test, uc_test])\n",
        "y_train = np.concatenate((c_y_train, uc_y_train), axis = 0)\n",
        "y_test = np.concatenate((c_y_test, uc_y_test), axis = 0)"
      ]
    },
    {
      "cell_type": "code",
      "execution_count": 280,
      "metadata": {
        "colab": {
          "base_uri": "https://localhost:8080/",
          "height": 224
        },
        "id": "rg-fs_AMvFSZ",
        "outputId": "9cc8ec6b-5611-46f3-c1a2-534fe0c70102"
      },
      "outputs": [
        {
          "data": {
            "text/html": [
              "<div>\n",
              "<style scoped>\n",
              "    .dataframe tbody tr th:only-of-type {\n",
              "        vertical-align: middle;\n",
              "    }\n",
              "\n",
              "    .dataframe tbody tr th {\n",
              "        vertical-align: top;\n",
              "    }\n",
              "\n",
              "    .dataframe thead th {\n",
              "        text-align: right;\n",
              "    }\n",
              "</style>\n",
              "<table border=\"1\" class=\"dataframe\">\n",
              "  <thead>\n",
              "    <tr style=\"text-align: right;\">\n",
              "      <th></th>\n",
              "      <th>delfi_score</th>\n",
              "      <th>stage_I</th>\n",
              "      <th>stage_II</th>\n",
              "      <th>stage_III</th>\n",
              "      <th>stage_IV</th>\n",
              "      <th>treatment_Chemotherapy/Radiation with curative intent</th>\n",
              "      <th>treatment_No treatment</th>\n",
              "      <th>treatment_Palliative Chemotherapy/Radiation</th>\n",
              "      <th>treatment_Surgery</th>\n",
              "      <th>treatment_Surgery+adjuvant treatment</th>\n",
              "    </tr>\n",
              "  </thead>\n",
              "  <tbody>\n",
              "    <tr>\n",
              "      <th>30</th>\n",
              "      <td>0.359992</td>\n",
              "      <td>0</td>\n",
              "      <td>0</td>\n",
              "      <td>0</td>\n",
              "      <td>1</td>\n",
              "      <td>1</td>\n",
              "      <td>0</td>\n",
              "      <td>0</td>\n",
              "      <td>0</td>\n",
              "      <td>0</td>\n",
              "    </tr>\n",
              "    <tr>\n",
              "      <th>68</th>\n",
              "      <td>0.999358</td>\n",
              "      <td>0</td>\n",
              "      <td>1</td>\n",
              "      <td>0</td>\n",
              "      <td>0</td>\n",
              "      <td>0</td>\n",
              "      <td>0</td>\n",
              "      <td>0</td>\n",
              "      <td>1</td>\n",
              "      <td>0</td>\n",
              "    </tr>\n",
              "    <tr>\n",
              "      <th>26</th>\n",
              "      <td>0.298852</td>\n",
              "      <td>0</td>\n",
              "      <td>0</td>\n",
              "      <td>1</td>\n",
              "      <td>0</td>\n",
              "      <td>1</td>\n",
              "      <td>0</td>\n",
              "      <td>0</td>\n",
              "      <td>0</td>\n",
              "      <td>0</td>\n",
              "    </tr>\n",
              "    <tr>\n",
              "      <th>55</th>\n",
              "      <td>0.975395</td>\n",
              "      <td>0</td>\n",
              "      <td>0</td>\n",
              "      <td>1</td>\n",
              "      <td>0</td>\n",
              "      <td>0</td>\n",
              "      <td>0</td>\n",
              "      <td>0</td>\n",
              "      <td>0</td>\n",
              "      <td>1</td>\n",
              "    </tr>\n",
              "    <tr>\n",
              "      <th>13</th>\n",
              "      <td>0.097588</td>\n",
              "      <td>1</td>\n",
              "      <td>0</td>\n",
              "      <td>0</td>\n",
              "      <td>0</td>\n",
              "      <td>0</td>\n",
              "      <td>0</td>\n",
              "      <td>0</td>\n",
              "      <td>1</td>\n",
              "      <td>0</td>\n",
              "    </tr>\n",
              "  </tbody>\n",
              "</table>\n",
              "</div>"
            ],
            "text/plain": [
              "    delfi_score  stage_I  stage_II  stage_III  stage_IV  \\\n",
              "30     0.359992        0         0          0         1   \n",
              "68     0.999358        0         1          0         0   \n",
              "26     0.298852        0         0          1         0   \n",
              "55     0.975395        0         0          1         0   \n",
              "13     0.097588        1         0          0         0   \n",
              "\n",
              "    treatment_Chemotherapy/Radiation with curative intent  \\\n",
              "30                                                  1       \n",
              "68                                                  0       \n",
              "26                                                  1       \n",
              "55                                                  0       \n",
              "13                                                  0       \n",
              "\n",
              "    treatment_No treatment  treatment_Palliative Chemotherapy/Radiation  \\\n",
              "30                       0                                            0   \n",
              "68                       0                                            0   \n",
              "26                       0                                            0   \n",
              "55                       0                                            0   \n",
              "13                       0                                            0   \n",
              "\n",
              "    treatment_Surgery  treatment_Surgery+adjuvant treatment  \n",
              "30                  0                                     0  \n",
              "68                  1                                     0  \n",
              "26                  0                                     0  \n",
              "55                  0                                     1  \n",
              "13                  1                                     0  "
            ]
          },
          "execution_count": 280,
          "metadata": {},
          "output_type": "execute_result"
        }
      ],
      "source": [
        "X_train[:5]"
      ]
    },
    {
      "cell_type": "code",
      "execution_count": 281,
      "metadata": {
        "colab": {
          "base_uri": "https://localhost:8080/",
          "height": 224
        },
        "id": "B8Ux1QgLvHVS",
        "outputId": "7dc9c02a-87a1-4c51-b9f2-ea0fab59815d"
      },
      "outputs": [
        {
          "data": {
            "text/html": [
              "<div>\n",
              "<style scoped>\n",
              "    .dataframe tbody tr th:only-of-type {\n",
              "        vertical-align: middle;\n",
              "    }\n",
              "\n",
              "    .dataframe tbody tr th {\n",
              "        vertical-align: top;\n",
              "    }\n",
              "\n",
              "    .dataframe thead th {\n",
              "        text-align: right;\n",
              "    }\n",
              "</style>\n",
              "<table border=\"1\" class=\"dataframe\">\n",
              "  <thead>\n",
              "    <tr style=\"text-align: right;\">\n",
              "      <th></th>\n",
              "      <th>delfi_score</th>\n",
              "      <th>stage_I</th>\n",
              "      <th>stage_II</th>\n",
              "      <th>stage_III</th>\n",
              "      <th>stage_IV</th>\n",
              "      <th>treatment_Chemotherapy/Radiation with curative intent</th>\n",
              "      <th>treatment_No treatment</th>\n",
              "      <th>treatment_Palliative Chemotherapy/Radiation</th>\n",
              "      <th>treatment_Surgery</th>\n",
              "      <th>treatment_Surgery+adjuvant treatment</th>\n",
              "    </tr>\n",
              "  </thead>\n",
              "  <tbody>\n",
              "    <tr>\n",
              "      <th>7</th>\n",
              "      <td>0.311196</td>\n",
              "      <td>1</td>\n",
              "      <td>0</td>\n",
              "      <td>0</td>\n",
              "      <td>0</td>\n",
              "      <td>0</td>\n",
              "      <td>0</td>\n",
              "      <td>0</td>\n",
              "      <td>1</td>\n",
              "      <td>0</td>\n",
              "    </tr>\n",
              "    <tr>\n",
              "      <th>12</th>\n",
              "      <td>0.098674</td>\n",
              "      <td>0</td>\n",
              "      <td>0</td>\n",
              "      <td>0</td>\n",
              "      <td>1</td>\n",
              "      <td>1</td>\n",
              "      <td>0</td>\n",
              "      <td>0</td>\n",
              "      <td>0</td>\n",
              "      <td>0</td>\n",
              "    </tr>\n",
              "    <tr>\n",
              "      <th>23</th>\n",
              "      <td>0.694009</td>\n",
              "      <td>0</td>\n",
              "      <td>1</td>\n",
              "      <td>0</td>\n",
              "      <td>0</td>\n",
              "      <td>1</td>\n",
              "      <td>0</td>\n",
              "      <td>0</td>\n",
              "      <td>0</td>\n",
              "      <td>0</td>\n",
              "    </tr>\n",
              "    <tr>\n",
              "      <th>73</th>\n",
              "      <td>0.992746</td>\n",
              "      <td>0</td>\n",
              "      <td>0</td>\n",
              "      <td>1</td>\n",
              "      <td>0</td>\n",
              "      <td>1</td>\n",
              "      <td>0</td>\n",
              "      <td>0</td>\n",
              "      <td>0</td>\n",
              "      <td>0</td>\n",
              "    </tr>\n",
              "    <tr>\n",
              "      <th>45</th>\n",
              "      <td>0.746180</td>\n",
              "      <td>0</td>\n",
              "      <td>1</td>\n",
              "      <td>0</td>\n",
              "      <td>0</td>\n",
              "      <td>0</td>\n",
              "      <td>0</td>\n",
              "      <td>1</td>\n",
              "      <td>0</td>\n",
              "      <td>0</td>\n",
              "    </tr>\n",
              "  </tbody>\n",
              "</table>\n",
              "</div>"
            ],
            "text/plain": [
              "    delfi_score  stage_I  stage_II  stage_III  stage_IV  \\\n",
              "7      0.311196        1         0          0         0   \n",
              "12     0.098674        0         0          0         1   \n",
              "23     0.694009        0         1          0         0   \n",
              "73     0.992746        0         0          1         0   \n",
              "45     0.746180        0         1          0         0   \n",
              "\n",
              "    treatment_Chemotherapy/Radiation with curative intent  \\\n",
              "7                                                   0       \n",
              "12                                                  1       \n",
              "23                                                  1       \n",
              "73                                                  1       \n",
              "45                                                  0       \n",
              "\n",
              "    treatment_No treatment  treatment_Palliative Chemotherapy/Radiation  \\\n",
              "7                        0                                            0   \n",
              "12                       0                                            0   \n",
              "23                       0                                            0   \n",
              "73                       0                                            0   \n",
              "45                       0                                            1   \n",
              "\n",
              "    treatment_Surgery  treatment_Surgery+adjuvant treatment  \n",
              "7                   1                                     0  \n",
              "12                  0                                     0  \n",
              "23                  0                                     0  \n",
              "73                  0                                     0  \n",
              "45                  0                                     0  "
            ]
          },
          "execution_count": 281,
          "metadata": {},
          "output_type": "execute_result"
        }
      ],
      "source": [
        "X_test[:5]"
      ]
    },
    {
      "cell_type": "code",
      "execution_count": 282,
      "metadata": {
        "colab": {
          "base_uri": "https://localhost:8080/"
        },
        "id": "6brFSD3nvJ87",
        "outputId": "502b212e-e920-43ee-cd1c-173da1b11176"
      },
      "outputs": [
        {
          "data": {
            "text/plain": [
              "array([(False, 2722.), (False, 2575.), (False, 2771.), (False, 2724.),\n",
              "       (False, 2760.)],\n",
              "      dtype=[('survival_status', '?'), ('days_alive', '<f8')])"
            ]
          },
          "execution_count": 282,
          "metadata": {},
          "output_type": "execute_result"
        }
      ],
      "source": [
        "y_train[0:5]"
      ]
    },
    {
      "cell_type": "code",
      "execution_count": 283,
      "metadata": {
        "colab": {
          "base_uri": "https://localhost:8080/"
        },
        "id": "EzDBtc98vLTE",
        "outputId": "5dab5184-47b0-4c98-d52a-e21031e2e5e1"
      },
      "outputs": [
        {
          "data": {
            "text/plain": [
              "array([(False, 2710.), (False, 2766.), (False, 2695.), (False, 2758.),\n",
              "       ( True,  184.)],\n",
              "      dtype=[('survival_status', '?'), ('days_alive', '<f8')])"
            ]
          },
          "execution_count": 283,
          "metadata": {},
          "output_type": "execute_result"
        }
      ],
      "source": [
        "y_test[:5]"
      ]
    },
    {
      "cell_type": "markdown",
      "metadata": {},
      "source": [
        "### Model Training Functions"
      ]
    },
    {
      "cell_type": "code",
      "execution_count": 284,
      "metadata": {
        "id": "XaPLwBj_vkOF"
      },
      "outputs": [],
      "source": [
        "# train model function\n",
        "#Runs k-fold cross validation and outputs a list of validation losses based on the criterion specified \n",
        "#works with Cox models \n",
        "from sklearn.model_selection import StratifiedKFold\n",
        "from Evaluator import ScikitSurvivalEvaluator\n",
        "def cv_cox_models(model, k_folds, X, y, mae = True, weighting = True, log_scale = False, rs = 0):\n",
        "    scores = []\n",
        "    kf = StratifiedKFold(n_splits = k_folds, shuffle = True, random_state = rs)\n",
        "    for train_index, test_index in kf.split(X, y['survival_status']):\n",
        "        X_train, X_test = X.iloc[train_index], X.iloc[test_index]\n",
        "        y_train, y_test = y[train_index], y[test_index]\n",
        "        \n",
        "        model.fit(X_train, y_train)\n",
        "        \n",
        "        #\n",
        "        if not mae: \n",
        "            #c-index \n",
        "            #predictions = model.predict(X_test)\n",
        "            cindex = model.score(X_test, y_test)\n",
        "            scores.append(cindex)\n",
        "        else: \n",
        "            \n",
        "        \n",
        "            survival_curves = model.predict_survival_function(X_test)\n",
        "            eval = ScikitSurvivalEvaluator(survival_curves, y_test['days_alive'], y_test['survival_status'], y_train['days_alive'], y_train['survival_status'])\n",
        "            mae = eval.mae(method = \"Pseudo_obs\", weighted = weighting, log_scale = log_scale)\n",
        "            scores.append(mae)\n",
        "        \n",
        "    return scores\n",
        "        \n",
        "    \n"
      ]
    },
    {
      "cell_type": "code",
      "execution_count": 285,
      "metadata": {},
      "outputs": [],
      "source": [
        "def train_full_cox(model, X_tr, y_tr, X_t, y_t, mae = True, weighting = True, log_scale = False, rs = 0): \n",
        "    model.fit(X_tr, y_tr)\n",
        "    score = None\n",
        "    if not mae: \n",
        "        score = model.score(X_t, y_t)\n",
        "    else:\n",
        "        surv_c = model.predict_survival_function(X_t)\n",
        "        eval = ScikitSurvivalEvaluator(surv_c, y_t['days_alive'], y_t['survival_status'], y_tr['days_alive'], y_tr['survival_status'], predict_time_method=\"Median\")\n",
        "        score = eval.mae(method = \"Pseudo_obs\", weighted = True, log_scale = False)\n",
        "    return score"
      ]
    },
    {
      "cell_type": "markdown",
      "metadata": {
        "id": "2WFN5f1-fORm"
      },
      "source": [
        "Before we train any models, a major question in survival analysis is what metric can we use to evaluate our models. The most popular models include:\n",
        "1. C-Index (Harrell's Concordance Index ) -> Ratio of correctly ordered concordant pairs to comparable pairs. C-Index close to 1 represents perfect prediction\n",
        "1. MAE (Mean Absolute Error) -> literature has introduced many adaptations of the MAE estimator to handle survival data. This means estimating the true survival time of the censored samples or other methods. This reduces the survival problem down to a typical regression/classification problem."
      ]
    },
    {
      "cell_type": "markdown",
      "metadata": {
        "id": "LjhKUcf6vPdu"
      },
      "source": [
        "# Models\n"
      ]
    },
    {
      "cell_type": "markdown",
      "metadata": {},
      "source": [
        "## Baseline Kaplan-Meier"
      ]
    },
    {
      "cell_type": "code",
      "execution_count": 286,
      "metadata": {},
      "outputs": [],
      "source": [
        "from lifelines import KaplanMeierFitter\n",
        "from sklearn.model_selection import KFold  \n",
        "from Evaluator import LifelinesEvaluator\n",
        "def train_km(model, folds, y, weighting = True, log_scale = False, rs = 0): \n",
        "    scores = [] \n",
        "    kf = StratifiedKFold(folds, shuffle = True, random_state = rs)\n",
        "    for train_index, test_index in kf.split(y, y['survival_status']):\n",
        "        y_tr, y_t = y[train_index], y[test_index]\n",
        "        fitted_model = model.fit(y_tr['days_alive'], event_observed = y_tr['survival_status']).survival_function_ \n",
        "        survival_curve_df = pd.concat([fitted_model] * y_t.shape[0], axis=1)\n",
        "        eval = LifelinesEvaluator(survival_curve_df, y_t['days_alive'], y_t['survival_status'], y_tr['days_alive'], y_tr['survival_status'])\n",
        "        mae = eval.mae(method = \"Pseudo_obs\", weighted = weighting, log_scale = log_scale)\n",
        "        scores.append(mae)\n",
        "    return scores"
      ]
    },
    {
      "cell_type": "code",
      "execution_count": 287,
      "metadata": {},
      "outputs": [
        {
          "name": "stdout",
          "output_type": "stream",
          "text": [
            "Average Baseline MAE: 769.7045489200542\n"
          ]
        }
      ],
      "source": [
        "baseline_mae_scores = train_km(KaplanMeierFitter(), 10, y_train)\n",
        "print(f\"Average Baseline MAE: {np.mean(baseline_mae_scores)}\")\n"
      ]
    },
    {
      "cell_type": "markdown",
      "metadata": {},
      "source": [
        "Now test on the test set of the data:"
      ]
    },
    {
      "cell_type": "code",
      "execution_count": 288,
      "metadata": {},
      "outputs": [
        {
          "name": "stdout",
          "output_type": "stream",
          "text": [
            "MAE for Test Set: 774.5856353591108\n",
            "C-Index for the Test Set: 0.5\n"
          ]
        }
      ],
      "source": [
        "kmf = KaplanMeierFitter()\n",
        "survival_curve_baseline = kmf.fit(y_train['days_alive'], event_observed=y_train['survival_status']).survival_function_\n",
        "survival_curve_base = pd.concat([survival_curve_baseline] * y_test.shape[0], axis=1)\n",
        "eval = LifelinesEvaluator(survival_curve_base, y_test['days_alive'], y_test['survival_status'], y_train['days_alive'], y_train['survival_status'])\n",
        "mae = eval.mae(method = \"Pseudo_obs\", weighted = True, log_scale = False)\n",
        "print(f\"MAE for Test Set: {mae}\")\n",
        "print(f\"C-Index for the Test Set: {0.5}\")\n"
      ]
    },
    {
      "cell_type": "markdown",
      "metadata": {},
      "source": [
        "We will treat this MAE as the baseline for all our models and also this c-index of 0.5, indicative of 0 predictive power as our baseline. "
      ]
    },
    {
      "cell_type": "markdown",
      "metadata": {
        "id": "YLj3kZWFvf-s"
      },
      "source": [
        "## Linear Models"
      ]
    },
    {
      "cell_type": "markdown",
      "metadata": {},
      "source": [
        "There is one main linear models that we can use for survival analysis that applies to our distribution of the time to event variable: \n",
        "- Cox PH Model \n",
        "- Accelerated Failure Time (AFT)\n",
        "\n",
        "Cox PH is semi-parametric and outputs the hazard function <br>\n",
        "AFT assumes a distribution of the time to event variable"
      ]
    },
    {
      "cell_type": "markdown",
      "metadata": {},
      "source": [
        "### Ridge Cox PH - Finding the Best Regularization Penalty"
      ]
    },
    {
      "cell_type": "markdown",
      "metadata": {},
      "source": [
        "Let's test better versions of the Cox model: perhaps a regularized model to regularize the features that we determined were not valuable in the exploration process. Use cv to search for the best alpha value for regularization"
      ]
    },
    {
      "cell_type": "code",
      "execution_count": 289,
      "metadata": {},
      "outputs": [],
      "source": [
        "def find_best_alpha_cph(alpha_vals, k_folds, X, y, weighting = True, log_scale = False, rs = 0): \n",
        "    \n",
        "    kf = StratifiedKFold(n_splits = k_folds, shuffle = True, random_state = rs)\n",
        "    scores = []\n",
        "    best_alpha = None\n",
        "    min_avg_mae = float('inf')\n",
        "    \n",
        "    for a in alpha_vals:\n",
        "        mae_scores = []\n",
        "        model = CoxPHSurvivalAnalysis(alpha = a, n_iter = 10000)\n",
        "        for train_index, test_index in kf.split(X, y['survival_status']):\n",
        "            X_train, X_test = X.iloc[train_index], X.iloc[test_index]\n",
        "            y_train, y_test = y[train_index], y[test_index]\n",
        "            \n",
        "            model.fit(X_train, y_train)\n",
        "            \n",
        "            survival_curves = model.predict_survival_function(X_test)\n",
        "            \n",
        "            eval = ScikitSurvivalEvaluator(survival_curves, y_test['days_alive'], y_test['survival_status'], y_train['days_alive'], y_train['survival_status'])\n",
        "            mae = eval.mae(method = \"Pseudo_obs\", weighted = weighting, log_scale = log_scale)\n",
        "            mae_scores.append(mae)\n",
        "            \n",
        "        avg_score = np.mean(mae_scores)\n",
        "        scores.append(avg_score)\n",
        "\n",
        "        if avg_score < min_avg_mae:\n",
        "            min_avg_mae = avg_score\n",
        "            best_alpha = a\n",
        "\n",
        "    return best_alpha, min_avg_mae, scores\n"
      ]
    },
    {
      "cell_type": "code",
      "execution_count": 290,
      "metadata": {},
      "outputs": [
        {
          "name": "stdout",
          "output_type": "stream",
          "text": [
            "Best Alpha Value: 5.1794746792312125\n",
            "Minimum average mae of best alpha: 557.2128428394824\n"
          ]
        }
      ],
      "source": [
        "alpha_vals = 10**np.linspace(-5, 5, 50)\n",
        "best_initial_alpha, min_avg_mae_init, avg_maes_init = find_best_alpha_cph(alpha_vals, 10, X_train, y_train)\n",
        "print(f\"Best Alpha Value: {best_initial_alpha}\")\n",
        "print(f\"Minimum average mae of best alpha: {min_avg_mae_init}\")"
      ]
    },
    {
      "cell_type": "markdown",
      "metadata": {},
      "source": [
        "We can also use gridsearch to find the best alpha based on concordance index: "
      ]
    },
    {
      "cell_type": "code",
      "execution_count": 291,
      "metadata": {},
      "outputs": [
        {
          "name": "stdout",
          "output_type": "stream",
          "text": [
            "Best Alpha Value from GridSearchCV: {'alpha': 5.1794746792312125}\n"
          ]
        }
      ],
      "source": [
        "from sklearn.model_selection import GridSearchCV\n",
        "kf = KFold(n_splits = 10, shuffle = True, random_state = 0)\n",
        "gcv_cph_ridge = GridSearchCV(CoxPHSurvivalAnalysis(n_iter = 10000), param_grid = {\"alpha\":alpha_vals}, error_score = 0.5, cv = kf).fit(X_train,y_train)\n",
        "print(f\"Best Alpha Value from GridSearchCV: {gcv_cph_ridge.best_params_}\")"
      ]
    },
    {
      "cell_type": "code",
      "execution_count": 292,
      "metadata": {},
      "outputs": [
        {
          "name": "stdout",
          "output_type": "stream",
          "text": [
            "Average mae from optimized Ridge Cox model: 557.2128428394824\n",
            "Average mae from optimized Ridge Cox model: 0.8134920634920635\n"
          ]
        }
      ],
      "source": [
        "cph_ridge_init = CoxPHSurvivalAnalysis(alpha = best_initial_alpha, n_iter = 10000)\n",
        "cph_ridge_init_gcv = CoxPHSurvivalAnalysis(n_iter = 10000).set_params(**gcv_cph_ridge.best_params_)\n",
        "mae_cph_ridge= cv_cox_models(cph_ridge_init, 10, X_train, y_train)\n",
        "c_cph_ridge = cv_cox_models(cph_ridge_init_gcv, 10, X_train, y_train, mae = False)\n",
        "\n",
        "print(f\"Average mae from optimized Ridge Cox model: {np.mean(mae_cph_ridge)}\")\n",
        "print(f\"Average mae from optimized Ridge Cox model: {np.mean(c_cph_ridge)}\")\n"
      ]
    },
    {
      "cell_type": "code",
      "execution_count": 293,
      "metadata": {},
      "outputs": [
        {
          "name": "stdout",
          "output_type": "stream",
          "text": [
            "Final Test MAE for Ridge Cox: 649.7771112419935\n",
            "Final Test C-Index for Ridge Cox: 0.8070652173913043\n"
          ]
        }
      ],
      "source": [
        "mae_init_cph_ridge = train_full_cox(cph_ridge_init, X_train, y_train, X_test, y_test)\n",
        "c_init_cph_ridge = train_full_cox(cph_ridge_init_gcv, X_train, y_train, X_test, y_test, mae = False)\n",
        "print(f\"Final Test MAE for Ridge Cox: {mae_init_cph_ridge}\")\n",
        "print(f\"Final Test C-Index for Ridge Cox: {c_init_cph_ridge}\")"
      ]
    },
    {
      "cell_type": "code",
      "execution_count": 294,
      "metadata": {},
      "outputs": [
        {
          "data": {
            "image/png": "[encoded data removed]",
            "text/plain": [
              "<Figure size 720x432 with 1 Axes>"
            ]
          },
          "metadata": {
            "needs_background": "light"
          },
          "output_type": "display_data"
        }
      ],
      "source": [
        "plt.figure(figsize = (10,6))\n",
        "plt.title(\"Alpha Values vs. Average Mean Absolute Loss\")\n",
        "plt.plot(alpha_vals, avg_maes_init)\n",
        "plt.xlabel(\"Alpha value\")\n",
        "plt.xscale(\"log\")\n",
        "plt.ylabel(\"Loss\")\n",
        "plt.grid()\n",
        "plt.show()"
      ]
    },
    {
      "cell_type": "markdown",
      "metadata": {},
      "source": [
        "The performance of the ridge regularization seems to be better than the baseline model by a significant amount. The C-index already is very high around 0.8. "
      ]
    },
    {
      "cell_type": "markdown",
      "metadata": {},
      "source": [
        "### LASSO Cox"
      ]
    },
    {
      "cell_type": "markdown",
      "metadata": {},
      "source": [
        "In sksurv, the LASSO penalty can be applied through the Cox Elastic Net model, which leverages elastic net penalization. Our goal is to see if pure LASSO regularization can perform better than the ridge regularization that we tested above. Eventually, we want to choose a good ratio between the L1:L2 regularization terms to hopefully get a more accurate model."
      ]
    },
    {
      "cell_type": "code",
      "execution_count": 295,
      "metadata": {},
      "outputs": [
        {
          "name": "stdout",
          "output_type": "stream",
          "text": [
            "Average LASSO MAE: 650.9235384333134\n",
            "Average LASSO C-Index: 0.8256613756613757\n"
          ]
        }
      ],
      "source": [
        "#use cv to find average loss values\n",
        "from sksurv.linear_model import CoxnetSurvivalAnalysis\n",
        "cox_lasso_init = CoxnetSurvivalAnalysis(l1_ratio=1.0, alpha_min_ratio = 0.01, fit_baseline_model= True)\n",
        "cox_c_lasso_init = CoxnetSurvivalAnalysis(l1_ratio = 1.0, alpha_min_ratio = 0.01, fit_baseline_model = True)\n",
        "avg_lasso_mae = cv_cox_models(cox_lasso_init, 10, X_train, y_train)\n",
        "avg_lasso_c = cv_cox_models(cox_c_lasso_init, 10, X_train, y_train, False)\n",
        "print(f\"Average LASSO MAE: {np.mean(avg_lasso_mae)}\")\n",
        "print(f\"Average LASSO C-Index: {np.mean(avg_lasso_c)}\")"
      ]
    },
    {
      "cell_type": "code",
      "execution_count": 296,
      "metadata": {},
      "outputs": [
        {
          "name": "stdout",
          "output_type": "stream",
          "text": [
            "Initial LASSO Model MAE: 749.4748692827623\n",
            "Initial LASSO Model C-Index: 0.8125\n"
          ]
        }
      ],
      "source": [
        "mae_final_init_lasso = train_full_cox(cox_lasso_init, X_train, y_train, X_test, y_test)\n",
        "c_final_init_lasso = train_full_cox(cox_c_lasso_init, X_train, y_train, X_test, y_test, False)\n",
        "print(f\"Initial LASSO Model MAE: {mae_final_init_lasso}\")\n",
        "print(f\"Initial LASSO Model C-Index: {c_final_init_lasso}\")"
      ]
    },
    {
      "cell_type": "code",
      "execution_count": 297,
      "metadata": {},
      "outputs": [],
      "source": [
        "alpha_scores = cox_lasso_init.alphas_"
      ]
    },
    {
      "cell_type": "code",
      "execution_count": 298,
      "metadata": {},
      "outputs": [
        {
          "name": "stdout",
          "output_type": "stream",
          "text": [
            "Possible alpha values: \n",
            "[0.2589278  0.24715913 0.23592537 0.22520219 0.21496641 0.20519585\n",
            " 0.19586938 0.18696682 0.17846889 0.1703572  0.1626142  0.15522314\n",
            " 0.14816801 0.14143354 0.13500517 0.12886897 0.12301168 0.11742061\n",
            " 0.11208366 0.10698929 0.10212646 0.09748465 0.09305383 0.08882439\n",
            " 0.08478718 0.08093347 0.07725492 0.07374357 0.07039181 0.06719239\n",
            " 0.06413839 0.0612232  0.05844051 0.0557843  0.05324882 0.05082858\n",
            " 0.04851834 0.04631311 0.04420811 0.04219878 0.04028078 0.03844996\n",
            " 0.03670235 0.03503417 0.03344181 0.03192183 0.03047093 0.02908598\n",
            " 0.02776398 0.02650206 0.0252975  0.02414769 0.02305014 0.02200248\n",
            " 0.02100243 0.02004784 0.01913663 0.01826684 0.01743659 0.01664407\n",
            " 0.01588757 0.01516545 0.01447616 0.0138182  0.01319014 0.01259063\n",
            " 0.01201836 0.01147211 0.01095069 0.01045296 0.00997786 0.00952435\n",
            " 0.00909145 0.00867823 0.00828379 0.00790728 0.00754788 0.00720482\n",
            " 0.00687735 0.00656476 0.00626638 0.00598157 0.0057097  0.00545018\n",
            " 0.00520246 0.004966   0.00474029 0.00452484 0.00431918 0.00412286\n",
            " 0.00393547 0.0037566 ]\n"
          ]
        }
      ],
      "source": [
        "print(\"Possible alpha values: \")\n",
        "print(alpha_scores)"
      ]
    },
    {
      "cell_type": "code",
      "execution_count": 299,
      "metadata": {},
      "outputs": [
        {
          "name": "stderr",
          "output_type": "stream",
          "text": [
            "/common/home/alw228/.local/lib/python3.10/site-packages/sklearn/model_selection/_validation.py:729: UserWarning: all coefficients are zero, consider decreasing alpha.\n",
            "  estimator.fit(X_train, y_train, **fit_params)\n",
            "/common/home/alw228/.local/lib/python3.10/site-packages/sklearn/model_selection/_validation.py:729: UserWarning: all coefficients are zero, consider decreasing alpha.\n",
            "  estimator.fit(X_train, y_train, **fit_params)\n",
            "/common/home/alw228/.local/lib/python3.10/site-packages/sklearn/model_selection/_validation.py:729: UserWarning: all coefficients are zero, consider decreasing alpha.\n",
            "  estimator.fit(X_train, y_train, **fit_params)\n",
            "/common/home/alw228/.local/lib/python3.10/site-packages/sklearn/model_selection/_validation.py:729: UserWarning: all coefficients are zero, consider decreasing alpha.\n",
            "  estimator.fit(X_train, y_train, **fit_params)\n",
            "/common/home/alw228/.local/lib/python3.10/site-packages/sklearn/model_selection/_validation.py:729: UserWarning: all coefficients are zero, consider decreasing alpha.\n",
            "  estimator.fit(X_train, y_train, **fit_params)\n",
            "/common/home/alw228/.local/lib/python3.10/site-packages/sklearn/model_selection/_validation.py:729: UserWarning: all coefficients are zero, consider decreasing alpha.\n",
            "  estimator.fit(X_train, y_train, **fit_params)\n",
            "/common/home/alw228/.local/lib/python3.10/site-packages/sklearn/model_selection/_validation.py:729: UserWarning: all coefficients are zero, consider decreasing alpha.\n",
            "  estimator.fit(X_train, y_train, **fit_params)\n"
          ]
        }
      ],
      "source": [
        "from sklearn.model_selection import GridSearchCV\n",
        "from sklearn.pipeline import make_pipeline\n",
        "coxlasso = CoxnetSurvivalAnalysis(l1_ratio = 1.0, fit_baseline_model= True)\n",
        "cv = KFold(n_splits=10, shuffle=True, random_state=0)\n",
        "param_grid = [[v] for v in alpha_scores]\n",
        "grid_search = GridSearchCV(\n",
        "    estimator = coxlasso,\n",
        "    error_score = 0.5,\n",
        "    param_grid = {\"alphas\":param_grid}, \n",
        "    cv = cv).fit(X_train,y_train)"
      ]
    },
    {
      "cell_type": "code",
      "execution_count": 300,
      "metadata": {},
      "outputs": [
        {
          "name": "stdout",
          "output_type": "stream",
          "text": [
            "{'alphas': [0.06122320349266912]}\n"
          ]
        }
      ],
      "source": [
        "print(grid_search.best_params_)"
      ]
    },
    {
      "cell_type": "code",
      "execution_count": 301,
      "metadata": {},
      "outputs": [
        {
          "name": "stdout",
          "output_type": "stream",
          "text": [
            "Best Lasso Model CV MAE: 617.2695761004409\n",
            "Best Lasso Model CV C-Index: 0.8134920634920635\n"
          ]
        }
      ],
      "source": [
        "best_lasso_model = CoxnetSurvivalAnalysis(l1_ratio = 1.0, fit_baseline_model=True)\n",
        "best_lasso_model.set_params(**grid_search.best_params_)\n",
        "avg_lasso_mae = cv_cox_models(best_lasso_model, 10, X_train, y_train)\n",
        "avg_lasso_c = cv_cox_models(best_lasso_model, 10, X_train, y_train, False)\n",
        "\n",
        "print(f\"Best Lasso Model CV MAE: {np.mean(avg_lasso_mae)}\")\n",
        "print(f\"Best Lasso Model CV C-Index: {np.mean(avg_lasso_c)}\")"
      ]
    },
    {
      "cell_type": "code",
      "execution_count": 302,
      "metadata": {},
      "outputs": [
        {
          "name": "stdout",
          "output_type": "stream",
          "text": [
            "Final LASSO MAE on Full Train and Test Set: 636.0816911640188\n",
            "Final LASSO MAE on Full Train and Test Set: 0.779891304347826\n"
          ]
        }
      ],
      "source": [
        "full_mae_lasso = train_full_cox(best_lasso_model, X_train, y_train, X_test, y_test)\n",
        "full_c_lasso = train_full_cox(best_lasso_model, X_train, y_train, X_test, y_test, False)\n",
        "print(f\"Final LASSO MAE on Full Train and Test Set: {full_mae_lasso}\")\n",
        "print(f\"Final LASSO MAE on Full Train and Test Set: {full_c_lasso}\")"
      ]
    },
    {
      "cell_type": "markdown",
      "metadata": {},
      "source": [
        "This value with just Lasso regression seems to be higher than that of just ridge regression. However, the validation MAE is higher. This model generalizes better. Next, we will use cv to test the ElasticNet and find the optimal balance between L1 and L2 regularization. Based on the C-index, performance is just about the same as strictly ridge regularization"
      ]
    },
    {
      "cell_type": "markdown",
      "metadata": {},
      "source": [
        "### ElasticNet Cox Ph - Finding the best L1:L2 Ratio"
      ]
    },
    {
      "cell_type": "code",
      "execution_count": 303,
      "metadata": {},
      "outputs": [
        {
          "name": "stderr",
          "output_type": "stream",
          "text": [
            "/common/home/alw228/.local/lib/python3.10/site-packages/sklearn/model_selection/_validation.py:729: UserWarning: all coefficients are zero, consider decreasing alpha.\n",
            "  estimator.fit(X_train, y_train, **fit_params)\n",
            "/common/home/alw228/.local/lib/python3.10/site-packages/sklearn/model_selection/_validation.py:729: UserWarning: all coefficients are zero, consider decreasing alpha.\n",
            "  estimator.fit(X_train, y_train, **fit_params)\n",
            "/common/home/alw228/.local/lib/python3.10/site-packages/sklearn/model_selection/_validation.py:729: UserWarning: all coefficients are zero, consider decreasing alpha.\n",
            "  estimator.fit(X_train, y_train, **fit_params)\n",
            "/common/home/alw228/.local/lib/python3.10/site-packages/sklearn/model_selection/_validation.py:729: UserWarning: all coefficients are zero, consider decreasing alpha.\n",
            "  estimator.fit(X_train, y_train, **fit_params)\n",
            "/common/home/alw228/.local/lib/python3.10/site-packages/sklearn/model_selection/_validation.py:729: UserWarning: all coefficients are zero, consider decreasing alpha.\n",
            "  estimator.fit(X_train, y_train, **fit_params)\n",
            "/common/home/alw228/.local/lib/python3.10/site-packages/sklearn/model_selection/_validation.py:729: UserWarning: all coefficients are zero, consider decreasing alpha.\n",
            "  estimator.fit(X_train, y_train, **fit_params)\n",
            "/common/home/alw228/.local/lib/python3.10/site-packages/sklearn/model_selection/_validation.py:729: UserWarning: all coefficients are zero, consider decreasing alpha.\n",
            "  estimator.fit(X_train, y_train, **fit_params)\n",
            "/common/home/alw228/.local/lib/python3.10/site-packages/sklearn/model_selection/_validation.py:729: UserWarning: all coefficients are zero, consider decreasing alpha.\n",
            "  estimator.fit(X_train, y_train, **fit_params)\n",
            "/common/home/alw228/.local/lib/python3.10/site-packages/sklearn/model_selection/_validation.py:729: UserWarning: all coefficients are zero, consider decreasing alpha.\n",
            "  estimator.fit(X_train, y_train, **fit_params)\n"
          ]
        },
        {
          "name": "stdout",
          "output_type": "stream",
          "text": [
            "Best Params: \n",
            "{'alphas': [0.06122320349266912], 'l1_ratio': 0.99}\n"
          ]
        }
      ],
      "source": [
        "l1_ratios = np.linspace(0.01,.99,50)\n",
        "coxnet = CoxnetSurvivalAnalysis(fit_baseline_model=True)\n",
        "gcv = GridSearchCV(\n",
        "    estimator = coxnet,\n",
        "    error_score = 0.5,\n",
        "    param_grid = {\"alphas\":param_grid, \n",
        "                  \"l1_ratio\":l1_ratios}, \n",
        "    cv = cv)\n",
        "gcvmodel = gcv.fit(X_train,y_train)\n",
        "\n",
        "print(\"Best Params: \")\n",
        "print(gcv.best_params_)"
      ]
    },
    {
      "cell_type": "code",
      "execution_count": 304,
      "metadata": {},
      "outputs": [
        {
          "name": "stdout",
          "output_type": "stream",
          "text": [
            "CoxnetSurvivalAnalysis(alphas=[0.06122320349266912], fit_baseline_model=True,\n",
            "                       l1_ratio=0.99)\n",
            "Average Validation MAE with Elasticnet: 611.2121170386863\n",
            "Average Validation C-Index with Elasticnet: 0.8074095022624433\n"
          ]
        }
      ],
      "source": [
        "best_elasticnet_cox = CoxnetSurvivalAnalysis(fit_baseline_model = True)\n",
        "best_elasticnet_cox.set_params(**gcv.best_params_)\n",
        "print(best_elasticnet_cox)\n",
        "\n",
        "avg_mae_elasticnet = cv_cox_models(best_lasso_model, 5, X_train, y_train)\n",
        "avg_c_elasticnet = cv_cox_models(best_lasso_model, 5, X_train, y_train, False)\n",
        "print(f\"Average Validation MAE with Elasticnet: {np.mean(avg_mae_elasticnet)}\")\n",
        "print(f\"Average Validation C-Index with Elasticnet: {np.mean(avg_c_elasticnet)}\")\n"
      ]
    },
    {
      "cell_type": "code",
      "execution_count": 305,
      "metadata": {},
      "outputs": [
        {
          "name": "stdout",
          "output_type": "stream",
          "text": [
            "Final MAE of ElasticNet Regularized Cox PH Model: 636.723017170827\n",
            "Final MAE of ElasticNet Regularized Cox PH Model: 0.779891304347826\n"
          ]
        }
      ],
      "source": [
        "final_elasticnet_mae = train_full_cox(best_elasticnet_cox, X_train, y_train, X_test, y_test)\n",
        "final_elasticnet_c = train_full_cox(best_elasticnet_cox, X_train, y_train, X_test, y_test, False)\n",
        "print(f\"Final MAE of ElasticNet Regularized Cox PH Model: {final_elasticnet_mae}\")\n",
        "print(f\"Final MAE of ElasticNet Regularized Cox PH Model: {final_elasticnet_c}\")"
      ]
    },
    {
      "cell_type": "markdown",
      "metadata": {},
      "source": [
        "Overall, the different cox models yielded ok results, with the test log MAE landing around 800, which performed better than the baseline kaplan meier model."
      ]
    },
    {
      "cell_type": "markdown",
      "metadata": {},
      "source": [
        "Another linear model that we can fit is the Accelerated Failure Time Model. It assumes "
      ]
    },
    {
      "cell_type": "markdown",
      "metadata": {},
      "source": [
        "### Accelerated Failure Time Model"
      ]
    },
    {
      "cell_type": "code",
      "execution_count": 306,
      "metadata": {},
      "outputs": [],
      "source": [
        "def calculate_mae(y_true, y_pred, log_transform=False):\n",
        "    if log_transform:\n",
        "        y_true = np.log(y_true)\n",
        "        y_pred = np.log(y_pred)\n",
        "\n",
        "    absolute_errors = np.abs(y_true - y_pred)\n",
        "    mae = np.mean(absolute_errors)\n",
        "    return mae"
      ]
    },
    {
      "cell_type": "code",
      "execution_count": 307,
      "metadata": {},
      "outputs": [],
      "source": [
        "from sksurv.metrics import concordance_index_censored\n",
        "from sklearn.model_selection import StratifiedKFold\n",
        "def cv_model_aft(model, k_folds, X, y, mae = True, weighting = True, log_scale = False, rs = 0): \n",
        "    scores = []\n",
        "    kf = StratifiedKFold(n_splits = k_folds, shuffle = True, random_state = rs)\n",
        "    for train_index, test_index in kf.split(X, y['survival_status']):\n",
        "        X_train, X_test = X.iloc[train_index], X.iloc[test_index]\n",
        "        y_train, y_test = y[train_index], y[test_index]\n",
        "        \n",
        "        model.fit(X_train, y_train)\n",
        "        \n",
        "        survival_curves = model.predict(X_test)\n",
        "        \n",
        "        if not mae: \n",
        "            cindex= concordance_index_censored(y_test['survival_status'], y_test['days_alive'], -survival_curves)\n",
        "            scores.append(cindex[0])\n",
        "            \n",
        "        else: \n",
        "            calculate_mae(survival_curves, y_test['days_alive'])\n",
        "            mae = eval.mae(method = \"Pseudo_obs\", weighted = weighting, log_scale = log_scale)\n",
        "            scores.append(mae)\n",
        "        \n",
        "    return scores"
      ]
    },
    {
      "cell_type": "code",
      "execution_count": 308,
      "metadata": {},
      "outputs": [
        {
          "name": "stdout",
          "output_type": "stream",
          "text": [
            "Average Validation MAE for AFT: 774.5856353591108\n",
            "Average Validation C-Index for AFT: 0.802910052910053\n"
          ]
        }
      ],
      "source": [
        "from sksurv.linear_model import IPCRidge\n",
        "initial_aft = IPCRidge()\n",
        "init_aft_maes = cv_model_aft(initial_aft, 10, X_train, y_train)\n",
        "init_aft_c = cv_model_aft(initial_aft, 10, X_train, y_train, False)\n",
        "print(f\"Average Validation MAE for AFT: {np.mean(init_aft_maes)}\")\n",
        "print(f\"Average Validation C-Index for AFT: {np.mean(init_aft_c)}\")"
      ]
    },
    {
      "cell_type": "code",
      "execution_count": 309,
      "metadata": {},
      "outputs": [
        {
          "name": "stdout",
          "output_type": "stream",
          "text": [
            "Final Test MAE for AFT Model: 555.5627879745491\n",
            "Final Test C-Index for AFT Model: 0.8070652173913043\n"
          ]
        }
      ],
      "source": [
        "initial_aft.fit(X_train,y_train)\n",
        "predictions = initial_aft.predict(X_test)\n",
        "concordance = concordance_index_censored(y_test['survival_status'], y_test['days_alive'], -predictions)\n",
        "print(f\"Final Test MAE for AFT Model: {calculate_mae(predictions, y_test['days_alive'])}\")\n",
        "print(f\"Final Test C-Index for AFT Model: {concordance[0]}\")"
      ]
    },
    {
      "cell_type": "markdown",
      "metadata": {},
      "source": [
        "## SVM"
      ]
    },
    {
      "cell_type": "markdown",
      "metadata": {},
      "source": [
        "The procedure for SVM will be the same as for the Cox Proportional Hazards Model. We will train a model then utilize GridSearchCV with MAE scoring to evaluate the models found. Let's use the regression setting on sksurv's SVM model (which predicts the event time of the input) and then calculate our own log mae from the predictions. We will take log(predictions) - log(ground truth)"
      ]
    },
    {
      "cell_type": "code",
      "execution_count": 310,
      "metadata": {},
      "outputs": [],
      "source": [
        "from sksurv.svm import FastSurvivalSVM\n",
        "def train_svm(model, X_tr, X_t, y_tr, y_t, mae = True, log_transform = False, rs = 0): \n",
        "    model.fit(X_tr, y_tr)\n",
        "    score = None\n",
        "    predictions = model.predict(X_t)\n",
        "    if mae: \n",
        "        score = calculate_mae(y_t['days_alive'], predictions, log_transform = log_transform)\n",
        "    else: \n",
        "        score = concordance_index_censored(y_t['survival_status'], y_t['days_alive'], -predictions)\n",
        "    return score if mae else score[0]"
      ]
    },
    {
      "cell_type": "code",
      "execution_count": 311,
      "metadata": {},
      "outputs": [],
      "source": [
        "def cv_svm(model, X, y, k_folds, mae = True, rs = 0): \n",
        "    scores = []\n",
        "    kf = StratifiedKFold(n_splits = k_folds, shuffle = True, random_state = rs)\n",
        "    for train_index, test_index in kf.split(X, y['survival_status']):\n",
        "        X_train, X_test = X.iloc[train_index], X.iloc[test_index]\n",
        "        y_train, y_test = y[train_index], y[test_index]\n",
        "        \n",
        "        model.fit(X_train, y_train)\n",
        "        \n",
        "        survival_curves = model.predict(X_test)\n",
        "        \n",
        "        if mae: \n",
        "            eval = calculate_mae(y_test['days_alive'], survival_curves)\n",
        "            scores.append(eval)\n",
        "        else: \n",
        "            score = concordance_index_censored(y_test['survival_status'], y_test['days_alive'], -survival_curves)\n",
        "            scores.append(score[0])\n",
        "    return scores"
      ]
    },
    {
      "cell_type": "markdown",
      "metadata": {},
      "source": [
        "### Without Kernel"
      ]
    },
    {
      "cell_type": "markdown",
      "metadata": {},
      "source": [
        "The baseline survival svm does not take a kernel function as input we use cv to test the average performance and then use gridsearch cv to find the best model. "
      ]
    },
    {
      "cell_type": "markdown",
      "metadata": {},
      "source": [
        "Lets see the baseline cv and average validation scores: "
      ]
    },
    {
      "cell_type": "code",
      "execution_count": 312,
      "metadata": {},
      "outputs": [
        {
          "name": "stdout",
          "output_type": "stream",
          "text": [
            "Average Validation MAE of Linear Survival SVM: 483.82798181732807\n",
            "Average Validation C-Index of Linear Survival SVM: 0.8314814814814815\n"
          ]
        }
      ],
      "source": [
        "from sksurv.svm import FastSurvivalSVM\n",
        "\n",
        "svm_model = FastSurvivalSVM(max_iter = 10000, tol = 1e-5, random_state = 0, rank_ratio = 0.0, fit_intercept = True)\n",
        "\n",
        "svm_mae_baseline = cv_svm(svm_model, X_train, y_train, 10)\n",
        "svm_c_baseline = cv_svm(svm_model, X_train, y_train, 10, False)\n",
        "\n",
        "print(f\"Average Validation MAE of Linear Survival SVM: {np.mean(svm_mae_baseline)}\")\n",
        "print(f\"Average Validation C-Index of Linear Survival SVM: {np.mean(svm_c_baseline)}\")\n"
      ]
    },
    {
      "cell_type": "code",
      "execution_count": 313,
      "metadata": {},
      "outputs": [
        {
          "name": "stdout",
          "output_type": "stream",
          "text": [
            "Initial Linear Survival SVM Test MAE: 569.685921574561\n",
            "Initial Linear Survival SVM Test C-Index: 0.8125\n"
          ]
        }
      ],
      "source": [
        "svm_test_mae = train_svm(svm_model, X_train, X_test, y_train, y_test)\n",
        "svm_test_c = train_svm(svm_model, X_train, X_test, y_train, y_test, False)\n",
        "\n",
        "print(f\"Initial Linear Survival SVM Test MAE: {svm_test_mae}\")\n",
        "print(f\"Initial Linear Survival SVM Test C-Index: {svm_test_c}\")\n"
      ]
    },
    {
      "cell_type": "code",
      "execution_count": 314,
      "metadata": {},
      "outputs": [],
      "source": [
        "def calculate_mse(model, X, y_pred):\n",
        "     predictions = model.predict(X)\n",
        "     mse = -np.mean((predictions - y_pred['days_alive']) ** 2)\n",
        "     return mse"
      ]
    },
    {
      "cell_type": "code",
      "execution_count": 315,
      "metadata": {},
      "outputs": [],
      "source": [
        "#Custom scorer for gcv\n",
        "from sklearn.metrics import make_scorer\n",
        "param_grid = {\"alpha\": 2.0 ** np.arange(-12, 13, 2)}\n",
        "def custom_mae_score(model, X, y): \n",
        "    predictions = model.predict(X)\n",
        "    \n",
        "    '''\n",
        "    cindex = concordance_index_censored(\n",
        "    y[\"survival_status\"],\n",
        "    y[\"days_alive\"],\n",
        "    -predictions)\n",
        "    \n",
        "\n",
        "    return cindex[0]'''\n",
        "    \n",
        "    return -(calculate_mae(y['days_alive'], predictions))\n",
        "    "
      ]
    },
    {
      "cell_type": "code",
      "execution_count": 316,
      "metadata": {},
      "outputs": [],
      "source": [
        "def custom_c_scorer(estimator, X, y): \n",
        "    predictions = estimator.predict(X)\n",
        "    cindex = concordance_index_censored(y['survival_status'], y['days_alive'], -predictions)\n",
        "    return cindex[0]"
      ]
    },
    {
      "cell_type": "code",
      "execution_count": 317,
      "metadata": {},
      "outputs": [
        {
          "name": "stderr",
          "output_type": "stream",
          "text": [
            "/common/home/alw228/.local/lib/python3.10/site-packages/sklearn/model_selection/_validation.py:729: ConvergenceWarning: Optimization did not converge: Warning: Desired error not necessarily achieved due to precision loss.\n",
            "  estimator.fit(X_train, y_train, **fit_params)\n"
          ]
        },
        {
          "name": "stderr",
          "output_type": "stream",
          "text": [
            "/common/home/alw228/.local/lib/python3.10/site-packages/sklearn/model_selection/_validation.py:729: ConvergenceWarning: Optimization did not converge: Warning: Desired error not necessarily achieved due to precision loss.\n",
            "  estimator.fit(X_train, y_train, **fit_params)\n",
            "/common/home/alw228/.local/lib/python3.10/site-packages/sklearn/model_selection/_validation.py:729: ConvergenceWarning: Optimization did not converge: Warning: Desired error not necessarily achieved due to precision loss.\n",
            "  estimator.fit(X_train, y_train, **fit_params)\n",
            "/common/home/alw228/.local/lib/python3.10/site-packages/sklearn/model_selection/_validation.py:729: ConvergenceWarning: Optimization did not converge: Warning: Desired error not necessarily achieved due to precision loss.\n",
            "  estimator.fit(X_train, y_train, **fit_params)\n",
            "/common/home/alw228/.local/lib/python3.10/site-packages/sklearn/model_selection/_validation.py:729: ConvergenceWarning: Optimization did not converge: Warning: Desired error not necessarily achieved due to precision loss.\n",
            "  estimator.fit(X_train, y_train, **fit_params)\n",
            "/common/home/alw228/.local/lib/python3.10/site-packages/sklearn/model_selection/_validation.py:729: ConvergenceWarning: Optimization did not converge: Warning: Desired error not necessarily achieved due to precision loss.\n",
            "  estimator.fit(X_train, y_train, **fit_params)\n",
            "/common/home/alw228/.local/lib/python3.10/site-packages/sklearn/model_selection/_validation.py:729: ConvergenceWarning: Optimization did not converge: Warning: Desired error not necessarily achieved due to precision loss.\n",
            "  estimator.fit(X_train, y_train, **fit_params)\n"
          ]
        }
      ],
      "source": [
        "from sksurv.svm import FastSurvivalSVM\n",
        "param_grid = {\"alpha\": np.linspace(1.01, 10, 50)}\n",
        "estimator = FastSurvivalSVM(max_iter = 50000, tol = 1e-4, rank_ratio = 0.0, fit_intercept = True)\n",
        "gcv = GridSearchCV(\n",
        "    estimator = estimator, \n",
        "    param_grid = param_grid, \n",
        "    cv = 10, \n",
        "    scoring = calculate_mse\n",
        ").fit(X_train, y_train)"
      ]
    },
    {
      "cell_type": "code",
      "execution_count": 318,
      "metadata": {},
      "outputs": [
        {
          "name": "stderr",
          "output_type": "stream",
          "text": [
            "/common/home/alw228/.local/lib/python3.10/site-packages/sklearn/model_selection/_validation.py:729: ConvergenceWarning: Optimization did not converge: Warning: Desired error not necessarily achieved due to precision loss.\n",
            "  estimator.fit(X_train, y_train, **fit_params)\n",
            "/common/home/alw228/.local/lib/python3.10/site-packages/sklearn/model_selection/_validation.py:729: ConvergenceWarning: Optimization did not converge: Warning: Desired error not necessarily achieved due to precision loss.\n",
            "  estimator.fit(X_train, y_train, **fit_params)\n",
            "/common/home/alw228/.local/lib/python3.10/site-packages/sklearn/model_selection/_validation.py:729: ConvergenceWarning: Optimization did not converge: Warning: Desired error not necessarily achieved due to precision loss.\n",
            "  estimator.fit(X_train, y_train, **fit_params)\n",
            "/common/home/alw228/.local/lib/python3.10/site-packages/sklearn/model_selection/_validation.py:729: ConvergenceWarning: Optimization did not converge: Warning: Desired error not necessarily achieved due to precision loss.\n",
            "  estimator.fit(X_train, y_train, **fit_params)\n"
          ]
        }
      ],
      "source": [
        "#gcv for best c-index \n",
        "gcv_c_svm = GridSearchCV(\n",
        "    estimator = estimator, \n",
        "    param_grid = param_grid, \n",
        "    cv = 5, \n",
        "    scoring = custom_c_scorer\n",
        ").fit(X_train, y_train)"
      ]
    },
    {
      "cell_type": "code",
      "execution_count": 319,
      "metadata": {},
      "outputs": [
        {
          "name": "stdout",
          "output_type": "stream",
          "text": [
            "Best Parameters for MAE Scorer: {'alpha': 1.9273469387755102}\n",
            "Best Parameters for C-Index Scorer: {'alpha': 3.2116326530612245}\n"
          ]
        }
      ],
      "source": [
        "print(f\"Best Parameters for MAE Scorer: {gcv.best_params_}\")\n",
        "print(f\"Best Parameters for C-Index Scorer: {gcv_c_svm.best_params_}\")"
      ]
    },
    {
      "cell_type": "code",
      "execution_count": 320,
      "metadata": {},
      "outputs": [
        {
          "name": "stdout",
          "output_type": "stream",
          "text": [
            "Average Validation Scores of Linear Survival SVM: 480.51155532133225\n",
            "Average Validation C-Index of Linear Survival SVM: 0.8124338624338625 \n"
          ]
        }
      ],
      "source": [
        "svm_gcv = FastSurvivalSVM(max_iter = 10000, tol = 1e-5, random_state = 0, rank_ratio = 0.0, fit_intercept = True).set_params(**gcv.best_params_)\n",
        "svm_gcv_c = FastSurvivalSVM(max_iter = 10000, tol = 1e-5, random_state = 0, rank_ratio = 0.0, fit_intercept = True).set_params(**gcv_c_svm.best_params_)\n",
        "svm_gcv_mae_val = cv_svm(svm_gcv, X_train, y_train, 10)\n",
        "svm_gcv_c_val = cv_svm(svm_gcv_c, X_train, y_train, 10, False)\n",
        "\n",
        "print(f\"Average Validation Scores of Linear Survival SVM: {np.mean(svm_gcv_mae_val)}\")\n",
        "print(f\"Average Validation C-Index of Linear Survival SVM: {np.mean(svm_gcv_c_val)} \")"
      ]
    },
    {
      "cell_type": "code",
      "execution_count": 321,
      "metadata": {},
      "outputs": [
        {
          "name": "stdout",
          "output_type": "stream",
          "text": [
            "Linear Survival SVM After Grid Search Test MAE: 581.6365124025184\n",
            "Linear Survival SVM After Grid Search Test C-Index: 0.8070652173913043\n"
          ]
        }
      ],
      "source": [
        "svm_gcv_test_mae = train_svm(svm_gcv, X_train, X_test, y_train, y_test)\n",
        "svm_gcv_test_c = train_svm(svm_gcv_c, X_train, X_test, y_train, y_test, False)\n",
        "\n",
        "print(f\"Linear Survival SVM After Grid Search Test MAE: {svm_gcv_test_score}\")\n",
        "print(f\"Linear Survival SVM After Grid Search Test C-Index: {svm_gcv_test_c}\")"
      ]
    },
    {
      "cell_type": "markdown",
      "metadata": {},
      "source": [
        "It seems that the linear svm performs relatively well. The mae are much better than the previous linear models we tested. However the C-index seems to be hovering around the same 0.8 that we've been seeing. No significant increases there. Perhaps fitting a kernel-based svm will yield us better results"
      ]
    },
    {
      "cell_type": "markdown",
      "metadata": {},
      "source": [
        "### Kernel-Based SVM"
      ]
    },
    {
      "cell_type": "code",
      "execution_count": 322,
      "metadata": {},
      "outputs": [
        {
          "name": "stderr",
          "output_type": "stream",
          "text": [
            "/common/home/alw228/.local/lib/python3.10/site-packages/sklearn/model_selection/_validation.py:729: ConvergenceWarning: Optimization did not converge: Warning: Desired error not necessarily achieved due to precision loss.\n",
            "  estimator.fit(X_train, y_train, **fit_params)\n",
            "/common/home/alw228/.local/lib/python3.10/site-packages/sklearn/model_selection/_validation.py:729: ConvergenceWarning: Optimization did not converge: Warning: Desired error not necessarily achieved due to precision loss.\n",
            "  estimator.fit(X_train, y_train, **fit_params)\n",
            "/common/home/alw228/.local/lib/python3.10/site-packages/sklearn/model_selection/_validation.py:729: ConvergenceWarning: Optimization did not converge: Warning: Desired error not necessarily achieved due to precision loss.\n",
            "  estimator.fit(X_train, y_train, **fit_params)\n",
            "/common/home/alw228/.local/lib/python3.10/site-packages/sklearn/model_selection/_validation.py:729: ConvergenceWarning: Optimization did not converge: Warning: Desired error not necessarily achieved due to precision loss.\n",
            "  estimator.fit(X_train, y_train, **fit_params)\n",
            "/common/home/alw228/.local/lib/python3.10/site-packages/sklearn/model_selection/_validation.py:729: ConvergenceWarning: Optimization did not converge: Warning: Desired error not necessarily achieved due to precision loss.\n",
            "  estimator.fit(X_train, y_train, **fit_params)\n"
          ]
        }
      ],
      "source": [
        "from sksurv.svm import FastKernelSurvivalSVM\n",
        "from sksurv.kernels import clinical_kernel\n",
        "\n",
        "kernel_matrix = clinical_kernel(X_train)\n",
        "kssvm = FastKernelSurvivalSVM(rank_ratio = 0.0, fit_intercept = True, kernel = \"precomputed\", max_iter = 10000)\n",
        "\n",
        "kgcv = gcv_c_svm = GridSearchCV(estimator = kssvm, param_grid = param_grid, cv = 10, scoring = custom_mae_score)\n",
        "kgcv = kgcv.fit(kernel_matrix, y_train)"
      ]
    },
    {
      "cell_type": "code",
      "execution_count": 323,
      "metadata": {},
      "outputs": [
        {
          "name": "stdout",
          "output_type": "stream",
          "text": [
            "Best Params for Clinical Kernel: {'alpha': 7.247959183673469}\n"
          ]
        }
      ],
      "source": [
        "print(f\"Best Params for Clinical Kernel: {kgcv.best_params_}\")"
      ]
    },
    {
      "cell_type": "markdown",
      "metadata": {},
      "source": [
        "It seems that many of these models are not converging, so we're going to test out the different kernels and alpha values with typical k-fold cv"
      ]
    },
    {
      "cell_type": "code",
      "execution_count": 324,
      "metadata": {},
      "outputs": [
        {
          "name": "stderr",
          "output_type": "stream",
          "text": [
            "/tmp/ipykernel_933227/404000094.py:8: ConvergenceWarning: Optimization did not converge: Warning: Desired error not necessarily achieved due to precision loss.\n",
            "  model.fit(X_train, y_train)\n"
          ]
        },
        {
          "name": "stdout",
          "output_type": "stream",
          "text": [
            "Linear Survival SVM After Grid Search Test MAE: 480.53495851789955\n"
          ]
        }
      ],
      "source": [
        "svm_ck_kgcv = FastKernelSurvivalSVM(max_iter = 50000, rank_ratio = 0.0, fit_intercept = True).set_params(**kgcv.best_params_)\n",
        "svm_kgcv_mae_val = cv_svm(svm_ck_kgcv, X_train, y_train, 10)\n",
        "print(f\"Linear Survival SVM After Grid Search Test MAE: {np.mean(svm_kgcv_mae_val)}\")\n"
      ]
    },
    {
      "cell_type": "markdown",
      "metadata": {},
      "source": [
        "Want to test combination of kernel and the alpha. So we will run gcv on the kernel and also the alpha value"
      ]
    },
    {
      "cell_type": "code",
      "execution_count": 325,
      "metadata": {},
      "outputs": [],
      "source": [
        "def find_best_kernel(kernels, k_folds, X, y, mae = True, log_scale = False, rs = 0):\n",
        "    scores = []\n",
        "    kf = StratifiedKFold(k_folds, shuffle = True, random_state= rs)\n",
        "    best_kernel = None\n",
        "    min_avg_mae = float('inf')\n",
        "    \n",
        "    for kernel in kernels:\n",
        "        \n",
        "        model = FastKernelSurvivalSVM(rank_ratio = 0.0, kernel = kernel, fit_intercept = True, max_iter = 10000)\n",
        "        mae_scores = []\n",
        "        \n",
        "        \n",
        "        for train_index, test_index in kf.split(X, y['survival_status']): \n",
        "            \n",
        "            X_train, X_test = X.iloc[train_index], X.iloc[test_index]\n",
        "            y_train, y_test = y[train_index], y[test_index]\n",
        "            \n",
        "            model.fit(X_train, y_train)\n",
        "            \n",
        "            survival_curves = model.predict(X_test)\n",
        "            score = calculate_mae(survival_curves, y_test['days_alive'])\n",
        "            mae_scores.append(score)\n",
        "            \n",
        "            \n",
        "        avg_score = np.mean(mae_scores)\n",
        "        scores.append(avg_score)\n",
        "\n",
        "        if avg_score < min_avg_mae:\n",
        "            min_avg_mae = avg_score\n",
        "            best_kernel = kernel\n",
        "        \n",
        "    return best_kernel, min_avg_mae, scores\n",
        "            \n",
        "\n",
        "   "
      ]
    },
    {
      "cell_type": "code",
      "execution_count": 326,
      "metadata": {},
      "outputs": [],
      "source": [
        "def find_alpha_svm(alphas, k_folds, X, y, mae = True, log_scale = False, rs = 0):\n",
        "    scores = []\n",
        "    kf = StratifiedKFold(k_folds, shuffle = True, random_state= rs)\n",
        "    best_alpha = None\n",
        "    threshold = float('inf') if mae else -float('inf')\n",
        "    \n",
        "    for alpha in alphas:\n",
        "        \n",
        "        model = FastKernelSurvivalSVM(rank_ratio = 0.0, kernel = 'poly', fit_intercept = True, max_iter = 10000, alpha = alpha)\n",
        "        avg_scores = []\n",
        "        \n",
        "        \n",
        "        for train_index, test_index in kf.split(X, y['survival_status']): \n",
        "            \n",
        "            X_train, X_test = X.iloc[train_index], X.iloc[test_index]\n",
        "            y_train, y_test = y[train_index], y[test_index]\n",
        "            \n",
        "            model.fit(X_train, y_train)\n",
        "            \n",
        "            survival_curves = model.predict(X_test)\n",
        "            \n",
        "            if not mae: \n",
        "                cindex = concordance_index_censored(y_test['survival_status'], y_test['days_alive'], -survival_curves)\n",
        "                score = cindex[0]\n",
        "                avg_scores.append(score)\n",
        "            else:\n",
        "                score = calculate_mae(survival_curves, y_test['days_alive'])\n",
        "                avg_scores.append(score)\n",
        "            \n",
        "            \n",
        "        avg_score = np.mean(avg_scores)\n",
        "        scores.append(avg_score)\n",
        "\n",
        "        if not mae: \n",
        "            if avg_score > threshold: \n",
        "                best_alpha = alpha\n",
        "                threshold = avg_score\n",
        "        else: \n",
        "            if avg_score < threshold: \n",
        "                best_alpha = alpha \n",
        "                threshold = avg_score\n",
        "        \n",
        "    return best_alpha, threshold, scores"
      ]
    },
    {
      "cell_type": "code",
      "execution_count": 327,
      "metadata": {},
      "outputs": [
        {
          "name": "stderr",
          "output_type": "stream",
          "text": [
            "/tmp/ipykernel_933227/4004672139.py:18: ConvergenceWarning: Optimization did not converge: Warning: Maximum number of iterations has been exceeded.\n",
            "  model.fit(X_train, y_train)\n",
            "/common/home/alw228/.local/lib/python3.10/site-packages/sksurv/svm/survival_svm.py:1226: RuntimeWarning: overflow encountered in exp\n",
            "  val = np.exp(val)\n",
            "/tmp/ipykernel_933227/4004672139.py:18: ConvergenceWarning: Optimization did not converge: Warning: Maximum number of iterations has been exceeded.\n",
            "  model.fit(X_train, y_train)\n",
            "/common/home/alw228/.local/lib/python3.10/site-packages/sksurv/svm/survival_svm.py:1226: RuntimeWarning: overflow encountered in exp\n",
            "  val = np.exp(val)\n",
            "/tmp/ipykernel_933227/4004672139.py:18: ConvergenceWarning: Optimization did not converge: Warning: Maximum number of iterations has been exceeded.\n",
            "  model.fit(X_train, y_train)\n",
            "/tmp/ipykernel_933227/4004672139.py:18: ConvergenceWarning: Optimization did not converge: Warning: Maximum number of iterations has been exceeded.\n",
            "  model.fit(X_train, y_train)\n",
            "/tmp/ipykernel_933227/4004672139.py:18: ConvergenceWarning: Optimization did not converge: Warning: Maximum number of iterations has been exceeded.\n",
            "  model.fit(X_train, y_train)\n",
            "/tmp/ipykernel_933227/4004672139.py:18: ConvergenceWarning: Optimization did not converge: Warning: Maximum number of iterations has been exceeded.\n",
            "  model.fit(X_train, y_train)\n",
            "/tmp/ipykernel_933227/4004672139.py:18: ConvergenceWarning: Optimization did not converge: Warning: Maximum number of iterations has been exceeded.\n",
            "  model.fit(X_train, y_train)\n",
            "/tmp/ipykernel_933227/4004672139.py:18: ConvergenceWarning: Optimization did not converge: Warning: Maximum number of iterations has been exceeded.\n",
            "  model.fit(X_train, y_train)\n",
            "/tmp/ipykernel_933227/4004672139.py:18: ConvergenceWarning: Optimization did not converge: Warning: Maximum number of iterations has been exceeded.\n",
            "  model.fit(X_train, y_train)\n",
            "/tmp/ipykernel_933227/4004672139.py:18: ConvergenceWarning: Optimization did not converge: Warning: Maximum number of iterations has been exceeded.\n",
            "  model.fit(X_train, y_train)\n",
            "/common/home/alw228/.local/lib/python3.10/site-packages/sksurv/svm/survival_svm.py:1226: RuntimeWarning: overflow encountered in exp\n",
            "  val = np.exp(val)\n",
            "/tmp/ipykernel_933227/4004672139.py:18: ConvergenceWarning: Optimization did not converge: Warning: Desired error not necessarily achieved due to precision loss.\n",
            "  model.fit(X_train, y_train)\n"
          ]
        }
      ],
      "source": [
        "kernels = ['sigmoid', 'poly', 'rbf']\n",
        "best_kernel, _,  _ = find_best_kernel(kernels, 10, X_train, y_train)"
      ]
    },
    {
      "cell_type": "code",
      "execution_count": 328,
      "metadata": {},
      "outputs": [
        {
          "name": "stdout",
          "output_type": "stream",
          "text": [
            "Best Kernel: poly\n"
          ]
        }
      ],
      "source": [
        "print(\"Best Kernel: \"  + best_kernel)"
      ]
    },
    {
      "cell_type": "code",
      "execution_count": 329,
      "metadata": {},
      "outputs": [
        {
          "name": "stderr",
          "output_type": "stream",
          "text": [
            "/tmp/ipykernel_933227/1769868839.py:18: ConvergenceWarning: Optimization did not converge: Warning: Desired error not necessarily achieved due to precision loss.\n",
            "  model.fit(X_train, y_train)\n",
            "/tmp/ipykernel_933227/1769868839.py:18: ConvergenceWarning: Optimization did not converge: Warning: Desired error not necessarily achieved due to precision loss.\n",
            "  model.fit(X_train, y_train)\n",
            "/tmp/ipykernel_933227/1769868839.py:18: ConvergenceWarning: Optimization did not converge: Warning: Desired error not necessarily achieved due to precision loss.\n",
            "  model.fit(X_train, y_train)\n",
            "/tmp/ipykernel_933227/1769868839.py:18: ConvergenceWarning: Optimization did not converge: Warning: Desired error not necessarily achieved due to precision loss.\n",
            "  model.fit(X_train, y_train)\n",
            "/tmp/ipykernel_933227/1769868839.py:18: ConvergenceWarning: Optimization did not converge: Warning: Desired error not necessarily achieved due to precision loss.\n",
            "  model.fit(X_train, y_train)\n",
            "/tmp/ipykernel_933227/1769868839.py:18: ConvergenceWarning: Optimization did not converge: Warning: Desired error not necessarily achieved due to precision loss.\n",
            "  model.fit(X_train, y_train)\n",
            "/tmp/ipykernel_933227/1769868839.py:18: ConvergenceWarning: Optimization did not converge: Warning: Desired error not necessarily achieved due to precision loss.\n",
            "  model.fit(X_train, y_train)\n",
            "/tmp/ipykernel_933227/1769868839.py:18: ConvergenceWarning: Optimization did not converge: Warning: Desired error not necessarily achieved due to precision loss.\n",
            "  model.fit(X_train, y_train)\n",
            "/tmp/ipykernel_933227/1769868839.py:18: ConvergenceWarning: Optimization did not converge: Warning: Desired error not necessarily achieved due to precision loss.\n",
            "  model.fit(X_train, y_train)\n",
            "/tmp/ipykernel_933227/1769868839.py:18: ConvergenceWarning: Optimization did not converge: Warning: Desired error not necessarily achieved due to precision loss.\n",
            "  model.fit(X_train, y_train)\n",
            "/tmp/ipykernel_933227/1769868839.py:18: ConvergenceWarning: Optimization did not converge: Warning: Desired error not necessarily achieved due to precision loss.\n",
            "  model.fit(X_train, y_train)\n",
            "/tmp/ipykernel_933227/1769868839.py:18: ConvergenceWarning: Optimization did not converge: Warning: Desired error not necessarily achieved due to precision loss.\n",
            "  model.fit(X_train, y_train)\n",
            "/tmp/ipykernel_933227/1769868839.py:18: ConvergenceWarning: Optimization did not converge: Warning: Desired error not necessarily achieved due to precision loss.\n",
            "  model.fit(X_train, y_train)\n",
            "/tmp/ipykernel_933227/1769868839.py:18: ConvergenceWarning: Optimization did not converge: Warning: Desired error not necessarily achieved due to precision loss.\n",
            "  model.fit(X_train, y_train)\n",
            "/tmp/ipykernel_933227/1769868839.py:18: ConvergenceWarning: Optimization did not converge: Warning: Desired error not necessarily achieved due to precision loss.\n",
            "  model.fit(X_train, y_train)\n",
            "/tmp/ipykernel_933227/1769868839.py:18: ConvergenceWarning: Optimization did not converge: Warning: Desired error not necessarily achieved due to precision loss.\n",
            "  model.fit(X_train, y_train)\n",
            "/tmp/ipykernel_933227/1769868839.py:18: ConvergenceWarning: Optimization did not converge: Warning: Desired error not necessarily achieved due to precision loss.\n",
            "  model.fit(X_train, y_train)\n",
            "/tmp/ipykernel_933227/1769868839.py:18: ConvergenceWarning: Optimization did not converge: Warning: Desired error not necessarily achieved due to precision loss.\n",
            "  model.fit(X_train, y_train)\n",
            "/tmp/ipykernel_933227/1769868839.py:18: ConvergenceWarning: Optimization did not converge: Warning: Desired error not necessarily achieved due to precision loss.\n",
            "  model.fit(X_train, y_train)\n",
            "/tmp/ipykernel_933227/1769868839.py:18: ConvergenceWarning: Optimization did not converge: Warning: Desired error not necessarily achieved due to precision loss.\n",
            "  model.fit(X_train, y_train)\n",
            "/tmp/ipykernel_933227/1769868839.py:18: ConvergenceWarning: Optimization did not converge: Warning: Desired error not necessarily achieved due to precision loss.\n",
            "  model.fit(X_train, y_train)\n",
            "/tmp/ipykernel_933227/1769868839.py:18: ConvergenceWarning: Optimization did not converge: Warning: Desired error not necessarily achieved due to precision loss.\n",
            "  model.fit(X_train, y_train)\n",
            "/tmp/ipykernel_933227/1769868839.py:18: ConvergenceWarning: Optimization did not converge: Warning: Desired error not necessarily achieved due to precision loss.\n",
            "  model.fit(X_train, y_train)\n",
            "/tmp/ipykernel_933227/1769868839.py:18: ConvergenceWarning: Optimization did not converge: Warning: Desired error not necessarily achieved due to precision loss.\n",
            "  model.fit(X_train, y_train)\n",
            "/tmp/ipykernel_933227/1769868839.py:18: ConvergenceWarning: Optimization did not converge: Warning: Desired error not necessarily achieved due to precision loss.\n",
            "  model.fit(X_train, y_train)\n",
            "/tmp/ipykernel_933227/1769868839.py:18: ConvergenceWarning: Optimization did not converge: Warning: Desired error not necessarily achieved due to precision loss.\n",
            "  model.fit(X_train, y_train)\n",
            "/tmp/ipykernel_933227/1769868839.py:18: ConvergenceWarning: Optimization did not converge: Warning: Desired error not necessarily achieved due to precision loss.\n",
            "  model.fit(X_train, y_train)\n",
            "/tmp/ipykernel_933227/1769868839.py:18: ConvergenceWarning: Optimization did not converge: Warning: Desired error not necessarily achieved due to precision loss.\n",
            "  model.fit(X_train, y_train)\n"
          ]
        }
      ],
      "source": [
        "best_alpha_svm_mae,_,_ = find_alpha_svm(np.linspace(1.01, 10, 50), 10, X_train, y_train)"
      ]
    },
    {
      "cell_type": "code",
      "execution_count": 330,
      "metadata": {},
      "outputs": [
        {
          "name": "stdout",
          "output_type": "stream",
          "text": [
            "Best Alpha: 9.816530612244899\n"
          ]
        }
      ],
      "source": [
        "print(f\"Best Alpha: {best_alpha_svm_mae}\")"
      ]
    },
    {
      "cell_type": "code",
      "execution_count": 331,
      "metadata": {},
      "outputs": [
        {
          "name": "stderr",
          "output_type": "stream",
          "text": [
            "/tmp/ipykernel_933227/1769868839.py:18: ConvergenceWarning: Optimization did not converge: Warning: Desired error not necessarily achieved due to precision loss.\n",
            "  model.fit(X_train, y_train)\n",
            "/tmp/ipykernel_933227/1769868839.py:18: ConvergenceWarning: Optimization did not converge: Warning: Desired error not necessarily achieved due to precision loss.\n",
            "  model.fit(X_train, y_train)\n",
            "/tmp/ipykernel_933227/1769868839.py:18: ConvergenceWarning: Optimization did not converge: Warning: Desired error not necessarily achieved due to precision loss.\n",
            "  model.fit(X_train, y_train)\n",
            "/tmp/ipykernel_933227/1769868839.py:18: ConvergenceWarning: Optimization did not converge: Warning: Desired error not necessarily achieved due to precision loss.\n",
            "  model.fit(X_train, y_train)\n",
            "/tmp/ipykernel_933227/1769868839.py:18: ConvergenceWarning: Optimization did not converge: Warning: Desired error not necessarily achieved due to precision loss.\n",
            "  model.fit(X_train, y_train)\n",
            "/tmp/ipykernel_933227/1769868839.py:18: ConvergenceWarning: Optimization did not converge: Warning: Desired error not necessarily achieved due to precision loss.\n",
            "  model.fit(X_train, y_train)\n",
            "/tmp/ipykernel_933227/1769868839.py:18: ConvergenceWarning: Optimization did not converge: Warning: Desired error not necessarily achieved due to precision loss.\n",
            "  model.fit(X_train, y_train)\n",
            "/tmp/ipykernel_933227/1769868839.py:18: ConvergenceWarning: Optimization did not converge: Warning: Desired error not necessarily achieved due to precision loss.\n",
            "  model.fit(X_train, y_train)\n",
            "/tmp/ipykernel_933227/1769868839.py:18: ConvergenceWarning: Optimization did not converge: Warning: Desired error not necessarily achieved due to precision loss.\n",
            "  model.fit(X_train, y_train)\n",
            "/tmp/ipykernel_933227/1769868839.py:18: ConvergenceWarning: Optimization did not converge: Warning: Desired error not necessarily achieved due to precision loss.\n",
            "  model.fit(X_train, y_train)\n",
            "/tmp/ipykernel_933227/1769868839.py:18: ConvergenceWarning: Optimization did not converge: Warning: Desired error not necessarily achieved due to precision loss.\n",
            "  model.fit(X_train, y_train)\n",
            "/tmp/ipykernel_933227/1769868839.py:18: ConvergenceWarning: Optimization did not converge: Warning: Desired error not necessarily achieved due to precision loss.\n",
            "  model.fit(X_train, y_train)\n",
            "/tmp/ipykernel_933227/1769868839.py:18: ConvergenceWarning: Optimization did not converge: Warning: Desired error not necessarily achieved due to precision loss.\n",
            "  model.fit(X_train, y_train)\n",
            "/tmp/ipykernel_933227/1769868839.py:18: ConvergenceWarning: Optimization did not converge: Warning: Desired error not necessarily achieved due to precision loss.\n",
            "  model.fit(X_train, y_train)\n",
            "/tmp/ipykernel_933227/1769868839.py:18: ConvergenceWarning: Optimization did not converge: Warning: Desired error not necessarily achieved due to precision loss.\n",
            "  model.fit(X_train, y_train)\n",
            "/tmp/ipykernel_933227/1769868839.py:18: ConvergenceWarning: Optimization did not converge: Warning: Desired error not necessarily achieved due to precision loss.\n",
            "  model.fit(X_train, y_train)\n",
            "/tmp/ipykernel_933227/1769868839.py:18: ConvergenceWarning: Optimization did not converge: Warning: Desired error not necessarily achieved due to precision loss.\n",
            "  model.fit(X_train, y_train)\n",
            "/tmp/ipykernel_933227/1769868839.py:18: ConvergenceWarning: Optimization did not converge: Warning: Desired error not necessarily achieved due to precision loss.\n",
            "  model.fit(X_train, y_train)\n",
            "/tmp/ipykernel_933227/1769868839.py:18: ConvergenceWarning: Optimization did not converge: Warning: Desired error not necessarily achieved due to precision loss.\n",
            "  model.fit(X_train, y_train)\n",
            "/tmp/ipykernel_933227/1769868839.py:18: ConvergenceWarning: Optimization did not converge: Warning: Desired error not necessarily achieved due to precision loss.\n",
            "  model.fit(X_train, y_train)\n",
            "/tmp/ipykernel_933227/1769868839.py:18: ConvergenceWarning: Optimization did not converge: Warning: Desired error not necessarily achieved due to precision loss.\n",
            "  model.fit(X_train, y_train)\n",
            "/tmp/ipykernel_933227/1769868839.py:18: ConvergenceWarning: Optimization did not converge: Warning: Desired error not necessarily achieved due to precision loss.\n",
            "  model.fit(X_train, y_train)\n",
            "/tmp/ipykernel_933227/1769868839.py:18: ConvergenceWarning: Optimization did not converge: Warning: Desired error not necessarily achieved due to precision loss.\n",
            "  model.fit(X_train, y_train)\n",
            "/tmp/ipykernel_933227/1769868839.py:18: ConvergenceWarning: Optimization did not converge: Warning: Desired error not necessarily achieved due to precision loss.\n",
            "  model.fit(X_train, y_train)\n",
            "/tmp/ipykernel_933227/1769868839.py:18: ConvergenceWarning: Optimization did not converge: Warning: Desired error not necessarily achieved due to precision loss.\n",
            "  model.fit(X_train, y_train)\n",
            "/tmp/ipykernel_933227/1769868839.py:18: ConvergenceWarning: Optimization did not converge: Warning: Desired error not necessarily achieved due to precision loss.\n",
            "  model.fit(X_train, y_train)\n",
            "/tmp/ipykernel_933227/1769868839.py:18: ConvergenceWarning: Optimization did not converge: Warning: Desired error not necessarily achieved due to precision loss.\n",
            "  model.fit(X_train, y_train)\n"
          ]
        }
      ],
      "source": [
        "best_alpha_svm_c,_,_ = find_alpha_svm(np.linspace(1.01, 10, 50), 10, X_train, y_train, False)"
      ]
    },
    {
      "cell_type": "code",
      "execution_count": 332,
      "metadata": {},
      "outputs": [
        {
          "name": "stdout",
          "output_type": "stream",
          "text": [
            "Best Alpha for C-Index: 1.01\n"
          ]
        }
      ],
      "source": [
        "print(f\"Best Alpha for C-Index: {best_alpha_svm_c}\")"
      ]
    },
    {
      "cell_type": "code",
      "execution_count": 334,
      "metadata": {},
      "outputs": [
        {
          "name": "stdout",
          "output_type": "stream",
          "text": [
            "Validation Average MAE of Poly Kernel: 471.1587049234844\n",
            "Validation Average C-Index of Poly Kernel: 0.8171957671957673\n"
          ]
        }
      ],
      "source": [
        "kssvmk_m = FastKernelSurvivalSVM(rank_ratio = 0.0, fit_intercept = True, max_iter = 10000, kernel = 'poly', alpha = best_alpha_svm_mae)\n",
        "kssvmk_c = FastKernelSurvivalSVM(rank_ratio = 0.0, fit_intercept = True, max_iter = 10000, kernel = 'poly', alpha = best_alpha_svm_c)\n",
        "svm_poly_mae_val = cv_svm(kssvmk_m, X_train, y_train, 10)\n",
        "svm_poly_c_val = cv_svm(kssvmk_c, X_train, y_train, 10, False)\n",
        "print(f\"Validation Average MAE of Poly Kernel: {np.mean(svm_poly_mae_val)}\")\n",
        "print(f\"Validation Average C-Index of Poly Kernel: {np.mean(svm_poly_c_val)}\")\n",
        "\n"
      ]
    },
    {
      "cell_type": "code",
      "execution_count": 267,
      "metadata": {},
      "outputs": [
        {
          "name": "stdout",
          "output_type": "stream",
          "text": [
            "Final Test Loss for SVM MAE: 557.8364824404881\n",
            "Final Test Loss for SVM C-Index: 0.8070652173913043\n"
          ]
        }
      ],
      "source": [
        "final_kernel_mae = train_svm(kssvmk_m, X_train, X_test, y_train, y_test)\n",
        "final_kernel_c = train_svm(kssvmk_c, X_train, X_test, y_train, y_test, False)\n",
        "print(f\"Final Test Loss for SVM MAE: {final_kernel_mae}\")\n",
        "print(f\"Final Test Loss for SVM C-Index: {final_kernel_c}\")"
      ]
    },
    {
      "cell_type": "markdown",
      "metadata": {},
      "source": [
        "## Random Survival Forest"
      ]
    },
    {
      "cell_type": "markdown",
      "metadata": {},
      "source": [
        "## MTLR"
      ]
    },
    {
      "cell_type": "markdown",
      "metadata": {},
      "source": [
        "## Deep MTLR"
      ]
    },
    {
      "cell_type": "markdown",
      "metadata": {},
      "source": []
    }
  ],
  "metadata": {
    "colab": {
      "authorship_tag": "ABX9TyNsrYBOz+A6GqrpYgD5znnn",
      "include_colab_link": true,
      "provenance": []
    },
    "kernelspec": {
      "display_name": "Python 3",
      "name": "python3"
    },
    "language_info": {
      "codemirror_mode": {
        "name": "ipython",
        "version": 3
      },
      "file_extension": ".py",
      "mimetype": "text/x-python",
      "name": "python",
      "nbconvert_exporter": "python",
      "pygments_lexer": "ipython3",
      "version": "3.10.12"
    }
  },
  "nbformat": 4,
  "nbformat_minor": 0
}
