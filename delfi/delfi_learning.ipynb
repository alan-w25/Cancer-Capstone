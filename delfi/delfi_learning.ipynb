{
  "cells": [
    {
      "cell_type": "markdown",
      "metadata": {
        "colab_type": "text",
        "id": "view-in-github"
      },
      "source": [
        "<a href=\"https://colab.research.google.com/github/alan-w25/Cancer-Capstone/blob/main/delfi/delfi_learning.ipynb\" target=\"_parent\"><img src=\"https://colab.research.google.com/assets/colab-badge.svg\" alt=\"Open In Colab\"/></a>"
      ]
    },
    {
      "cell_type": "markdown",
      "metadata": {
        "id": "Tx9r1Wql4cBE"
      },
      "source": [
        "# Introduction"
      ]
    },
    {
      "cell_type": "markdown",
      "metadata": {
        "id": "A1gzD7yS4fWl"
      },
      "source": [
        "We will begin to test many models to predict the days alive variable. Procedure we will follow:\n",
        "1. Choose a model\n",
        "1. Choose Objective function\n",
        "1. Choose learning algorithm\n",
        "1. Add in regularization, adjust hyperparameters, etc\n",
        "\n",
        "First we will just test the models with all the features, and do some feature selection if need be for statistical methods. It seems that for clinical relevance, we should indeed keep all the samples and should not drop any features of interest"
      ]
    },
    {
      "cell_type": "markdown",
      "metadata": {
        "id": "8OECXyPmvTzw"
      },
      "source": [
        "This document will comprise of all the testing of learning models for the delfi_score data. We are aiming to predict the days_alive variable with the survival_status as our event occured indicator. There are several ML methods in literature that have good results and we will use those and other methods to obtain the best results with our data. <br>\n",
        "\n",
        "Before applying any models, there are two considerations that we can make to transform our data. First, we can uncensor the data, if the number of censored samples is not too great. This method could cause bias in terms of traditional methods <br>\n",
        "\n",
        "The models that we will be testing have several categories:\n",
        "1. Linear Models\n",
        "1. Tree Ensemble Methods\n",
        "1. Neural Networks\n",
        "1. Deep Methods\n",
        "\n"
      ]
    },
    {
      "cell_type": "markdown",
      "metadata": {
        "id": "8jDT0CTXeyAt"
      },
      "source": [
        "The following procedure will be what we will follow to determine the 'time to death', or the 'days_alive' variable. We will use the models to model the ISDs (individual survival distribution) of the samples and then from there we will use the median time as the survival time. K-fold cross validation will be used to validate the models"
      ]
    },
    {
      "cell_type": "markdown",
      "metadata": {},
      "source": [
        "Want to use the kaplan-meier curve and the evaluation of those metrics to act as our baseline"
      ]
    },
    {
      "cell_type": "code",
      "execution_count": 4,
      "metadata": {
        "colab": {
          "base_uri": "https://localhost:8080/"
        },
        "id": "eUzlsWHOt2eY",
        "outputId": "d84520f7-18e2-4f71-abe9-b1302c0f4445"
      },
      "outputs": [
        {
          "name": "stdout",
          "output_type": "stream",
          "text": [
            "Defaulting to user installation because normal site-packages is not writeable\n",
            "Requirement already satisfied: scikit-survival in /common/home/alw228/.local/lib/python3.10/site-packages (0.22.2)\n",
            "Requirement already satisfied: scikit-learn<1.4,>=1.3.0 in /common/home/alw228/.local/lib/python3.10/site-packages (from scikit-survival) (1.3.2)\n",
            "Requirement already satisfied: numexpr in /common/home/alw228/.local/lib/python3.10/site-packages (from scikit-survival) (2.9.0)\n",
            "Requirement already satisfied: ecos in /common/home/alw228/.local/lib/python3.10/site-packages (from scikit-survival) (2.0.13)\n",
            "Requirement already satisfied: joblib in /common/home/alw228/.local/lib/python3.10/site-packages (from scikit-survival) (1.3.2)\n",
            "Requirement already satisfied: pandas>=1.0.5 in /common/home/alw228/.local/lib/python3.10/site-packages (from scikit-survival) (2.2.1)\n",
            "Requirement already satisfied: osqp!=0.6.0,!=0.6.1 in /common/home/alw228/.local/lib/python3.10/site-packages (from scikit-survival) (0.6.5)\n",
            "Requirement already satisfied: numpy in /common/home/alw228/.local/lib/python3.10/site-packages (from scikit-survival) (1.26.4)\n",
            "Requirement already satisfied: scipy>=1.3.2 in /common/home/alw228/.local/lib/python3.10/site-packages (from scikit-survival) (1.11.4)\n",
            "Requirement already satisfied: qdldl in /common/home/alw228/.local/lib/python3.10/site-packages (from osqp!=0.6.0,!=0.6.1->scikit-survival) (0.1.7.post0)\n",
            "Requirement already satisfied: pytz>=2020.1 in /usr/lib/python3/dist-packages (from pandas>=1.0.5->scikit-survival) (2022.1)\n",
            "Requirement already satisfied: tzdata>=2022.7 in /common/home/alw228/.local/lib/python3.10/site-packages (from pandas>=1.0.5->scikit-survival) (2024.1)\n",
            "Requirement already satisfied: python-dateutil>=2.8.2 in /common/home/alw228/.local/lib/python3.10/site-packages (from pandas>=1.0.5->scikit-survival) (2.9.0.post0)\n",
            "Requirement already satisfied: threadpoolctl>=2.0.0 in /common/home/alw228/.local/lib/python3.10/site-packages (from scikit-learn<1.4,>=1.3.0->scikit-survival) (3.4.0)\n",
            "Requirement already satisfied: six>=1.5 in /usr/lib/python3/dist-packages (from python-dateutil>=2.8.2->pandas>=1.0.5->scikit-survival) (1.16.0)\n"
          ]
        }
      ],
      "source": [
        "!pip install scikit-survival"
      ]
    },
    {
      "cell_type": "markdown",
      "metadata": {
        "id": "PRKPNccF9Wcd"
      },
      "source": [
        "# Setting up the data"
      ]
    },
    {
      "cell_type": "code",
      "execution_count": 5,
      "metadata": {
        "id": "g12yX5Tx9cyZ"
      },
      "outputs": [],
      "source": [
        "import pandas as pd\n",
        "import numpy as np\n",
        "import sklearn as skl\n",
        "import matplotlib.pyplot as plt\n"
      ]
    },
    {
      "cell_type": "code",
      "execution_count": 6,
      "metadata": {
        "colab": {
          "base_uri": "https://localhost:8080/",
          "height": 244
        },
        "id": "J6SjesTR9YtL",
        "outputId": "cdebe23c-2162-4589-f223-3109c960473f"
      },
      "outputs": [
        {
          "data": {
            "text/html": [
              "<div>\n",
              "<style scoped>\n",
              "    .dataframe tbody tr th:only-of-type {\n",
              "        vertical-align: middle;\n",
              "    }\n",
              "\n",
              "    .dataframe tbody tr th {\n",
              "        vertical-align: top;\n",
              "    }\n",
              "\n",
              "    .dataframe thead th {\n",
              "        text-align: right;\n",
              "    }\n",
              "</style>\n",
              "<table border=\"1\" class=\"dataframe\">\n",
              "  <thead>\n",
              "    <tr style=\"text-align: right;\">\n",
              "      <th></th>\n",
              "      <th>survival_status</th>\n",
              "      <th>days_alive</th>\n",
              "      <th>delfi_score</th>\n",
              "      <th>stage_I</th>\n",
              "      <th>stage_II</th>\n",
              "      <th>stage_III</th>\n",
              "      <th>stage_IV</th>\n",
              "      <th>treatment_Chemotherapy/Radiation with curative intent</th>\n",
              "      <th>treatment_No treatment</th>\n",
              "      <th>treatment_Palliative Chemotherapy/Radiation</th>\n",
              "      <th>treatment_Surgery</th>\n",
              "      <th>treatment_Surgery+adjuvant treatment</th>\n",
              "    </tr>\n",
              "  </thead>\n",
              "  <tbody>\n",
              "    <tr>\n",
              "      <th>0</th>\n",
              "      <td>1</td>\n",
              "      <td>1059</td>\n",
              "      <td>0.099037</td>\n",
              "      <td>1</td>\n",
              "      <td>0</td>\n",
              "      <td>0</td>\n",
              "      <td>0</td>\n",
              "      <td>0</td>\n",
              "      <td>0</td>\n",
              "      <td>0</td>\n",
              "      <td>1</td>\n",
              "      <td>0</td>\n",
              "    </tr>\n",
              "    <tr>\n",
              "      <th>1</th>\n",
              "      <td>1</td>\n",
              "      <td>1640</td>\n",
              "      <td>0.533453</td>\n",
              "      <td>1</td>\n",
              "      <td>0</td>\n",
              "      <td>0</td>\n",
              "      <td>0</td>\n",
              "      <td>0</td>\n",
              "      <td>0</td>\n",
              "      <td>0</td>\n",
              "      <td>1</td>\n",
              "      <td>0</td>\n",
              "    </tr>\n",
              "    <tr>\n",
              "      <th>2</th>\n",
              "      <td>1</td>\n",
              "      <td>101</td>\n",
              "      <td>0.822662</td>\n",
              "      <td>0</td>\n",
              "      <td>0</td>\n",
              "      <td>0</td>\n",
              "      <td>1</td>\n",
              "      <td>0</td>\n",
              "      <td>0</td>\n",
              "      <td>1</td>\n",
              "      <td>0</td>\n",
              "      <td>0</td>\n",
              "    </tr>\n",
              "    <tr>\n",
              "      <th>3</th>\n",
              "      <td>1</td>\n",
              "      <td>1228</td>\n",
              "      <td>0.238950</td>\n",
              "      <td>0</td>\n",
              "      <td>0</td>\n",
              "      <td>0</td>\n",
              "      <td>1</td>\n",
              "      <td>0</td>\n",
              "      <td>0</td>\n",
              "      <td>1</td>\n",
              "      <td>0</td>\n",
              "      <td>0</td>\n",
              "    </tr>\n",
              "    <tr>\n",
              "      <th>4</th>\n",
              "      <td>1</td>\n",
              "      <td>754</td>\n",
              "      <td>0.199820</td>\n",
              "      <td>0</td>\n",
              "      <td>0</td>\n",
              "      <td>1</td>\n",
              "      <td>0</td>\n",
              "      <td>1</td>\n",
              "      <td>0</td>\n",
              "      <td>0</td>\n",
              "      <td>0</td>\n",
              "      <td>0</td>\n",
              "    </tr>\n",
              "  </tbody>\n",
              "</table>\n",
              "</div>"
            ],
            "text/plain": [
              "   survival_status  days_alive  delfi_score  stage_I  stage_II  stage_III  \\\n",
              "0                1        1059     0.099037        1         0          0   \n",
              "1                1        1640     0.533453        1         0          0   \n",
              "2                1         101     0.822662        0         0          0   \n",
              "3                1        1228     0.238950        0         0          0   \n",
              "4                1         754     0.199820        0         0          1   \n",
              "\n",
              "   stage_IV  treatment_Chemotherapy/Radiation with curative intent  \\\n",
              "0         0                                                  0       \n",
              "1         0                                                  0       \n",
              "2         1                                                  0       \n",
              "3         1                                                  0       \n",
              "4         0                                                  1       \n",
              "\n",
              "   treatment_No treatment  treatment_Palliative Chemotherapy/Radiation  \\\n",
              "0                       0                                            0   \n",
              "1                       0                                            0   \n",
              "2                       0                                            1   \n",
              "3                       0                                            1   \n",
              "4                       0                                            0   \n",
              "\n",
              "   treatment_Surgery  treatment_Surgery+adjuvant treatment  \n",
              "0                  1                                     0  \n",
              "1                  1                                     0  \n",
              "2                  0                                     0  \n",
              "3                  0                                     0  \n",
              "4                  0                                     0  "
            ]
          },
          "execution_count": 6,
          "metadata": {},
          "output_type": "execute_result"
        }
      ],
      "source": [
        "data = pd.read_csv('data_Lucas_encoded.csv', index_col=[0])\n",
        "data.head()"
      ]
    },
    {
      "cell_type": "code",
      "execution_count": 7,
      "metadata": {
        "colab": {
          "base_uri": "https://localhost:8080/",
          "height": 244
        },
        "id": "B-uokWN87zpj",
        "outputId": "356a1a18-3620-4e12-c5dd-56b3977ba904"
      },
      "outputs": [
        {
          "data": {
            "text/html": [
              "<div>\n",
              "<style scoped>\n",
              "    .dataframe tbody tr th:only-of-type {\n",
              "        vertical-align: middle;\n",
              "    }\n",
              "\n",
              "    .dataframe tbody tr th {\n",
              "        vertical-align: top;\n",
              "    }\n",
              "\n",
              "    .dataframe thead th {\n",
              "        text-align: right;\n",
              "    }\n",
              "</style>\n",
              "<table border=\"1\" class=\"dataframe\">\n",
              "  <thead>\n",
              "    <tr style=\"text-align: right;\">\n",
              "      <th></th>\n",
              "      <th>survival_status</th>\n",
              "      <th>days_alive</th>\n",
              "      <th>delfi_score</th>\n",
              "      <th>stage_I</th>\n",
              "      <th>stage_II</th>\n",
              "      <th>stage_III</th>\n",
              "      <th>stage_IV</th>\n",
              "      <th>treatment_Chemotherapy/Radiation with curative intent</th>\n",
              "      <th>treatment_No treatment</th>\n",
              "      <th>treatment_Palliative Chemotherapy/Radiation</th>\n",
              "      <th>treatment_Surgery</th>\n",
              "      <th>treatment_Surgery+adjuvant treatment</th>\n",
              "    </tr>\n",
              "  </thead>\n",
              "  <tbody>\n",
              "    <tr>\n",
              "      <th>0</th>\n",
              "      <td>True</td>\n",
              "      <td>1059</td>\n",
              "      <td>0.099037</td>\n",
              "      <td>1</td>\n",
              "      <td>0</td>\n",
              "      <td>0</td>\n",
              "      <td>0</td>\n",
              "      <td>0</td>\n",
              "      <td>0</td>\n",
              "      <td>0</td>\n",
              "      <td>1</td>\n",
              "      <td>0</td>\n",
              "    </tr>\n",
              "    <tr>\n",
              "      <th>1</th>\n",
              "      <td>True</td>\n",
              "      <td>1640</td>\n",
              "      <td>0.533453</td>\n",
              "      <td>1</td>\n",
              "      <td>0</td>\n",
              "      <td>0</td>\n",
              "      <td>0</td>\n",
              "      <td>0</td>\n",
              "      <td>0</td>\n",
              "      <td>0</td>\n",
              "      <td>1</td>\n",
              "      <td>0</td>\n",
              "    </tr>\n",
              "    <tr>\n",
              "      <th>2</th>\n",
              "      <td>True</td>\n",
              "      <td>101</td>\n",
              "      <td>0.822662</td>\n",
              "      <td>0</td>\n",
              "      <td>0</td>\n",
              "      <td>0</td>\n",
              "      <td>1</td>\n",
              "      <td>0</td>\n",
              "      <td>0</td>\n",
              "      <td>1</td>\n",
              "      <td>0</td>\n",
              "      <td>0</td>\n",
              "    </tr>\n",
              "    <tr>\n",
              "      <th>3</th>\n",
              "      <td>True</td>\n",
              "      <td>1228</td>\n",
              "      <td>0.238950</td>\n",
              "      <td>0</td>\n",
              "      <td>0</td>\n",
              "      <td>0</td>\n",
              "      <td>1</td>\n",
              "      <td>0</td>\n",
              "      <td>0</td>\n",
              "      <td>1</td>\n",
              "      <td>0</td>\n",
              "      <td>0</td>\n",
              "    </tr>\n",
              "    <tr>\n",
              "      <th>4</th>\n",
              "      <td>True</td>\n",
              "      <td>754</td>\n",
              "      <td>0.199820</td>\n",
              "      <td>0</td>\n",
              "      <td>0</td>\n",
              "      <td>1</td>\n",
              "      <td>0</td>\n",
              "      <td>1</td>\n",
              "      <td>0</td>\n",
              "      <td>0</td>\n",
              "      <td>0</td>\n",
              "      <td>0</td>\n",
              "    </tr>\n",
              "  </tbody>\n",
              "</table>\n",
              "</div>"
            ],
            "text/plain": [
              "   survival_status  days_alive  delfi_score  stage_I  stage_II  stage_III  \\\n",
              "0             True        1059     0.099037        1         0          0   \n",
              "1             True        1640     0.533453        1         0          0   \n",
              "2             True         101     0.822662        0         0          0   \n",
              "3             True        1228     0.238950        0         0          0   \n",
              "4             True         754     0.199820        0         0          1   \n",
              "\n",
              "   stage_IV  treatment_Chemotherapy/Radiation with curative intent  \\\n",
              "0         0                                                  0       \n",
              "1         0                                                  0       \n",
              "2         1                                                  0       \n",
              "3         1                                                  0       \n",
              "4         0                                                  1       \n",
              "\n",
              "   treatment_No treatment  treatment_Palliative Chemotherapy/Radiation  \\\n",
              "0                       0                                            0   \n",
              "1                       0                                            0   \n",
              "2                       0                                            1   \n",
              "3                       0                                            1   \n",
              "4                       0                                            0   \n",
              "\n",
              "   treatment_Surgery  treatment_Surgery+adjuvant treatment  \n",
              "0                  1                                     0  \n",
              "1                  1                                     0  \n",
              "2                  0                                     0  \n",
              "3                  0                                     0  \n",
              "4                  0                                     0  "
            ]
          },
          "execution_count": 7,
          "metadata": {},
          "output_type": "execute_result"
        }
      ],
      "source": [
        "data['survival_status'] = data['survival_status'].astype('bool')\n",
        "data.head()"
      ]
    },
    {
      "cell_type": "code",
      "execution_count": 8,
      "metadata": {
        "colab": {
          "base_uri": "https://localhost:8080/"
        },
        "id": "q0rRpJLu4ZSr",
        "outputId": "137f5ce5-c33d-4938-eba0-c908327a2dbb"
      },
      "outputs": [
        {
          "name": "stdout",
          "output_type": "stream",
          "text": [
            "X Matrix: \n",
            "   delfi_score  stage_I  stage_II  stage_III  stage_IV  \\\n",
            "0     0.099037        1         0          0         0   \n",
            "1     0.533453        1         0          0         0   \n",
            "2     0.822662        0         0          0         1   \n",
            "3     0.238950        0         0          0         1   \n",
            "4     0.199820        0         0          1         0   \n",
            "\n",
            "   treatment_Chemotherapy/Radiation with curative intent  \\\n",
            "0                                                  0       \n",
            "1                                                  0       \n",
            "2                                                  0       \n",
            "3                                                  0       \n",
            "4                                                  1       \n",
            "\n",
            "   treatment_No treatment  treatment_Palliative Chemotherapy/Radiation  \\\n",
            "0                       0                                            0   \n",
            "1                       0                                            0   \n",
            "2                       0                                            1   \n",
            "3                       0                                            1   \n",
            "4                       0                                            0   \n",
            "\n",
            "   treatment_Surgery  treatment_Surgery+adjuvant treatment  \n",
            "0                  1                                     0  \n",
            "1                  1                                     0  \n",
            "2                  0                                     0  \n",
            "3                  0                                     0  \n",
            "4                  0                                     0  \n",
            "\n",
            "Y Matrix: \n",
            "[( True, 1640.) ( True,  101.) ( True, 1228.) ( True,  754.)]\n"
          ]
        }
      ],
      "source": [
        "Y = data[['survival_status', 'days_alive']]\n",
        "Y = np.array(list(zip(data['survival_status'], data['days_alive'])),\n",
        "             dtype = [('survival_status', 'bool'), ('days_alive', 'float')])\n",
        "X = data.drop(['survival_status', 'days_alive', ], axis = 1)\n",
        "print(\"X Matrix: \")\n",
        "print(X.head())\n",
        "print()\n",
        "\n",
        "print(\"Y Matrix: \")\n",
        "print(Y[1:5])\n"
      ]
    },
    {
      "cell_type": "code",
      "execution_count": 37,
      "metadata": {
        "id": "fDfUnSaCuyfG"
      },
      "outputs": [],
      "source": [
        "from sklearn.model_selection import train_test_split\n",
        "X_train, X_test, y_train, y_test = train_test_split(X, Y, test_size = 0.25, random_state = 42)"
      ]
    },
    {
      "cell_type": "code",
      "execution_count": 10,
      "metadata": {
        "colab": {
          "base_uri": "https://localhost:8080/",
          "height": 224
        },
        "id": "rg-fs_AMvFSZ",
        "outputId": "9cc8ec6b-5611-46f3-c1a2-534fe0c70102"
      },
      "outputs": [
        {
          "data": {
            "text/html": [
              "<div>\n",
              "<style scoped>\n",
              "    .dataframe tbody tr th:only-of-type {\n",
              "        vertical-align: middle;\n",
              "    }\n",
              "\n",
              "    .dataframe tbody tr th {\n",
              "        vertical-align: top;\n",
              "    }\n",
              "\n",
              "    .dataframe thead th {\n",
              "        text-align: right;\n",
              "    }\n",
              "</style>\n",
              "<table border=\"1\" class=\"dataframe\">\n",
              "  <thead>\n",
              "    <tr style=\"text-align: right;\">\n",
              "      <th></th>\n",
              "      <th>delfi_score</th>\n",
              "      <th>stage_I</th>\n",
              "      <th>stage_II</th>\n",
              "      <th>stage_III</th>\n",
              "      <th>stage_IV</th>\n",
              "      <th>treatment_Chemotherapy/Radiation with curative intent</th>\n",
              "      <th>treatment_No treatment</th>\n",
              "      <th>treatment_Palliative Chemotherapy/Radiation</th>\n",
              "      <th>treatment_Surgery</th>\n",
              "      <th>treatment_Surgery+adjuvant treatment</th>\n",
              "    </tr>\n",
              "  </thead>\n",
              "  <tbody>\n",
              "    <tr>\n",
              "      <th>42</th>\n",
              "      <td>0.727061</td>\n",
              "      <td>0</td>\n",
              "      <td>0</td>\n",
              "      <td>0</td>\n",
              "      <td>1</td>\n",
              "      <td>0</td>\n",
              "      <td>0</td>\n",
              "      <td>1</td>\n",
              "      <td>0</td>\n",
              "      <td>0</td>\n",
              "    </tr>\n",
              "    <tr>\n",
              "      <th>48</th>\n",
              "      <td>0.689594</td>\n",
              "      <td>0</td>\n",
              "      <td>0</td>\n",
              "      <td>0</td>\n",
              "      <td>1</td>\n",
              "      <td>0</td>\n",
              "      <td>0</td>\n",
              "      <td>1</td>\n",
              "      <td>0</td>\n",
              "      <td>0</td>\n",
              "    </tr>\n",
              "    <tr>\n",
              "      <th>74</th>\n",
              "      <td>1.000000</td>\n",
              "      <td>0</td>\n",
              "      <td>0</td>\n",
              "      <td>1</td>\n",
              "      <td>0</td>\n",
              "      <td>1</td>\n",
              "      <td>0</td>\n",
              "      <td>0</td>\n",
              "      <td>0</td>\n",
              "      <td>0</td>\n",
              "    </tr>\n",
              "    <tr>\n",
              "      <th>88</th>\n",
              "      <td>1.000000</td>\n",
              "      <td>0</td>\n",
              "      <td>0</td>\n",
              "      <td>1</td>\n",
              "      <td>0</td>\n",
              "      <td>0</td>\n",
              "      <td>1</td>\n",
              "      <td>0</td>\n",
              "      <td>0</td>\n",
              "      <td>0</td>\n",
              "    </tr>\n",
              "    <tr>\n",
              "      <th>78</th>\n",
              "      <td>1.000000</td>\n",
              "      <td>0</td>\n",
              "      <td>0</td>\n",
              "      <td>0</td>\n",
              "      <td>1</td>\n",
              "      <td>0</td>\n",
              "      <td>1</td>\n",
              "      <td>0</td>\n",
              "      <td>0</td>\n",
              "      <td>0</td>\n",
              "    </tr>\n",
              "  </tbody>\n",
              "</table>\n",
              "</div>"
            ],
            "text/plain": [
              "    delfi_score  stage_I  stage_II  stage_III  stage_IV  \\\n",
              "42     0.727061        0         0          0         1   \n",
              "48     0.689594        0         0          0         1   \n",
              "74     1.000000        0         0          1         0   \n",
              "88     1.000000        0         0          1         0   \n",
              "78     1.000000        0         0          0         1   \n",
              "\n",
              "    treatment_Chemotherapy/Radiation with curative intent  \\\n",
              "42                                                  0       \n",
              "48                                                  0       \n",
              "74                                                  1       \n",
              "88                                                  0       \n",
              "78                                                  0       \n",
              "\n",
              "    treatment_No treatment  treatment_Palliative Chemotherapy/Radiation  \\\n",
              "42                       0                                            1   \n",
              "48                       0                                            1   \n",
              "74                       0                                            0   \n",
              "88                       1                                            0   \n",
              "78                       1                                            0   \n",
              "\n",
              "    treatment_Surgery  treatment_Surgery+adjuvant treatment  \n",
              "42                  0                                     0  \n",
              "48                  0                                     0  \n",
              "74                  0                                     0  \n",
              "88                  0                                     0  \n",
              "78                  0                                     0  "
            ]
          },
          "execution_count": 10,
          "metadata": {},
          "output_type": "execute_result"
        }
      ],
      "source": [
        "X_train.head()"
      ]
    },
    {
      "cell_type": "code",
      "execution_count": 11,
      "metadata": {
        "colab": {
          "base_uri": "https://localhost:8080/",
          "height": 224
        },
        "id": "B8Ux1QgLvHVS",
        "outputId": "7dc9c02a-87a1-4c51-b9f2-ea0fab59815d"
      },
      "outputs": [
        {
          "data": {
            "text/html": [
              "<div>\n",
              "<style scoped>\n",
              "    .dataframe tbody tr th:only-of-type {\n",
              "        vertical-align: middle;\n",
              "    }\n",
              "\n",
              "    .dataframe tbody tr th {\n",
              "        vertical-align: top;\n",
              "    }\n",
              "\n",
              "    .dataframe thead th {\n",
              "        text-align: right;\n",
              "    }\n",
              "</style>\n",
              "<table border=\"1\" class=\"dataframe\">\n",
              "  <thead>\n",
              "    <tr style=\"text-align: right;\">\n",
              "      <th></th>\n",
              "      <th>delfi_score</th>\n",
              "      <th>stage_I</th>\n",
              "      <th>stage_II</th>\n",
              "      <th>stage_III</th>\n",
              "      <th>stage_IV</th>\n",
              "      <th>treatment_Chemotherapy/Radiation with curative intent</th>\n",
              "      <th>treatment_No treatment</th>\n",
              "      <th>treatment_Palliative Chemotherapy/Radiation</th>\n",
              "      <th>treatment_Surgery</th>\n",
              "      <th>treatment_Surgery+adjuvant treatment</th>\n",
              "    </tr>\n",
              "  </thead>\n",
              "  <tbody>\n",
              "    <tr>\n",
              "      <th>2</th>\n",
              "      <td>0.822662</td>\n",
              "      <td>0</td>\n",
              "      <td>0</td>\n",
              "      <td>0</td>\n",
              "      <td>1</td>\n",
              "      <td>0</td>\n",
              "      <td>0</td>\n",
              "      <td>1</td>\n",
              "      <td>0</td>\n",
              "      <td>0</td>\n",
              "    </tr>\n",
              "    <tr>\n",
              "      <th>30</th>\n",
              "      <td>0.359992</td>\n",
              "      <td>0</td>\n",
              "      <td>0</td>\n",
              "      <td>0</td>\n",
              "      <td>1</td>\n",
              "      <td>1</td>\n",
              "      <td>0</td>\n",
              "      <td>0</td>\n",
              "      <td>0</td>\n",
              "      <td>0</td>\n",
              "    </tr>\n",
              "    <tr>\n",
              "      <th>56</th>\n",
              "      <td>0.999768</td>\n",
              "      <td>0</td>\n",
              "      <td>0</td>\n",
              "      <td>1</td>\n",
              "      <td>0</td>\n",
              "      <td>1</td>\n",
              "      <td>0</td>\n",
              "      <td>0</td>\n",
              "      <td>0</td>\n",
              "      <td>0</td>\n",
              "    </tr>\n",
              "    <tr>\n",
              "      <th>16</th>\n",
              "      <td>0.277712</td>\n",
              "      <td>0</td>\n",
              "      <td>0</td>\n",
              "      <td>1</td>\n",
              "      <td>0</td>\n",
              "      <td>0</td>\n",
              "      <td>0</td>\n",
              "      <td>1</td>\n",
              "      <td>0</td>\n",
              "      <td>0</td>\n",
              "    </tr>\n",
              "    <tr>\n",
              "      <th>13</th>\n",
              "      <td>0.097588</td>\n",
              "      <td>1</td>\n",
              "      <td>0</td>\n",
              "      <td>0</td>\n",
              "      <td>0</td>\n",
              "      <td>0</td>\n",
              "      <td>0</td>\n",
              "      <td>0</td>\n",
              "      <td>1</td>\n",
              "      <td>0</td>\n",
              "    </tr>\n",
              "  </tbody>\n",
              "</table>\n",
              "</div>"
            ],
            "text/plain": [
              "    delfi_score  stage_I  stage_II  stage_III  stage_IV  \\\n",
              "2      0.822662        0         0          0         1   \n",
              "30     0.359992        0         0          0         1   \n",
              "56     0.999768        0         0          1         0   \n",
              "16     0.277712        0         0          1         0   \n",
              "13     0.097588        1         0          0         0   \n",
              "\n",
              "    treatment_Chemotherapy/Radiation with curative intent  \\\n",
              "2                                                   0       \n",
              "30                                                  1       \n",
              "56                                                  1       \n",
              "16                                                  0       \n",
              "13                                                  0       \n",
              "\n",
              "    treatment_No treatment  treatment_Palliative Chemotherapy/Radiation  \\\n",
              "2                        0                                            1   \n",
              "30                       0                                            0   \n",
              "56                       0                                            0   \n",
              "16                       0                                            1   \n",
              "13                       0                                            0   \n",
              "\n",
              "    treatment_Surgery  treatment_Surgery+adjuvant treatment  \n",
              "2                   0                                     0  \n",
              "30                  0                                     0  \n",
              "56                  0                                     0  \n",
              "16                  0                                     0  \n",
              "13                  1                                     0  "
            ]
          },
          "execution_count": 11,
          "metadata": {},
          "output_type": "execute_result"
        }
      ],
      "source": [
        "X_test.head()"
      ]
    },
    {
      "cell_type": "code",
      "execution_count": 12,
      "metadata": {
        "colab": {
          "base_uri": "https://localhost:8080/"
        },
        "id": "6brFSD3nvJ87",
        "outputId": "502b212e-e920-43ee-cd1c-173da1b11176"
      },
      "outputs": [
        {
          "data": {
            "text/plain": [
              "array([( True,  305.), ( True,   38.), ( True, 1171.), ( True,   42.),\n",
              "       ( True,   24.)],\n",
              "      dtype=[('survival_status', '?'), ('days_alive', '<f8')])"
            ]
          },
          "execution_count": 12,
          "metadata": {},
          "output_type": "execute_result"
        }
      ],
      "source": [
        "y_train[0:5]"
      ]
    },
    {
      "cell_type": "code",
      "execution_count": 13,
      "metadata": {
        "colab": {
          "base_uri": "https://localhost:8080/"
        },
        "id": "EzDBtc98vLTE",
        "outputId": "5dab5184-47b0-4c98-d52a-e21031e2e5e1"
      },
      "outputs": [
        {
          "data": {
            "text/plain": [
              "array([( True,  101.), (False, 2722.), ( True,  573.), ( True,  228.),\n",
              "       (False, 2760.)],\n",
              "      dtype=[('survival_status', '?'), ('days_alive', '<f8')])"
            ]
          },
          "execution_count": 13,
          "metadata": {},
          "output_type": "execute_result"
        }
      ],
      "source": [
        "y_test[0:5]"
      ]
    },
    {
      "cell_type": "code",
      "execution_count": 14,
      "metadata": {
        "id": "kMs_yCM9121-"
      },
      "outputs": [],
      "source": [
        "from sksurv.metrics import concordance_index_censored\n",
        "def score_survival_model(model, X, y):\n",
        "    prediction = model.predict(X)\n",
        "    result = concordance_index_censored(y[\"Status\"], y[\"Survival_in_days\"], prediction)\n",
        "    return result\n",
        "\n"
      ]
    },
    {
      "cell_type": "markdown",
      "metadata": {},
      "source": [
        "### Model Training Functions"
      ]
    },
    {
      "cell_type": "code",
      "execution_count": 38,
      "metadata": {
        "id": "XaPLwBj_vkOF"
      },
      "outputs": [],
      "source": [
        "# train model function\n",
        "from sklearn.model_selection import KFold\n",
        "from Evaluator import ScikitSurvivalEvaluator\n",
        "def cv_cox_models(model, k_folds, X, y, rs = 0):\n",
        "    mae_scores = []\n",
        "    kf = KFold(n_splits = k_folds, shuffle = True, random_state = rs)\n",
        "    for train_index, test_index in kf.split(X):\n",
        "        X_train, X_test = X.iloc[train_index], X.iloc[test_index]\n",
        "        y_train, y_test = y[train_index], y[test_index]\n",
        "        \n",
        "        model.fit(X_train, y_train)\n",
        "        \n",
        "        survival_curves = model.predict_survival_function(X_test)\n",
        "        \n",
        "        eval = ScikitSurvivalEvaluator(survival_curves, y_test['days_alive'], \n",
        "                                   y_test['survival_status'], \n",
        "                                   y_train['days_alive'], \n",
        "                                   y_train['survival_status'], \n",
        "                                   predict_time_method=\"Median\")\n",
        "        mae = eval.mae(method = \"Pseudo_obs\", weighted = False, log_scale = True)\n",
        "        mae_scores.append(mae)\n",
        "        \n",
        "    return mae_scores\n",
        "        \n",
        "    \n"
      ]
    },
    {
      "cell_type": "code",
      "execution_count": 39,
      "metadata": {},
      "outputs": [],
      "source": [
        "def train_full_cox(model, X_tr, y_tr, X_t, y_t, rs = 0): \n",
        "    model.fit(X_tr, y_tr)\n",
        "    surv_c = model.predict_survival_function(X_t)\n",
        "    eval = ScikitSurvivalEvaluator(surv_c, y_t['days_alive'], \n",
        "                                   y_t['survival_status'], \n",
        "                                   y_tr['days_alive'], \n",
        "                                   y_tr['survival_status'], \n",
        "                                   predict_time_method=\"Median\")\n",
        "    mae = eval.mae(method = \"Pseudo_obs\", weighted = False, log_scale = True)\n",
        "    return mae"
      ]
    },
    {
      "cell_type": "markdown",
      "metadata": {
        "id": "2WFN5f1-fORm"
      },
      "source": [
        "Before we train any models, a major question in survival analysis is what metric can we use to evaluate our models. The most popular models include:\n",
        "1. C-Index (Harrell's Concordance Index ) -> Ratio of correctly ordered concordant pairs to comparable pairs. C-Index close to 1 represents perfect prediction\n",
        "1. MAE (Mean Absolute Error) -> literature has introduced many adaptations of the MAE estimator to handle survival data. This means estimating the true survival time of the censored samples or other methods. This reduces the survival problem down to a typical regression/classification problem."
      ]
    },
    {
      "cell_type": "markdown",
      "metadata": {
        "id": "LjhKUcf6vPdu"
      },
      "source": [
        "# Models\n"
      ]
    },
    {
      "cell_type": "markdown",
      "metadata": {},
      "source": [
        "## Baseline Kaplan-Meier"
      ]
    },
    {
      "cell_type": "code",
      "execution_count": 40,
      "metadata": {},
      "outputs": [
        {
          "name": "stdout",
          "output_type": "stream",
          "text": [
            "Average MAE: 1.2675715654887518\n",
            "95% CI for the MAE: (0.9822223681604558, 1.5529207628170478)\n"
          ]
        }
      ],
      "source": [
        "from lifelines import KaplanMeierFitter\n",
        "from sklearn.model_selection import KFold\n",
        "import scipy.stats as stats\n",
        "from Evaluator import LifelinesEvaluator\n",
        "\n",
        "\n",
        "mae_baseline_scores = []\n",
        "\n",
        "kf = KFold(n_splits = 5, shuffle = True, random_state = None)\n",
        "\n",
        "for train_index, test_index in kf.split(y_train):\n",
        "    y_train_cv, y_test_cv = y_train[train_index], y_train[test_index]\n",
        "    kmf = KaplanMeierFitter()\n",
        "    survival_curve = kmf.fit(y_train['days_alive'], event_observed=y_train['survival_status']).survival_function_\n",
        "    \n",
        "    survival_curve_df = pd.concat([survival_curve] * y_test_cv.shape[0], axis=1)\n",
        "\n",
        "\n",
        "    eval = LifelinesEvaluator(survival_curve_df, y_test_cv['days_alive'], y_test_cv['survival_status'], y_train_cv['days_alive'], y_train_cv['survival_status'], predict_time_method=\"Median\")\n",
        "    \n",
        "    mae = eval.mae(method = \"Pseudo_obs\", weighted = False, log_scale = True)\n",
        "    \n",
        "    mae_baseline_scores.append(mae)\n",
        "    \n",
        "average_mae_baseline = np.mean(mae_baseline_scores)\n",
        "\n",
        "# Calculate the 95% confidence interval\n",
        "ci_baseline_mae = stats.t.interval(0.95, len(mae_baseline_scores) - 1, loc=average_mae_baseline, scale=stats.sem(mae_baseline_scores))\n",
        "\n",
        "print(f\"Average MAE: {average_mae_baseline}\")\n",
        "print(f\"95% CI for the MAE: {ci_baseline_mae}\")\n"
      ]
    },
    {
      "cell_type": "markdown",
      "metadata": {},
      "source": [
        "Now test on the test set of the data:"
      ]
    },
    {
      "cell_type": "code",
      "execution_count": 41,
      "metadata": {},
      "outputs": [
        {
          "name": "stdout",
          "output_type": "stream",
          "text": [
            "MAE for Test Set: 1.5573215864153858\n"
          ]
        }
      ],
      "source": [
        "kmf = KaplanMeierFitter()\n",
        "survival_curve_baseline = kmf.fit(y_train['days_alive'], event_observed=y_train['survival_status']).survival_function_\n",
        "survival_curve_base = pd.concat([survival_curve] * y_test.shape[0], axis=1)\n",
        "eval = LifelinesEvaluator(survival_curve_base, y_test['days_alive'], y_test['survival_status'], y_train['days_alive'], y_train['survival_status'])\n",
        "mae = eval.mae(method = \"Pseudo_obs\", weighted = False, log_scale = True)\n",
        "print(f\"MAE for Test Set: {mae}\")\n"
      ]
    },
    {
      "cell_type": "markdown",
      "metadata": {
        "id": "YLj3kZWFvf-s"
      },
      "source": [
        "## Linear Models"
      ]
    },
    {
      "cell_type": "markdown",
      "metadata": {},
      "source": [
        "There is one main linear models that we can use for survival analysis that applies to our distribution of the time to event variable: \n",
        "- Cox PH Model \n",
        "\n",
        "Cox PH is semi-parametric and outputs the hazard function <br>\n"
      ]
    },
    {
      "cell_type": "markdown",
      "metadata": {},
      "source": [
        "### Baseline Cox PH- No Regularization"
      ]
    },
    {
      "cell_type": "markdown",
      "metadata": {},
      "source": [
        "Let's start with the most basic Cox PH Model"
      ]
    },
    {
      "cell_type": "code",
      "execution_count": 42,
      "metadata": {},
      "outputs": [
        {
          "name": "stdout",
          "output_type": "stream",
          "text": [
            "Average MAE: 1.3150949548264066\n",
            "Confidence Interval: (-0.23180646652152714, 2.86199637617434)\n",
            "\n",
            "Average C-Index: 0.8148359601103504\n"
          ]
        },
        {
          "name": "stderr",
          "output_type": "stream",
          "text": [
            "/common/home/alw228/.local/lib/python3.10/site-packages/sksurv/linear_model/coxph.py:449: LinAlgWarning: Ill-conditioned matrix (rcond=2.14169e-18): result may not be accurate.\n",
            "  delta = solve(\n",
            "/common/home/alw228/.local/lib/python3.10/site-packages/sksurv/linear_model/coxph.py:449: LinAlgWarning: Ill-conditioned matrix (rcond=8.37875e-18): result may not be accurate.\n",
            "  delta = solve(\n",
            "/common/home/alw228/.local/lib/python3.10/site-packages/sksurv/linear_model/coxph.py:449: LinAlgWarning: Ill-conditioned matrix (rcond=7.67985e-17): result may not be accurate.\n",
            "  delta = solve(\n",
            "/common/home/alw228/.local/lib/python3.10/site-packages/sksurv/linear_model/coxph.py:449: LinAlgWarning: Ill-conditioned matrix (rcond=9.63106e-18): result may not be accurate.\n",
            "  delta = solve(\n",
            "/common/home/alw228/.local/lib/python3.10/site-packages/sksurv/linear_model/coxph.py:449: LinAlgWarning: Ill-conditioned matrix (rcond=3.04079e-17): result may not be accurate.\n",
            "  delta = solve(\n",
            "/common/home/alw228/.local/lib/python3.10/site-packages/sksurv/linear_model/coxph.py:449: LinAlgWarning: Ill-conditioned matrix (rcond=1.80253e-17): result may not be accurate.\n",
            "  delta = solve(\n",
            "/common/home/alw228/.local/lib/python3.10/site-packages/sksurv/linear_model/coxph.py:449: LinAlgWarning: Ill-conditioned matrix (rcond=3.27819e-19): result may not be accurate.\n",
            "  delta = solve(\n",
            "/common/home/alw228/.local/lib/python3.10/site-packages/sksurv/linear_model/coxph.py:449: LinAlgWarning: Ill-conditioned matrix (rcond=3.20998e-17): result may not be accurate.\n",
            "  delta = solve(\n",
            "/common/home/alw228/.local/lib/python3.10/site-packages/sksurv/linear_model/coxph.py:449: LinAlgWarning: Ill-conditioned matrix (rcond=1.09104e-17): result may not be accurate.\n",
            "  delta = solve(\n",
            "/common/home/alw228/.local/lib/python3.10/site-packages/sksurv/linear_model/coxph.py:449: LinAlgWarning: Ill-conditioned matrix (rcond=5.04337e-19): result may not be accurate.\n",
            "  delta = solve(\n",
            "/common/home/alw228/.local/lib/python3.10/site-packages/sksurv/linear_model/coxph.py:449: LinAlgWarning: Ill-conditioned matrix (rcond=3.08864e-17): result may not be accurate.\n",
            "  delta = solve(\n",
            "/common/home/alw228/.local/lib/python3.10/site-packages/sksurv/linear_model/coxph.py:449: LinAlgWarning: Ill-conditioned matrix (rcond=7.35979e-18): result may not be accurate.\n",
            "  delta = solve(\n",
            "/common/home/alw228/.local/lib/python3.10/site-packages/sksurv/linear_model/coxph.py:449: LinAlgWarning: Ill-conditioned matrix (rcond=1.4518e-17): result may not be accurate.\n",
            "  delta = solve(\n",
            "/common/home/alw228/.local/lib/python3.10/site-packages/sksurv/linear_model/coxph.py:449: LinAlgWarning: Ill-conditioned matrix (rcond=3.25912e-17): result may not be accurate.\n",
            "  delta = solve(\n",
            "/common/home/alw228/.local/lib/python3.10/site-packages/sksurv/linear_model/coxph.py:449: LinAlgWarning: Ill-conditioned matrix (rcond=1.0551e-17): result may not be accurate.\n",
            "  delta = solve(\n",
            "/common/home/alw228/.local/lib/python3.10/site-packages/sksurv/linear_model/coxph.py:449: LinAlgWarning: Ill-conditioned matrix (rcond=2.69941e-17): result may not be accurate.\n",
            "  delta = solve(\n",
            "/common/home/alw228/.local/lib/python3.10/site-packages/sksurv/linear_model/coxph.py:449: LinAlgWarning: Ill-conditioned matrix (rcond=2.59341e-17): result may not be accurate.\n",
            "  delta = solve(\n",
            "/common/home/alw228/.local/lib/python3.10/site-packages/sksurv/linear_model/coxph.py:449: LinAlgWarning: Ill-conditioned matrix (rcond=3.52617e-18): result may not be accurate.\n",
            "  delta = solve(\n",
            "/common/home/alw228/.local/lib/python3.10/site-packages/sksurv/linear_model/coxph.py:449: LinAlgWarning: Ill-conditioned matrix (rcond=6.39288e-18): result may not be accurate.\n",
            "  delta = solve(\n",
            "/common/home/alw228/.local/lib/python3.10/site-packages/sksurv/linear_model/coxph.py:449: LinAlgWarning: Ill-conditioned matrix (rcond=1.06013e-17): result may not be accurate.\n",
            "  delta = solve(\n",
            "/common/home/alw228/.local/lib/python3.10/site-packages/sksurv/linear_model/coxph.py:449: LinAlgWarning: Ill-conditioned matrix (rcond=9.29933e-18): result may not be accurate.\n",
            "  delta = solve(\n",
            "/common/home/alw228/.local/lib/python3.10/site-packages/sksurv/linear_model/coxph.py:449: LinAlgWarning: Ill-conditioned matrix (rcond=2.59792e-18): result may not be accurate.\n",
            "  delta = solve(\n",
            "/common/home/alw228/.local/lib/python3.10/site-packages/sksurv/linear_model/coxph.py:449: LinAlgWarning: Ill-conditioned matrix (rcond=3.13583e-17): result may not be accurate.\n",
            "  delta = solve(\n",
            "/common/home/alw228/.local/lib/python3.10/site-packages/sksurv/linear_model/coxph.py:449: LinAlgWarning: Ill-conditioned matrix (rcond=4.55204e-17): result may not be accurate.\n",
            "  delta = solve(\n",
            "/common/home/alw228/.local/lib/python3.10/site-packages/sksurv/linear_model/coxph.py:449: LinAlgWarning: Ill-conditioned matrix (rcond=4.49414e-18): result may not be accurate.\n",
            "  delta = solve(\n",
            "/common/home/alw228/.local/lib/python3.10/site-packages/sksurv/linear_model/coxph.py:449: LinAlgWarning: Ill-conditioned matrix (rcond=1.95332e-17): result may not be accurate.\n",
            "  delta = solve(\n",
            "/common/home/alw228/.local/lib/python3.10/site-packages/sksurv/linear_model/coxph.py:449: LinAlgWarning: Ill-conditioned matrix (rcond=1.29904e-17): result may not be accurate.\n",
            "  delta = solve(\n",
            "/common/home/alw228/.local/lib/python3.10/site-packages/sksurv/linear_model/coxph.py:449: LinAlgWarning: Ill-conditioned matrix (rcond=6.69256e-18): result may not be accurate.\n",
            "  delta = solve(\n",
            "/common/home/alw228/.local/lib/python3.10/site-packages/sksurv/linear_model/coxph.py:449: LinAlgWarning: Ill-conditioned matrix (rcond=1.85545e-17): result may not be accurate.\n",
            "  delta = solve(\n",
            "/common/home/alw228/.local/lib/python3.10/site-packages/sksurv/linear_model/coxph.py:449: LinAlgWarning: Ill-conditioned matrix (rcond=1.99439e-17): result may not be accurate.\n",
            "  delta = solve(\n",
            "/common/home/alw228/.local/lib/python3.10/site-packages/sksurv/linear_model/coxph.py:449: LinAlgWarning: Ill-conditioned matrix (rcond=8.03804e-18): result may not be accurate.\n",
            "  delta = solve(\n",
            "/common/home/alw228/.local/lib/python3.10/site-packages/sksurv/linear_model/coxph.py:449: LinAlgWarning: Ill-conditioned matrix (rcond=5.69939e-18): result may not be accurate.\n",
            "  delta = solve(\n",
            "/common/home/alw228/.local/lib/python3.10/site-packages/sksurv/linear_model/coxph.py:449: LinAlgWarning: Ill-conditioned matrix (rcond=1.12785e-17): result may not be accurate.\n",
            "  delta = solve(\n",
            "/common/home/alw228/.local/lib/python3.10/site-packages/sksurv/linear_model/coxph.py:449: LinAlgWarning: Ill-conditioned matrix (rcond=9.40097e-18): result may not be accurate.\n",
            "  delta = solve(\n",
            "/common/home/alw228/.local/lib/python3.10/site-packages/sksurv/linear_model/coxph.py:449: LinAlgWarning: Ill-conditioned matrix (rcond=9.98583e-18): result may not be accurate.\n",
            "  delta = solve(\n",
            "/common/home/alw228/.local/lib/python3.10/site-packages/sksurv/linear_model/coxph.py:449: LinAlgWarning: Ill-conditioned matrix (rcond=1.05617e-18): result may not be accurate.\n",
            "  delta = solve(\n",
            "/common/home/alw228/.local/lib/python3.10/site-packages/sksurv/linear_model/coxph.py:449: LinAlgWarning: Ill-conditioned matrix (rcond=2.34133e-18): result may not be accurate.\n",
            "  delta = solve(\n",
            "/common/home/alw228/.local/lib/python3.10/site-packages/sksurv/linear_model/coxph.py:449: LinAlgWarning: Ill-conditioned matrix (rcond=1.37639e-17): result may not be accurate.\n",
            "  delta = solve(\n",
            "/common/home/alw228/.local/lib/python3.10/site-packages/sksurv/linear_model/coxph.py:449: LinAlgWarning: Ill-conditioned matrix (rcond=2.51258e-18): result may not be accurate.\n",
            "  delta = solve(\n",
            "/common/home/alw228/.local/lib/python3.10/site-packages/sksurv/linear_model/coxph.py:449: LinAlgWarning: Ill-conditioned matrix (rcond=4.66984e-18): result may not be accurate.\n",
            "  delta = solve(\n",
            "/common/home/alw228/.local/lib/python3.10/site-packages/sksurv/linear_model/coxph.py:449: LinAlgWarning: Ill-conditioned matrix (rcond=1.73954e-17): result may not be accurate.\n",
            "  delta = solve(\n",
            "/common/home/alw228/.local/lib/python3.10/site-packages/sksurv/linear_model/coxph.py:449: LinAlgWarning: Ill-conditioned matrix (rcond=3.2492e-18): result may not be accurate.\n",
            "  delta = solve(\n",
            "/common/home/alw228/.local/lib/python3.10/site-packages/sksurv/linear_model/coxph.py:449: LinAlgWarning: Ill-conditioned matrix (rcond=3.63311e-17): result may not be accurate.\n",
            "  delta = solve(\n",
            "/common/home/alw228/.local/lib/python3.10/site-packages/sksurv/linear_model/coxph.py:449: LinAlgWarning: Ill-conditioned matrix (rcond=9.80477e-18): result may not be accurate.\n",
            "  delta = solve(\n",
            "/common/home/alw228/.local/lib/python3.10/site-packages/sksurv/linear_model/coxph.py:449: LinAlgWarning: Ill-conditioned matrix (rcond=6.1211e-18): result may not be accurate.\n",
            "  delta = solve(\n",
            "/common/home/alw228/.local/lib/python3.10/site-packages/sksurv/linear_model/coxph.py:449: LinAlgWarning: Ill-conditioned matrix (rcond=2.0569e-17): result may not be accurate.\n",
            "  delta = solve(\n",
            "/common/home/alw228/.local/lib/python3.10/site-packages/sksurv/linear_model/coxph.py:449: LinAlgWarning: Ill-conditioned matrix (rcond=3.61946e-18): result may not be accurate.\n",
            "  delta = solve(\n",
            "/common/home/alw228/.local/lib/python3.10/site-packages/sksurv/linear_model/coxph.py:449: LinAlgWarning: Ill-conditioned matrix (rcond=2.29739e-17): result may not be accurate.\n",
            "  delta = solve(\n",
            "/common/home/alw228/.local/lib/python3.10/site-packages/sksurv/linear_model/coxph.py:449: LinAlgWarning: Ill-conditioned matrix (rcond=3.80676e-18): result may not be accurate.\n",
            "  delta = solve(\n",
            "/common/home/alw228/.local/lib/python3.10/site-packages/sksurv/linear_model/coxph.py:449: LinAlgWarning: Ill-conditioned matrix (rcond=2.32858e-17): result may not be accurate.\n",
            "  delta = solve(\n",
            "/common/home/alw228/.local/lib/python3.10/site-packages/sksurv/linear_model/coxph.py:449: LinAlgWarning: Ill-conditioned matrix (rcond=7.53083e-18): result may not be accurate.\n",
            "  delta = solve(\n",
            "/common/home/alw228/.local/lib/python3.10/site-packages/sksurv/linear_model/coxph.py:449: LinAlgWarning: Ill-conditioned matrix (rcond=4.99997e-17): result may not be accurate.\n",
            "  delta = solve(\n",
            "/common/home/alw228/.local/lib/python3.10/site-packages/sksurv/linear_model/coxph.py:449: LinAlgWarning: Ill-conditioned matrix (rcond=2.80576e-17): result may not be accurate.\n",
            "  delta = solve(\n",
            "/common/home/alw228/.local/lib/python3.10/site-packages/sksurv/linear_model/coxph.py:449: LinAlgWarning: Ill-conditioned matrix (rcond=1.27666e-17): result may not be accurate.\n",
            "  delta = solve(\n",
            "/common/home/alw228/.local/lib/python3.10/site-packages/sksurv/linear_model/coxph.py:449: LinAlgWarning: Ill-conditioned matrix (rcond=1.93659e-17): result may not be accurate.\n",
            "  delta = solve(\n",
            "/common/home/alw228/.local/lib/python3.10/site-packages/sksurv/linear_model/coxph.py:449: LinAlgWarning: Ill-conditioned matrix (rcond=7.24481e-18): result may not be accurate.\n",
            "  delta = solve(\n",
            "/common/home/alw228/.local/lib/python3.10/site-packages/sksurv/linear_model/coxph.py:449: LinAlgWarning: Ill-conditioned matrix (rcond=1.55613e-17): result may not be accurate.\n",
            "  delta = solve(\n",
            "/common/home/alw228/.local/lib/python3.10/site-packages/sksurv/linear_model/coxph.py:449: LinAlgWarning: Ill-conditioned matrix (rcond=2.379e-17): result may not be accurate.\n",
            "  delta = solve(\n",
            "/common/home/alw228/.local/lib/python3.10/site-packages/sksurv/linear_model/coxph.py:449: LinAlgWarning: Ill-conditioned matrix (rcond=2.32668e-17): result may not be accurate.\n",
            "  delta = solve(\n",
            "/common/home/alw228/.local/lib/python3.10/site-packages/sksurv/linear_model/coxph.py:449: LinAlgWarning: Ill-conditioned matrix (rcond=2.05737e-18): result may not be accurate.\n",
            "  delta = solve(\n",
            "/common/home/alw228/.local/lib/python3.10/site-packages/sksurv/linear_model/coxph.py:449: LinAlgWarning: Ill-conditioned matrix (rcond=2.62008e-17): result may not be accurate.\n",
            "  delta = solve(\n"
          ]
        }
      ],
      "source": [
        "from sksurv.linear_model import CoxPHSurvivalAnalysis\n",
        "from sklearn.model_selection import KFold\n",
        "import scipy.stats as stats\n",
        "from Evaluator import ScikitSurvivalEvaluator\n",
        "import math\n",
        "\n",
        "\n",
        "kf = KFold(n_splits = 5, shuffle = True, random_state = 42)\n",
        "mae_losses_baseline_cph = []\n",
        "c_baseline_cph = []\n",
        "\n",
        "for train_index, test_index in kf.split(X_train):\n",
        "    X_train_cv, X_test_cv = X_train.iloc[train_index], X_train.iloc[test_index]\n",
        "    y_train_cv, y_test_cv = y_train[train_index], y_train[test_index]\n",
        "    \n",
        "    cph = CoxPHSurvivalAnalysis()\n",
        "    cph.fit(X_train_cv, y_train_cv)\n",
        "    \n",
        "    pred_surv = cph.predict_survival_function(X_test_cv)\n",
        "    \n",
        "    eval = ScikitSurvivalEvaluator(pred_surv, y_test_cv['days_alive'], \n",
        "                                   y_test_cv['survival_status'], \n",
        "                                   y_train_cv['days_alive'], \n",
        "                                   y_train_cv['survival_status'], \n",
        "                                   predict_time_method=\"Median\")\n",
        "    mae_score = eval.mae(method='Pseudo_obs', weighted=False, log_scale = True)\n",
        "    c_ind, _, _ = eval.concordance()\n",
        "    \n",
        "    if not math.isnan(c_ind):\n",
        "        c_baseline_cph.append(c_ind) \n",
        "    \n",
        "    mae_losses_baseline_cph.append(mae_score)\n",
        "    \n",
        "avg_mae_cph_basic = np.mean(mae_losses_baseline_cph)\n",
        "avg_c_cph_basic = np.mean(c_baseline_cph)\n",
        "ci_cph_basic = stats.t.interval(0.95, len(mae_losses_baseline_cph) - 1, loc=avg_mae_cph_basic, scale=stats.sem(mae_losses_baseline_cph))\n",
        "ci_c_cph_basic = stats.t.interval(0.95, len(c_baseline_cph) - 1, loc=avg_mae_cph_basic, scale=stats.sem(c_baseline_cph))\n",
        "\n",
        "\n",
        "\n",
        "print(f\"Average MAE: {avg_mae_cph_basic}\")    \n",
        "print(f\"Confidence Interval: {ci_cph_basic}\")\n",
        "print() \n",
        "print(f\"Average C-Index: {avg_c_cph_basic}\")"
      ]
    },
    {
      "cell_type": "code",
      "execution_count": 43,
      "metadata": {},
      "outputs": [
        {
          "name": "stdout",
          "output_type": "stream",
          "text": [
            "MAE for Test Set: 1.0911216975030105\n"
          ]
        },
        {
          "name": "stderr",
          "output_type": "stream",
          "text": [
            "/common/home/alw228/.local/lib/python3.10/site-packages/sksurv/linear_model/coxph.py:449: LinAlgWarning: Ill-conditioned matrix (rcond=2.71099e-17): result may not be accurate.\n",
            "  delta = solve(\n",
            "/common/home/alw228/.local/lib/python3.10/site-packages/sksurv/linear_model/coxph.py:449: LinAlgWarning: Ill-conditioned matrix (rcond=1.81677e-17): result may not be accurate.\n",
            "  delta = solve(\n",
            "/common/home/alw228/.local/lib/python3.10/site-packages/sksurv/linear_model/coxph.py:449: LinAlgWarning: Ill-conditioned matrix (rcond=2.22822e-17): result may not be accurate.\n",
            "  delta = solve(\n",
            "/common/home/alw228/.local/lib/python3.10/site-packages/sksurv/linear_model/coxph.py:449: LinAlgWarning: Ill-conditioned matrix (rcond=1.13809e-17): result may not be accurate.\n",
            "  delta = solve(\n",
            "/common/home/alw228/.local/lib/python3.10/site-packages/sksurv/linear_model/coxph.py:449: LinAlgWarning: Ill-conditioned matrix (rcond=3.66053e-17): result may not be accurate.\n",
            "  delta = solve(\n",
            "/common/home/alw228/.local/lib/python3.10/site-packages/sksurv/linear_model/coxph.py:449: LinAlgWarning: Ill-conditioned matrix (rcond=8.61688e-18): result may not be accurate.\n",
            "  delta = solve(\n",
            "/common/home/alw228/.local/lib/python3.10/site-packages/sksurv/linear_model/coxph.py:449: LinAlgWarning: Ill-conditioned matrix (rcond=1.39497e-17): result may not be accurate.\n",
            "  delta = solve(\n"
          ]
        }
      ],
      "source": [
        "cph = CoxPHSurvivalAnalysis(n_iter = 10000)\n",
        "cph.fit(X_train, y_train)\n",
        "    \n",
        "pred_surv = cph.predict_survival_function(X_test)\n",
        "eval = ScikitSurvivalEvaluator(pred_surv, y_test['days_alive'], \n",
        "                                y_test['survival_status'], \n",
        "                                y_train['days_alive'], \n",
        "                                y_train['survival_status'], \n",
        "                                predict_time_method=\"Median\")\n",
        "mae_score = eval.mae(method='Pseudo_obs', weighted=False, log_scale = True)\n",
        "print(f\"MAE for Test Set: {mae_score}\")"
      ]
    },
    {
      "cell_type": "markdown",
      "metadata": {},
      "source": [
        "Our baseline cox ph model seems to fit the data worse than the baseline Kaplan meier model. However, it seems to generalize much better than the baseline model. Furthermore, while in this random state = 42, the model ran, there are other random_states in which there is too much multicollinearity between covariates, indicating we definitely need regularization"
      ]
    },
    {
      "cell_type": "markdown",
      "metadata": {},
      "source": [
        "### Ridge Cox PH - Finding the Best Regularization Penalty"
      ]
    },
    {
      "cell_type": "markdown",
      "metadata": {},
      "source": [
        "Let's test better versions of the Cox model: perhaps a regularized model to regularize the features that we determined were not valuable in the exploration process. Use cv to search for the best alpha value for regularization"
      ]
    },
    {
      "cell_type": "code",
      "execution_count": 45,
      "metadata": {},
      "outputs": [],
      "source": [
        "def find_best_alpha_cph(alpha_vals, k_folds, X, y, rs): \n",
        "    \n",
        "    kf = KFold(n_splits = k_folds, shuffle = True, random_state = rs)\n",
        "    avg_maes = []\n",
        "    best_alpha = None\n",
        "    min_avg_mae = float('inf')\n",
        "    \n",
        "    for a in alpha_vals:\n",
        "        mae_scores = []\n",
        "        model = None\n",
        "        model = CoxPHSurvivalAnalysis(alpha = a, n_iter = 10000)\n",
        "        for train_index, test_index in kf.split(X):\n",
        "            X_train, X_test = X.iloc[train_index], X.iloc[test_index]\n",
        "            y_train, y_test = y[train_index], y[test_index]\n",
        "            \n",
        "            model.fit(X_train, y_train)\n",
        "            \n",
        "            survival_curves = model.predict_survival_function(X_test)\n",
        "            \n",
        "            eval = ScikitSurvivalEvaluator(survival_curves, y_test['days_alive'], \n",
        "                                    y_test['survival_status'], \n",
        "                                    y_train['days_alive'], \n",
        "                                    y_train['survival_status'], \n",
        "                                    predict_time_method=\"Median\")\n",
        "            mae = eval.mae(method = \"Pseudo_obs\", weighted = False, log_scale = True)\n",
        "            mae_scores.append(mae)\n",
        "            \n",
        "        avg_mae = np.mean(mae_scores)\n",
        "        avg_maes.append(avg_mae)\n",
        "\n",
        "        if avg_mae < min_avg_mae:\n",
        "            min_avg_mae = avg_mae\n",
        "            best_alpha = a\n",
        "\n",
        "    return best_alpha, min_avg_mae, avg_maes\n"
      ]
    },
    {
      "cell_type": "code",
      "execution_count": 46,
      "metadata": {},
      "outputs": [
        {
          "name": "stdout",
          "output_type": "stream",
          "text": [
            "Best Alpha Value: 0.7906043210907702\n",
            "Minimum average mae of best alpha: 0.7016606971516899\n"
          ]
        }
      ],
      "source": [
        "alpha_vals = 10**np.linspace(-5, 5, 50)\n",
        "best_initial_alpha, min_avg_mae_init, avg_maes_init = find_best_alpha_cph(alpha_vals, 5, X_train, y_train, 0)\n",
        "print(f\"Best Alpha Value: {best_initial_alpha}\")\n",
        "print(f\"Minimum average mae of best alpha: {min_avg_mae_init}\")"
      ]
    },
    {
      "cell_type": "code",
      "execution_count": 47,
      "metadata": {},
      "outputs": [],
      "source": [
        "cph_ridge_init = CoxPHSurvivalAnalysis(alpha = best_initial_alpha, n_iter = 10000)\n",
        "mae_cph_ridge= cv_cox_models(cph_ridge_init, 5, X_train, y_train)\n"
      ]
    },
    {
      "cell_type": "code",
      "execution_count": 48,
      "metadata": {},
      "outputs": [
        {
          "name": "stdout",
          "output_type": "stream",
          "text": [
            "Final Test MAE for Ridge Cox: 1.0868389460021983\n"
          ]
        }
      ],
      "source": [
        "mae_init_cph_ridge = train_full_cox(cph_ridge_init, X_train, y_train, X_test, y_test)\n",
        "print(f\"Final Test MAE for Ridge Cox: {mae_init_cph_ridge}\")"
      ]
    },
    {
      "cell_type": "code",
      "execution_count": 56,
      "metadata": {},
      "outputs": [
        {
          "data": {
            "image/png": "[encoded data removed]",
            "text/plain": [
              "<Figure size 720x432 with 1 Axes>"
            ]
          },
          "metadata": {
            "needs_background": "light"
          },
          "output_type": "display_data"
        }
      ],
      "source": [
        "plt.figure(figsize = (10,6))\n",
        "plt.title(\"Alpha Values vs. Average Mean Absolute Loss\")\n",
        "plt.plot(alpha_vals, avg_maes_init)\n",
        "plt.xlabel(\"Alpha value\")\n",
        "plt.xscale(\"log\")\n",
        "plt.ylabel(\"Loss\")\n",
        "plt.grid()\n",
        "plt.show()"
      ]
    },
    {
      "cell_type": "code",
      "execution_count": 57,
      "metadata": {},
      "outputs": [
        {
          "name": "stdout",
          "output_type": "stream",
          "text": [
            "[1.00000000e-05 1.59985872e-05 2.55954792e-05 4.09491506e-05\n",
            " 6.55128557e-05 1.04811313e-04 1.67683294e-04 2.68269580e-04\n",
            " 4.29193426e-04 6.86648845e-04 1.09854114e-03 1.75751062e-03\n",
            " 2.81176870e-03 4.49843267e-03 7.19685673e-03 1.15139540e-02\n",
            " 1.84206997e-02 2.94705170e-02 4.71486636e-02 7.54312006e-02\n",
            " 1.20679264e-01 1.93069773e-01 3.08884360e-01 4.94171336e-01\n",
            " 7.90604321e-01 1.26485522e+00 2.02358965e+00 3.23745754e+00\n",
            " 5.17947468e+00 8.28642773e+00 1.32571137e+01 2.12095089e+01\n",
            " 3.39322177e+01 5.42867544e+01 8.68511374e+01 1.38949549e+02\n",
            " 2.22299648e+02 3.55648031e+02 5.68986603e+02 9.10298178e+02\n",
            " 1.45634848e+03 2.32995181e+03 3.72759372e+03 5.96362332e+03\n",
            " 9.54095476e+03 1.52641797e+04 2.44205309e+04 3.90693994e+04\n",
            " 6.25055193e+04 1.00000000e+05]\n"
          ]
        }
      ],
      "source": [
        "print(alpha_vals)"
      ]
    },
    {
      "cell_type": "markdown",
      "metadata": {},
      "source": [
        "The range for alphas is still very large so we want to narrow that down and pick a potential even better penalty"
      ]
    },
    {
      "cell_type": "code",
      "execution_count": 58,
      "metadata": {},
      "outputs": [],
      "source": [
        "num_values = 50  # Number of values to test around the best alpha\n",
        "\n",
        "# Create an array of values centered around the best alpha\n",
        "alpha_range = np.linspace(0.01, best_initial_alpha + 2, num_values)"
      ]
    },
    {
      "cell_type": "code",
      "execution_count": 59,
      "metadata": {},
      "outputs": [
        {
          "name": "stdout",
          "output_type": "stream",
          "text": [
            "Best alpha after narrowing range: 0.7477113504934696\n"
          ]
        }
      ],
      "source": [
        "best_alpha_, min_avg_mae_final, avg_maes_final = find_best_alpha_cph(alpha_range, 5, X_train, y_train, 0)\n",
        "print(f\"Best alpha after narrowing range: {best_alpha_}\")\n"
      ]
    },
    {
      "cell_type": "code",
      "execution_count": 60,
      "metadata": {},
      "outputs": [
        {
          "data": {
            "image/png": "[encoded data removed]",
            "text/plain": [
              "<Figure size 720x432 with 1 Axes>"
            ]
          },
          "metadata": {
            "needs_background": "light"
          },
          "output_type": "display_data"
        }
      ],
      "source": [
        "plt.figure(figsize = (10,6))\n",
        "plt.title(\"Alpha Values vs. Average Mean Absolute Loss\")\n",
        "plt.plot(alpha_range, avg_maes_final)\n",
        "plt.xlabel(\"Alpha value\")\n",
        "plt.ylabel(\"Loss\")\n",
        "plt.grid()\n",
        "plt.show()"
      ]
    },
    {
      "cell_type": "code",
      "execution_count": 61,
      "metadata": {},
      "outputs": [
        {
          "name": "stdout",
          "output_type": "stream",
          "text": [
            "Average MAE For CPH with Ridge Penalty: 0.700534905985897\n"
          ]
        }
      ],
      "source": [
        "cph_ridge_final = CoxPHSurvivalAnalysis(alpha = best_alpha_, n_iter = 10000)\n",
        "mae_cph_ridge= cv_cox_models(cph_ridge_final, 5, X_train, y_train)\n",
        "\n",
        "print(f\"Average MAE For CPH with Ridge Penalty: {np.mean(mae_cph_ridge)}\")"
      ]
    },
    {
      "cell_type": "code",
      "execution_count": 62,
      "metadata": {},
      "outputs": [
        {
          "name": "stdout",
          "output_type": "stream",
          "text": [
            "Final Test MAE for Ridge Cox: 1.0836463623483892\n"
          ]
        }
      ],
      "source": [
        "mae_final_cph_ridge = train_full_cox(cph_ridge_final, X_train, y_train, X_test, y_test)\n",
        "print(f\"Final Test MAE for Ridge Cox: {mae_final_cph_ridge}\")"
      ]
    },
    {
      "cell_type": "markdown",
      "metadata": {},
      "source": [
        "Performance seems to be the same as the previous model. Maybe the regularization is not strong enough? Or the regularization does not generalize very well. We can instead apply 100% LASSO Regularization to see if that does any better than our previous model."
      ]
    },
    {
      "cell_type": "markdown",
      "metadata": {},
      "source": [
        "### LASSO Cox"
      ]
    },
    {
      "cell_type": "code",
      "execution_count": 63,
      "metadata": {},
      "outputs": [
        {
          "name": "stdout",
          "output_type": "stream",
          "text": [
            "Average LASSO MAE: 0.7458220011698925\n"
          ]
        }
      ],
      "source": [
        "#use cv to find average loss values\n",
        "from sksurv.linear_model import CoxnetSurvivalAnalysis\n",
        "cox_lasso = CoxnetSurvivalAnalysis(l1_ratio=1.0, alpha_min_ratio=0.01, fit_baseline_model= True)\n",
        "avg_lasso_mae = cv_cox_models(cox_lasso, 5, X_train, y_train)\n",
        "print(f\"Average LASSO MAE: {np.mean(avg_lasso_mae)}\")"
      ]
    },
    {
      "cell_type": "code",
      "execution_count": 64,
      "metadata": {},
      "outputs": [
        {
          "name": "stdout",
          "output_type": "stream",
          "text": [
            "Final LASSO MAE on Full Train and Test Set: 1.066998563212073\n"
          ]
        }
      ],
      "source": [
        "full_mae_lasso = train_full_cox(cox_lasso, X_train, y_train, X_test, y_test)\n",
        "print(f\"Final LASSO MAE on Full Train and Test Set: {full_mae_lasso}\")\n"
      ]
    },
    {
      "cell_type": "markdown",
      "metadata": {},
      "source": [
        "This value with just Lasso regression seems to be much lower than that of just ridge regression. However, the validation MAE is higher. This model generalizes better. Next, we will use cv to test the ElasticNet and find the optimal balance between L1 and L2 regularization."
      ]
    },
    {
      "cell_type": "markdown",
      "metadata": {},
      "source": [
        "### ElasticNet Cox Ph - Finding the best L1:L2 Ratio"
      ]
    },
    {
      "cell_type": "code",
      "execution_count": 68,
      "metadata": {},
      "outputs": [],
      "source": [
        "#k-fold cv to find the best l1:l2 ratio\n",
        "def find_best_l1r(ratio_vals, k_folds, X, y, rs = 0): \n",
        "    avg_maes = []\n",
        "    best_r = None\n",
        "    min_avg_mae = float('inf')\n",
        "    kf = KFold(n_splits = k_folds, shuffle = True, random_state = rs)\n",
        "\n",
        "    \n",
        "    for r in ratio_vals: \n",
        "        mae_scores = [] \n",
        "        model = CoxnetSurvivalAnalysis(l1_ratio= r, alpha_min_ratio = 0.01, fit_baseline_model= True)\n",
        "        for train_index, test_index in kf.split(X):\n",
        "            X_train, X_test = X.iloc[train_index], X.iloc[test_index]\n",
        "            y_train, y_test = y[train_index], y[test_index]\n",
        "            \n",
        "            model.fit(X_train, y_train)\n",
        "            \n",
        "            survival_curves = model.predict_survival_function(X_test)\n",
        "            \n",
        "            eval = ScikitSurvivalEvaluator(survival_curves, y_test['days_alive'], \n",
        "                                    y_test['survival_status'], \n",
        "                                    y_train['days_alive'], \n",
        "                                    y_train['survival_status'], \n",
        "                                    predict_time_method=\"Median\")\n",
        "            mae = eval.mae(method = \"Pseudo_obs\", weighted = False, log_scale = True)\n",
        "            mae_scores.append(mae)\n",
        "            \n",
        "        avg_mae = np.mean(mae_scores)\n",
        "        avg_maes.append(avg_mae)\n",
        "\n",
        "        if avg_mae < min_avg_mae:\n",
        "            min_avg_mae = avg_mae\n",
        "            best_r = r\n",
        "\n",
        "    return best_r, min_avg_mae, avg_maes"
      ]
    },
    {
      "cell_type": "code",
      "execution_count": 69,
      "metadata": {},
      "outputs": [
        {
          "name": "stdout",
          "output_type": "stream",
          "text": [
            "Best L1 Ratio: 0.19183673469387755\n",
            "Validation MAE of Best r: 0.7057977836085655\n"
          ]
        }
      ],
      "source": [
        "l1_ratios = np.linspace(0.01,1,50)\n",
        "best_r, min_avg_mae_r, avg_r_mae = find_best_l1r(l1_ratios, 5, X_train, y_train)\n",
        "\n",
        "print(f\"Best L1 Ratio: {best_r}\")\n",
        "print(f\"Validation MAE of Best r: {min_avg_mae_r}\")"
      ]
    },
    {
      "cell_type": "code",
      "execution_count": 70,
      "metadata": {},
      "outputs": [
        {
          "data": {
            "image/png": "[encoded data removed]",
            "text/plain": [
              "<Figure size 720x432 with 1 Axes>"
            ]
          },
          "metadata": {
            "needs_background": "light"
          },
          "output_type": "display_data"
        }
      ],
      "source": [
        "plt.figure(figsize=(10,6))\n",
        "plt.plot(l1_ratios, avg_r_mae)\n",
        "plt.xlabel(\"L1 Ratio Values\")\n",
        "plt.ylabel(\"Mean Absolute Error (Log)\")\n",
        "plt.title(\"Cross Validated L1 Ratio Values vs. Log Scale Mean Absolute Error\")\n",
        "plt.grid()\n",
        "plt.show()"
      ]
    },
    {
      "cell_type": "code",
      "execution_count": 71,
      "metadata": {},
      "outputs": [
        {
          "name": "stdout",
          "output_type": "stream",
          "text": [
            "Final MAE of ElasticNet Regularized Cox PH Model: 1.0819608805127807\n"
          ]
        }
      ],
      "source": [
        "best_elastinet_cox = CoxnetSurvivalAnalysis(l1_ratio=best_r, alpha_min_ratio = 0.01, fit_baseline_model = True)\n",
        "final_elasti_mae = train_full_cox(best_elastinet_cox, X_train, y_train, X_test, y_test)\n",
        "print(f\"Final MAE of ElasticNet Regularized Cox PH Model: {final_elasti_mae}\")"
      ]
    },
    {
      "cell_type": "markdown",
      "metadata": {},
      "source": [
        "Overall, the different cox models yielded ok results, with the test log MAE landing around 1.05 - 1.08, which performed better than the original model with no regularization"
      ]
    },
    {
      "cell_type": "markdown",
      "metadata": {},
      "source": [
        "## SVM"
      ]
    },
    {
      "cell_type": "markdown",
      "metadata": {},
      "source": [
        "## Random Survival Forest"
      ]
    },
    {
      "cell_type": "markdown",
      "metadata": {},
      "source": [
        "## MTLR"
      ]
    },
    {
      "cell_type": "markdown",
      "metadata": {},
      "source": []
    }
  ],
  "metadata": {
    "colab": {
      "authorship_tag": "ABX9TyNsrYBOz+A6GqrpYgD5znnn",
      "include_colab_link": true,
      "provenance": []
    },
    "kernelspec": {
      "display_name": "Python 3",
      "name": "python3"
    },
    "language_info": {
      "codemirror_mode": {
        "name": "ipython",
        "version": 3
      },
      "file_extension": ".py",
      "mimetype": "text/x-python",
      "name": "python",
      "nbconvert_exporter": "python",
      "pygments_lexer": "ipython3",
      "version": "3.10.12"
    }
  },
  "nbformat": 4,
  "nbformat_minor": 0
}
