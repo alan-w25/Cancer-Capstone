{
  "cells": [
    {
      "cell_type": "markdown",
      "metadata": {
        "id": "E0rla93LB3LR"
      },
      "source": [
        "<h1>Introduction<h1>"
      ]
    },
    {
      "cell_type": "markdown",
      "metadata": {
        "id": "vVJ3-BmTB3LS"
      },
      "source": [
        "This notebook will summarize the majority of the exploratory data analysis and visualization of different features from the LUCAS cell-free DNA. These are some of the steps that I will take to guarantee that there is a thorough analysis of the data:\n",
        "1. Look at the summary statistics of the data\n",
        "1. Look distribution of variables of interest\n",
        "1. Find missing data values and fill\n"
      ]
    },
    {
      "cell_type": "markdown",
      "metadata": {
        "id": "1GUKJGAnB3LT"
      },
      "source": [
        "Objective: To make a model to predict survival from other features using ML and estimate feature importance. Survival data is censored, i.e. those alive may continue to live beyond the days listed here.\n",
        "\n",
        "- Identify feature importance for delfi, stage, and treatment\n",
        "- Identify feature importance for interaction between delfi, stage, and treatment\n",
        "- Cross validate\n",
        "- Approach can be RF or LM, or anything else.\n"
      ]
    },
    {
      "cell_type": "markdown",
      "metadata": {
        "id": "pk-I5CfIB3LT"
      },
      "source": [
        "# Setup and Imports"
      ]
    },
    {
      "cell_type": "code",
      "source": [
        "!pip install lifelines"
      ],
      "metadata": {
        "id": "6pIULMkFEGqD",
        "outputId": "19446bff-68fa-45f3-8f03-bdfeee2d0c6e",
        "colab": {
          "base_uri": "https://localhost:8080/"
        }
      },
      "execution_count": 61,
      "outputs": [
        {
          "output_type": "stream",
          "name": "stdout",
          "text": [
            "Requirement already satisfied: lifelines in /usr/local/lib/python3.10/dist-packages (0.28.0)\n",
            "Requirement already satisfied: numpy<2.0,>=1.14.0 in /usr/local/lib/python3.10/dist-packages (from lifelines) (1.25.2)\n",
            "Requirement already satisfied: scipy>=1.2.0 in /usr/local/lib/python3.10/dist-packages (from lifelines) (1.11.4)\n",
            "Requirement already satisfied: pandas>=1.2.0 in /usr/local/lib/python3.10/dist-packages (from lifelines) (1.5.3)\n",
            "Requirement already satisfied: matplotlib>=3.0 in /usr/local/lib/python3.10/dist-packages (from lifelines) (3.7.1)\n",
            "Requirement already satisfied: autograd>=1.5 in /usr/local/lib/python3.10/dist-packages (from lifelines) (1.6.2)\n",
            "Requirement already satisfied: autograd-gamma>=0.3 in /usr/local/lib/python3.10/dist-packages (from lifelines) (0.5.0)\n",
            "Requirement already satisfied: formulaic>=0.2.2 in /usr/local/lib/python3.10/dist-packages (from lifelines) (1.0.1)\n",
            "Requirement already satisfied: future>=0.15.2 in /usr/local/lib/python3.10/dist-packages (from autograd>=1.5->lifelines) (0.18.3)\n",
            "Requirement already satisfied: interface-meta>=1.2.0 in /usr/local/lib/python3.10/dist-packages (from formulaic>=0.2.2->lifelines) (1.3.0)\n",
            "Requirement already satisfied: typing-extensions>=4.2.0 in /usr/local/lib/python3.10/dist-packages (from formulaic>=0.2.2->lifelines) (4.10.0)\n",
            "Requirement already satisfied: wrapt>=1.0 in /usr/local/lib/python3.10/dist-packages (from formulaic>=0.2.2->lifelines) (1.14.1)\n",
            "Requirement already satisfied: contourpy>=1.0.1 in /usr/local/lib/python3.10/dist-packages (from matplotlib>=3.0->lifelines) (1.2.0)\n",
            "Requirement already satisfied: cycler>=0.10 in /usr/local/lib/python3.10/dist-packages (from matplotlib>=3.0->lifelines) (0.12.1)\n",
            "Requirement already satisfied: fonttools>=4.22.0 in /usr/local/lib/python3.10/dist-packages (from matplotlib>=3.0->lifelines) (4.49.0)\n",
            "Requirement already satisfied: kiwisolver>=1.0.1 in /usr/local/lib/python3.10/dist-packages (from matplotlib>=3.0->lifelines) (1.4.5)\n",
            "Requirement already satisfied: packaging>=20.0 in /usr/local/lib/python3.10/dist-packages (from matplotlib>=3.0->lifelines) (24.0)\n",
            "Requirement already satisfied: pillow>=6.2.0 in /usr/local/lib/python3.10/dist-packages (from matplotlib>=3.0->lifelines) (9.4.0)\n",
            "Requirement already satisfied: pyparsing>=2.3.1 in /usr/local/lib/python3.10/dist-packages (from matplotlib>=3.0->lifelines) (3.1.2)\n",
            "Requirement already satisfied: python-dateutil>=2.7 in /usr/local/lib/python3.10/dist-packages (from matplotlib>=3.0->lifelines) (2.8.2)\n",
            "Requirement already satisfied: pytz>=2020.1 in /usr/local/lib/python3.10/dist-packages (from pandas>=1.2.0->lifelines) (2023.4)\n",
            "Requirement already satisfied: six>=1.5 in /usr/local/lib/python3.10/dist-packages (from python-dateutil>=2.7->matplotlib>=3.0->lifelines) (1.16.0)\n"
          ]
        }
      ]
    },
    {
      "cell_type": "code",
      "execution_count": 62,
      "metadata": {
        "id": "iW7RW7QQB3LT"
      },
      "outputs": [],
      "source": [
        "import numpy as np\n",
        "import pandas as pd\n",
        "import matplotlib.pyplot as plt\n",
        "import seaborn as sns\n",
        "import sklearn as skl\n",
        "import lifelines"
      ]
    },
    {
      "cell_type": "markdown",
      "metadata": {
        "id": "420ww96mB3LT"
      },
      "source": [
        "First row of excel file is irrelevant title information. Second row represents the actual columns of the data of which are:\n",
        "- Patient ID: Patient identifier\n",
        "- Survival status: did the patient live or die. 1 = died, 0 = still living\n",
        "- Days alive: number of days until the patient died or if Survival status = 0 then they've been alive for days alive\n",
        "- Histology: the type of cancer that the patient has\n",
        "- Stage: the stage of cancer\n",
        "- 1st line Oncological treatment: the first procedure that the patient received (best first choice)\n",
        "- DELFI Score: the cross-validated DELFI score calculated from DELFI methodology of cell-free DNA analysis\n",
        "- DELFI status: ignore"
      ]
    },
    {
      "cell_type": "code",
      "execution_count": 63,
      "metadata": {
        "id": "KlfoeKXQB3LT",
        "outputId": "9d5adb71-d683-4082-9f52-2298e4ddb757",
        "colab": {
          "base_uri": "https://localhost:8080/",
          "height": 206
        }
      },
      "outputs": [
        {
          "output_type": "execute_result",
          "data": {
            "text/plain": [
              "   Patient ID  Survival status  Days alive       Histology Stage  \\\n",
              "0  CGPLLU397P                1        1059            SCLC     I   \n",
              "1  CGPLLU607P                1        1640  Adenocarcinoma     I   \n",
              "2  CGPLLU637P                1         101        Squamous    IV   \n",
              "3  CGPLLU538P                1        1228  Adenocarcinoma    IV   \n",
              "4  CGPLLU349P                1         754  Adenocarcinoma   III   \n",
              "\n",
              "                1st line Oncological treatment  DELFI score  DELFI status  \n",
              "0                                      Surgery     0.099037             0  \n",
              "1                                      Surgery     0.533453             1  \n",
              "2            Palliative Chemotherapy/Radiation     0.822662             1  \n",
              "3            Palliative Chemotherapy/Radiation     0.238950             0  \n",
              "4  Chemotherapy/Radiation with curative intent     0.199820             0  "
            ],
            "text/html": [
              "\n",
              "  <div id=\"df-323de7cd-db79-43e3-9a0c-e79599693355\" class=\"colab-df-container\">\n",
              "    <div>\n",
              "<style scoped>\n",
              "    .dataframe tbody tr th:only-of-type {\n",
              "        vertical-align: middle;\n",
              "    }\n",
              "\n",
              "    .dataframe tbody tr th {\n",
              "        vertical-align: top;\n",
              "    }\n",
              "\n",
              "    .dataframe thead th {\n",
              "        text-align: right;\n",
              "    }\n",
              "</style>\n",
              "<table border=\"1\" class=\"dataframe\">\n",
              "  <thead>\n",
              "    <tr style=\"text-align: right;\">\n",
              "      <th></th>\n",
              "      <th>Patient ID</th>\n",
              "      <th>Survival status</th>\n",
              "      <th>Days alive</th>\n",
              "      <th>Histology</th>\n",
              "      <th>Stage</th>\n",
              "      <th>1st line Oncological treatment</th>\n",
              "      <th>DELFI score</th>\n",
              "      <th>DELFI status</th>\n",
              "    </tr>\n",
              "  </thead>\n",
              "  <tbody>\n",
              "    <tr>\n",
              "      <th>0</th>\n",
              "      <td>CGPLLU397P</td>\n",
              "      <td>1</td>\n",
              "      <td>1059</td>\n",
              "      <td>SCLC</td>\n",
              "      <td>I</td>\n",
              "      <td>Surgery</td>\n",
              "      <td>0.099037</td>\n",
              "      <td>0</td>\n",
              "    </tr>\n",
              "    <tr>\n",
              "      <th>1</th>\n",
              "      <td>CGPLLU607P</td>\n",
              "      <td>1</td>\n",
              "      <td>1640</td>\n",
              "      <td>Adenocarcinoma</td>\n",
              "      <td>I</td>\n",
              "      <td>Surgery</td>\n",
              "      <td>0.533453</td>\n",
              "      <td>1</td>\n",
              "    </tr>\n",
              "    <tr>\n",
              "      <th>2</th>\n",
              "      <td>CGPLLU637P</td>\n",
              "      <td>1</td>\n",
              "      <td>101</td>\n",
              "      <td>Squamous</td>\n",
              "      <td>IV</td>\n",
              "      <td>Palliative Chemotherapy/Radiation</td>\n",
              "      <td>0.822662</td>\n",
              "      <td>1</td>\n",
              "    </tr>\n",
              "    <tr>\n",
              "      <th>3</th>\n",
              "      <td>CGPLLU538P</td>\n",
              "      <td>1</td>\n",
              "      <td>1228</td>\n",
              "      <td>Adenocarcinoma</td>\n",
              "      <td>IV</td>\n",
              "      <td>Palliative Chemotherapy/Radiation</td>\n",
              "      <td>0.238950</td>\n",
              "      <td>0</td>\n",
              "    </tr>\n",
              "    <tr>\n",
              "      <th>4</th>\n",
              "      <td>CGPLLU349P</td>\n",
              "      <td>1</td>\n",
              "      <td>754</td>\n",
              "      <td>Adenocarcinoma</td>\n",
              "      <td>III</td>\n",
              "      <td>Chemotherapy/Radiation with curative intent</td>\n",
              "      <td>0.199820</td>\n",
              "      <td>0</td>\n",
              "    </tr>\n",
              "  </tbody>\n",
              "</table>\n",
              "</div>\n",
              "    <div class=\"colab-df-buttons\">\n",
              "\n",
              "  <div class=\"colab-df-container\">\n",
              "    <button class=\"colab-df-convert\" onclick=\"convertToInteractive('df-323de7cd-db79-43e3-9a0c-e79599693355')\"\n",
              "            title=\"Convert this dataframe to an interactive table.\"\n",
              "            style=\"display:none;\">\n",
              "\n",
              "  <svg xmlns=\"http://www.w3.org/2000/svg\" height=\"24px\" viewBox=\"0 -960 960 960\">\n",
              "    <path d=\"M120-120v-720h720v720H120Zm60-500h600v-160H180v160Zm220 220h160v-160H400v160Zm0 220h160v-160H400v160ZM180-400h160v-160H180v160Zm440 0h160v-160H620v160ZM180-180h160v-160H180v160Zm440 0h160v-160H620v160Z\"/>\n",
              "  </svg>\n",
              "    </button>\n",
              "\n",
              "  <style>\n",
              "    .colab-df-container {\n",
              "      display:flex;\n",
              "      gap: 12px;\n",
              "    }\n",
              "\n",
              "    .colab-df-convert {\n",
              "      background-color: #E8F0FE;\n",
              "      border: none;\n",
              "      border-radius: 50%;\n",
              "      cursor: pointer;\n",
              "      display: none;\n",
              "      fill: #1967D2;\n",
              "      height: 32px;\n",
              "      padding: 0 0 0 0;\n",
              "      width: 32px;\n",
              "    }\n",
              "\n",
              "    .colab-df-convert:hover {\n",
              "      background-color: #E2EBFA;\n",
              "      box-shadow: 0px 1px 2px rgba(60, 64, 67, 0.3), 0px 1px 3px 1px rgba(60, 64, 67, 0.15);\n",
              "      fill: #174EA6;\n",
              "    }\n",
              "\n",
              "    .colab-df-buttons div {\n",
              "      margin-bottom: 4px;\n",
              "    }\n",
              "\n",
              "    [theme=dark] .colab-df-convert {\n",
              "      background-color: #3B4455;\n",
              "      fill: #D2E3FC;\n",
              "    }\n",
              "\n",
              "    [theme=dark] .colab-df-convert:hover {\n",
              "      background-color: #434B5C;\n",
              "      box-shadow: 0px 1px 3px 1px rgba(0, 0, 0, 0.15);\n",
              "      filter: drop-shadow(0px 1px 2px rgba(0, 0, 0, 0.3));\n",
              "      fill: #FFFFFF;\n",
              "    }\n",
              "  </style>\n",
              "\n",
              "    <script>\n",
              "      const buttonEl =\n",
              "        document.querySelector('#df-323de7cd-db79-43e3-9a0c-e79599693355 button.colab-df-convert');\n",
              "      buttonEl.style.display =\n",
              "        google.colab.kernel.accessAllowed ? 'block' : 'none';\n",
              "\n",
              "      async function convertToInteractive(key) {\n",
              "        const element = document.querySelector('#df-323de7cd-db79-43e3-9a0c-e79599693355');\n",
              "        const dataTable =\n",
              "          await google.colab.kernel.invokeFunction('convertToInteractive',\n",
              "                                                    [key], {});\n",
              "        if (!dataTable) return;\n",
              "\n",
              "        const docLinkHtml = 'Like what you see? Visit the ' +\n",
              "          '<a target=\"_blank\" href=https://colab.research.google.com/notebooks/data_table.ipynb>data table notebook</a>'\n",
              "          + ' to learn more about interactive tables.';\n",
              "        element.innerHTML = '';\n",
              "        dataTable['output_type'] = 'display_data';\n",
              "        await google.colab.output.renderOutput(dataTable, element);\n",
              "        const docLink = document.createElement('div');\n",
              "        docLink.innerHTML = docLinkHtml;\n",
              "        element.appendChild(docLink);\n",
              "      }\n",
              "    </script>\n",
              "  </div>\n",
              "\n",
              "\n",
              "<div id=\"df-255aa2c4-a969-409b-bf3e-c414554c7824\">\n",
              "  <button class=\"colab-df-quickchart\" onclick=\"quickchart('df-255aa2c4-a969-409b-bf3e-c414554c7824')\"\n",
              "            title=\"Suggest charts\"\n",
              "            style=\"display:none;\">\n",
              "\n",
              "<svg xmlns=\"http://www.w3.org/2000/svg\" height=\"24px\"viewBox=\"0 0 24 24\"\n",
              "     width=\"24px\">\n",
              "    <g>\n",
              "        <path d=\"M19 3H5c-1.1 0-2 .9-2 2v14c0 1.1.9 2 2 2h14c1.1 0 2-.9 2-2V5c0-1.1-.9-2-2-2zM9 17H7v-7h2v7zm4 0h-2V7h2v10zm4 0h-2v-4h2v4z\"/>\n",
              "    </g>\n",
              "</svg>\n",
              "  </button>\n",
              "\n",
              "<style>\n",
              "  .colab-df-quickchart {\n",
              "      --bg-color: #E8F0FE;\n",
              "      --fill-color: #1967D2;\n",
              "      --hover-bg-color: #E2EBFA;\n",
              "      --hover-fill-color: #174EA6;\n",
              "      --disabled-fill-color: #AAA;\n",
              "      --disabled-bg-color: #DDD;\n",
              "  }\n",
              "\n",
              "  [theme=dark] .colab-df-quickchart {\n",
              "      --bg-color: #3B4455;\n",
              "      --fill-color: #D2E3FC;\n",
              "      --hover-bg-color: #434B5C;\n",
              "      --hover-fill-color: #FFFFFF;\n",
              "      --disabled-bg-color: #3B4455;\n",
              "      --disabled-fill-color: #666;\n",
              "  }\n",
              "\n",
              "  .colab-df-quickchart {\n",
              "    background-color: var(--bg-color);\n",
              "    border: none;\n",
              "    border-radius: 50%;\n",
              "    cursor: pointer;\n",
              "    display: none;\n",
              "    fill: var(--fill-color);\n",
              "    height: 32px;\n",
              "    padding: 0;\n",
              "    width: 32px;\n",
              "  }\n",
              "\n",
              "  .colab-df-quickchart:hover {\n",
              "    background-color: var(--hover-bg-color);\n",
              "    box-shadow: 0 1px 2px rgba(60, 64, 67, 0.3), 0 1px 3px 1px rgba(60, 64, 67, 0.15);\n",
              "    fill: var(--button-hover-fill-color);\n",
              "  }\n",
              "\n",
              "  .colab-df-quickchart-complete:disabled,\n",
              "  .colab-df-quickchart-complete:disabled:hover {\n",
              "    background-color: var(--disabled-bg-color);\n",
              "    fill: var(--disabled-fill-color);\n",
              "    box-shadow: none;\n",
              "  }\n",
              "\n",
              "  .colab-df-spinner {\n",
              "    border: 2px solid var(--fill-color);\n",
              "    border-color: transparent;\n",
              "    border-bottom-color: var(--fill-color);\n",
              "    animation:\n",
              "      spin 1s steps(1) infinite;\n",
              "  }\n",
              "\n",
              "  @keyframes spin {\n",
              "    0% {\n",
              "      border-color: transparent;\n",
              "      border-bottom-color: var(--fill-color);\n",
              "      border-left-color: var(--fill-color);\n",
              "    }\n",
              "    20% {\n",
              "      border-color: transparent;\n",
              "      border-left-color: var(--fill-color);\n",
              "      border-top-color: var(--fill-color);\n",
              "    }\n",
              "    30% {\n",
              "      border-color: transparent;\n",
              "      border-left-color: var(--fill-color);\n",
              "      border-top-color: var(--fill-color);\n",
              "      border-right-color: var(--fill-color);\n",
              "    }\n",
              "    40% {\n",
              "      border-color: transparent;\n",
              "      border-right-color: var(--fill-color);\n",
              "      border-top-color: var(--fill-color);\n",
              "    }\n",
              "    60% {\n",
              "      border-color: transparent;\n",
              "      border-right-color: var(--fill-color);\n",
              "    }\n",
              "    80% {\n",
              "      border-color: transparent;\n",
              "      border-right-color: var(--fill-color);\n",
              "      border-bottom-color: var(--fill-color);\n",
              "    }\n",
              "    90% {\n",
              "      border-color: transparent;\n",
              "      border-bottom-color: var(--fill-color);\n",
              "    }\n",
              "  }\n",
              "</style>\n",
              "\n",
              "  <script>\n",
              "    async function quickchart(key) {\n",
              "      const quickchartButtonEl =\n",
              "        document.querySelector('#' + key + ' button');\n",
              "      quickchartButtonEl.disabled = true;  // To prevent multiple clicks.\n",
              "      quickchartButtonEl.classList.add('colab-df-spinner');\n",
              "      try {\n",
              "        const charts = await google.colab.kernel.invokeFunction(\n",
              "            'suggestCharts', [key], {});\n",
              "      } catch (error) {\n",
              "        console.error('Error during call to suggestCharts:', error);\n",
              "      }\n",
              "      quickchartButtonEl.classList.remove('colab-df-spinner');\n",
              "      quickchartButtonEl.classList.add('colab-df-quickchart-complete');\n",
              "    }\n",
              "    (() => {\n",
              "      let quickchartButtonEl =\n",
              "        document.querySelector('#df-255aa2c4-a969-409b-bf3e-c414554c7824 button');\n",
              "      quickchartButtonEl.style.display =\n",
              "        google.colab.kernel.accessAllowed ? 'block' : 'none';\n",
              "    })();\n",
              "  </script>\n",
              "</div>\n",
              "\n",
              "    </div>\n",
              "  </div>\n"
            ],
            "application/vnd.google.colaboratory.intrinsic+json": {
              "type": "dataframe",
              "variable_name": "data",
              "summary": "{\n  \"name\": \"data\",\n  \"rows\": 95,\n  \"fields\": [\n    {\n      \"column\": \"Patient ID\",\n      \"properties\": {\n        \"dtype\": \"string\",\n        \"num_unique_values\": 95,\n        \"samples\": [\n          \"CGPLLU622P\",\n          \"CGPLLU400P\",\n          \"CGPLLU594P\"\n        ],\n        \"semantic_type\": \"\",\n        \"description\": \"\"\n      }\n    },\n    {\n      \"column\": \"Survival status\",\n      \"properties\": {\n        \"dtype\": \"number\",\n        \"std\": 0,\n        \"min\": 0,\n        \"max\": 1,\n        \"num_unique_values\": 2,\n        \"samples\": [\n          0,\n          1\n        ],\n        \"semantic_type\": \"\",\n        \"description\": \"\"\n      }\n    },\n    {\n      \"column\": \"Days alive\",\n      \"properties\": {\n        \"dtype\": \"number\",\n        \"std\": 986,\n        \"min\": 11,\n        \"max\": 2774,\n        \"num_unique_values\": 91,\n        \"samples\": [\n          39,\n          575\n        ],\n        \"semantic_type\": \"\",\n        \"description\": \"\"\n      }\n    },\n    {\n      \"column\": \"Histology\",\n      \"properties\": {\n        \"dtype\": \"category\",\n        \"num_unique_values\": 3,\n        \"samples\": [\n          \"SCLC\",\n          \"Adenocarcinoma\"\n        ],\n        \"semantic_type\": \"\",\n        \"description\": \"\"\n      }\n    },\n    {\n      \"column\": \"Stage\",\n      \"properties\": {\n        \"dtype\": \"category\",\n        \"num_unique_values\": 4,\n        \"samples\": [\n          \"IV\",\n          \"II\"\n        ],\n        \"semantic_type\": \"\",\n        \"description\": \"\"\n      }\n    },\n    {\n      \"column\": \"1st line Oncological treatment\",\n      \"properties\": {\n        \"dtype\": \"category\",\n        \"num_unique_values\": 5,\n        \"samples\": [\n          \"Palliative Chemotherapy/Radiation\",\n          \"No treatment\"\n        ],\n        \"semantic_type\": \"\",\n        \"description\": \"\"\n      }\n    },\n    {\n      \"column\": \"DELFI score\",\n      \"properties\": {\n        \"dtype\": \"number\",\n        \"std\": 0.31691423723058215,\n        \"min\": 0.0297389575449169,\n        \"max\": 1.0,\n        \"num_unique_values\": 86,\n        \"samples\": [\n          0.999999636504519,\n          0.0990365672277868\n        ],\n        \"semantic_type\": \"\",\n        \"description\": \"\"\n      }\n    },\n    {\n      \"column\": \"DELFI status\",\n      \"properties\": {\n        \"dtype\": \"number\",\n        \"std\": 0,\n        \"min\": 0,\n        \"max\": 1,\n        \"num_unique_values\": 2,\n        \"samples\": [\n          1,\n          0\n        ],\n        \"semantic_type\": \"\",\n        \"description\": \"\"\n      }\n    }\n  ]\n}"
            }
          },
          "metadata": {},
          "execution_count": 63
        }
      ],
      "source": [
        "data = pd.read_excel('./sample_data/data_Lucas_cfDNA_Alan.xlsx', header = 1)\n",
        "data.head()"
      ]
    },
    {
      "cell_type": "code",
      "execution_count": 64,
      "metadata": {
        "id": "vIIrdVblB3LU",
        "outputId": "07ac5df0-3291-4791-d09a-ec033fb1dfbc",
        "colab": {
          "base_uri": "https://localhost:8080/",
          "height": 424
        }
      },
      "outputs": [
        {
          "output_type": "execute_result",
          "data": {
            "text/plain": [
              "    Patient ID  Survival status  Days alive       Histology Stage  \\\n",
              "0   CGPLLU397P                1        1059            SCLC     I   \n",
              "1   CGPLLU607P                1        1640  Adenocarcinoma     I   \n",
              "2   CGPLLU637P                1         101        Squamous    IV   \n",
              "3   CGPLLU538P                1        1228  Adenocarcinoma    IV   \n",
              "4   CGPLLU349P                1         754  Adenocarcinoma   III   \n",
              "..         ...              ...         ...             ...   ...   \n",
              "90  CGPLLU501P                1        1504  Adenocarcinoma    IV   \n",
              "91  CGPLLU313P                1          28  Adenocarcinoma    IV   \n",
              "92  CGPLLU404P                1         299            SCLC    IV   \n",
              "93  CGPLLU321P                1         606        Squamous   III   \n",
              "94  CGPLLU533P                1        1519  Adenocarcinoma     I   \n",
              "\n",
              "                 1st line Oncological treatment  DELFI score  \n",
              "0                                       Surgery     0.099037  \n",
              "1                                       Surgery     0.533453  \n",
              "2             Palliative Chemotherapy/Radiation     0.822662  \n",
              "3             Palliative Chemotherapy/Radiation     0.238950  \n",
              "4   Chemotherapy/Radiation with curative intent     0.199820  \n",
              "..                                          ...          ...  \n",
              "90            Palliative Chemotherapy/Radiation     1.000000  \n",
              "91            Palliative Chemotherapy/Radiation     1.000000  \n",
              "92            Palliative Chemotherapy/Radiation     1.000000  \n",
              "93            Palliative Chemotherapy/Radiation     0.265000  \n",
              "94  Chemotherapy/Radiation with curative intent     0.631000  \n",
              "\n",
              "[95 rows x 7 columns]"
            ],
            "text/html": [
              "\n",
              "  <div id=\"df-f62548aa-df2b-4f69-8875-a9330cb0d41e\" class=\"colab-df-container\">\n",
              "    <div>\n",
              "<style scoped>\n",
              "    .dataframe tbody tr th:only-of-type {\n",
              "        vertical-align: middle;\n",
              "    }\n",
              "\n",
              "    .dataframe tbody tr th {\n",
              "        vertical-align: top;\n",
              "    }\n",
              "\n",
              "    .dataframe thead th {\n",
              "        text-align: right;\n",
              "    }\n",
              "</style>\n",
              "<table border=\"1\" class=\"dataframe\">\n",
              "  <thead>\n",
              "    <tr style=\"text-align: right;\">\n",
              "      <th></th>\n",
              "      <th>Patient ID</th>\n",
              "      <th>Survival status</th>\n",
              "      <th>Days alive</th>\n",
              "      <th>Histology</th>\n",
              "      <th>Stage</th>\n",
              "      <th>1st line Oncological treatment</th>\n",
              "      <th>DELFI score</th>\n",
              "    </tr>\n",
              "  </thead>\n",
              "  <tbody>\n",
              "    <tr>\n",
              "      <th>0</th>\n",
              "      <td>CGPLLU397P</td>\n",
              "      <td>1</td>\n",
              "      <td>1059</td>\n",
              "      <td>SCLC</td>\n",
              "      <td>I</td>\n",
              "      <td>Surgery</td>\n",
              "      <td>0.099037</td>\n",
              "    </tr>\n",
              "    <tr>\n",
              "      <th>1</th>\n",
              "      <td>CGPLLU607P</td>\n",
              "      <td>1</td>\n",
              "      <td>1640</td>\n",
              "      <td>Adenocarcinoma</td>\n",
              "      <td>I</td>\n",
              "      <td>Surgery</td>\n",
              "      <td>0.533453</td>\n",
              "    </tr>\n",
              "    <tr>\n",
              "      <th>2</th>\n",
              "      <td>CGPLLU637P</td>\n",
              "      <td>1</td>\n",
              "      <td>101</td>\n",
              "      <td>Squamous</td>\n",
              "      <td>IV</td>\n",
              "      <td>Palliative Chemotherapy/Radiation</td>\n",
              "      <td>0.822662</td>\n",
              "    </tr>\n",
              "    <tr>\n",
              "      <th>3</th>\n",
              "      <td>CGPLLU538P</td>\n",
              "      <td>1</td>\n",
              "      <td>1228</td>\n",
              "      <td>Adenocarcinoma</td>\n",
              "      <td>IV</td>\n",
              "      <td>Palliative Chemotherapy/Radiation</td>\n",
              "      <td>0.238950</td>\n",
              "    </tr>\n",
              "    <tr>\n",
              "      <th>4</th>\n",
              "      <td>CGPLLU349P</td>\n",
              "      <td>1</td>\n",
              "      <td>754</td>\n",
              "      <td>Adenocarcinoma</td>\n",
              "      <td>III</td>\n",
              "      <td>Chemotherapy/Radiation with curative intent</td>\n",
              "      <td>0.199820</td>\n",
              "    </tr>\n",
              "    <tr>\n",
              "      <th>...</th>\n",
              "      <td>...</td>\n",
              "      <td>...</td>\n",
              "      <td>...</td>\n",
              "      <td>...</td>\n",
              "      <td>...</td>\n",
              "      <td>...</td>\n",
              "      <td>...</td>\n",
              "    </tr>\n",
              "    <tr>\n",
              "      <th>90</th>\n",
              "      <td>CGPLLU501P</td>\n",
              "      <td>1</td>\n",
              "      <td>1504</td>\n",
              "      <td>Adenocarcinoma</td>\n",
              "      <td>IV</td>\n",
              "      <td>Palliative Chemotherapy/Radiation</td>\n",
              "      <td>1.000000</td>\n",
              "    </tr>\n",
              "    <tr>\n",
              "      <th>91</th>\n",
              "      <td>CGPLLU313P</td>\n",
              "      <td>1</td>\n",
              "      <td>28</td>\n",
              "      <td>Adenocarcinoma</td>\n",
              "      <td>IV</td>\n",
              "      <td>Palliative Chemotherapy/Radiation</td>\n",
              "      <td>1.000000</td>\n",
              "    </tr>\n",
              "    <tr>\n",
              "      <th>92</th>\n",
              "      <td>CGPLLU404P</td>\n",
              "      <td>1</td>\n",
              "      <td>299</td>\n",
              "      <td>SCLC</td>\n",
              "      <td>IV</td>\n",
              "      <td>Palliative Chemotherapy/Radiation</td>\n",
              "      <td>1.000000</td>\n",
              "    </tr>\n",
              "    <tr>\n",
              "      <th>93</th>\n",
              "      <td>CGPLLU321P</td>\n",
              "      <td>1</td>\n",
              "      <td>606</td>\n",
              "      <td>Squamous</td>\n",
              "      <td>III</td>\n",
              "      <td>Palliative Chemotherapy/Radiation</td>\n",
              "      <td>0.265000</td>\n",
              "    </tr>\n",
              "    <tr>\n",
              "      <th>94</th>\n",
              "      <td>CGPLLU533P</td>\n",
              "      <td>1</td>\n",
              "      <td>1519</td>\n",
              "      <td>Adenocarcinoma</td>\n",
              "      <td>I</td>\n",
              "      <td>Chemotherapy/Radiation with curative intent</td>\n",
              "      <td>0.631000</td>\n",
              "    </tr>\n",
              "  </tbody>\n",
              "</table>\n",
              "<p>95 rows × 7 columns</p>\n",
              "</div>\n",
              "    <div class=\"colab-df-buttons\">\n",
              "\n",
              "  <div class=\"colab-df-container\">\n",
              "    <button class=\"colab-df-convert\" onclick=\"convertToInteractive('df-f62548aa-df2b-4f69-8875-a9330cb0d41e')\"\n",
              "            title=\"Convert this dataframe to an interactive table.\"\n",
              "            style=\"display:none;\">\n",
              "\n",
              "  <svg xmlns=\"http://www.w3.org/2000/svg\" height=\"24px\" viewBox=\"0 -960 960 960\">\n",
              "    <path d=\"M120-120v-720h720v720H120Zm60-500h600v-160H180v160Zm220 220h160v-160H400v160Zm0 220h160v-160H400v160ZM180-400h160v-160H180v160Zm440 0h160v-160H620v160ZM180-180h160v-160H180v160Zm440 0h160v-160H620v160Z\"/>\n",
              "  </svg>\n",
              "    </button>\n",
              "\n",
              "  <style>\n",
              "    .colab-df-container {\n",
              "      display:flex;\n",
              "      gap: 12px;\n",
              "    }\n",
              "\n",
              "    .colab-df-convert {\n",
              "      background-color: #E8F0FE;\n",
              "      border: none;\n",
              "      border-radius: 50%;\n",
              "      cursor: pointer;\n",
              "      display: none;\n",
              "      fill: #1967D2;\n",
              "      height: 32px;\n",
              "      padding: 0 0 0 0;\n",
              "      width: 32px;\n",
              "    }\n",
              "\n",
              "    .colab-df-convert:hover {\n",
              "      background-color: #E2EBFA;\n",
              "      box-shadow: 0px 1px 2px rgba(60, 64, 67, 0.3), 0px 1px 3px 1px rgba(60, 64, 67, 0.15);\n",
              "      fill: #174EA6;\n",
              "    }\n",
              "\n",
              "    .colab-df-buttons div {\n",
              "      margin-bottom: 4px;\n",
              "    }\n",
              "\n",
              "    [theme=dark] .colab-df-convert {\n",
              "      background-color: #3B4455;\n",
              "      fill: #D2E3FC;\n",
              "    }\n",
              "\n",
              "    [theme=dark] .colab-df-convert:hover {\n",
              "      background-color: #434B5C;\n",
              "      box-shadow: 0px 1px 3px 1px rgba(0, 0, 0, 0.15);\n",
              "      filter: drop-shadow(0px 1px 2px rgba(0, 0, 0, 0.3));\n",
              "      fill: #FFFFFF;\n",
              "    }\n",
              "  </style>\n",
              "\n",
              "    <script>\n",
              "      const buttonEl =\n",
              "        document.querySelector('#df-f62548aa-df2b-4f69-8875-a9330cb0d41e button.colab-df-convert');\n",
              "      buttonEl.style.display =\n",
              "        google.colab.kernel.accessAllowed ? 'block' : 'none';\n",
              "\n",
              "      async function convertToInteractive(key) {\n",
              "        const element = document.querySelector('#df-f62548aa-df2b-4f69-8875-a9330cb0d41e');\n",
              "        const dataTable =\n",
              "          await google.colab.kernel.invokeFunction('convertToInteractive',\n",
              "                                                    [key], {});\n",
              "        if (!dataTable) return;\n",
              "\n",
              "        const docLinkHtml = 'Like what you see? Visit the ' +\n",
              "          '<a target=\"_blank\" href=https://colab.research.google.com/notebooks/data_table.ipynb>data table notebook</a>'\n",
              "          + ' to learn more about interactive tables.';\n",
              "        element.innerHTML = '';\n",
              "        dataTable['output_type'] = 'display_data';\n",
              "        await google.colab.output.renderOutput(dataTable, element);\n",
              "        const docLink = document.createElement('div');\n",
              "        docLink.innerHTML = docLinkHtml;\n",
              "        element.appendChild(docLink);\n",
              "      }\n",
              "    </script>\n",
              "  </div>\n",
              "\n",
              "\n",
              "<div id=\"df-1a75dad4-a275-4de5-8484-5459a16b542f\">\n",
              "  <button class=\"colab-df-quickchart\" onclick=\"quickchart('df-1a75dad4-a275-4de5-8484-5459a16b542f')\"\n",
              "            title=\"Suggest charts\"\n",
              "            style=\"display:none;\">\n",
              "\n",
              "<svg xmlns=\"http://www.w3.org/2000/svg\" height=\"24px\"viewBox=\"0 0 24 24\"\n",
              "     width=\"24px\">\n",
              "    <g>\n",
              "        <path d=\"M19 3H5c-1.1 0-2 .9-2 2v14c0 1.1.9 2 2 2h14c1.1 0 2-.9 2-2V5c0-1.1-.9-2-2-2zM9 17H7v-7h2v7zm4 0h-2V7h2v10zm4 0h-2v-4h2v4z\"/>\n",
              "    </g>\n",
              "</svg>\n",
              "  </button>\n",
              "\n",
              "<style>\n",
              "  .colab-df-quickchart {\n",
              "      --bg-color: #E8F0FE;\n",
              "      --fill-color: #1967D2;\n",
              "      --hover-bg-color: #E2EBFA;\n",
              "      --hover-fill-color: #174EA6;\n",
              "      --disabled-fill-color: #AAA;\n",
              "      --disabled-bg-color: #DDD;\n",
              "  }\n",
              "\n",
              "  [theme=dark] .colab-df-quickchart {\n",
              "      --bg-color: #3B4455;\n",
              "      --fill-color: #D2E3FC;\n",
              "      --hover-bg-color: #434B5C;\n",
              "      --hover-fill-color: #FFFFFF;\n",
              "      --disabled-bg-color: #3B4455;\n",
              "      --disabled-fill-color: #666;\n",
              "  }\n",
              "\n",
              "  .colab-df-quickchart {\n",
              "    background-color: var(--bg-color);\n",
              "    border: none;\n",
              "    border-radius: 50%;\n",
              "    cursor: pointer;\n",
              "    display: none;\n",
              "    fill: var(--fill-color);\n",
              "    height: 32px;\n",
              "    padding: 0;\n",
              "    width: 32px;\n",
              "  }\n",
              "\n",
              "  .colab-df-quickchart:hover {\n",
              "    background-color: var(--hover-bg-color);\n",
              "    box-shadow: 0 1px 2px rgba(60, 64, 67, 0.3), 0 1px 3px 1px rgba(60, 64, 67, 0.15);\n",
              "    fill: var(--button-hover-fill-color);\n",
              "  }\n",
              "\n",
              "  .colab-df-quickchart-complete:disabled,\n",
              "  .colab-df-quickchart-complete:disabled:hover {\n",
              "    background-color: var(--disabled-bg-color);\n",
              "    fill: var(--disabled-fill-color);\n",
              "    box-shadow: none;\n",
              "  }\n",
              "\n",
              "  .colab-df-spinner {\n",
              "    border: 2px solid var(--fill-color);\n",
              "    border-color: transparent;\n",
              "    border-bottom-color: var(--fill-color);\n",
              "    animation:\n",
              "      spin 1s steps(1) infinite;\n",
              "  }\n",
              "\n",
              "  @keyframes spin {\n",
              "    0% {\n",
              "      border-color: transparent;\n",
              "      border-bottom-color: var(--fill-color);\n",
              "      border-left-color: var(--fill-color);\n",
              "    }\n",
              "    20% {\n",
              "      border-color: transparent;\n",
              "      border-left-color: var(--fill-color);\n",
              "      border-top-color: var(--fill-color);\n",
              "    }\n",
              "    30% {\n",
              "      border-color: transparent;\n",
              "      border-left-color: var(--fill-color);\n",
              "      border-top-color: var(--fill-color);\n",
              "      border-right-color: var(--fill-color);\n",
              "    }\n",
              "    40% {\n",
              "      border-color: transparent;\n",
              "      border-right-color: var(--fill-color);\n",
              "      border-top-color: var(--fill-color);\n",
              "    }\n",
              "    60% {\n",
              "      border-color: transparent;\n",
              "      border-right-color: var(--fill-color);\n",
              "    }\n",
              "    80% {\n",
              "      border-color: transparent;\n",
              "      border-right-color: var(--fill-color);\n",
              "      border-bottom-color: var(--fill-color);\n",
              "    }\n",
              "    90% {\n",
              "      border-color: transparent;\n",
              "      border-bottom-color: var(--fill-color);\n",
              "    }\n",
              "  }\n",
              "</style>\n",
              "\n",
              "  <script>\n",
              "    async function quickchart(key) {\n",
              "      const quickchartButtonEl =\n",
              "        document.querySelector('#' + key + ' button');\n",
              "      quickchartButtonEl.disabled = true;  // To prevent multiple clicks.\n",
              "      quickchartButtonEl.classList.add('colab-df-spinner');\n",
              "      try {\n",
              "        const charts = await google.colab.kernel.invokeFunction(\n",
              "            'suggestCharts', [key], {});\n",
              "      } catch (error) {\n",
              "        console.error('Error during call to suggestCharts:', error);\n",
              "      }\n",
              "      quickchartButtonEl.classList.remove('colab-df-spinner');\n",
              "      quickchartButtonEl.classList.add('colab-df-quickchart-complete');\n",
              "    }\n",
              "    (() => {\n",
              "      let quickchartButtonEl =\n",
              "        document.querySelector('#df-1a75dad4-a275-4de5-8484-5459a16b542f button');\n",
              "      quickchartButtonEl.style.display =\n",
              "        google.colab.kernel.accessAllowed ? 'block' : 'none';\n",
              "    })();\n",
              "  </script>\n",
              "</div>\n",
              "\n",
              "  <div id=\"id_6977b3af-b71e-4780-8b7d-abffea895965\">\n",
              "    <style>\n",
              "      .colab-df-generate {\n",
              "        background-color: #E8F0FE;\n",
              "        border: none;\n",
              "        border-radius: 50%;\n",
              "        cursor: pointer;\n",
              "        display: none;\n",
              "        fill: #1967D2;\n",
              "        height: 32px;\n",
              "        padding: 0 0 0 0;\n",
              "        width: 32px;\n",
              "      }\n",
              "\n",
              "      .colab-df-generate:hover {\n",
              "        background-color: #E2EBFA;\n",
              "        box-shadow: 0px 1px 2px rgba(60, 64, 67, 0.3), 0px 1px 3px 1px rgba(60, 64, 67, 0.15);\n",
              "        fill: #174EA6;\n",
              "      }\n",
              "\n",
              "      [theme=dark] .colab-df-generate {\n",
              "        background-color: #3B4455;\n",
              "        fill: #D2E3FC;\n",
              "      }\n",
              "\n",
              "      [theme=dark] .colab-df-generate:hover {\n",
              "        background-color: #434B5C;\n",
              "        box-shadow: 0px 1px 3px 1px rgba(0, 0, 0, 0.15);\n",
              "        filter: drop-shadow(0px 1px 2px rgba(0, 0, 0, 0.3));\n",
              "        fill: #FFFFFF;\n",
              "      }\n",
              "    </style>\n",
              "    <button class=\"colab-df-generate\" onclick=\"generateWithVariable('data')\"\n",
              "            title=\"Generate code using this dataframe.\"\n",
              "            style=\"display:none;\">\n",
              "\n",
              "  <svg xmlns=\"http://www.w3.org/2000/svg\" height=\"24px\"viewBox=\"0 0 24 24\"\n",
              "       width=\"24px\">\n",
              "    <path d=\"M7,19H8.4L18.45,9,17,7.55,7,17.6ZM5,21V16.75L18.45,3.32a2,2,0,0,1,2.83,0l1.4,1.43a1.91,1.91,0,0,1,.58,1.4,1.91,1.91,0,0,1-.58,1.4L9.25,21ZM18.45,9,17,7.55Zm-12,3A5.31,5.31,0,0,0,4.9,8.1,5.31,5.31,0,0,0,1,6.5,5.31,5.31,0,0,0,4.9,4.9,5.31,5.31,0,0,0,6.5,1,5.31,5.31,0,0,0,8.1,4.9,5.31,5.31,0,0,0,12,6.5,5.46,5.46,0,0,0,6.5,12Z\"/>\n",
              "  </svg>\n",
              "    </button>\n",
              "    <script>\n",
              "      (() => {\n",
              "      const buttonEl =\n",
              "        document.querySelector('#id_6977b3af-b71e-4780-8b7d-abffea895965 button.colab-df-generate');\n",
              "      buttonEl.style.display =\n",
              "        google.colab.kernel.accessAllowed ? 'block' : 'none';\n",
              "\n",
              "      buttonEl.onclick = () => {\n",
              "        google.colab.notebook.generateWithVariable('data');\n",
              "      }\n",
              "      })();\n",
              "    </script>\n",
              "  </div>\n",
              "\n",
              "    </div>\n",
              "  </div>\n"
            ],
            "application/vnd.google.colaboratory.intrinsic+json": {
              "type": "dataframe",
              "variable_name": "data",
              "summary": "{\n  \"name\": \"data\",\n  \"rows\": 95,\n  \"fields\": [\n    {\n      \"column\": \"Patient ID\",\n      \"properties\": {\n        \"dtype\": \"string\",\n        \"num_unique_values\": 95,\n        \"samples\": [\n          \"CGPLLU622P\",\n          \"CGPLLU400P\",\n          \"CGPLLU594P\"\n        ],\n        \"semantic_type\": \"\",\n        \"description\": \"\"\n      }\n    },\n    {\n      \"column\": \"Survival status\",\n      \"properties\": {\n        \"dtype\": \"number\",\n        \"std\": 0,\n        \"min\": 0,\n        \"max\": 1,\n        \"num_unique_values\": 2,\n        \"samples\": [\n          0,\n          1\n        ],\n        \"semantic_type\": \"\",\n        \"description\": \"\"\n      }\n    },\n    {\n      \"column\": \"Days alive\",\n      \"properties\": {\n        \"dtype\": \"number\",\n        \"std\": 986,\n        \"min\": 11,\n        \"max\": 2774,\n        \"num_unique_values\": 91,\n        \"samples\": [\n          39,\n          575\n        ],\n        \"semantic_type\": \"\",\n        \"description\": \"\"\n      }\n    },\n    {\n      \"column\": \"Histology\",\n      \"properties\": {\n        \"dtype\": \"category\",\n        \"num_unique_values\": 3,\n        \"samples\": [\n          \"SCLC\",\n          \"Adenocarcinoma\"\n        ],\n        \"semantic_type\": \"\",\n        \"description\": \"\"\n      }\n    },\n    {\n      \"column\": \"Stage\",\n      \"properties\": {\n        \"dtype\": \"category\",\n        \"num_unique_values\": 4,\n        \"samples\": [\n          \"IV\",\n          \"II\"\n        ],\n        \"semantic_type\": \"\",\n        \"description\": \"\"\n      }\n    },\n    {\n      \"column\": \"1st line Oncological treatment\",\n      \"properties\": {\n        \"dtype\": \"category\",\n        \"num_unique_values\": 5,\n        \"samples\": [\n          \"Palliative Chemotherapy/Radiation\",\n          \"No treatment\"\n        ],\n        \"semantic_type\": \"\",\n        \"description\": \"\"\n      }\n    },\n    {\n      \"column\": \"DELFI score\",\n      \"properties\": {\n        \"dtype\": \"number\",\n        \"std\": 0.31691423723058215,\n        \"min\": 0.0297389575449169,\n        \"max\": 1.0,\n        \"num_unique_values\": 86,\n        \"samples\": [\n          0.999999636504519,\n          0.0990365672277868\n        ],\n        \"semantic_type\": \"\",\n        \"description\": \"\"\n      }\n    }\n  ]\n}"
            }
          },
          "metadata": {},
          "execution_count": 64
        }
      ],
      "source": [
        "data.drop(['DELFI status'], axis = 1, inplace = True)\n",
        "data"
      ]
    },
    {
      "cell_type": "markdown",
      "metadata": {
        "id": "pFjwYbkTB3LU"
      },
      "source": [
        "Change the data column names, rename treatment"
      ]
    },
    {
      "cell_type": "code",
      "execution_count": 66,
      "metadata": {
        "id": "92QgeXi0B3LU"
      },
      "outputs": [],
      "source": [
        "data.columns = [col.lower().replace(' ', '_') for col in data.columns]\n",
        "data = data.rename(columns={'1st_line_oncological_treatment': 'treatment'})"
      ]
    },
    {
      "cell_type": "code",
      "execution_count": 67,
      "metadata": {
        "id": "tAPQua2fB3LU",
        "outputId": "a51e1f64-ca99-4d85-837a-dc26fccc9812",
        "colab": {
          "base_uri": "https://localhost:8080/",
          "height": 244
        }
      },
      "outputs": [
        {
          "output_type": "execute_result",
          "data": {
            "text/plain": [
              "   patient_id  survival_status  days_alive       histology  delfi_score  \\\n",
              "0  CGPLLU397P                1        1059            SCLC     0.099037   \n",
              "1  CGPLLU607P                1        1640  Adenocarcinoma     0.533453   \n",
              "2  CGPLLU637P                1         101        Squamous     0.822662   \n",
              "3  CGPLLU538P                1        1228  Adenocarcinoma     0.238950   \n",
              "4  CGPLLU349P                1         754  Adenocarcinoma     0.199820   \n",
              "\n",
              "   stage_I  stage_II  stage_III  stage_IV  \\\n",
              "0        1         0          0         0   \n",
              "1        1         0          0         0   \n",
              "2        0         0          0         1   \n",
              "3        0         0          0         1   \n",
              "4        0         0          1         0   \n",
              "\n",
              "   treatment_Chemotherapy/Radiation with curative intent  \\\n",
              "0                                                  0       \n",
              "1                                                  0       \n",
              "2                                                  0       \n",
              "3                                                  0       \n",
              "4                                                  1       \n",
              "\n",
              "   treatment_No treatment  treatment_Palliative Chemotherapy/Radiation  \\\n",
              "0                       0                                            0   \n",
              "1                       0                                            0   \n",
              "2                       0                                            1   \n",
              "3                       0                                            1   \n",
              "4                       0                                            0   \n",
              "\n",
              "   treatment_Surgery  treatment_Surgery+adjuvant treatment  \n",
              "0                  1                                     0  \n",
              "1                  1                                     0  \n",
              "2                  0                                     0  \n",
              "3                  0                                     0  \n",
              "4                  0                                     0  "
            ],
            "text/html": [
              "\n",
              "  <div id=\"df-a61c4fb5-4d64-4d26-b6b8-ec25d144146a\" class=\"colab-df-container\">\n",
              "    <div>\n",
              "<style scoped>\n",
              "    .dataframe tbody tr th:only-of-type {\n",
              "        vertical-align: middle;\n",
              "    }\n",
              "\n",
              "    .dataframe tbody tr th {\n",
              "        vertical-align: top;\n",
              "    }\n",
              "\n",
              "    .dataframe thead th {\n",
              "        text-align: right;\n",
              "    }\n",
              "</style>\n",
              "<table border=\"1\" class=\"dataframe\">\n",
              "  <thead>\n",
              "    <tr style=\"text-align: right;\">\n",
              "      <th></th>\n",
              "      <th>patient_id</th>\n",
              "      <th>survival_status</th>\n",
              "      <th>days_alive</th>\n",
              "      <th>histology</th>\n",
              "      <th>delfi_score</th>\n",
              "      <th>stage_I</th>\n",
              "      <th>stage_II</th>\n",
              "      <th>stage_III</th>\n",
              "      <th>stage_IV</th>\n",
              "      <th>treatment_Chemotherapy/Radiation with curative intent</th>\n",
              "      <th>treatment_No treatment</th>\n",
              "      <th>treatment_Palliative Chemotherapy/Radiation</th>\n",
              "      <th>treatment_Surgery</th>\n",
              "      <th>treatment_Surgery+adjuvant treatment</th>\n",
              "    </tr>\n",
              "  </thead>\n",
              "  <tbody>\n",
              "    <tr>\n",
              "      <th>0</th>\n",
              "      <td>CGPLLU397P</td>\n",
              "      <td>1</td>\n",
              "      <td>1059</td>\n",
              "      <td>SCLC</td>\n",
              "      <td>0.099037</td>\n",
              "      <td>1</td>\n",
              "      <td>0</td>\n",
              "      <td>0</td>\n",
              "      <td>0</td>\n",
              "      <td>0</td>\n",
              "      <td>0</td>\n",
              "      <td>0</td>\n",
              "      <td>1</td>\n",
              "      <td>0</td>\n",
              "    </tr>\n",
              "    <tr>\n",
              "      <th>1</th>\n",
              "      <td>CGPLLU607P</td>\n",
              "      <td>1</td>\n",
              "      <td>1640</td>\n",
              "      <td>Adenocarcinoma</td>\n",
              "      <td>0.533453</td>\n",
              "      <td>1</td>\n",
              "      <td>0</td>\n",
              "      <td>0</td>\n",
              "      <td>0</td>\n",
              "      <td>0</td>\n",
              "      <td>0</td>\n",
              "      <td>0</td>\n",
              "      <td>1</td>\n",
              "      <td>0</td>\n",
              "    </tr>\n",
              "    <tr>\n",
              "      <th>2</th>\n",
              "      <td>CGPLLU637P</td>\n",
              "      <td>1</td>\n",
              "      <td>101</td>\n",
              "      <td>Squamous</td>\n",
              "      <td>0.822662</td>\n",
              "      <td>0</td>\n",
              "      <td>0</td>\n",
              "      <td>0</td>\n",
              "      <td>1</td>\n",
              "      <td>0</td>\n",
              "      <td>0</td>\n",
              "      <td>1</td>\n",
              "      <td>0</td>\n",
              "      <td>0</td>\n",
              "    </tr>\n",
              "    <tr>\n",
              "      <th>3</th>\n",
              "      <td>CGPLLU538P</td>\n",
              "      <td>1</td>\n",
              "      <td>1228</td>\n",
              "      <td>Adenocarcinoma</td>\n",
              "      <td>0.238950</td>\n",
              "      <td>0</td>\n",
              "      <td>0</td>\n",
              "      <td>0</td>\n",
              "      <td>1</td>\n",
              "      <td>0</td>\n",
              "      <td>0</td>\n",
              "      <td>1</td>\n",
              "      <td>0</td>\n",
              "      <td>0</td>\n",
              "    </tr>\n",
              "    <tr>\n",
              "      <th>4</th>\n",
              "      <td>CGPLLU349P</td>\n",
              "      <td>1</td>\n",
              "      <td>754</td>\n",
              "      <td>Adenocarcinoma</td>\n",
              "      <td>0.199820</td>\n",
              "      <td>0</td>\n",
              "      <td>0</td>\n",
              "      <td>1</td>\n",
              "      <td>0</td>\n",
              "      <td>1</td>\n",
              "      <td>0</td>\n",
              "      <td>0</td>\n",
              "      <td>0</td>\n",
              "      <td>0</td>\n",
              "    </tr>\n",
              "  </tbody>\n",
              "</table>\n",
              "</div>\n",
              "    <div class=\"colab-df-buttons\">\n",
              "\n",
              "  <div class=\"colab-df-container\">\n",
              "    <button class=\"colab-df-convert\" onclick=\"convertToInteractive('df-a61c4fb5-4d64-4d26-b6b8-ec25d144146a')\"\n",
              "            title=\"Convert this dataframe to an interactive table.\"\n",
              "            style=\"display:none;\">\n",
              "\n",
              "  <svg xmlns=\"http://www.w3.org/2000/svg\" height=\"24px\" viewBox=\"0 -960 960 960\">\n",
              "    <path d=\"M120-120v-720h720v720H120Zm60-500h600v-160H180v160Zm220 220h160v-160H400v160Zm0 220h160v-160H400v160ZM180-400h160v-160H180v160Zm440 0h160v-160H620v160ZM180-180h160v-160H180v160Zm440 0h160v-160H620v160Z\"/>\n",
              "  </svg>\n",
              "    </button>\n",
              "\n",
              "  <style>\n",
              "    .colab-df-container {\n",
              "      display:flex;\n",
              "      gap: 12px;\n",
              "    }\n",
              "\n",
              "    .colab-df-convert {\n",
              "      background-color: #E8F0FE;\n",
              "      border: none;\n",
              "      border-radius: 50%;\n",
              "      cursor: pointer;\n",
              "      display: none;\n",
              "      fill: #1967D2;\n",
              "      height: 32px;\n",
              "      padding: 0 0 0 0;\n",
              "      width: 32px;\n",
              "    }\n",
              "\n",
              "    .colab-df-convert:hover {\n",
              "      background-color: #E2EBFA;\n",
              "      box-shadow: 0px 1px 2px rgba(60, 64, 67, 0.3), 0px 1px 3px 1px rgba(60, 64, 67, 0.15);\n",
              "      fill: #174EA6;\n",
              "    }\n",
              "\n",
              "    .colab-df-buttons div {\n",
              "      margin-bottom: 4px;\n",
              "    }\n",
              "\n",
              "    [theme=dark] .colab-df-convert {\n",
              "      background-color: #3B4455;\n",
              "      fill: #D2E3FC;\n",
              "    }\n",
              "\n",
              "    [theme=dark] .colab-df-convert:hover {\n",
              "      background-color: #434B5C;\n",
              "      box-shadow: 0px 1px 3px 1px rgba(0, 0, 0, 0.15);\n",
              "      filter: drop-shadow(0px 1px 2px rgba(0, 0, 0, 0.3));\n",
              "      fill: #FFFFFF;\n",
              "    }\n",
              "  </style>\n",
              "\n",
              "    <script>\n",
              "      const buttonEl =\n",
              "        document.querySelector('#df-a61c4fb5-4d64-4d26-b6b8-ec25d144146a button.colab-df-convert');\n",
              "      buttonEl.style.display =\n",
              "        google.colab.kernel.accessAllowed ? 'block' : 'none';\n",
              "\n",
              "      async function convertToInteractive(key) {\n",
              "        const element = document.querySelector('#df-a61c4fb5-4d64-4d26-b6b8-ec25d144146a');\n",
              "        const dataTable =\n",
              "          await google.colab.kernel.invokeFunction('convertToInteractive',\n",
              "                                                    [key], {});\n",
              "        if (!dataTable) return;\n",
              "\n",
              "        const docLinkHtml = 'Like what you see? Visit the ' +\n",
              "          '<a target=\"_blank\" href=https://colab.research.google.com/notebooks/data_table.ipynb>data table notebook</a>'\n",
              "          + ' to learn more about interactive tables.';\n",
              "        element.innerHTML = '';\n",
              "        dataTable['output_type'] = 'display_data';\n",
              "        await google.colab.output.renderOutput(dataTable, element);\n",
              "        const docLink = document.createElement('div');\n",
              "        docLink.innerHTML = docLinkHtml;\n",
              "        element.appendChild(docLink);\n",
              "      }\n",
              "    </script>\n",
              "  </div>\n",
              "\n",
              "\n",
              "<div id=\"df-f586030b-a40e-4d6e-8185-23e95a6d3518\">\n",
              "  <button class=\"colab-df-quickchart\" onclick=\"quickchart('df-f586030b-a40e-4d6e-8185-23e95a6d3518')\"\n",
              "            title=\"Suggest charts\"\n",
              "            style=\"display:none;\">\n",
              "\n",
              "<svg xmlns=\"http://www.w3.org/2000/svg\" height=\"24px\"viewBox=\"0 0 24 24\"\n",
              "     width=\"24px\">\n",
              "    <g>\n",
              "        <path d=\"M19 3H5c-1.1 0-2 .9-2 2v14c0 1.1.9 2 2 2h14c1.1 0 2-.9 2-2V5c0-1.1-.9-2-2-2zM9 17H7v-7h2v7zm4 0h-2V7h2v10zm4 0h-2v-4h2v4z\"/>\n",
              "    </g>\n",
              "</svg>\n",
              "  </button>\n",
              "\n",
              "<style>\n",
              "  .colab-df-quickchart {\n",
              "      --bg-color: #E8F0FE;\n",
              "      --fill-color: #1967D2;\n",
              "      --hover-bg-color: #E2EBFA;\n",
              "      --hover-fill-color: #174EA6;\n",
              "      --disabled-fill-color: #AAA;\n",
              "      --disabled-bg-color: #DDD;\n",
              "  }\n",
              "\n",
              "  [theme=dark] .colab-df-quickchart {\n",
              "      --bg-color: #3B4455;\n",
              "      --fill-color: #D2E3FC;\n",
              "      --hover-bg-color: #434B5C;\n",
              "      --hover-fill-color: #FFFFFF;\n",
              "      --disabled-bg-color: #3B4455;\n",
              "      --disabled-fill-color: #666;\n",
              "  }\n",
              "\n",
              "  .colab-df-quickchart {\n",
              "    background-color: var(--bg-color);\n",
              "    border: none;\n",
              "    border-radius: 50%;\n",
              "    cursor: pointer;\n",
              "    display: none;\n",
              "    fill: var(--fill-color);\n",
              "    height: 32px;\n",
              "    padding: 0;\n",
              "    width: 32px;\n",
              "  }\n",
              "\n",
              "  .colab-df-quickchart:hover {\n",
              "    background-color: var(--hover-bg-color);\n",
              "    box-shadow: 0 1px 2px rgba(60, 64, 67, 0.3), 0 1px 3px 1px rgba(60, 64, 67, 0.15);\n",
              "    fill: var(--button-hover-fill-color);\n",
              "  }\n",
              "\n",
              "  .colab-df-quickchart-complete:disabled,\n",
              "  .colab-df-quickchart-complete:disabled:hover {\n",
              "    background-color: var(--disabled-bg-color);\n",
              "    fill: var(--disabled-fill-color);\n",
              "    box-shadow: none;\n",
              "  }\n",
              "\n",
              "  .colab-df-spinner {\n",
              "    border: 2px solid var(--fill-color);\n",
              "    border-color: transparent;\n",
              "    border-bottom-color: var(--fill-color);\n",
              "    animation:\n",
              "      spin 1s steps(1) infinite;\n",
              "  }\n",
              "\n",
              "  @keyframes spin {\n",
              "    0% {\n",
              "      border-color: transparent;\n",
              "      border-bottom-color: var(--fill-color);\n",
              "      border-left-color: var(--fill-color);\n",
              "    }\n",
              "    20% {\n",
              "      border-color: transparent;\n",
              "      border-left-color: var(--fill-color);\n",
              "      border-top-color: var(--fill-color);\n",
              "    }\n",
              "    30% {\n",
              "      border-color: transparent;\n",
              "      border-left-color: var(--fill-color);\n",
              "      border-top-color: var(--fill-color);\n",
              "      border-right-color: var(--fill-color);\n",
              "    }\n",
              "    40% {\n",
              "      border-color: transparent;\n",
              "      border-right-color: var(--fill-color);\n",
              "      border-top-color: var(--fill-color);\n",
              "    }\n",
              "    60% {\n",
              "      border-color: transparent;\n",
              "      border-right-color: var(--fill-color);\n",
              "    }\n",
              "    80% {\n",
              "      border-color: transparent;\n",
              "      border-right-color: var(--fill-color);\n",
              "      border-bottom-color: var(--fill-color);\n",
              "    }\n",
              "    90% {\n",
              "      border-color: transparent;\n",
              "      border-bottom-color: var(--fill-color);\n",
              "    }\n",
              "  }\n",
              "</style>\n",
              "\n",
              "  <script>\n",
              "    async function quickchart(key) {\n",
              "      const quickchartButtonEl =\n",
              "        document.querySelector('#' + key + ' button');\n",
              "      quickchartButtonEl.disabled = true;  // To prevent multiple clicks.\n",
              "      quickchartButtonEl.classList.add('colab-df-spinner');\n",
              "      try {\n",
              "        const charts = await google.colab.kernel.invokeFunction(\n",
              "            'suggestCharts', [key], {});\n",
              "      } catch (error) {\n",
              "        console.error('Error during call to suggestCharts:', error);\n",
              "      }\n",
              "      quickchartButtonEl.classList.remove('colab-df-spinner');\n",
              "      quickchartButtonEl.classList.add('colab-df-quickchart-complete');\n",
              "    }\n",
              "    (() => {\n",
              "      let quickchartButtonEl =\n",
              "        document.querySelector('#df-f586030b-a40e-4d6e-8185-23e95a6d3518 button');\n",
              "      quickchartButtonEl.style.display =\n",
              "        google.colab.kernel.accessAllowed ? 'block' : 'none';\n",
              "    })();\n",
              "  </script>\n",
              "</div>\n",
              "\n",
              "    </div>\n",
              "  </div>\n"
            ],
            "application/vnd.google.colaboratory.intrinsic+json": {
              "type": "dataframe",
              "variable_name": "data_encoded",
              "summary": "{\n  \"name\": \"data_encoded\",\n  \"rows\": 95,\n  \"fields\": [\n    {\n      \"column\": \"patient_id\",\n      \"properties\": {\n        \"dtype\": \"string\",\n        \"num_unique_values\": 95,\n        \"samples\": [\n          \"CGPLLU622P\",\n          \"CGPLLU400P\",\n          \"CGPLLU594P\"\n        ],\n        \"semantic_type\": \"\",\n        \"description\": \"\"\n      }\n    },\n    {\n      \"column\": \"survival_status\",\n      \"properties\": {\n        \"dtype\": \"number\",\n        \"std\": 0,\n        \"min\": 0,\n        \"max\": 1,\n        \"num_unique_values\": 2,\n        \"samples\": [\n          0,\n          1\n        ],\n        \"semantic_type\": \"\",\n        \"description\": \"\"\n      }\n    },\n    {\n      \"column\": \"days_alive\",\n      \"properties\": {\n        \"dtype\": \"number\",\n        \"std\": 986,\n        \"min\": 11,\n        \"max\": 2774,\n        \"num_unique_values\": 91,\n        \"samples\": [\n          39,\n          575\n        ],\n        \"semantic_type\": \"\",\n        \"description\": \"\"\n      }\n    },\n    {\n      \"column\": \"histology\",\n      \"properties\": {\n        \"dtype\": \"category\",\n        \"num_unique_values\": 3,\n        \"samples\": [\n          \"SCLC\",\n          \"Adenocarcinoma\"\n        ],\n        \"semantic_type\": \"\",\n        \"description\": \"\"\n      }\n    },\n    {\n      \"column\": \"delfi_score\",\n      \"properties\": {\n        \"dtype\": \"number\",\n        \"std\": 0.31691423723058215,\n        \"min\": 0.0297389575449169,\n        \"max\": 1.0,\n        \"num_unique_values\": 86,\n        \"samples\": [\n          0.999999636504519,\n          0.0990365672277868\n        ],\n        \"semantic_type\": \"\",\n        \"description\": \"\"\n      }\n    },\n    {\n      \"column\": \"stage_I\",\n      \"properties\": {\n        \"dtype\": \"number\",\n        \"std\": 0,\n        \"min\": 0,\n        \"max\": 1,\n        \"num_unique_values\": 2,\n        \"samples\": [\n          0,\n          1\n        ],\n        \"semantic_type\": \"\",\n        \"description\": \"\"\n      }\n    },\n    {\n      \"column\": \"stage_II\",\n      \"properties\": {\n        \"dtype\": \"number\",\n        \"std\": 0,\n        \"min\": 0,\n        \"max\": 1,\n        \"num_unique_values\": 2,\n        \"samples\": [\n          1,\n          0\n        ],\n        \"semantic_type\": \"\",\n        \"description\": \"\"\n      }\n    },\n    {\n      \"column\": \"stage_III\",\n      \"properties\": {\n        \"dtype\": \"number\",\n        \"std\": 0,\n        \"min\": 0,\n        \"max\": 1,\n        \"num_unique_values\": 2,\n        \"samples\": [\n          1,\n          0\n        ],\n        \"semantic_type\": \"\",\n        \"description\": \"\"\n      }\n    },\n    {\n      \"column\": \"stage_IV\",\n      \"properties\": {\n        \"dtype\": \"number\",\n        \"std\": 0,\n        \"min\": 0,\n        \"max\": 1,\n        \"num_unique_values\": 2,\n        \"samples\": [\n          1,\n          0\n        ],\n        \"semantic_type\": \"\",\n        \"description\": \"\"\n      }\n    },\n    {\n      \"column\": \"treatment_Chemotherapy/Radiation with curative intent\",\n      \"properties\": {\n        \"dtype\": \"number\",\n        \"std\": 0,\n        \"min\": 0,\n        \"max\": 1,\n        \"num_unique_values\": 2,\n        \"samples\": [\n          1,\n          0\n        ],\n        \"semantic_type\": \"\",\n        \"description\": \"\"\n      }\n    },\n    {\n      \"column\": \"treatment_No treatment\",\n      \"properties\": {\n        \"dtype\": \"number\",\n        \"std\": 0,\n        \"min\": 0,\n        \"max\": 1,\n        \"num_unique_values\": 2,\n        \"samples\": [\n          1,\n          0\n        ],\n        \"semantic_type\": \"\",\n        \"description\": \"\"\n      }\n    },\n    {\n      \"column\": \"treatment_Palliative Chemotherapy/Radiation\",\n      \"properties\": {\n        \"dtype\": \"number\",\n        \"std\": 0,\n        \"min\": 0,\n        \"max\": 1,\n        \"num_unique_values\": 2,\n        \"samples\": [\n          1,\n          0\n        ],\n        \"semantic_type\": \"\",\n        \"description\": \"\"\n      }\n    },\n    {\n      \"column\": \"treatment_Surgery\",\n      \"properties\": {\n        \"dtype\": \"number\",\n        \"std\": 0,\n        \"min\": 0,\n        \"max\": 1,\n        \"num_unique_values\": 2,\n        \"samples\": [\n          0,\n          1\n        ],\n        \"semantic_type\": \"\",\n        \"description\": \"\"\n      }\n    },\n    {\n      \"column\": \"treatment_Surgery+adjuvant treatment\",\n      \"properties\": {\n        \"dtype\": \"number\",\n        \"std\": 0,\n        \"min\": 0,\n        \"max\": 1,\n        \"num_unique_values\": 2,\n        \"samples\": [\n          1,\n          0\n        ],\n        \"semantic_type\": \"\",\n        \"description\": \"\"\n      }\n    }\n  ]\n}"
            }
          },
          "metadata": {},
          "execution_count": 67
        }
      ],
      "source": [
        "#one hot encode relevant variables\n",
        "data_encoded = pd.get_dummies(data, columns=['stage', 'treatment'], dtype = int)\n",
        "data_encoded.head()"
      ]
    },
    {
      "cell_type": "code",
      "source": [
        "data_encoded.drop(['patient_id', 'histology'], axis = 1, inplace = True)\n",
        "data_encoded.head()"
      ],
      "metadata": {
        "id": "cS03aIJ0Ile5",
        "outputId": "91c1fd9c-6e0b-4a45-df49-30ec1623ac90",
        "colab": {
          "base_uri": "https://localhost:8080/",
          "height": 244
        }
      },
      "execution_count": 69,
      "outputs": [
        {
          "output_type": "execute_result",
          "data": {
            "text/plain": [
              "   survival_status  days_alive  delfi_score  stage_I  stage_II  stage_III  \\\n",
              "0                1        1059     0.099037        1         0          0   \n",
              "1                1        1640     0.533453        1         0          0   \n",
              "2                1         101     0.822662        0         0          0   \n",
              "3                1        1228     0.238950        0         0          0   \n",
              "4                1         754     0.199820        0         0          1   \n",
              "\n",
              "   stage_IV  treatment_Chemotherapy/Radiation with curative intent  \\\n",
              "0         0                                                  0       \n",
              "1         0                                                  0       \n",
              "2         1                                                  0       \n",
              "3         1                                                  0       \n",
              "4         0                                                  1       \n",
              "\n",
              "   treatment_No treatment  treatment_Palliative Chemotherapy/Radiation  \\\n",
              "0                       0                                            0   \n",
              "1                       0                                            0   \n",
              "2                       0                                            1   \n",
              "3                       0                                            1   \n",
              "4                       0                                            0   \n",
              "\n",
              "   treatment_Surgery  treatment_Surgery+adjuvant treatment  \n",
              "0                  1                                     0  \n",
              "1                  1                                     0  \n",
              "2                  0                                     0  \n",
              "3                  0                                     0  \n",
              "4                  0                                     0  "
            ],
            "text/html": [
              "\n",
              "  <div id=\"df-6ae454fa-aac0-4439-b2e1-b7ecd1817edb\" class=\"colab-df-container\">\n",
              "    <div>\n",
              "<style scoped>\n",
              "    .dataframe tbody tr th:only-of-type {\n",
              "        vertical-align: middle;\n",
              "    }\n",
              "\n",
              "    .dataframe tbody tr th {\n",
              "        vertical-align: top;\n",
              "    }\n",
              "\n",
              "    .dataframe thead th {\n",
              "        text-align: right;\n",
              "    }\n",
              "</style>\n",
              "<table border=\"1\" class=\"dataframe\">\n",
              "  <thead>\n",
              "    <tr style=\"text-align: right;\">\n",
              "      <th></th>\n",
              "      <th>survival_status</th>\n",
              "      <th>days_alive</th>\n",
              "      <th>delfi_score</th>\n",
              "      <th>stage_I</th>\n",
              "      <th>stage_II</th>\n",
              "      <th>stage_III</th>\n",
              "      <th>stage_IV</th>\n",
              "      <th>treatment_Chemotherapy/Radiation with curative intent</th>\n",
              "      <th>treatment_No treatment</th>\n",
              "      <th>treatment_Palliative Chemotherapy/Radiation</th>\n",
              "      <th>treatment_Surgery</th>\n",
              "      <th>treatment_Surgery+adjuvant treatment</th>\n",
              "    </tr>\n",
              "  </thead>\n",
              "  <tbody>\n",
              "    <tr>\n",
              "      <th>0</th>\n",
              "      <td>1</td>\n",
              "      <td>1059</td>\n",
              "      <td>0.099037</td>\n",
              "      <td>1</td>\n",
              "      <td>0</td>\n",
              "      <td>0</td>\n",
              "      <td>0</td>\n",
              "      <td>0</td>\n",
              "      <td>0</td>\n",
              "      <td>0</td>\n",
              "      <td>1</td>\n",
              "      <td>0</td>\n",
              "    </tr>\n",
              "    <tr>\n",
              "      <th>1</th>\n",
              "      <td>1</td>\n",
              "      <td>1640</td>\n",
              "      <td>0.533453</td>\n",
              "      <td>1</td>\n",
              "      <td>0</td>\n",
              "      <td>0</td>\n",
              "      <td>0</td>\n",
              "      <td>0</td>\n",
              "      <td>0</td>\n",
              "      <td>0</td>\n",
              "      <td>1</td>\n",
              "      <td>0</td>\n",
              "    </tr>\n",
              "    <tr>\n",
              "      <th>2</th>\n",
              "      <td>1</td>\n",
              "      <td>101</td>\n",
              "      <td>0.822662</td>\n",
              "      <td>0</td>\n",
              "      <td>0</td>\n",
              "      <td>0</td>\n",
              "      <td>1</td>\n",
              "      <td>0</td>\n",
              "      <td>0</td>\n",
              "      <td>1</td>\n",
              "      <td>0</td>\n",
              "      <td>0</td>\n",
              "    </tr>\n",
              "    <tr>\n",
              "      <th>3</th>\n",
              "      <td>1</td>\n",
              "      <td>1228</td>\n",
              "      <td>0.238950</td>\n",
              "      <td>0</td>\n",
              "      <td>0</td>\n",
              "      <td>0</td>\n",
              "      <td>1</td>\n",
              "      <td>0</td>\n",
              "      <td>0</td>\n",
              "      <td>1</td>\n",
              "      <td>0</td>\n",
              "      <td>0</td>\n",
              "    </tr>\n",
              "    <tr>\n",
              "      <th>4</th>\n",
              "      <td>1</td>\n",
              "      <td>754</td>\n",
              "      <td>0.199820</td>\n",
              "      <td>0</td>\n",
              "      <td>0</td>\n",
              "      <td>1</td>\n",
              "      <td>0</td>\n",
              "      <td>1</td>\n",
              "      <td>0</td>\n",
              "      <td>0</td>\n",
              "      <td>0</td>\n",
              "      <td>0</td>\n",
              "    </tr>\n",
              "  </tbody>\n",
              "</table>\n",
              "</div>\n",
              "    <div class=\"colab-df-buttons\">\n",
              "\n",
              "  <div class=\"colab-df-container\">\n",
              "    <button class=\"colab-df-convert\" onclick=\"convertToInteractive('df-6ae454fa-aac0-4439-b2e1-b7ecd1817edb')\"\n",
              "            title=\"Convert this dataframe to an interactive table.\"\n",
              "            style=\"display:none;\">\n",
              "\n",
              "  <svg xmlns=\"http://www.w3.org/2000/svg\" height=\"24px\" viewBox=\"0 -960 960 960\">\n",
              "    <path d=\"M120-120v-720h720v720H120Zm60-500h600v-160H180v160Zm220 220h160v-160H400v160Zm0 220h160v-160H400v160ZM180-400h160v-160H180v160Zm440 0h160v-160H620v160ZM180-180h160v-160H180v160Zm440 0h160v-160H620v160Z\"/>\n",
              "  </svg>\n",
              "    </button>\n",
              "\n",
              "  <style>\n",
              "    .colab-df-container {\n",
              "      display:flex;\n",
              "      gap: 12px;\n",
              "    }\n",
              "\n",
              "    .colab-df-convert {\n",
              "      background-color: #E8F0FE;\n",
              "      border: none;\n",
              "      border-radius: 50%;\n",
              "      cursor: pointer;\n",
              "      display: none;\n",
              "      fill: #1967D2;\n",
              "      height: 32px;\n",
              "      padding: 0 0 0 0;\n",
              "      width: 32px;\n",
              "    }\n",
              "\n",
              "    .colab-df-convert:hover {\n",
              "      background-color: #E2EBFA;\n",
              "      box-shadow: 0px 1px 2px rgba(60, 64, 67, 0.3), 0px 1px 3px 1px rgba(60, 64, 67, 0.15);\n",
              "      fill: #174EA6;\n",
              "    }\n",
              "\n",
              "    .colab-df-buttons div {\n",
              "      margin-bottom: 4px;\n",
              "    }\n",
              "\n",
              "    [theme=dark] .colab-df-convert {\n",
              "      background-color: #3B4455;\n",
              "      fill: #D2E3FC;\n",
              "    }\n",
              "\n",
              "    [theme=dark] .colab-df-convert:hover {\n",
              "      background-color: #434B5C;\n",
              "      box-shadow: 0px 1px 3px 1px rgba(0, 0, 0, 0.15);\n",
              "      filter: drop-shadow(0px 1px 2px rgba(0, 0, 0, 0.3));\n",
              "      fill: #FFFFFF;\n",
              "    }\n",
              "  </style>\n",
              "\n",
              "    <script>\n",
              "      const buttonEl =\n",
              "        document.querySelector('#df-6ae454fa-aac0-4439-b2e1-b7ecd1817edb button.colab-df-convert');\n",
              "      buttonEl.style.display =\n",
              "        google.colab.kernel.accessAllowed ? 'block' : 'none';\n",
              "\n",
              "      async function convertToInteractive(key) {\n",
              "        const element = document.querySelector('#df-6ae454fa-aac0-4439-b2e1-b7ecd1817edb');\n",
              "        const dataTable =\n",
              "          await google.colab.kernel.invokeFunction('convertToInteractive',\n",
              "                                                    [key], {});\n",
              "        if (!dataTable) return;\n",
              "\n",
              "        const docLinkHtml = 'Like what you see? Visit the ' +\n",
              "          '<a target=\"_blank\" href=https://colab.research.google.com/notebooks/data_table.ipynb>data table notebook</a>'\n",
              "          + ' to learn more about interactive tables.';\n",
              "        element.innerHTML = '';\n",
              "        dataTable['output_type'] = 'display_data';\n",
              "        await google.colab.output.renderOutput(dataTable, element);\n",
              "        const docLink = document.createElement('div');\n",
              "        docLink.innerHTML = docLinkHtml;\n",
              "        element.appendChild(docLink);\n",
              "      }\n",
              "    </script>\n",
              "  </div>\n",
              "\n",
              "\n",
              "<div id=\"df-ce36d979-c72a-4987-ad1c-669e81a2e822\">\n",
              "  <button class=\"colab-df-quickchart\" onclick=\"quickchart('df-ce36d979-c72a-4987-ad1c-669e81a2e822')\"\n",
              "            title=\"Suggest charts\"\n",
              "            style=\"display:none;\">\n",
              "\n",
              "<svg xmlns=\"http://www.w3.org/2000/svg\" height=\"24px\"viewBox=\"0 0 24 24\"\n",
              "     width=\"24px\">\n",
              "    <g>\n",
              "        <path d=\"M19 3H5c-1.1 0-2 .9-2 2v14c0 1.1.9 2 2 2h14c1.1 0 2-.9 2-2V5c0-1.1-.9-2-2-2zM9 17H7v-7h2v7zm4 0h-2V7h2v10zm4 0h-2v-4h2v4z\"/>\n",
              "    </g>\n",
              "</svg>\n",
              "  </button>\n",
              "\n",
              "<style>\n",
              "  .colab-df-quickchart {\n",
              "      --bg-color: #E8F0FE;\n",
              "      --fill-color: #1967D2;\n",
              "      --hover-bg-color: #E2EBFA;\n",
              "      --hover-fill-color: #174EA6;\n",
              "      --disabled-fill-color: #AAA;\n",
              "      --disabled-bg-color: #DDD;\n",
              "  }\n",
              "\n",
              "  [theme=dark] .colab-df-quickchart {\n",
              "      --bg-color: #3B4455;\n",
              "      --fill-color: #D2E3FC;\n",
              "      --hover-bg-color: #434B5C;\n",
              "      --hover-fill-color: #FFFFFF;\n",
              "      --disabled-bg-color: #3B4455;\n",
              "      --disabled-fill-color: #666;\n",
              "  }\n",
              "\n",
              "  .colab-df-quickchart {\n",
              "    background-color: var(--bg-color);\n",
              "    border: none;\n",
              "    border-radius: 50%;\n",
              "    cursor: pointer;\n",
              "    display: none;\n",
              "    fill: var(--fill-color);\n",
              "    height: 32px;\n",
              "    padding: 0;\n",
              "    width: 32px;\n",
              "  }\n",
              "\n",
              "  .colab-df-quickchart:hover {\n",
              "    background-color: var(--hover-bg-color);\n",
              "    box-shadow: 0 1px 2px rgba(60, 64, 67, 0.3), 0 1px 3px 1px rgba(60, 64, 67, 0.15);\n",
              "    fill: var(--button-hover-fill-color);\n",
              "  }\n",
              "\n",
              "  .colab-df-quickchart-complete:disabled,\n",
              "  .colab-df-quickchart-complete:disabled:hover {\n",
              "    background-color: var(--disabled-bg-color);\n",
              "    fill: var(--disabled-fill-color);\n",
              "    box-shadow: none;\n",
              "  }\n",
              "\n",
              "  .colab-df-spinner {\n",
              "    border: 2px solid var(--fill-color);\n",
              "    border-color: transparent;\n",
              "    border-bottom-color: var(--fill-color);\n",
              "    animation:\n",
              "      spin 1s steps(1) infinite;\n",
              "  }\n",
              "\n",
              "  @keyframes spin {\n",
              "    0% {\n",
              "      border-color: transparent;\n",
              "      border-bottom-color: var(--fill-color);\n",
              "      border-left-color: var(--fill-color);\n",
              "    }\n",
              "    20% {\n",
              "      border-color: transparent;\n",
              "      border-left-color: var(--fill-color);\n",
              "      border-top-color: var(--fill-color);\n",
              "    }\n",
              "    30% {\n",
              "      border-color: transparent;\n",
              "      border-left-color: var(--fill-color);\n",
              "      border-top-color: var(--fill-color);\n",
              "      border-right-color: var(--fill-color);\n",
              "    }\n",
              "    40% {\n",
              "      border-color: transparent;\n",
              "      border-right-color: var(--fill-color);\n",
              "      border-top-color: var(--fill-color);\n",
              "    }\n",
              "    60% {\n",
              "      border-color: transparent;\n",
              "      border-right-color: var(--fill-color);\n",
              "    }\n",
              "    80% {\n",
              "      border-color: transparent;\n",
              "      border-right-color: var(--fill-color);\n",
              "      border-bottom-color: var(--fill-color);\n",
              "    }\n",
              "    90% {\n",
              "      border-color: transparent;\n",
              "      border-bottom-color: var(--fill-color);\n",
              "    }\n",
              "  }\n",
              "</style>\n",
              "\n",
              "  <script>\n",
              "    async function quickchart(key) {\n",
              "      const quickchartButtonEl =\n",
              "        document.querySelector('#' + key + ' button');\n",
              "      quickchartButtonEl.disabled = true;  // To prevent multiple clicks.\n",
              "      quickchartButtonEl.classList.add('colab-df-spinner');\n",
              "      try {\n",
              "        const charts = await google.colab.kernel.invokeFunction(\n",
              "            'suggestCharts', [key], {});\n",
              "      } catch (error) {\n",
              "        console.error('Error during call to suggestCharts:', error);\n",
              "      }\n",
              "      quickchartButtonEl.classList.remove('colab-df-spinner');\n",
              "      quickchartButtonEl.classList.add('colab-df-quickchart-complete');\n",
              "    }\n",
              "    (() => {\n",
              "      let quickchartButtonEl =\n",
              "        document.querySelector('#df-ce36d979-c72a-4987-ad1c-669e81a2e822 button');\n",
              "      quickchartButtonEl.style.display =\n",
              "        google.colab.kernel.accessAllowed ? 'block' : 'none';\n",
              "    })();\n",
              "  </script>\n",
              "</div>\n",
              "\n",
              "    </div>\n",
              "  </div>\n"
            ],
            "application/vnd.google.colaboratory.intrinsic+json": {
              "type": "dataframe",
              "variable_name": "data_encoded",
              "summary": "{\n  \"name\": \"data_encoded\",\n  \"rows\": 95,\n  \"fields\": [\n    {\n      \"column\": \"survival_status\",\n      \"properties\": {\n        \"dtype\": \"number\",\n        \"std\": 0,\n        \"min\": 0,\n        \"max\": 1,\n        \"num_unique_values\": 2,\n        \"samples\": [\n          0,\n          1\n        ],\n        \"semantic_type\": \"\",\n        \"description\": \"\"\n      }\n    },\n    {\n      \"column\": \"days_alive\",\n      \"properties\": {\n        \"dtype\": \"number\",\n        \"std\": 986,\n        \"min\": 11,\n        \"max\": 2774,\n        \"num_unique_values\": 91,\n        \"samples\": [\n          39,\n          575\n        ],\n        \"semantic_type\": \"\",\n        \"description\": \"\"\n      }\n    },\n    {\n      \"column\": \"delfi_score\",\n      \"properties\": {\n        \"dtype\": \"number\",\n        \"std\": 0.31691423723058215,\n        \"min\": 0.0297389575449169,\n        \"max\": 1.0,\n        \"num_unique_values\": 86,\n        \"samples\": [\n          0.999999636504519,\n          0.0990365672277868\n        ],\n        \"semantic_type\": \"\",\n        \"description\": \"\"\n      }\n    },\n    {\n      \"column\": \"stage_I\",\n      \"properties\": {\n        \"dtype\": \"number\",\n        \"std\": 0,\n        \"min\": 0,\n        \"max\": 1,\n        \"num_unique_values\": 2,\n        \"samples\": [\n          0,\n          1\n        ],\n        \"semantic_type\": \"\",\n        \"description\": \"\"\n      }\n    },\n    {\n      \"column\": \"stage_II\",\n      \"properties\": {\n        \"dtype\": \"number\",\n        \"std\": 0,\n        \"min\": 0,\n        \"max\": 1,\n        \"num_unique_values\": 2,\n        \"samples\": [\n          1,\n          0\n        ],\n        \"semantic_type\": \"\",\n        \"description\": \"\"\n      }\n    },\n    {\n      \"column\": \"stage_III\",\n      \"properties\": {\n        \"dtype\": \"number\",\n        \"std\": 0,\n        \"min\": 0,\n        \"max\": 1,\n        \"num_unique_values\": 2,\n        \"samples\": [\n          1,\n          0\n        ],\n        \"semantic_type\": \"\",\n        \"description\": \"\"\n      }\n    },\n    {\n      \"column\": \"stage_IV\",\n      \"properties\": {\n        \"dtype\": \"number\",\n        \"std\": 0,\n        \"min\": 0,\n        \"max\": 1,\n        \"num_unique_values\": 2,\n        \"samples\": [\n          1,\n          0\n        ],\n        \"semantic_type\": \"\",\n        \"description\": \"\"\n      }\n    },\n    {\n      \"column\": \"treatment_Chemotherapy/Radiation with curative intent\",\n      \"properties\": {\n        \"dtype\": \"number\",\n        \"std\": 0,\n        \"min\": 0,\n        \"max\": 1,\n        \"num_unique_values\": 2,\n        \"samples\": [\n          1,\n          0\n        ],\n        \"semantic_type\": \"\",\n        \"description\": \"\"\n      }\n    },\n    {\n      \"column\": \"treatment_No treatment\",\n      \"properties\": {\n        \"dtype\": \"number\",\n        \"std\": 0,\n        \"min\": 0,\n        \"max\": 1,\n        \"num_unique_values\": 2,\n        \"samples\": [\n          1,\n          0\n        ],\n        \"semantic_type\": \"\",\n        \"description\": \"\"\n      }\n    },\n    {\n      \"column\": \"treatment_Palliative Chemotherapy/Radiation\",\n      \"properties\": {\n        \"dtype\": \"number\",\n        \"std\": 0,\n        \"min\": 0,\n        \"max\": 1,\n        \"num_unique_values\": 2,\n        \"samples\": [\n          1,\n          0\n        ],\n        \"semantic_type\": \"\",\n        \"description\": \"\"\n      }\n    },\n    {\n      \"column\": \"treatment_Surgery\",\n      \"properties\": {\n        \"dtype\": \"number\",\n        \"std\": 0,\n        \"min\": 0,\n        \"max\": 1,\n        \"num_unique_values\": 2,\n        \"samples\": [\n          0,\n          1\n        ],\n        \"semantic_type\": \"\",\n        \"description\": \"\"\n      }\n    },\n    {\n      \"column\": \"treatment_Surgery+adjuvant treatment\",\n      \"properties\": {\n        \"dtype\": \"number\",\n        \"std\": 0,\n        \"min\": 0,\n        \"max\": 1,\n        \"num_unique_values\": 2,\n        \"samples\": [\n          1,\n          0\n        ],\n        \"semantic_type\": \"\",\n        \"description\": \"\"\n      }\n    }\n  ]\n}"
            }
          },
          "metadata": {},
          "execution_count": 69
        }
      ]
    },
    {
      "cell_type": "code",
      "execution_count": 16,
      "metadata": {
        "id": "0rwPAu4FB3LU"
      },
      "outputs": [],
      "source": [
        "file_name = 'data_Lucas.csv'\n",
        "data.to_csv(file_name)"
      ]
    },
    {
      "cell_type": "markdown",
      "metadata": {
        "id": "M6CugFUTB3LV"
      },
      "source": [
        "# Exploratory Data Analysis"
      ]
    },
    {
      "cell_type": "markdown",
      "metadata": {
        "id": "PiQ8wUKyB3LV"
      },
      "source": [
        "This section will explore the properties of the dataset, including the fact that it is right-censored, due to some patients surviving longer than the study time."
      ]
    },
    {
      "cell_type": "code",
      "execution_count": 17,
      "metadata": {
        "id": "lSey6huVB3LV",
        "outputId": "3d345933-bd29-4529-be0e-ba9b3221cc54",
        "colab": {
          "base_uri": "https://localhost:8080/",
          "height": 206
        }
      },
      "outputs": [
        {
          "output_type": "execute_result",
          "data": {
            "text/plain": [
              "   patient_id  survival_status  days_alive       histology stage  \\\n",
              "0  CGPLLU397P                1        1059            SCLC     I   \n",
              "1  CGPLLU607P                1        1640  Adenocarcinoma     I   \n",
              "2  CGPLLU637P                1         101        Squamous    IV   \n",
              "3  CGPLLU538P                1        1228  Adenocarcinoma    IV   \n",
              "4  CGPLLU349P                1         754  Adenocarcinoma   III   \n",
              "\n",
              "                                     treatment  delfi_score  \n",
              "0                                      Surgery     0.099037  \n",
              "1                                      Surgery     0.533453  \n",
              "2            Palliative Chemotherapy/Radiation     0.822662  \n",
              "3            Palliative Chemotherapy/Radiation     0.238950  \n",
              "4  Chemotherapy/Radiation with curative intent     0.199820  "
            ],
            "text/html": [
              "\n",
              "  <div id=\"df-2b47880e-67cd-46c5-8b2d-c752f8a2a367\" class=\"colab-df-container\">\n",
              "    <div>\n",
              "<style scoped>\n",
              "    .dataframe tbody tr th:only-of-type {\n",
              "        vertical-align: middle;\n",
              "    }\n",
              "\n",
              "    .dataframe tbody tr th {\n",
              "        vertical-align: top;\n",
              "    }\n",
              "\n",
              "    .dataframe thead th {\n",
              "        text-align: right;\n",
              "    }\n",
              "</style>\n",
              "<table border=\"1\" class=\"dataframe\">\n",
              "  <thead>\n",
              "    <tr style=\"text-align: right;\">\n",
              "      <th></th>\n",
              "      <th>patient_id</th>\n",
              "      <th>survival_status</th>\n",
              "      <th>days_alive</th>\n",
              "      <th>histology</th>\n",
              "      <th>stage</th>\n",
              "      <th>treatment</th>\n",
              "      <th>delfi_score</th>\n",
              "    </tr>\n",
              "  </thead>\n",
              "  <tbody>\n",
              "    <tr>\n",
              "      <th>0</th>\n",
              "      <td>CGPLLU397P</td>\n",
              "      <td>1</td>\n",
              "      <td>1059</td>\n",
              "      <td>SCLC</td>\n",
              "      <td>I</td>\n",
              "      <td>Surgery</td>\n",
              "      <td>0.099037</td>\n",
              "    </tr>\n",
              "    <tr>\n",
              "      <th>1</th>\n",
              "      <td>CGPLLU607P</td>\n",
              "      <td>1</td>\n",
              "      <td>1640</td>\n",
              "      <td>Adenocarcinoma</td>\n",
              "      <td>I</td>\n",
              "      <td>Surgery</td>\n",
              "      <td>0.533453</td>\n",
              "    </tr>\n",
              "    <tr>\n",
              "      <th>2</th>\n",
              "      <td>CGPLLU637P</td>\n",
              "      <td>1</td>\n",
              "      <td>101</td>\n",
              "      <td>Squamous</td>\n",
              "      <td>IV</td>\n",
              "      <td>Palliative Chemotherapy/Radiation</td>\n",
              "      <td>0.822662</td>\n",
              "    </tr>\n",
              "    <tr>\n",
              "      <th>3</th>\n",
              "      <td>CGPLLU538P</td>\n",
              "      <td>1</td>\n",
              "      <td>1228</td>\n",
              "      <td>Adenocarcinoma</td>\n",
              "      <td>IV</td>\n",
              "      <td>Palliative Chemotherapy/Radiation</td>\n",
              "      <td>0.238950</td>\n",
              "    </tr>\n",
              "    <tr>\n",
              "      <th>4</th>\n",
              "      <td>CGPLLU349P</td>\n",
              "      <td>1</td>\n",
              "      <td>754</td>\n",
              "      <td>Adenocarcinoma</td>\n",
              "      <td>III</td>\n",
              "      <td>Chemotherapy/Radiation with curative intent</td>\n",
              "      <td>0.199820</td>\n",
              "    </tr>\n",
              "  </tbody>\n",
              "</table>\n",
              "</div>\n",
              "    <div class=\"colab-df-buttons\">\n",
              "\n",
              "  <div class=\"colab-df-container\">\n",
              "    <button class=\"colab-df-convert\" onclick=\"convertToInteractive('df-2b47880e-67cd-46c5-8b2d-c752f8a2a367')\"\n",
              "            title=\"Convert this dataframe to an interactive table.\"\n",
              "            style=\"display:none;\">\n",
              "\n",
              "  <svg xmlns=\"http://www.w3.org/2000/svg\" height=\"24px\" viewBox=\"0 -960 960 960\">\n",
              "    <path d=\"M120-120v-720h720v720H120Zm60-500h600v-160H180v160Zm220 220h160v-160H400v160Zm0 220h160v-160H400v160ZM180-400h160v-160H180v160Zm440 0h160v-160H620v160ZM180-180h160v-160H180v160Zm440 0h160v-160H620v160Z\"/>\n",
              "  </svg>\n",
              "    </button>\n",
              "\n",
              "  <style>\n",
              "    .colab-df-container {\n",
              "      display:flex;\n",
              "      gap: 12px;\n",
              "    }\n",
              "\n",
              "    .colab-df-convert {\n",
              "      background-color: #E8F0FE;\n",
              "      border: none;\n",
              "      border-radius: 50%;\n",
              "      cursor: pointer;\n",
              "      display: none;\n",
              "      fill: #1967D2;\n",
              "      height: 32px;\n",
              "      padding: 0 0 0 0;\n",
              "      width: 32px;\n",
              "    }\n",
              "\n",
              "    .colab-df-convert:hover {\n",
              "      background-color: #E2EBFA;\n",
              "      box-shadow: 0px 1px 2px rgba(60, 64, 67, 0.3), 0px 1px 3px 1px rgba(60, 64, 67, 0.15);\n",
              "      fill: #174EA6;\n",
              "    }\n",
              "\n",
              "    .colab-df-buttons div {\n",
              "      margin-bottom: 4px;\n",
              "    }\n",
              "\n",
              "    [theme=dark] .colab-df-convert {\n",
              "      background-color: #3B4455;\n",
              "      fill: #D2E3FC;\n",
              "    }\n",
              "\n",
              "    [theme=dark] .colab-df-convert:hover {\n",
              "      background-color: #434B5C;\n",
              "      box-shadow: 0px 1px 3px 1px rgba(0, 0, 0, 0.15);\n",
              "      filter: drop-shadow(0px 1px 2px rgba(0, 0, 0, 0.3));\n",
              "      fill: #FFFFFF;\n",
              "    }\n",
              "  </style>\n",
              "\n",
              "    <script>\n",
              "      const buttonEl =\n",
              "        document.querySelector('#df-2b47880e-67cd-46c5-8b2d-c752f8a2a367 button.colab-df-convert');\n",
              "      buttonEl.style.display =\n",
              "        google.colab.kernel.accessAllowed ? 'block' : 'none';\n",
              "\n",
              "      async function convertToInteractive(key) {\n",
              "        const element = document.querySelector('#df-2b47880e-67cd-46c5-8b2d-c752f8a2a367');\n",
              "        const dataTable =\n",
              "          await google.colab.kernel.invokeFunction('convertToInteractive',\n",
              "                                                    [key], {});\n",
              "        if (!dataTable) return;\n",
              "\n",
              "        const docLinkHtml = 'Like what you see? Visit the ' +\n",
              "          '<a target=\"_blank\" href=https://colab.research.google.com/notebooks/data_table.ipynb>data table notebook</a>'\n",
              "          + ' to learn more about interactive tables.';\n",
              "        element.innerHTML = '';\n",
              "        dataTable['output_type'] = 'display_data';\n",
              "        await google.colab.output.renderOutput(dataTable, element);\n",
              "        const docLink = document.createElement('div');\n",
              "        docLink.innerHTML = docLinkHtml;\n",
              "        element.appendChild(docLink);\n",
              "      }\n",
              "    </script>\n",
              "  </div>\n",
              "\n",
              "\n",
              "<div id=\"df-d3aae546-b805-4b25-86b2-3243035928b7\">\n",
              "  <button class=\"colab-df-quickchart\" onclick=\"quickchart('df-d3aae546-b805-4b25-86b2-3243035928b7')\"\n",
              "            title=\"Suggest charts\"\n",
              "            style=\"display:none;\">\n",
              "\n",
              "<svg xmlns=\"http://www.w3.org/2000/svg\" height=\"24px\"viewBox=\"0 0 24 24\"\n",
              "     width=\"24px\">\n",
              "    <g>\n",
              "        <path d=\"M19 3H5c-1.1 0-2 .9-2 2v14c0 1.1.9 2 2 2h14c1.1 0 2-.9 2-2V5c0-1.1-.9-2-2-2zM9 17H7v-7h2v7zm4 0h-2V7h2v10zm4 0h-2v-4h2v4z\"/>\n",
              "    </g>\n",
              "</svg>\n",
              "  </button>\n",
              "\n",
              "<style>\n",
              "  .colab-df-quickchart {\n",
              "      --bg-color: #E8F0FE;\n",
              "      --fill-color: #1967D2;\n",
              "      --hover-bg-color: #E2EBFA;\n",
              "      --hover-fill-color: #174EA6;\n",
              "      --disabled-fill-color: #AAA;\n",
              "      --disabled-bg-color: #DDD;\n",
              "  }\n",
              "\n",
              "  [theme=dark] .colab-df-quickchart {\n",
              "      --bg-color: #3B4455;\n",
              "      --fill-color: #D2E3FC;\n",
              "      --hover-bg-color: #434B5C;\n",
              "      --hover-fill-color: #FFFFFF;\n",
              "      --disabled-bg-color: #3B4455;\n",
              "      --disabled-fill-color: #666;\n",
              "  }\n",
              "\n",
              "  .colab-df-quickchart {\n",
              "    background-color: var(--bg-color);\n",
              "    border: none;\n",
              "    border-radius: 50%;\n",
              "    cursor: pointer;\n",
              "    display: none;\n",
              "    fill: var(--fill-color);\n",
              "    height: 32px;\n",
              "    padding: 0;\n",
              "    width: 32px;\n",
              "  }\n",
              "\n",
              "  .colab-df-quickchart:hover {\n",
              "    background-color: var(--hover-bg-color);\n",
              "    box-shadow: 0 1px 2px rgba(60, 64, 67, 0.3), 0 1px 3px 1px rgba(60, 64, 67, 0.15);\n",
              "    fill: var(--button-hover-fill-color);\n",
              "  }\n",
              "\n",
              "  .colab-df-quickchart-complete:disabled,\n",
              "  .colab-df-quickchart-complete:disabled:hover {\n",
              "    background-color: var(--disabled-bg-color);\n",
              "    fill: var(--disabled-fill-color);\n",
              "    box-shadow: none;\n",
              "  }\n",
              "\n",
              "  .colab-df-spinner {\n",
              "    border: 2px solid var(--fill-color);\n",
              "    border-color: transparent;\n",
              "    border-bottom-color: var(--fill-color);\n",
              "    animation:\n",
              "      spin 1s steps(1) infinite;\n",
              "  }\n",
              "\n",
              "  @keyframes spin {\n",
              "    0% {\n",
              "      border-color: transparent;\n",
              "      border-bottom-color: var(--fill-color);\n",
              "      border-left-color: var(--fill-color);\n",
              "    }\n",
              "    20% {\n",
              "      border-color: transparent;\n",
              "      border-left-color: var(--fill-color);\n",
              "      border-top-color: var(--fill-color);\n",
              "    }\n",
              "    30% {\n",
              "      border-color: transparent;\n",
              "      border-left-color: var(--fill-color);\n",
              "      border-top-color: var(--fill-color);\n",
              "      border-right-color: var(--fill-color);\n",
              "    }\n",
              "    40% {\n",
              "      border-color: transparent;\n",
              "      border-right-color: var(--fill-color);\n",
              "      border-top-color: var(--fill-color);\n",
              "    }\n",
              "    60% {\n",
              "      border-color: transparent;\n",
              "      border-right-color: var(--fill-color);\n",
              "    }\n",
              "    80% {\n",
              "      border-color: transparent;\n",
              "      border-right-color: var(--fill-color);\n",
              "      border-bottom-color: var(--fill-color);\n",
              "    }\n",
              "    90% {\n",
              "      border-color: transparent;\n",
              "      border-bottom-color: var(--fill-color);\n",
              "    }\n",
              "  }\n",
              "</style>\n",
              "\n",
              "  <script>\n",
              "    async function quickchart(key) {\n",
              "      const quickchartButtonEl =\n",
              "        document.querySelector('#' + key + ' button');\n",
              "      quickchartButtonEl.disabled = true;  // To prevent multiple clicks.\n",
              "      quickchartButtonEl.classList.add('colab-df-spinner');\n",
              "      try {\n",
              "        const charts = await google.colab.kernel.invokeFunction(\n",
              "            'suggestCharts', [key], {});\n",
              "      } catch (error) {\n",
              "        console.error('Error during call to suggestCharts:', error);\n",
              "      }\n",
              "      quickchartButtonEl.classList.remove('colab-df-spinner');\n",
              "      quickchartButtonEl.classList.add('colab-df-quickchart-complete');\n",
              "    }\n",
              "    (() => {\n",
              "      let quickchartButtonEl =\n",
              "        document.querySelector('#df-d3aae546-b805-4b25-86b2-3243035928b7 button');\n",
              "      quickchartButtonEl.style.display =\n",
              "        google.colab.kernel.accessAllowed ? 'block' : 'none';\n",
              "    })();\n",
              "  </script>\n",
              "</div>\n",
              "\n",
              "    </div>\n",
              "  </div>\n"
            ],
            "application/vnd.google.colaboratory.intrinsic+json": {
              "type": "dataframe",
              "variable_name": "data",
              "summary": "{\n  \"name\": \"data\",\n  \"rows\": 95,\n  \"fields\": [\n    {\n      \"column\": \"patient_id\",\n      \"properties\": {\n        \"dtype\": \"string\",\n        \"num_unique_values\": 95,\n        \"samples\": [\n          \"CGPLLU622P\",\n          \"CGPLLU400P\",\n          \"CGPLLU594P\"\n        ],\n        \"semantic_type\": \"\",\n        \"description\": \"\"\n      }\n    },\n    {\n      \"column\": \"survival_status\",\n      \"properties\": {\n        \"dtype\": \"number\",\n        \"std\": 0,\n        \"min\": 0,\n        \"max\": 1,\n        \"num_unique_values\": 2,\n        \"samples\": [\n          0,\n          1\n        ],\n        \"semantic_type\": \"\",\n        \"description\": \"\"\n      }\n    },\n    {\n      \"column\": \"days_alive\",\n      \"properties\": {\n        \"dtype\": \"number\",\n        \"std\": 986,\n        \"min\": 11,\n        \"max\": 2774,\n        \"num_unique_values\": 91,\n        \"samples\": [\n          39,\n          575\n        ],\n        \"semantic_type\": \"\",\n        \"description\": \"\"\n      }\n    },\n    {\n      \"column\": \"histology\",\n      \"properties\": {\n        \"dtype\": \"category\",\n        \"num_unique_values\": 3,\n        \"samples\": [\n          \"SCLC\",\n          \"Adenocarcinoma\"\n        ],\n        \"semantic_type\": \"\",\n        \"description\": \"\"\n      }\n    },\n    {\n      \"column\": \"stage\",\n      \"properties\": {\n        \"dtype\": \"category\",\n        \"num_unique_values\": 4,\n        \"samples\": [\n          \"IV\",\n          \"II\"\n        ],\n        \"semantic_type\": \"\",\n        \"description\": \"\"\n      }\n    },\n    {\n      \"column\": \"treatment\",\n      \"properties\": {\n        \"dtype\": \"category\",\n        \"num_unique_values\": 5,\n        \"samples\": [\n          \"Palliative Chemotherapy/Radiation\",\n          \"No treatment\"\n        ],\n        \"semantic_type\": \"\",\n        \"description\": \"\"\n      }\n    },\n    {\n      \"column\": \"delfi_score\",\n      \"properties\": {\n        \"dtype\": \"number\",\n        \"std\": 0.31691423723058215,\n        \"min\": 0.0297389575449169,\n        \"max\": 1.0,\n        \"num_unique_values\": 86,\n        \"samples\": [\n          0.999999636504519,\n          0.0990365672277868\n        ],\n        \"semantic_type\": \"\",\n        \"description\": \"\"\n      }\n    }\n  ]\n}"
            }
          },
          "metadata": {},
          "execution_count": 17
        }
      ],
      "source": [
        "data.head()"
      ]
    },
    {
      "cell_type": "code",
      "execution_count": 18,
      "metadata": {
        "id": "HsIfBDOCB3LV",
        "outputId": "430fbeea-20ab-4614-9f8b-00a66007ec24",
        "colab": {
          "base_uri": "https://localhost:8080/"
        }
      },
      "outputs": [
        {
          "output_type": "stream",
          "name": "stdout",
          "text": [
            "<class 'pandas.core.frame.DataFrame'>\n",
            "RangeIndex: 95 entries, 0 to 94\n",
            "Data columns (total 7 columns):\n",
            " #   Column           Non-Null Count  Dtype  \n",
            "---  ------           --------------  -----  \n",
            " 0   patient_id       95 non-null     object \n",
            " 1   survival_status  95 non-null     int64  \n",
            " 2   days_alive       95 non-null     int64  \n",
            " 3   histology        95 non-null     object \n",
            " 4   stage            95 non-null     object \n",
            " 5   treatment        95 non-null     object \n",
            " 6   delfi_score      95 non-null     float64\n",
            "dtypes: float64(1), int64(2), object(4)\n",
            "memory usage: 5.3+ KB\n"
          ]
        }
      ],
      "source": [
        "data.info()"
      ]
    },
    {
      "cell_type": "code",
      "execution_count": 19,
      "metadata": {
        "id": "EJt8VcAcB3LV",
        "outputId": "b1d53320-881d-4ae6-b1a4-4a5c4c649fdf",
        "colab": {
          "base_uri": "https://localhost:8080/",
          "height": 300
        }
      },
      "outputs": [
        {
          "output_type": "execute_result",
          "data": {
            "text/plain": [
              "       survival_status   days_alive  delfi_score\n",
              "count        95.000000    95.000000    95.000000\n",
              "mean          0.821053   851.326316     0.711420\n",
              "std           0.385342   986.064102     0.316914\n",
              "min           0.000000    11.000000     0.029739\n",
              "25%           1.000000    89.500000     0.481004\n",
              "50%           1.000000   364.000000     0.799066\n",
              "75%           1.000000  1354.500000     0.999982\n",
              "max           1.000000  2774.000000     1.000000"
            ],
            "text/html": [
              "\n",
              "  <div id=\"df-77faf648-e247-44a8-9631-c4fe97aa4127\" class=\"colab-df-container\">\n",
              "    <div>\n",
              "<style scoped>\n",
              "    .dataframe tbody tr th:only-of-type {\n",
              "        vertical-align: middle;\n",
              "    }\n",
              "\n",
              "    .dataframe tbody tr th {\n",
              "        vertical-align: top;\n",
              "    }\n",
              "\n",
              "    .dataframe thead th {\n",
              "        text-align: right;\n",
              "    }\n",
              "</style>\n",
              "<table border=\"1\" class=\"dataframe\">\n",
              "  <thead>\n",
              "    <tr style=\"text-align: right;\">\n",
              "      <th></th>\n",
              "      <th>survival_status</th>\n",
              "      <th>days_alive</th>\n",
              "      <th>delfi_score</th>\n",
              "    </tr>\n",
              "  </thead>\n",
              "  <tbody>\n",
              "    <tr>\n",
              "      <th>count</th>\n",
              "      <td>95.000000</td>\n",
              "      <td>95.000000</td>\n",
              "      <td>95.000000</td>\n",
              "    </tr>\n",
              "    <tr>\n",
              "      <th>mean</th>\n",
              "      <td>0.821053</td>\n",
              "      <td>851.326316</td>\n",
              "      <td>0.711420</td>\n",
              "    </tr>\n",
              "    <tr>\n",
              "      <th>std</th>\n",
              "      <td>0.385342</td>\n",
              "      <td>986.064102</td>\n",
              "      <td>0.316914</td>\n",
              "    </tr>\n",
              "    <tr>\n",
              "      <th>min</th>\n",
              "      <td>0.000000</td>\n",
              "      <td>11.000000</td>\n",
              "      <td>0.029739</td>\n",
              "    </tr>\n",
              "    <tr>\n",
              "      <th>25%</th>\n",
              "      <td>1.000000</td>\n",
              "      <td>89.500000</td>\n",
              "      <td>0.481004</td>\n",
              "    </tr>\n",
              "    <tr>\n",
              "      <th>50%</th>\n",
              "      <td>1.000000</td>\n",
              "      <td>364.000000</td>\n",
              "      <td>0.799066</td>\n",
              "    </tr>\n",
              "    <tr>\n",
              "      <th>75%</th>\n",
              "      <td>1.000000</td>\n",
              "      <td>1354.500000</td>\n",
              "      <td>0.999982</td>\n",
              "    </tr>\n",
              "    <tr>\n",
              "      <th>max</th>\n",
              "      <td>1.000000</td>\n",
              "      <td>2774.000000</td>\n",
              "      <td>1.000000</td>\n",
              "    </tr>\n",
              "  </tbody>\n",
              "</table>\n",
              "</div>\n",
              "    <div class=\"colab-df-buttons\">\n",
              "\n",
              "  <div class=\"colab-df-container\">\n",
              "    <button class=\"colab-df-convert\" onclick=\"convertToInteractive('df-77faf648-e247-44a8-9631-c4fe97aa4127')\"\n",
              "            title=\"Convert this dataframe to an interactive table.\"\n",
              "            style=\"display:none;\">\n",
              "\n",
              "  <svg xmlns=\"http://www.w3.org/2000/svg\" height=\"24px\" viewBox=\"0 -960 960 960\">\n",
              "    <path d=\"M120-120v-720h720v720H120Zm60-500h600v-160H180v160Zm220 220h160v-160H400v160Zm0 220h160v-160H400v160ZM180-400h160v-160H180v160Zm440 0h160v-160H620v160ZM180-180h160v-160H180v160Zm440 0h160v-160H620v160Z\"/>\n",
              "  </svg>\n",
              "    </button>\n",
              "\n",
              "  <style>\n",
              "    .colab-df-container {\n",
              "      display:flex;\n",
              "      gap: 12px;\n",
              "    }\n",
              "\n",
              "    .colab-df-convert {\n",
              "      background-color: #E8F0FE;\n",
              "      border: none;\n",
              "      border-radius: 50%;\n",
              "      cursor: pointer;\n",
              "      display: none;\n",
              "      fill: #1967D2;\n",
              "      height: 32px;\n",
              "      padding: 0 0 0 0;\n",
              "      width: 32px;\n",
              "    }\n",
              "\n",
              "    .colab-df-convert:hover {\n",
              "      background-color: #E2EBFA;\n",
              "      box-shadow: 0px 1px 2px rgba(60, 64, 67, 0.3), 0px 1px 3px 1px rgba(60, 64, 67, 0.15);\n",
              "      fill: #174EA6;\n",
              "    }\n",
              "\n",
              "    .colab-df-buttons div {\n",
              "      margin-bottom: 4px;\n",
              "    }\n",
              "\n",
              "    [theme=dark] .colab-df-convert {\n",
              "      background-color: #3B4455;\n",
              "      fill: #D2E3FC;\n",
              "    }\n",
              "\n",
              "    [theme=dark] .colab-df-convert:hover {\n",
              "      background-color: #434B5C;\n",
              "      box-shadow: 0px 1px 3px 1px rgba(0, 0, 0, 0.15);\n",
              "      filter: drop-shadow(0px 1px 2px rgba(0, 0, 0, 0.3));\n",
              "      fill: #FFFFFF;\n",
              "    }\n",
              "  </style>\n",
              "\n",
              "    <script>\n",
              "      const buttonEl =\n",
              "        document.querySelector('#df-77faf648-e247-44a8-9631-c4fe97aa4127 button.colab-df-convert');\n",
              "      buttonEl.style.display =\n",
              "        google.colab.kernel.accessAllowed ? 'block' : 'none';\n",
              "\n",
              "      async function convertToInteractive(key) {\n",
              "        const element = document.querySelector('#df-77faf648-e247-44a8-9631-c4fe97aa4127');\n",
              "        const dataTable =\n",
              "          await google.colab.kernel.invokeFunction('convertToInteractive',\n",
              "                                                    [key], {});\n",
              "        if (!dataTable) return;\n",
              "\n",
              "        const docLinkHtml = 'Like what you see? Visit the ' +\n",
              "          '<a target=\"_blank\" href=https://colab.research.google.com/notebooks/data_table.ipynb>data table notebook</a>'\n",
              "          + ' to learn more about interactive tables.';\n",
              "        element.innerHTML = '';\n",
              "        dataTable['output_type'] = 'display_data';\n",
              "        await google.colab.output.renderOutput(dataTable, element);\n",
              "        const docLink = document.createElement('div');\n",
              "        docLink.innerHTML = docLinkHtml;\n",
              "        element.appendChild(docLink);\n",
              "      }\n",
              "    </script>\n",
              "  </div>\n",
              "\n",
              "\n",
              "<div id=\"df-823d84fe-183a-44ed-990f-281b6d3138c9\">\n",
              "  <button class=\"colab-df-quickchart\" onclick=\"quickchart('df-823d84fe-183a-44ed-990f-281b6d3138c9')\"\n",
              "            title=\"Suggest charts\"\n",
              "            style=\"display:none;\">\n",
              "\n",
              "<svg xmlns=\"http://www.w3.org/2000/svg\" height=\"24px\"viewBox=\"0 0 24 24\"\n",
              "     width=\"24px\">\n",
              "    <g>\n",
              "        <path d=\"M19 3H5c-1.1 0-2 .9-2 2v14c0 1.1.9 2 2 2h14c1.1 0 2-.9 2-2V5c0-1.1-.9-2-2-2zM9 17H7v-7h2v7zm4 0h-2V7h2v10zm4 0h-2v-4h2v4z\"/>\n",
              "    </g>\n",
              "</svg>\n",
              "  </button>\n",
              "\n",
              "<style>\n",
              "  .colab-df-quickchart {\n",
              "      --bg-color: #E8F0FE;\n",
              "      --fill-color: #1967D2;\n",
              "      --hover-bg-color: #E2EBFA;\n",
              "      --hover-fill-color: #174EA6;\n",
              "      --disabled-fill-color: #AAA;\n",
              "      --disabled-bg-color: #DDD;\n",
              "  }\n",
              "\n",
              "  [theme=dark] .colab-df-quickchart {\n",
              "      --bg-color: #3B4455;\n",
              "      --fill-color: #D2E3FC;\n",
              "      --hover-bg-color: #434B5C;\n",
              "      --hover-fill-color: #FFFFFF;\n",
              "      --disabled-bg-color: #3B4455;\n",
              "      --disabled-fill-color: #666;\n",
              "  }\n",
              "\n",
              "  .colab-df-quickchart {\n",
              "    background-color: var(--bg-color);\n",
              "    border: none;\n",
              "    border-radius: 50%;\n",
              "    cursor: pointer;\n",
              "    display: none;\n",
              "    fill: var(--fill-color);\n",
              "    height: 32px;\n",
              "    padding: 0;\n",
              "    width: 32px;\n",
              "  }\n",
              "\n",
              "  .colab-df-quickchart:hover {\n",
              "    background-color: var(--hover-bg-color);\n",
              "    box-shadow: 0 1px 2px rgba(60, 64, 67, 0.3), 0 1px 3px 1px rgba(60, 64, 67, 0.15);\n",
              "    fill: var(--button-hover-fill-color);\n",
              "  }\n",
              "\n",
              "  .colab-df-quickchart-complete:disabled,\n",
              "  .colab-df-quickchart-complete:disabled:hover {\n",
              "    background-color: var(--disabled-bg-color);\n",
              "    fill: var(--disabled-fill-color);\n",
              "    box-shadow: none;\n",
              "  }\n",
              "\n",
              "  .colab-df-spinner {\n",
              "    border: 2px solid var(--fill-color);\n",
              "    border-color: transparent;\n",
              "    border-bottom-color: var(--fill-color);\n",
              "    animation:\n",
              "      spin 1s steps(1) infinite;\n",
              "  }\n",
              "\n",
              "  @keyframes spin {\n",
              "    0% {\n",
              "      border-color: transparent;\n",
              "      border-bottom-color: var(--fill-color);\n",
              "      border-left-color: var(--fill-color);\n",
              "    }\n",
              "    20% {\n",
              "      border-color: transparent;\n",
              "      border-left-color: var(--fill-color);\n",
              "      border-top-color: var(--fill-color);\n",
              "    }\n",
              "    30% {\n",
              "      border-color: transparent;\n",
              "      border-left-color: var(--fill-color);\n",
              "      border-top-color: var(--fill-color);\n",
              "      border-right-color: var(--fill-color);\n",
              "    }\n",
              "    40% {\n",
              "      border-color: transparent;\n",
              "      border-right-color: var(--fill-color);\n",
              "      border-top-color: var(--fill-color);\n",
              "    }\n",
              "    60% {\n",
              "      border-color: transparent;\n",
              "      border-right-color: var(--fill-color);\n",
              "    }\n",
              "    80% {\n",
              "      border-color: transparent;\n",
              "      border-right-color: var(--fill-color);\n",
              "      border-bottom-color: var(--fill-color);\n",
              "    }\n",
              "    90% {\n",
              "      border-color: transparent;\n",
              "      border-bottom-color: var(--fill-color);\n",
              "    }\n",
              "  }\n",
              "</style>\n",
              "\n",
              "  <script>\n",
              "    async function quickchart(key) {\n",
              "      const quickchartButtonEl =\n",
              "        document.querySelector('#' + key + ' button');\n",
              "      quickchartButtonEl.disabled = true;  // To prevent multiple clicks.\n",
              "      quickchartButtonEl.classList.add('colab-df-spinner');\n",
              "      try {\n",
              "        const charts = await google.colab.kernel.invokeFunction(\n",
              "            'suggestCharts', [key], {});\n",
              "      } catch (error) {\n",
              "        console.error('Error during call to suggestCharts:', error);\n",
              "      }\n",
              "      quickchartButtonEl.classList.remove('colab-df-spinner');\n",
              "      quickchartButtonEl.classList.add('colab-df-quickchart-complete');\n",
              "    }\n",
              "    (() => {\n",
              "      let quickchartButtonEl =\n",
              "        document.querySelector('#df-823d84fe-183a-44ed-990f-281b6d3138c9 button');\n",
              "      quickchartButtonEl.style.display =\n",
              "        google.colab.kernel.accessAllowed ? 'block' : 'none';\n",
              "    })();\n",
              "  </script>\n",
              "</div>\n",
              "\n",
              "    </div>\n",
              "  </div>\n"
            ],
            "application/vnd.google.colaboratory.intrinsic+json": {
              "type": "dataframe",
              "summary": "{\n  \"name\": \"data\",\n  \"rows\": 8,\n  \"fields\": [\n    {\n      \"column\": \"survival_status\",\n      \"properties\": {\n        \"dtype\": \"number\",\n        \"std\": 33.32664620738325,\n        \"min\": 0.0,\n        \"max\": 95.0,\n        \"num_unique_values\": 5,\n        \"samples\": [\n          0.8210526315789474,\n          1.0,\n          0.38534172091962604\n        ],\n        \"semantic_type\": \"\",\n        \"description\": \"\"\n      }\n    },\n    {\n      \"column\": \"days_alive\",\n      \"properties\": {\n        \"dtype\": \"number\",\n        \"std\": 929.9683094605997,\n        \"min\": 11.0,\n        \"max\": 2774.0,\n        \"num_unique_values\": 8,\n        \"samples\": [\n          851.3263157894737,\n          364.0,\n          95.0\n        ],\n        \"semantic_type\": \"\",\n        \"description\": \"\"\n      }\n    },\n    {\n      \"column\": \"delfi_score\",\n      \"properties\": {\n        \"dtype\": \"number\",\n        \"std\": 33.37015214138164,\n        \"min\": 0.0297389575449169,\n        \"max\": 95.0,\n        \"num_unique_values\": 8,\n        \"samples\": [\n          0.7114204911381803,\n          0.799065747239975,\n          95.0\n        ],\n        \"semantic_type\": \"\",\n        \"description\": \"\"\n      }\n    }\n  ]\n}"
            }
          },
          "metadata": {},
          "execution_count": 19
        }
      ],
      "source": [
        "data.describe()"
      ]
    },
    {
      "cell_type": "markdown",
      "metadata": {
        "id": "0TNA7yrIB3LV"
      },
      "source": [
        "Find any missing data"
      ]
    },
    {
      "cell_type": "code",
      "execution_count": 20,
      "metadata": {
        "id": "6xe2-7TJB3LV",
        "outputId": "abcb5e85-f412-4772-aca5-589226f1fbcd",
        "colab": {
          "base_uri": "https://localhost:8080/"
        }
      },
      "outputs": [
        {
          "output_type": "execute_result",
          "data": {
            "text/plain": [
              "patient_id         0\n",
              "survival_status    0\n",
              "days_alive         0\n",
              "histology          0\n",
              "stage              0\n",
              "treatment          0\n",
              "delfi_score        0\n",
              "dtype: int64"
            ]
          },
          "metadata": {},
          "execution_count": 20
        }
      ],
      "source": [
        "data.isnull().sum()"
      ]
    },
    {
      "cell_type": "markdown",
      "metadata": {
        "id": "DVTMWnjsB3LV"
      },
      "source": [
        "No null data points, we do not need to impute any new values"
      ]
    },
    {
      "cell_type": "markdown",
      "metadata": {
        "id": "0xmQhLNDB3LV"
      },
      "source": [
        "### Days Alive Exploration"
      ]
    },
    {
      "cell_type": "markdown",
      "metadata": {
        "id": "HNxZsXRAB3LV"
      },
      "source": [
        "First explore the days_alive variable, our target variable"
      ]
    },
    {
      "cell_type": "code",
      "execution_count": 21,
      "metadata": {
        "id": "yvy_KD1aB3LV",
        "outputId": "567695af-b428-4e35-b969-3a8682e55f75",
        "colab": {
          "base_uri": "https://localhost:8080/"
        }
      },
      "outputs": [
        {
          "output_type": "execute_result",
          "data": {
            "text/plain": [
              "count      95.000000\n",
              "mean      851.326316\n",
              "std       986.064102\n",
              "min        11.000000\n",
              "25%        89.500000\n",
              "50%       364.000000\n",
              "75%      1354.500000\n",
              "max      2774.000000\n",
              "Name: days_alive, dtype: float64"
            ]
          },
          "metadata": {},
          "execution_count": 21
        }
      ],
      "source": [
        "data['days_alive'].describe()"
      ]
    },
    {
      "cell_type": "code",
      "execution_count": 22,
      "metadata": {
        "id": "n3agebCcB3LV",
        "outputId": "d198e850-e92c-496e-899d-3497ad412ff5",
        "colab": {
          "base_uri": "https://localhost:8080/",
          "height": 564
        }
      },
      "outputs": [
        {
          "output_type": "display_data",
          "data": {
            "text/plain": [
              "<Figure size 1000x600 with 1 Axes>"
            ],
            "image/png": "[encoded data removed]"
          },
          "metadata": {}
        }
      ],
      "source": [
        "plt.figure(figsize=(10,6))\n",
        "sns.histplot(data['days_alive'], kde=True, bins = 30)\n",
        "plt.title(\"Distribution of Days Alive\")\n",
        "plt.xlabel(\"Days Alive\")\n",
        "plt.ylabel(\"Frequency\")\n",
        "plt.show()\n"
      ]
    },
    {
      "cell_type": "code",
      "execution_count": 23,
      "metadata": {
        "id": "KjFcfVOGB3LW",
        "outputId": "36f0d11d-8510-4b4c-9865-2922b22b1e27",
        "colab": {
          "base_uri": "https://localhost:8080/",
          "height": 564
        }
      },
      "outputs": [
        {
          "output_type": "display_data",
          "data": {
            "text/plain": [
              "<Figure size 1000x600 with 1 Axes>"
            ],
            "image/png": "[encoded data removed]"
          },
          "metadata": {}
        }
      ],
      "source": [
        "dead_patients = data[data['survival_status'] == 1]\n",
        "plt.figure(figsize=(10,6))\n",
        "sns.histplot(dead_patients['days_alive'], kde=True, bins = 20)\n",
        "plt.title(\"Distribution of Days Alive of Patients Who Died\")\n",
        "plt.xlabel(\"Days Alive\")\n",
        "plt.ylabel(\"Frequency\")\n",
        "plt.show()\n"
      ]
    },
    {
      "cell_type": "code",
      "execution_count": 24,
      "metadata": {
        "id": "ymymk-cjB3LW",
        "outputId": "bafadab3-f814-4d03-b4ae-561a44f3df7c",
        "colab": {
          "base_uri": "https://localhost:8080/",
          "height": 564
        }
      },
      "outputs": [
        {
          "output_type": "display_data",
          "data": {
            "text/plain": [
              "<Figure size 1000x600 with 1 Axes>"
            ],
            "image/png": "[encoded data removed]"
          },
          "metadata": {}
        }
      ],
      "source": [
        "live_patients = data[data['survival_status'] == 0]\n",
        "plt.figure(figsize=(10,6))\n",
        "sns.histplot(live_patients['days_alive'], kde=True, bins = 8)\n",
        "plt.title(\"Distribution of Days Alive of Patients Who Survived\")\n",
        "plt.xlabel(\"Days Alive\")\n",
        "plt.ylabel(\"Frequency\")\n",
        "plt.show()\n"
      ]
    },
    {
      "cell_type": "markdown",
      "metadata": {
        "id": "I-33EbWiB3LW"
      },
      "source": [
        "Patients who died has a distribution of days alive that is severely right skew <br>\n",
        "Patients who survived have a slight left skew, but no measureable trend due to lack of samples"
      ]
    },
    {
      "cell_type": "markdown",
      "metadata": {
        "id": "f6QOPeKjB3LW"
      },
      "source": [
        "Now we want to see the distribution of patients who survived and those that didn't with respect to days alive"
      ]
    },
    {
      "cell_type": "code",
      "execution_count": 25,
      "metadata": {
        "id": "oXuk9fTNB3LW",
        "outputId": "7a217f5c-c1b6-49c3-86a7-7183d73ae14d",
        "colab": {
          "base_uri": "https://localhost:8080/"
        }
      },
      "outputs": [
        {
          "output_type": "stream",
          "name": "stdout",
          "text": [
            "Number of patients that died: 78\n",
            "Number of patients that survived: 17\n"
          ]
        }
      ],
      "source": [
        "death_count = data['survival_status'].sum()\n",
        "survive_count = len(data)-death_count\n",
        "\n",
        "print(f\"Number of patients that died: {death_count}\")\n",
        "print(f\"Number of patients that survived: {survive_count}\")"
      ]
    },
    {
      "cell_type": "code",
      "execution_count": 26,
      "metadata": {
        "id": "MMtPv2ljB3LW",
        "outputId": "7c676d16-291b-400b-a71a-a01f0594d876",
        "colab": {
          "base_uri": "https://localhost:8080/",
          "height": 718
        }
      },
      "outputs": [
        {
          "output_type": "display_data",
          "data": {
            "text/plain": [
              "<Figure size 1000x800 with 1 Axes>"
            ],
            "image/png": "[encoded data removed]"
          },
          "metadata": {}
        }
      ],
      "source": [
        "data['sample_id'] = range(1, len(data)+1)\n",
        "\n",
        "plt.figure(figsize=(10,8))\n",
        "\n",
        "for index, row in data.iterrows():\n",
        "    if row['survival_status'] == 1:\n",
        "        # Mark with 'x' if the sample died\n",
        "        plt.plot([0, row['days_alive']], [index, index], 'r-', marker='x')\n",
        "    else:\n",
        "        # Mark with 'o' if the sample did not die\n",
        "        plt.plot([0, row['days_alive']], [index, index], 'b-', marker='o')\n",
        "\n",
        "\n",
        "plt.xlabel('Days Alive')\n",
        "plt.ylabel('Sample ID')\n",
        "plt.title('Survival Status of Samples')\n",
        "plt.grid(True)\n",
        "plt.show()"
      ]
    },
    {
      "cell_type": "markdown",
      "metadata": {
        "id": "D4GWh9peB3LW"
      },
      "source": [
        "The patients that had survival_status = 0, or were alive also had different survival times. This means that the experiment tracked these individuals for different times."
      ]
    },
    {
      "cell_type": "markdown",
      "metadata": {
        "id": "NttJTBhgB3LW"
      },
      "source": [
        "### DELFI Exploration"
      ]
    },
    {
      "cell_type": "markdown",
      "metadata": {
        "id": "XsmGV_bgB3LW"
      },
      "source": [
        "Now explore each individual variable: delfi_score, stage, treatment"
      ]
    },
    {
      "cell_type": "code",
      "execution_count": 27,
      "metadata": {
        "id": "OQRVX_fuB3LW",
        "outputId": "c98d5a03-bb8f-4160-9d74-3250b222f0c9",
        "colab": {
          "base_uri": "https://localhost:8080/"
        }
      },
      "outputs": [
        {
          "output_type": "execute_result",
          "data": {
            "text/plain": [
              "count    95.000000\n",
              "mean      0.711420\n",
              "std       0.316914\n",
              "min       0.029739\n",
              "25%       0.481004\n",
              "50%       0.799066\n",
              "75%       0.999982\n",
              "max       1.000000\n",
              "Name: delfi_score, dtype: float64"
            ]
          },
          "metadata": {},
          "execution_count": 27
        }
      ],
      "source": [
        "data['delfi_score'].describe()"
      ]
    },
    {
      "cell_type": "markdown",
      "metadata": {
        "id": "6bCY6A1pB3LW"
      },
      "source": [
        "We know from the paper that those with lung cancer were more predisposed to higher delfi scores. We can plot the delfi score on a boxplot and then stratified by the different treatments and stages"
      ]
    },
    {
      "cell_type": "code",
      "execution_count": 28,
      "metadata": {
        "id": "i2CI76qiB3LX",
        "outputId": "3888368e-cbc9-497c-c79b-1d9177510363",
        "colab": {
          "base_uri": "https://localhost:8080/",
          "height": 545
        }
      },
      "outputs": [
        {
          "output_type": "display_data",
          "data": {
            "text/plain": [
              "<Figure size 800x600 with 1 Axes>"
            ],
            "image/png": "[encoded data removed]"
          },
          "metadata": {}
        }
      ],
      "source": [
        "plt.figure(figsize=(8,6))\n",
        "plt.boxplot(data['delfi_score'])\n",
        "plt.title(\"Boxplot of DELFI Scores\")\n",
        "plt.ylabel(\"DELFI Score\")\n",
        "plt.show()"
      ]
    },
    {
      "cell_type": "code",
      "execution_count": 30,
      "metadata": {
        "id": "vuILDQU0B3LX",
        "outputId": "8ce43847-fa9f-4de8-ed8b-ab8ba9577e8a",
        "colab": {
          "base_uri": "https://localhost:8080/",
          "height": 607
        }
      },
      "outputs": [
        {
          "output_type": "display_data",
          "data": {
            "text/plain": [
              "<Figure size 1000x600 with 1 Axes>"
            ],
            "image/png": "[encoded data removed]"
          },
          "metadata": {}
        }
      ],
      "source": [
        "plt.figure(figsize=(10, 6))\n",
        "sns.boxplot(x='treatment', y='delfi_score', data=data)\n",
        "plt.title('Boxplot of DELFI Scores Stratified by Treatment')\n",
        "plt.xlabel('Treatment')\n",
        "plt.ylabel('DELFI Score')\n",
        "plt.xticks(rotation=45)  # Rotate the x-axis labels for better readability\n",
        "plt.tight_layout()  # Adjust the layout to fit the labels\n",
        "plt.show()\n"
      ]
    },
    {
      "cell_type": "code",
      "execution_count": 34,
      "metadata": {
        "id": "mnfNFOhPB3LX",
        "outputId": "0bd1778d-5906-4485-ded3-497ceec69b00",
        "colab": {
          "base_uri": "https://localhost:8080/",
          "height": 607
        }
      },
      "outputs": [
        {
          "output_type": "display_data",
          "data": {
            "text/plain": [
              "<Figure size 1000x600 with 1 Axes>"
            ],
            "image/png": "[encoded data removed]"
          },
          "metadata": {}
        }
      ],
      "source": [
        "plt.figure(figsize=(10, 6))\n",
        "sns.boxplot(x='stage', y='delfi_score', data=data, order = ['I', 'II', 'III', 'IV'])\n",
        "plt.title('Boxplot of DELFI Scores Stratified by Stage')\n",
        "plt.xlabel('Stage')\n",
        "plt.ylabel('DELFI Score')\n",
        "plt.tight_layout()  # Adjust the layout to fit the labels\n",
        "plt.show()"
      ]
    },
    {
      "cell_type": "markdown",
      "metadata": {
        "id": "TqH5lwczB3LX"
      },
      "source": [
        "### Stage Exploration"
      ]
    },
    {
      "cell_type": "code",
      "execution_count": 35,
      "metadata": {
        "id": "BPpjiHH6B3LX",
        "outputId": "1e698525-0f39-426d-cca1-7061bb5bf33b",
        "colab": {
          "base_uri": "https://localhost:8080/",
          "height": 564
        }
      },
      "outputs": [
        {
          "output_type": "display_data",
          "data": {
            "text/plain": [
              "<Figure size 800x600 with 1 Axes>"
            ],
            "image/png": "[encoded data removed]"
          },
          "metadata": {}
        }
      ],
      "source": [
        "plt.figure(figsize=(8,6))\n",
        "sns.countplot(x = 'stage', data = data, order = ['I', 'II', 'III', 'IV'])\n",
        "plt.title(\"Distribution of Stages\")\n",
        "plt.xlabel(\"Stage\")\n",
        "plt.ylabel('Count')\n",
        "plt.show()"
      ]
    },
    {
      "cell_type": "markdown",
      "metadata": {
        "id": "HEwgmtL_B3LX"
      },
      "source": [
        "It seems that most people have stage IV cancer in this distribution, which may mean that we have higher numbers of those with higher delfi scores"
      ]
    },
    {
      "cell_type": "code",
      "execution_count": 36,
      "metadata": {
        "id": "zbUm6xE-B3LX",
        "outputId": "de94b5b5-be20-4b3c-a1f6-db2f5fdb8636",
        "colab": {
          "base_uri": "https://localhost:8080/",
          "height": 564
        }
      },
      "outputs": [
        {
          "output_type": "display_data",
          "data": {
            "text/plain": [
              "<Figure size 1000x600 with 1 Axes>"
            ],
            "image/png": "[encoded data removed]"
          },
          "metadata": {}
        }
      ],
      "source": [
        "plt.figure(figsize=(10, 6))\n",
        "sns.boxplot(x='stage', y='days_alive', data=data, order=['I', 'II', 'III', 'IV'])\n",
        "plt.title('Days Alive by Stage')\n",
        "plt.xlabel('Stage')\n",
        "plt.ylabel('Days Alive')\n",
        "plt.show()"
      ]
    },
    {
      "cell_type": "markdown",
      "metadata": {
        "id": "2Ad7_2o4B3LX"
      },
      "source": [
        "As expected, patients with more severe stage of cancer generally survived shorter periods than those that had less severe stage"
      ]
    },
    {
      "cell_type": "markdown",
      "metadata": {
        "id": "hjYQNnriB3LX"
      },
      "source": [
        "The patients with more severe stages of cancer generally have a larger DELFI score."
      ]
    },
    {
      "cell_type": "markdown",
      "metadata": {
        "id": "zapS4lglB3LX"
      },
      "source": [
        "### Treatment Exploration"
      ]
    },
    {
      "cell_type": "code",
      "execution_count": 40,
      "metadata": {
        "id": "4S9JzuGSB3LY",
        "outputId": "ef7116af-30ee-4d21-e52b-635893b24632",
        "colab": {
          "base_uri": "https://localhost:8080/"
        }
      },
      "outputs": [
        {
          "output_type": "execute_result",
          "data": {
            "text/plain": [
              "Palliative Chemotherapy/Radiation              43\n",
              "Chemotherapy/Radiation with curative intent    20\n",
              "Surgery                                        15\n",
              "No treatment                                   12\n",
              "Surgery+adjuvant treatment                      5\n",
              "Name: treatment, dtype: int64"
            ]
          },
          "metadata": {},
          "execution_count": 40
        }
      ],
      "source": [
        "data['treatment'].value_counts()"
      ]
    },
    {
      "cell_type": "code",
      "execution_count": 38,
      "metadata": {
        "id": "HeWXrdvoB3LY",
        "outputId": "7013777d-97d3-426e-8fd7-10e3f168f3d3",
        "colab": {
          "base_uri": "https://localhost:8080/",
          "height": 564
        }
      },
      "outputs": [
        {
          "output_type": "display_data",
          "data": {
            "text/plain": [
              "<Figure size 1000x600 with 1 Axes>"
            ],
            "image/png": "[encoded data removed]"
          },
          "metadata": {}
        }
      ],
      "source": [
        "plt.figure(figsize=(10, 6))\n",
        "sns.countplot(y='treatment', data=data, order = data['treatment'].value_counts().index)\n",
        "plt.title('Distribution of First-Line Oncological Treatments')\n",
        "plt.xlabel('Count')\n",
        "plt.ylabel('Treatment')\n",
        "plt.show()\n"
      ]
    },
    {
      "cell_type": "code",
      "execution_count": 39,
      "metadata": {
        "id": "N4ueE3SUB3LY",
        "outputId": "6fd20d45-1179-48ec-db82-bb870fa470c3",
        "colab": {
          "base_uri": "https://localhost:8080/",
          "height": 782
        }
      },
      "outputs": [
        {
          "output_type": "display_data",
          "data": {
            "text/plain": [
              "<Figure size 1000x600 with 1 Axes>"
            ],
            "image/png": "[encoded data removed]"
          },
          "metadata": {}
        }
      ],
      "source": [
        "plt.figure(figsize=(10, 6))\n",
        "sns.boxplot(x='treatment', y='days_alive', data=data, order=data['treatment'].value_counts().index)\n",
        "plt.title('Days Alive by Stage')\n",
        "plt.xlabel('1st Line Oncological Treatment')\n",
        "plt.xticks(rotation=45)\n",
        "plt.ylabel('Days Alive')\n",
        "plt.show()"
      ]
    },
    {
      "cell_type": "markdown",
      "metadata": {
        "id": "JgZPYPUcB3LY"
      },
      "source": [
        "There does not really seem to be a trend in which the first line oncological treatment seems to impact days alive. Some treatments such as no treatment have almost no data, which means we cannot make an accurate assumption on the trend. However, it does seemt hat palliative chemotherapy has the worst survival, but this could be due to the context of palliative chemotherapy. Some of these treatments may be given in more severe scenarios, so in turn it could be more related to the stage of cancer."
      ]
    },
    {
      "cell_type": "markdown",
      "metadata": {
        "id": "4QX_GyJPB3LY"
      },
      "source": [
        "# Survival Analysis"
      ]
    },
    {
      "cell_type": "markdown",
      "metadata": {
        "id": "eEXFjcSFB3LY"
      },
      "source": [
        "We want to do some exploratory data analysis on the survival of the patients, or plot the survival curves based on the different variables so we can measure correlation on days alive"
      ]
    },
    {
      "cell_type": "code",
      "execution_count": 41,
      "metadata": {
        "id": "7abAsrzSB3LY",
        "outputId": "7febe625-91c9-483e-b720-2eb12c6b6ed6",
        "colab": {
          "base_uri": "https://localhost:8080/",
          "height": 472
        }
      },
      "outputs": [
        {
          "output_type": "display_data",
          "data": {
            "text/plain": [
              "<Figure size 640x480 with 1 Axes>"
            ],
            "image/png": "[encoded data removed]"
          },
          "metadata": {}
        }
      ],
      "source": [
        "from lifelines import KaplanMeierFitter\n",
        "\n",
        "kmf = KaplanMeierFitter()\n",
        "\n",
        "kmf.fit(data['days_alive'], event_observed=data['survival_status'])\n",
        "\n",
        "kmf.survival_function_.plot()\n",
        "plt.title('Kaplan-Meier Survival Curve')\n",
        "plt.xlabel('Days Alive')\n",
        "plt.ylabel('Survival Probability')\n",
        "plt.grid()\n",
        "plt.show()"
      ]
    },
    {
      "cell_type": "markdown",
      "metadata": {
        "id": "1hymob1GB3LY"
      },
      "source": [
        "## Kaplan Meier Curves"
      ]
    },
    {
      "cell_type": "markdown",
      "metadata": {
        "id": "KH9lll8VB3LY"
      },
      "source": [
        "We want to use Kaplan Meier curves to estimate preliminary relationships between the survival status and days alive and the variables of interest: stage, treatment, and delfi score."
      ]
    },
    {
      "cell_type": "code",
      "execution_count": 42,
      "metadata": {
        "id": "nzCTdSU2B3LY",
        "outputId": "6377848c-deca-4fb5-c7f7-8728148deef6",
        "colab": {
          "base_uri": "https://localhost:8080/",
          "height": 718
        }
      },
      "outputs": [
        {
          "output_type": "display_data",
          "data": {
            "text/plain": [
              "<Figure size 1000x800 with 1 Axes>"
            ],
            "image/png": "[encoded data removed]"
          },
          "metadata": {}
        }
      ],
      "source": [
        "#stage curves\n",
        "data_stage1 = data[data['stage'] == 'I']\n",
        "data_stage2 = data[data['stage'] == 'II']\n",
        "data_stage3 = data[data['stage'] == 'III']\n",
        "data_stage4 = data[data['stage'] == 'IV']\n",
        "\n",
        "kmf = KaplanMeierFitter()\n",
        "\n",
        "data_stages = [data_stage1, data_stage2, data_stage3, data_stage4]\n",
        "\n",
        "plt.figure(figsize = (10,8))\n",
        "\n",
        "for i, stage_data in enumerate(data_stages, start = 1):\n",
        "    kmf.fit(stage_data['days_alive'], stage_data['survival_status'], label=f'Stage {i}')\n",
        "    kmf.plot(ci_show = False)\n",
        "\n",
        "plt.title(\"Survival Curve of Different Stages of Cancer Compared\")\n",
        "plt.xlabel(\"Days Alive\")\n",
        "plt.ylabel(\"Survival Probability\")\n",
        "plt.legend(title = 'Stage')\n",
        "plt.show()\n",
        "\n",
        "\n"
      ]
    },
    {
      "cell_type": "markdown",
      "metadata": {
        "id": "SvUs1bvCB3LY"
      },
      "source": [
        "Through just the kaplan meier test, it is pretty evident that there are spearate curves for at least stages 1,2, and 4 of cancer. Although stage 2 overlaps with both stage 1 and stage 3, arguably it has a different curve profile"
      ]
    },
    {
      "cell_type": "code",
      "execution_count": 43,
      "metadata": {
        "id": "Vgiug9AFB3LZ",
        "outputId": "ac63ac2c-fd9d-4a97-dd4b-cbeb18607301",
        "colab": {
          "base_uri": "https://localhost:8080/"
        }
      },
      "outputs": [
        {
          "output_type": "execute_result",
          "data": {
            "text/plain": [
              "Palliative Chemotherapy/Radiation              43\n",
              "Chemotherapy/Radiation with curative intent    20\n",
              "Surgery                                        15\n",
              "No treatment                                   12\n",
              "Surgery+adjuvant treatment                      5\n",
              "Name: treatment, dtype: int64"
            ]
          },
          "metadata": {},
          "execution_count": 43
        }
      ],
      "source": [
        "data['treatment'].value_counts()"
      ]
    },
    {
      "cell_type": "code",
      "execution_count": 44,
      "metadata": {
        "id": "bFXfth4MB3LZ",
        "outputId": "4f70235f-3536-494e-a18b-886789b03f67",
        "colab": {
          "base_uri": "https://localhost:8080/",
          "height": 718
        }
      },
      "outputs": [
        {
          "output_type": "display_data",
          "data": {
            "text/plain": [
              "<Figure size 1000x800 with 1 Axes>"
            ],
            "image/png": "[encoded data removed]"
          },
          "metadata": {}
        }
      ],
      "source": [
        "data_pcr = data[data['treatment'] == 'Palliative Chemotherapy/Radiation']\n",
        "data_chemo = data[data['treatment'] == 'Chemotherapy/Radiation with curative intent']\n",
        "data_surg = data[data['treatment'] == 'Surgery']\n",
        "data_no = data[data['treatment'] == 'No treatment']\n",
        "data_surgadj = data[data['treatment'] == 'Surgery+adjuvant treatment']\n",
        "\n",
        "kmf = KaplanMeierFitter()\n",
        "\n",
        "data_treatments = {\"Palliative Chemotherapy/Radiation\":data_pcr,\n",
        "                   'Chemotherapy/Radiation with curative intent':data_chemo,\n",
        "                   'Surgery':data_surg,\n",
        "                  'No treatment':data_no,\n",
        "                  'Surgery+adjuvant treatment':data_surgadj}\n",
        "\n",
        "plt.figure(figsize = (10,8))\n",
        "\n",
        "for treatment in data_treatments.keys():\n",
        "    curr_data = data_treatments.get(treatment)\n",
        "    kmf.fit(curr_data['days_alive'], curr_data['survival_status'], label= treatment)\n",
        "    kmf.plot(ci_show = False)\n",
        "\n",
        "plt.title(\"Survival Curve of Different 1st Line Cancer Treatment Compared\")\n",
        "plt.xlabel(\"Days Alive\")\n",
        "plt.ylabel(\"Survival Probability\")\n",
        "plt.legend(title = 'Treatment')\n",
        "plt.show()\n"
      ]
    },
    {
      "cell_type": "markdown",
      "metadata": {
        "id": "fTdp0Yx0B3LZ"
      },
      "source": [
        "The treatment curve seems to have differing curves, meaning there is a good sign that treatment is also significant in predicting days alive."
      ]
    },
    {
      "cell_type": "markdown",
      "metadata": {
        "id": "sOiUqbCQB3LZ"
      },
      "source": [
        "## Log-Rank Tests"
      ]
    },
    {
      "cell_type": "markdown",
      "metadata": {
        "id": "p4yqhV-ZB3LZ"
      },
      "source": [
        "Now that we've plotted the survival relationships we want to test with a significance test if the categorical variables are actually significant in prediction."
      ]
    },
    {
      "cell_type": "code",
      "execution_count": 45,
      "metadata": {
        "id": "XAl6N00tB3LZ",
        "outputId": "9c3d80d2-a4fb-4b7e-9a87-940e36dba74e",
        "colab": {
          "base_uri": "https://localhost:8080/"
        }
      },
      "outputs": [
        {
          "output_type": "stream",
          "name": "stdout",
          "text": [
            "<lifelines.StatisticalResult: multivariate_logrank_test>\n",
            "               t_0 = -1\n",
            " null_distribution = chi squared\n",
            "degrees_of_freedom = 3\n",
            "         test_name = multivariate_logrank_test\n",
            "\n",
            "---\n",
            " test_statistic      p  -log2(p)\n",
            "          42.95 <0.005     28.56\n",
            "P-value for stage: 2.5260066060536793e-09\n",
            "\n",
            "\n",
            "<lifelines.StatisticalResult: multivariate_logrank_test>\n",
            "               t_0 = -1\n",
            " null_distribution = chi squared\n",
            "degrees_of_freedom = 4\n",
            "         test_name = multivariate_logrank_test\n",
            "\n",
            "---\n",
            " test_statistic      p  -log2(p)\n",
            "         128.48 <0.005     86.65\n",
            "P-value for treatment result: 8.221556846728041e-27\n"
          ]
        }
      ],
      "source": [
        "from lifelines.statistics import multivariate_logrank_test\n",
        "\n",
        "stage_result = multivariate_logrank_test(event_durations= data['days_alive'], groups= data['stage'], event_observed= data['survival_status'])\n",
        "treatment_result = multivariate_logrank_test(event_durations= data['days_alive'], groups= data['treatment'], event_observed= data['survival_status'])\n",
        "\n",
        "print(stage_result)\n",
        "print(f\"P-value for stage: {stage_result.p_value}\")\n",
        "print()\n",
        "print()\n",
        "print(treatment_result)\n",
        "print(f\"P-value for treatment result: {treatment_result.p_value}\")"
      ]
    },
    {
      "cell_type": "markdown",
      "metadata": {
        "id": "hdhV2ok7B3LZ"
      },
      "source": [
        "Both p-value are significantly less than 0.005, meaning we can conclude that the stage and treatment variables are significant in relationship with days alive and survival status."
      ]
    },
    {
      "cell_type": "markdown",
      "source": [
        "Want to make sure this is also consistent with the encoded variables after one-hot encoding:"
      ],
      "metadata": {
        "id": "rH2NX0wyJBZ7"
      }
    },
    {
      "cell_type": "code",
      "source": [
        "from lifelines.statistics import logrank_test\n",
        "\n",
        "for stage in ['stage_I', 'stage_II', 'stage_III', 'stage_IV']:\n",
        "    # Group data into 'is_stage' and 'not_stage'\n",
        "    is_stage = data_encoded[data_encoded[stage] == 1]\n",
        "    not_stage = data_encoded[data_encoded[stage] == 0]\n",
        "\n",
        "    # Perform the log-rank test\n",
        "    results = logrank_test(is_stage['days_alive'], not_stage['days_alive'],\n",
        "                           event_observed_A=is_stage['survival_status'],\n",
        "                           event_observed_B=not_stage['survival_status'])\n",
        "\n",
        "    print(f\"Log-rank test for {stage}:\")\n",
        "    print(f\"Test statistic: {results.test_statistic}\")\n",
        "    print(f\"p-value: {results.p_value}\\n\")"
      ],
      "metadata": {
        "id": "B5cxFDpBJFbd",
        "outputId": "bb54824c-fd3b-4d26-c355-4183a11a59e5",
        "colab": {
          "base_uri": "https://localhost:8080/"
        }
      },
      "execution_count": 71,
      "outputs": [
        {
          "output_type": "stream",
          "name": "stdout",
          "text": [
            "Log-rank test for stage_I:\n",
            "Test statistic: 9.58328984993549\n",
            "p-value: 0.0019635624754340496\n",
            "\n",
            "Log-rank test for stage_II:\n",
            "Test statistic: 2.8015960732469765\n",
            "p-value: 0.09417052117985159\n",
            "\n",
            "Log-rank test for stage_III:\n",
            "Test statistic: 4.59900799027549\n",
            "p-value: 0.03199046168088893\n",
            "\n",
            "Log-rank test for stage_IV:\n",
            "Test statistic: 40.352378380045344\n",
            "p-value: 2.1204714198604435e-10\n",
            "\n"
          ]
        }
      ]
    },
    {
      "cell_type": "code",
      "source": [
        "treatment_cols = data_encoded.filter(regex='treatment_').columns.tolist()\n",
        "for treatment in treatment_cols:\n",
        "  is_treatment = data_encoded[data_encoded[treatment] == 1]\n",
        "  not_treatment = data_encoded[data_encoded[treatment] == 0]\n",
        "\n",
        "  results = logrank_test(is_treatment['days_alive'], not_treatment['days_alive'],\n",
        "                         event_observed_A = is_treatment['survival_status'],\n",
        "                         event_observed_B = not_treatment['survival_status'])\n",
        "  print(f\"Log-rank test for {treatment}: \")\n",
        "  print(f\"Test statistic: {results.test_statistic}\")\n",
        "  print(f\"p-value: {results.p_value}\\n\")"
      ],
      "metadata": {
        "id": "0vufxzDOqmCn",
        "outputId": "6a192b0e-280a-4199-9863-a04da0f03583",
        "colab": {
          "base_uri": "https://localhost:8080/"
        }
      },
      "execution_count": 74,
      "outputs": [
        {
          "output_type": "stream",
          "name": "stdout",
          "text": [
            "Log-rank test for treatment_Chemotherapy/Radiation with curative intent: \n",
            "Test statistic: 7.403751586607509\n",
            "p-value: 0.006508799650591744\n",
            "\n",
            "Log-rank test for treatment_No treatment: \n",
            "Test statistic: 87.47237693141332\n",
            "p-value: 8.546510778888466e-21\n",
            "\n",
            "Log-rank test for treatment_Palliative Chemotherapy/Radiation: \n",
            "Test statistic: 23.61474545041686\n",
            "p-value: 1.176822642104434e-06\n",
            "\n",
            "Log-rank test for treatment_Surgery: \n",
            "Test statistic: 11.516244056335996\n",
            "p-value: 0.0006899064439423756\n",
            "\n",
            "Log-rank test for treatment_Surgery+adjuvant treatment: \n",
            "Test statistic: 4.360699020111332\n",
            "p-value: 0.036777211379771635\n",
            "\n"
          ]
        }
      ]
    },
    {
      "cell_type": "markdown",
      "source": [],
      "metadata": {
        "id": "3GfCmXh9qlZx"
      }
    },
    {
      "cell_type": "markdown",
      "metadata": {
        "id": "Ea36xgkOB3LZ"
      },
      "source": [
        "## Cox Proportional Hazard Tests"
      ]
    },
    {
      "cell_type": "markdown",
      "metadata": {
        "id": "7nblGSv2B3LZ"
      },
      "source": [
        "Procedure: we will utilize the Cox Proportional Hazards Test to determine if the models developed with our features of significance are significant.\n",
        "1. We will start with individual cox PH models with only one variable at a time, then determining hazard ratio from it.\n",
        "1. Then we will fit multivariable cox PH models with combinations/subsets of features and full model with all features"
      ]
    },
    {
      "cell_type": "markdown",
      "source": [
        "### Individual COX PH Tests"
      ],
      "metadata": {
        "id": "MDtELkpHDfFI"
      }
    },
    {
      "cell_type": "code",
      "execution_count": 48,
      "metadata": {
        "id": "xg0HgLBWB3LZ",
        "outputId": "6e81b0bc-8f14-4b9d-f097-23b50d13742e",
        "colab": {
          "base_uri": "https://localhost:8080/"
        }
      },
      "outputs": [
        {
          "output_type": "stream",
          "name": "stdout",
          "text": [
            "                 coef  exp(coef)  se(coef)  coef lower 95%  coef upper 95%  \\\n",
            "covariate                                                                    \n",
            "delfi_score  1.530524   4.620598    0.4005        0.745559         2.31549   \n",
            "\n",
            "             exp(coef) lower 95%  exp(coef) upper 95%  cmp to         z  \\\n",
            "covariate                                                                 \n",
            "delfi_score             2.107619            10.129882     0.0  3.821534   \n",
            "\n",
            "                    p  -log2(p)  \n",
            "covariate                        \n",
            "delfi_score  0.000133  12.88037  \n"
          ]
        }
      ],
      "source": [
        "#for delfi_score\n",
        "from lifelines import CoxPHFitter\n",
        "cph = CoxPHFitter()\n",
        "cph.fit(data[['days_alive', 'survival_status', 'delfi_score']], 'days_alive', event_col='survival_status')\n",
        "print(cph.summary)"
      ]
    },
    {
      "cell_type": "code",
      "source": [
        "#For stage\n",
        "stage_columns = data_encoded.filter(regex='stage_').columns.tolist()\n",
        "print(stage_columns)\n",
        "cph = CoxPHFitter(penalizer = 0.0001)\n",
        "cph.fit(data_encoded[['days_alive', 'survival_status'] + stage_columns], 'days_alive', event_col='survival_status')\n",
        "print(cph.summary)"
      ],
      "metadata": {
        "id": "QpOyrMulFZ62",
        "outputId": "b3dbc69f-f0f5-4e64-cc13-a1b07e52860d",
        "colab": {
          "base_uri": "https://localhost:8080/"
        }
      },
      "execution_count": 59,
      "outputs": [
        {
          "output_type": "stream",
          "name": "stdout",
          "text": [
            "['stage_I', 'stage_II', 'stage_III', 'stage_IV']\n",
            "               coef  exp(coef)   se(coef)  coef lower 95%  coef upper 95%  \\\n",
            "covariate                                                                   \n",
            "stage_I   -1.188206   0.304767  12.976002      -26.620703       24.244291   \n",
            "stage_II  -0.917920   0.399349  12.981049      -26.360308       24.524468   \n",
            "stage_III -0.294928   0.744585  12.971037      -25.717693       25.127838   \n",
            "stage_IV   0.920698   2.511043  12.970766      -24.501535       26.342932   \n",
            "\n",
            "           exp(coef) lower 95%  exp(coef) upper 95%  cmp to         z  \\\n",
            "covariate                                                               \n",
            "stage_I           2.746474e-12         3.381908e+10     0.0 -0.091570   \n",
            "stage_II          3.563393e-12         4.475497e+10     0.0 -0.070712   \n",
            "stage_III         6.775598e-12         8.182409e+10     0.0 -0.022737   \n",
            "stage_IV          2.286222e-11         2.757972e+11     0.0  0.070983   \n",
            "\n",
            "                  p  -log2(p)  \n",
            "covariate                      \n",
            "stage_I    0.927040  0.109296  \n",
            "stage_II   0.943627  0.083712  \n",
            "stage_III  0.981860  0.026411  \n",
            "stage_IV   0.943412  0.084041  \n"
          ]
        }
      ]
    },
    {
      "cell_type": "markdown",
      "metadata": {
        "id": "PLSvoTWqB3LZ"
      },
      "source": [
        "## Is there any trouble of Interaction or Multicollinearity?"
      ]
    },
    {
      "cell_type": "markdown",
      "metadata": {
        "id": "UokEYruuB3LZ"
      },
      "source": []
    }
  ],
  "metadata": {
    "kernelspec": {
      "display_name": "Python 3",
      "language": "python",
      "name": "python3"
    },
    "language_info": {
      "codemirror_mode": {
        "name": "ipython",
        "version": 3
      },
      "file_extension": ".py",
      "mimetype": "text/x-python",
      "name": "python",
      "nbconvert_exporter": "python",
      "pygments_lexer": "ipython3",
      "version": "3.10.13"
    },
    "colab": {
      "provenance": []
    }
  },
  "nbformat": 4,
  "nbformat_minor": 0
}